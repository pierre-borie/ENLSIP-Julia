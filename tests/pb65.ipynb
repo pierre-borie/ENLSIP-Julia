{
 "cells": [
  {
   "cell_type": "markdown",
   "metadata": {},
   "source": [
    "# Résolution Pb65 de la collection Hock-Schittkowski\n",
    "\n",
    "Classification dans l'ouvrage : QQR-P1-3\n",
    "\n",
    "Number of variables : n = 3\n",
    "\n",
    "Number of constraints : 7 (1 inequality + 6 bounds)\n",
    "\n",
    "# Modèle\n",
    "\n",
    "$\\left\\{  \n",
    "\\begin{array}{lllll} \n",
    "\\min f(x) \\\\ \n",
    "\\text{s.c.}\\\\\n",
    " 48-x_1^2-x_2^2-x_3^2\\geq 0\\\\\n",
    "-4.5\\leq x_i\\leq 4.5,\\text{ pour } i=1,2\\\\\n",
    "-5 \\leq x_3 \\leq 5\n",
    "\\end{array} \\right.$\n",
    "\n",
    "où $f : x \\longmapsto (x_1-x_2)^2 + \\dfrac{(x_1+x_2-10)^2}{9}+(x_3-5)^2=||r(x)||^2$\n",
    "\n",
    "avec $r : x\\longmapsto  (x_1-x_2,\\dfrac{x_1-x_2-10}{3},x_3-5)$\n",
    "\n",
    "Point de départ : $x_0 = (-5,5,0)$ (non réalisable)\n",
    "\n",
    "Fonction objectif en $x_0$ : $\\dfrac{1225}{9}$\n",
    "\n",
    "Solution attendue : $x^* = (3.650461821,3.65046168,4.6204170507)$\n",
    "\n",
    "Fonction objectif à la solution : $f(x^*) = 0.935288567$"
   ]
  },
  {
   "cell_type": "code",
   "execution_count": null,
   "metadata": {},
   "outputs": [],
   "source": [
    "using BenchmarkTools"
   ]
  },
  {
   "cell_type": "code",
   "execution_count": null,
   "metadata": {},
   "outputs": [],
   "source": [
    "include(\"../src/enlsip_functions.jl\")"
   ]
  },
  {
   "cell_type": "code",
   "execution_count": null,
   "metadata": {},
   "outputs": [],
   "source": [
    "n = 3\n",
    "m = 3\n",
    "nb_eq = 0\n",
    "nb_constraints = 7"
   ]
  },
  {
   "cell_type": "code",
   "execution_count": null,
   "metadata": {},
   "outputs": [],
   "source": [
    "res65 = ResidualsEval(0)\n",
    "\n",
    "function (res65::ResidualsEval)(x::Vector, rx::Vector, J::Matrix)\n",
    "\n",
    "    # Evaluate the residuals\n",
    "    if abs(res65.ctrl) == 1\n",
    "        rx[:] = [x[1] - x[2]; (x[1]+x[2]-10.0) / 3.0; x[3]-5.0]\n",
    "\n",
    "    # The jacobian is computed analytically\n",
    "    elseif res65.ctrl == 2\n",
    "        J[:] = [1. -1. 0;\n",
    "                1/3 1/3 0.;\n",
    "                0. 0. 1.]\n",
    "    end\n",
    "    return\n",
    "end"
   ]
  },
  {
   "cell_type": "code",
   "execution_count": null,
   "metadata": {},
   "outputs": [],
   "source": [
    "cons65 = ConstraintsEval(0)\n",
    "\n",
    "function (cons65::ConstraintsEval)(x::Vector, cx::Vector, A::Matrix)\n",
    "\n",
    "    # Evaluate the constraints\n",
    "    if abs(cons65.ctrl) == 1\n",
    "        cx[:] = [48.0 - x[1]^2-x[2]^2-x[3]^2;\n",
    "                 x[1]+4.5;\n",
    "                 x[2]+4.5;\n",
    "                 x[3]+5.0;\n",
    "                 -x[1]+4.5;\n",
    "                 -x[2]+4.5;\n",
    "                 -x[3]+5.0]\n",
    "    # The jacobian is computed numerically if ctrl is set to 0 on return\n",
    "    elseif cons65.ctrl == 2\n",
    "        cons65.ctrl = 0\n",
    "    end\n",
    "    return\n",
    "end"
   ]
  },
  {
   "cell_type": "code",
   "execution_count": null,
   "metadata": {
    "scrolled": false
   },
   "outputs": [],
   "source": [
    "x0 = [-5.0;5.0;0.0]\n",
    "e = eps(Float64)\n",
    "se = sqrt(e)\n",
    "enlsip65 = enlsip(x0,res65,cons65,n,m,nb_eq,nb_constraints,ε_abs = e, ε_rel = se, ε_x = se, ε_c = se)"
   ]
  },
  {
   "cell_type": "code",
   "execution_count": null,
   "metadata": {
    "scrolled": true
   },
   "outputs": [],
   "source": [
    "x1_sol = enlsip65.sol[1]\n",
    "x2_sol = enlsip65.sol[2]\n",
    "x3_sol = enlsip65.sol[3]\n",
    "\n",
    "println(\"Solution trouvée avec ENLSIP-Julia :\")\n",
    "@printf \"x_jul = (%.9e, %.9e, %.9e)\\n\" x1_sol x2_sol x3_sol\n",
    "@printf \"f(x_jul) = %.9e\\n\\n\" enlsip65.obj_value  \n",
    "\n",
    "println(\"Solution trouvée avec ENLSIP-Fortran :\")\n",
    "@printf \"x_for = (%.7e, %.7e, %.7e)\\n\"  3.6504617  3.6504617  4.6204176\n",
    "@printf \"f(x_for) = %.5e\\n\"  0.953529\n",
    "\n",
    "println(\"\\nValeurs théoriques visées :\")\n",
    "@printf \"x_opt = (%.9e, %.9e, %.9e)\\n\" 3.650461821 3.65046168 4.6204170507\n",
    "@printf \"f(x_opt) = %.9e\" 0.9535288567"
   ]
  },
  {
   "cell_type": "markdown",
   "metadata": {},
   "source": [
    "# Résolution avec Ipopt"
   ]
  },
  {
   "cell_type": "code",
   "execution_count": null,
   "metadata": {},
   "outputs": [],
   "source": [
    "using JuMP, Ipopt"
   ]
  },
  {
   "cell_type": "code",
   "execution_count": null,
   "metadata": {},
   "outputs": [],
   "source": [
    "model = Model(with_optimizer(Ipopt.Optimizer))\n",
    "\n",
    "@variable(model, x1, start = -5.0)\n",
    "@variable(model, x2, start = 5.0)\n",
    "@variable(model, x3, start = 0.0)"
   ]
  },
  {
   "cell_type": "code",
   "execution_count": null,
   "metadata": {},
   "outputs": [],
   "source": [
    "f(x1,x2,x3) = (x1 - x2)^2 + (x1+x2-10.0)^2 / 9.0 + (x3-5.0)^2\n",
    "JuMP.register(model, :f, 3, f, autodiff=true)"
   ]
  },
  {
   "cell_type": "code",
   "execution_count": null,
   "metadata": {},
   "outputs": [],
   "source": [
    "@NLconstraint(model, c1, 48.0 - x1^2 - x2^2 - x3^2 >= 0)\n",
    "@constraint(model, x1 >= -4.5)\n",
    "@constraint(model, -x1 <= 4.5)\n",
    "@constraint(model, x2 >= -4.5)\n",
    "@constraint(model, x2 <= 4.5)\n",
    "@constraint(model, x3 >= -5.0)\n",
    "@constraint(model, x3 <= 5.0)"
   ]
  },
  {
   "cell_type": "code",
   "execution_count": null,
   "metadata": {},
   "outputs": [],
   "source": [
    "@NLobjective(model, Min, f(x1,x2,x3))"
   ]
  },
  {
   "cell_type": "code",
   "execution_count": null,
   "metadata": {
    "scrolled": false
   },
   "outputs": [],
   "source": [
    "JuMP.optimize!(model)"
   ]
  },
  {
   "cell_type": "code",
   "execution_count": null,
   "metadata": {},
   "outputs": [],
   "source": [
    "println(\"Solution trouvée avec ENLSIP :\")\n",
    "@printf \"x_enlsip = (%.9e, %.9e, %.9e)\\n\" x1_sol x2_sol x3_sol\n",
    "@printf \"f(x_enlsip) = %.9e\\n\\n\" enlsip65.obj_value \n",
    "\n",
    "\n",
    "println(\"Solution trouvée avec Ipopt :\")\n",
    "@printf \"x_ipopt = (%.9e, %.9e, %.9e)\\n\" JuMP.value(x1) JuMP.value(x2) JuMP.value(x3)\n",
    "@printf \"f(x_ipopt) = %.9e\\n\" 0.95352885599324944"
   ]
  }
 ],
 "metadata": {
  "kernelspec": {
   "display_name": "Julia 1.6.5",
   "language": "julia",
   "name": "julia-1.6"
  },
  "language_info": {
   "file_extension": ".jl",
   "mimetype": "application/julia",
   "name": "julia",
   "version": "1.6.5"
  }
 },
 "nbformat": 4,
 "nbformat_minor": 4
}
