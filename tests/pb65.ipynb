{
 "cells": [
  {
   "cell_type": "markdown",
   "metadata": {},
   "source": [
    "# Résolution Pb65 de la collection Hock-Schittkowski\n",
    "\n",
    "Classification dans l'ouvrage : QQR-P1-3\n",
    "\n",
    "Number of variables : n = 3\n",
    "\n",
    "Number of constraints : 7 (1 inequality + 6 bounds)\n",
    "\n",
    "# Modèle\n",
    "\n",
    "$\\left\\{  \n",
    "\\begin{array}{lllll} \n",
    "\\min f(x) \\\\ \n",
    "\\text{s.c.}\\\\\n",
    " 48-x_1^2-x_2^2-x_3^2\\geq 0\\\\\n",
    "-4.5\\leq x_i\\leq 4.5,\\text{ pour } i=1,2\\\\\n",
    "-5 \\leq x_3 \\leq 5\n",
    "\\end{array} \\right.$\n",
    "\n",
    "où $f : x \\longmapsto (x_1-x_2)^2 + \\dfrac{(x_1+x_2-10)^2}{9}+(x_3-5)^2=||r(x)||^2$\n",
    "\n",
    "avec $r : x\\longmapsto  (x_1-x_2,\\dfrac{x_1-x_2-10}{3},x_3-5)$\n",
    "\n",
    "Point de départ : $x_0 = (-5,5,0)$ (non réalisable)\n",
    "\n",
    "Fonction objectif en $x_0$ : $\\dfrac{1225}{9}$\n",
    "\n",
    "Solution attendue : $x^* = (3.650461821,3.65046168,4.6204170507)$\n",
    "\n",
    "Fonction objectif à la solution : $f(x^*) = 0.935288567$"
   ]
  },
  {
   "cell_type": "code",
   "execution_count": 1,
   "metadata": {},
   "outputs": [],
   "source": [
    "using BenchmarkTools"
   ]
  },
  {
   "cell_type": "code",
   "execution_count": 2,
   "metadata": {},
   "outputs": [
    {
     "data": {
      "text/plain": [
       "enlsip"
      ]
     },
     "execution_count": 2,
     "metadata": {},
     "output_type": "execute_result"
    }
   ],
   "source": [
    "include(\"../src/enlsip_functions.jl\")"
   ]
  },
  {
   "cell_type": "code",
   "execution_count": 3,
   "metadata": {},
   "outputs": [
    {
     "data": {
      "text/plain": [
       "7"
      ]
     },
     "execution_count": 3,
     "metadata": {},
     "output_type": "execute_result"
    }
   ],
   "source": [
    "n = 3\n",
    "m = 3\n",
    "nb_eq = 0\n",
    "nb_constraints = 7"
   ]
  },
  {
   "cell_type": "code",
   "execution_count": 4,
   "metadata": {},
   "outputs": [],
   "source": [
    "res65 = ResidualsEval(0)\n",
    "\n",
    "function (res65::ResidualsEval)(x::Vector, rx::Vector, J::Matrix)\n",
    "\n",
    "    # Evaluate the residuals\n",
    "    if abs(res65.ctrl) == 1\n",
    "        rx[:] = [x[1] - x[2]; (x[1]+x[2]-10.0) / 3.0; x[3]-5.0]\n",
    "\n",
    "    # The jacobian is computed analytically\n",
    "    elseif res65.ctrl == 2\n",
    "        J[:] = [1. -1. 0;\n",
    "                1/3 1/3 0.;\n",
    "                0. 0. 1.]\n",
    "    end\n",
    "    return\n",
    "end"
   ]
  },
  {
   "cell_type": "code",
   "execution_count": 5,
   "metadata": {},
   "outputs": [],
   "source": [
    "cons65 = ConstraintsEval(0)\n",
    "\n",
    "function (cons65::ConstraintsEval)(x::Vector, cx::Vector, A::Matrix)\n",
    "\n",
    "    # Evaluate the constraints\n",
    "    if abs(cons65.ctrl) == 1\n",
    "        cx[:] = [48.0 - x[1]^2-x[2]^2-x[3]^2;\n",
    "                 x[1]+4.5;\n",
    "                 x[2]+4.5;\n",
    "                 x[3]+5.0;\n",
    "                 -x[1]+4.5;\n",
    "                 -x[2]+4.5;\n",
    "                 -x[3]+5.0]\n",
    "    # The jacobian is computed numerically if ctrl is set to 0 on return\n",
    "    elseif cons65.ctrl == 2\n",
    "        cons65.ctrl = 0\n",
    "    end\n",
    "    return\n",
    "end"
   ]
  },
  {
   "cell_type": "code",
   "execution_count": 6,
   "metadata": {
    "scrolled": false
   },
   "outputs": [
    {
     "name": "stdout",
     "output_type": "stream",
     "text": [
      "\n",
      "****************************************\n",
      "*                                      *\n",
      "*          ENLSIP-JULIA-0.3.0          *\n",
      "*                                      *\n",
      "****************************************\n",
      "\n",
      "Starting point : [-5.0, 5.0, 0.0]\n",
      "\n",
      "Number of equality constraints   : 0\n",
      "Number of inequality constraints : 7\n",
      "Constraints internal scaling     : false\n",
      "\n",
      "iter    objective    cx_sum   reduction     ||p||   dimA  dimJ2     α     conv. speed   max weight   working set\n",
      "   0  1.158907e+02  4.50e+00   1.60e+01   5.002e+00   2     1   4.81e-01    0.00e+00     1.00e-01    (1,2,6)\n",
      "   1  7.831910e+01  4.66e+01   2.66e+01   6.835e+00   2     1   4.30e-01    1.80e+00     1.00e-01    (1,6)\n",
      "   2  4.665009e+00  6.61e-02   7.37e+01   8.193e+00   2     1   7.58e-01    8.91e-01     1.00e-01    (6,7)\n",
      "   3  9.547961e-01  2.18e+01   5.46e+00   1.439e+00   2     1   1.00e+00    5.82e-01     1.00e-01    (1,7)\n",
      "   4  9.376705e-01  4.29e+00   4.41e-01   4.655e-01   1     2   1.00e+00    4.18e-01     1.00e-01    (1)\n",
      "   5  9.532018e-01  4.70e-02   1.77e-02   6.668e-02   1     2   1.00e+00    1.06e-01     7.07e-01    (1)\n",
      "   6  9.535243e-01  1.98e-05   3.65e-04   7.921e-03   1     2   1.00e+00    3.49e-02     3.48e+01    (1)\n",
      "   7  9.535288e-01  3.94e-09   5.15e-06   9.971e-04   1     2   1.00e+00    1.04e-01     2.45e+03    (1)\n",
      "   8  9.535289e-01  9.88e-13   8.16e-08   1.252e-04   1     2   1.00e+00    1.25e-01     1.55e+05    (1)\n",
      "   9  9.535289e-01  2.46e-16   1.29e-09   1.572e-05   1     2   1.00e+00    1.26e-01     9.83e+06    (1)\n",
      "  10  9.535289e-01  6.08e-20   2.03e-11   1.974e-06   1     2   1.00e+00    1.26e-01     6.24e+08    (1)\n",
      "  11  9.535289e-01  1.54e-23   3.22e-13   2.474e-07   1     2   1.00e+00    1.25e-01     3.93e+10    (1)\n",
      "\n",
      "Exit code = 40\n",
      "Number of iterations = 12 \n",
      "\n",
      "Terminated at point : 3.650462e+00  3.650462e+00  4.620417e+00 \n",
      "\n",
      "Active constraints : 1 \n",
      "Constraint values : \n",
      " -7.11e-15  8.15e+00  8.15e+00  9.62e+00  8.50e-01  8.50e-01  3.80e-01 \n",
      "Penalty constants :\n",
      " 3.93e+10  1.00e-01  1.00e-01  1.00e-01  1.00e-01  1.00e-01  1.00e-01 \n",
      "Square sum of residuals = 9.535289e-01\n",
      "\n"
     ]
    },
    {
     "data": {
      "text/plain": [
       "ENLSIP([3.6504617275590108, 3.6504617262726455, 4.620417552629354], 0.9535288568047825)"
      ]
     },
     "execution_count": 6,
     "metadata": {},
     "output_type": "execute_result"
    }
   ],
   "source": [
    "x0 = [-5.0;5.0;0.0]\n",
    "enlsip57 = enlsip(x0,res65,cons65,n,m,nb_eq,nb_constraints)"
   ]
  },
  {
   "cell_type": "code",
   "execution_count": 7,
   "metadata": {
    "scrolled": true
   },
   "outputs": [
    {
     "name": "stdout",
     "output_type": "stream",
     "text": [
      "Solution trouvée avec ENLSIP-Julia :\n",
      "x_jul = (3.650461728e+00, 3.650461726e+00, 4.620417553e+00)\n",
      "f(x_jul) = 9.535288568e-01\n",
      "\n",
      "Solution trouvée avec ENLSIP-Fortran :\n",
      "x_for = (3.6504617e+00, 3.6504617e+00, 4.6204176e+00)\n",
      "f(x_for) = 9.53529e-01\n",
      "\n",
      "Valeurs théoriques visées :\n",
      "x_opt = (3.650461821e+00, 3.650461680e+00, 4.620417051e+00)\n",
      "f(x_opt) = 9.535288567e-01"
     ]
    }
   ],
   "source": [
    "x1_sol = enlsip57.sol[1]\n",
    "x2_sol = enlsip57.sol[2]\n",
    "x3_sol = enlsip57.sol[3]\n",
    "\n",
    "println(\"Solution trouvée avec ENLSIP-Julia :\")\n",
    "@printf \"x_jul = (%.9e, %.9e, %.9e)\\n\" x1_sol x2_sol x3_sol\n",
    "@printf \"f(x_jul) = %.9e\\n\\n\" enlsip57.obj_value  \n",
    "\n",
    "println(\"Solution trouvée avec ENLSIP-Fortran :\")\n",
    "@printf \"x_for = (%.7e, %.7e, %.7e)\\n\"  3.6504617  3.6504617  4.6204176\n",
    "@printf \"f(x_for) = %.5e\\n\"  0.953529\n",
    "\n",
    "println(\"\\nValeurs théoriques visées :\")\n",
    "@printf \"x_opt = (%.9e, %.9e, %.9e)\\n\" 3.650461821 3.65046168 4.6204170507\n",
    "@printf \"f(x_opt) = %.9e\" 0.9535288567"
   ]
  },
  {
   "cell_type": "markdown",
   "metadata": {},
   "source": [
    "# Résolution avec Ipopt"
   ]
  },
  {
   "cell_type": "code",
   "execution_count": 8,
   "metadata": {},
   "outputs": [
    {
     "ename": "LoadError",
     "evalue": "UndefVarError: Ipopt not defined",
     "output_type": "error",
     "traceback": [
      "UndefVarError: Ipopt not defined",
      "",
      "Stacktrace:",
      " [1] top-level scope",
      "   @ In[8]:1",
      " [2] eval",
      "   @ ./boot.jl:360 [inlined]",
      " [3] include_string(mapexpr::typeof(REPL.softscope), mod::Module, code::String, filename::String)",
      "   @ Base ./loading.jl:1094"
     ]
    }
   ],
   "source": [
    "model = Model(with_optimizer(Ipopt.Optimizer))\n",
    "\n",
    "@variable(model, x1, start = -5.0)\n",
    "@variable(model, x2, start = 5.0)\n",
    "@variable(model, x3, start = 0.0)"
   ]
  },
  {
   "cell_type": "code",
   "execution_count": 9,
   "metadata": {},
   "outputs": [
    {
     "ename": "LoadError",
     "evalue": "UndefVarError: JuMP not defined",
     "output_type": "error",
     "traceback": [
      "UndefVarError: JuMP not defined",
      "",
      "Stacktrace:",
      " [1] top-level scope",
      "   @ In[9]:2",
      " [2] eval",
      "   @ ./boot.jl:360 [inlined]",
      " [3] include_string(mapexpr::typeof(REPL.softscope), mod::Module, code::String, filename::String)",
      "   @ Base ./loading.jl:1094"
     ]
    }
   ],
   "source": [
    "f(x1,x2,x3) = (x1 - x2)^2 + (x1+x2-10.0)^2 / 9.0 + (x3-5.0)^2\n",
    "JuMP.register(model, :f, 3, f, autodiff=true)"
   ]
  },
  {
   "cell_type": "code",
   "execution_count": 10,
   "metadata": {},
   "outputs": [
    {
     "ename": "LoadError",
     "evalue": "LoadError: UndefVarError: @NLconstraint not defined\nin expression starting at In[10]:1",
     "output_type": "error",
     "traceback": [
      "LoadError: UndefVarError: @NLconstraint not defined\nin expression starting at In[10]:1",
      "",
      "Stacktrace:",
      " [1] top-level scope",
      "   @ :0",
      " [2] eval",
      "   @ ./boot.jl:360 [inlined]",
      " [3] include_string(mapexpr::typeof(REPL.softscope), mod::Module, code::String, filename::String)",
      "   @ Base ./loading.jl:1094"
     ]
    }
   ],
   "source": [
    "@NLconstraint(model, c1, 48.0 - x1^2 - x2^2 - x3^2 >= 0)\n",
    "@constraint(model, x1 >= -4.5)\n",
    "@constraint(model, -x1 <= 4.5)\n",
    "@constraint(model, x2 >= -4.5)\n",
    "@constraint(model, x2 <= 4.5)\n",
    "@constraint(model, x3 >= -5.0)\n",
    "@constraint(model, x3 <= 5.0)"
   ]
  },
  {
   "cell_type": "code",
   "execution_count": 11,
   "metadata": {},
   "outputs": [
    {
     "ename": "LoadError",
     "evalue": "LoadError: UndefVarError: @NLobjective not defined\nin expression starting at In[11]:1",
     "output_type": "error",
     "traceback": [
      "LoadError: UndefVarError: @NLobjective not defined\nin expression starting at In[11]:1",
      "",
      "Stacktrace:",
      " [1] top-level scope",
      "   @ :0",
      " [2] eval",
      "   @ ./boot.jl:360 [inlined]",
      " [3] include_string(mapexpr::typeof(REPL.softscope), mod::Module, code::String, filename::String)",
      "   @ Base ./loading.jl:1094"
     ]
    }
   ],
   "source": [
    "@NLobjective(model, Min, f(x1,x2,x3))"
   ]
  },
  {
   "cell_type": "code",
   "execution_count": 12,
   "metadata": {
    "scrolled": false
   },
   "outputs": [
    {
     "ename": "LoadError",
     "evalue": "UndefVarError: JuMP not defined",
     "output_type": "error",
     "traceback": [
      "UndefVarError: JuMP not defined",
      "",
      "Stacktrace:",
      " [1] top-level scope",
      "   @ In[12]:1",
      " [2] eval",
      "   @ ./boot.jl:360 [inlined]",
      " [3] include_string(mapexpr::typeof(REPL.softscope), mod::Module, code::String, filename::String)",
      "   @ Base ./loading.jl:1094"
     ]
    }
   ],
   "source": [
    "JuMP.optimize!(model)"
   ]
  },
  {
   "cell_type": "code",
   "execution_count": 14,
   "metadata": {},
   "outputs": [
    {
     "name": "stdout",
     "output_type": "stream",
     "text": [
      "Solution trouvée avec ENLSIP :\n",
      "x_enlsip = (3.650461728e+00, 3.650461726e+00, 4.620417553e+00)\n"
     ]
    },
    {
     "ename": "LoadError",
     "evalue": "UndefVarError: enlsip65 not defined",
     "output_type": "error",
     "traceback": [
      "UndefVarError: enlsip65 not defined",
      "",
      "Stacktrace:",
      " [1] top-level scope",
      "   @ In[14]:3",
      " [2] eval",
      "   @ ./boot.jl:360 [inlined]",
      " [3] include_string(mapexpr::typeof(REPL.softscope), mod::Module, code::String, filename::String)",
      "   @ Base ./loading.jl:1094"
     ]
    }
   ],
   "source": [
    "println(\"Solution trouvée avec ENLSIP :\")\n",
    "@printf \"x_enlsip = (%.9e, %.9e, %.9e)\\n\" x1_sol x2_sol x3_sol\n",
    "@printf \"f(x_enlsip) = %.9e\\n\\n\" enlsip65.obj_value \n",
    "\n",
    "\n",
    "println(\"Solution trouvée avec Ipopt :\")\n",
    "@printf \"x_ipopt = (%.9e, %.9e, %.9e)\\n\" JuMP.value(x1) JuMP.value(x2) JuMP.value(x3)\n",
    "@printf \"f(x_ipopt) = %.9e\\n\" 0.95352885599324944"
   ]
  }
 ],
 "metadata": {
  "kernelspec": {
   "display_name": "Julia 1.6.0",
   "language": "julia",
   "name": "julia-1.6"
  },
  "language_info": {
   "file_extension": ".jl",
   "mimetype": "application/julia",
   "name": "julia",
   "version": "1.6.1"
  }
 },
 "nbformat": 4,
 "nbformat_minor": 4
}
