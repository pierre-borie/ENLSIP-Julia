{
 "cells": [
  {
   "cell_type": "markdown",
   "source": [
    "# Résolution Pb65 de la collection Hock-Schittkowski\n",
    "\n",
    "Classification dans l'ouvrage : QQR-P1-3\n",
    "\n",
    "Number of variables : n = 3\n",
    "\n",
    "Number of constraints : 7 (1 inequality + 6 bounds)\n",
    "\n",
    "# Modèle\n",
    "\n",
    "$\\left\\{  \n",
    "\\begin{array}{lllll} \n",
    "\\min f(x) \\\\ \n",
    "\\text{s.c.}\\\\\n",
    " 48-x_1^2-x_2^2-x_3^2\\geq 0\\\\\n",
    "-4.5\\leq x_i\\leq 4.5,\\text{ pour } i=1,2\\\\\n",
    "-5 \\leq x_3 \\leq 5\n",
    "\\end{array} \\right.$\n",
    "\n",
    "où $f : x \\longmapsto (x_1-x_2)^2 + \\dfrac{(x_1+x_2-10)^2}{9}+(x_3-5)^2=||r(x)||^2$\n",
    "\n",
    "avec $r : x\\longmapsto  (x_1-x_2,\\dfrac{x_1-x_2-10}{3},x_3-5)$\n",
    "\n",
    "Point de départ : $x_0 = (-5,5,0)$ (non réalisable)\n",
    "\n",
    "Fonction objectif en $x_0$ : $\\dfrac{1225}{9}$\n",
    "\n",
    "Solution attendue : $x^* = (3.650461821,3.65046168,4.6204170507)$\n",
    "\n",
    "Fonction objectif à la solution : $f(x^*) = 0.935288567$"
   ],
   "metadata": {}
  },
  {
   "cell_type": "code",
   "execution_count": 1,
   "source": [
    "using LinearAlgebra, Polynomials, Printf, JuMP, Ipopt, BenchmarkTools"
   ],
   "outputs": [],
   "metadata": {}
  },
  {
   "cell_type": "code",
   "execution_count": 2,
   "source": [
    "include(\"../src/enlsip_functions.jl\")"
   ],
   "outputs": [
    {
     "output_type": "execute_result",
     "data": {
      "text/plain": [
       "enlsip (generic function with 5 methods)"
      ]
     },
     "metadata": {},
     "execution_count": 2
    }
   ],
   "metadata": {}
  },
  {
   "cell_type": "code",
   "execution_count": 3,
   "source": [
    "n = 3\n",
    "m = 3\n",
    "nb_eq = 0\n",
    "nb_constraints = 7"
   ],
   "outputs": [
    {
     "output_type": "execute_result",
     "data": {
      "text/plain": [
       "7"
      ]
     },
     "metadata": {},
     "execution_count": 3
    }
   ],
   "metadata": {}
  },
  {
   "cell_type": "code",
   "execution_count": 4,
   "source": [
    "res65 = ResidualsEval(0)\n",
    "\n",
    "function (res65::ResidualsEval)(x::Vector, rx::Vector, J::Matrix)\n",
    "\n",
    "    # Evaluate the residuals\n",
    "    if abs(res65.ctrl) == 1\n",
    "        rx[:] = [x[1] - x[2]; (x[1]+x[2]-10.0) / 3.0; x[3]-5.0]\n",
    "\n",
    "    # The jacobian is computed analytically\n",
    "    elseif res65.ctrl == 2\n",
    "        J[:] = [1. -1. 0;\n",
    "                1/3 1/3 0.;\n",
    "                0. 0. 1.]\n",
    "    end\n",
    "    return\n",
    "end"
   ],
   "outputs": [],
   "metadata": {}
  },
  {
   "cell_type": "code",
   "execution_count": 5,
   "source": [
    "cons65 = ConstraintsEval(0)\n",
    "\n",
    "function (cons65::ConstraintsEval)(x::Vector, cx::Vector, A::Matrix)\n",
    "\n",
    "    # Evaluate the constraints\n",
    "    if abs(cons65.ctrl) == 1\n",
    "        cx[:] = [48.0 - x[1]^2-x[2]^2-x[3]^2;\n",
    "                 x[1]+4.5;\n",
    "                 x[2]+4.5;\n",
    "                 x[3]+5.0;\n",
    "                 -x[1]+4.5;\n",
    "                 -x[2]+4.5;\n",
    "                 -x[3]+5.0]\n",
    "    # The jacobian is computed numerically if ctrl is set to 0 on return\n",
    "    elseif cons65.ctrl == 2\n",
    "        cons65.ctrl = 0\n",
    "    end\n",
    "    return\n",
    "end"
   ],
   "outputs": [],
   "metadata": {}
  },
  {
   "cell_type": "code",
   "execution_count": 6,
   "source": [
    "x0 = [-5.0;5.0;0.0]\n",
    "@benchmark enlsip(x0,res65,cons65,n,m,nb_eq,nb_constraints)"
   ],
   "outputs": [
    {
     "output_type": "execute_result",
     "data": {
      "text/plain": [
       "BenchmarkTools.Trial: \n",
       "  memory estimate:  9.84 MiB\n",
       "  allocs estimate:  5735\n",
       "  --------------\n",
       "  minimum time:     1.544 ms (0.00% GC)\n",
       "  median time:      3.446 ms (0.00% GC)\n",
       "  mean time:        4.955 ms (34.18% GC)\n",
       "  maximum time:     17.559 ms (66.93% GC)\n",
       "  --------------\n",
       "  samples:          1005\n",
       "  evals/sample:     1"
      ]
     },
     "metadata": {},
     "execution_count": 6
    }
   ],
   "metadata": {
    "scrolled": false
   }
  },
  {
   "cell_type": "code",
   "execution_count": 7,
   "source": [
    "x1_sol = enlsip.sol[1]\n",
    "x2_sol = enlsip.sol[2]\n",
    "x3_sol = enlsip.sol[3]\n",
    "\n",
    "println(\"Solution trouvée avec ENLSIP-Julia :\")\n",
    "@printf \"x_jul = (%.9e, %.9e, %.9e)\\n\" x1_sol x2_sol x3_sol\n",
    "@printf \"f(x_jul) = %.9e\\n\\n\" enlsip_020.obj_value  \n",
    "\n",
    "println(\"Solution trouvée avec ENLSIP-Fortran :\")\n",
    "@printf \"x_for = (%.7e, %.7e, %.7e)\\n\"  3.6504617  3.6504617  4.6204176\n",
    "@printf \"f(x_for) = %.5e\\n\"  0.953529\n",
    "\n",
    "println(\"\\nValeurs théoriques visées :\")\n",
    "@printf \"x_opt = (%.9e, %.9e, %.9e)\\n\" 3.650461821 3.65046168 4.6204170507\n",
    "@printf \"f(x_opt) = %.9e\" 0.9535288567"
   ],
   "outputs": [
    {
     "output_type": "error",
     "ename": "LoadError",
     "evalue": "UndefVarError: enlsip_020 not defined",
     "traceback": [
      "UndefVarError: enlsip_020 not defined",
      "",
      "Stacktrace:",
      " [1] top-level scope",
      "   @ In[7]:1",
      " [2] eval",
      "   @ ./boot.jl:360 [inlined]",
      " [3] include_string(mapexpr::typeof(REPL.softscope), mod::Module, code::String, filename::String)",
      "   @ Base ./loading.jl:1094"
     ]
    }
   ],
   "metadata": {
    "scrolled": true
   }
  },
  {
   "cell_type": "markdown",
   "source": [
    "# Résolution avec Ipopt"
   ],
   "metadata": {}
  },
  {
   "cell_type": "code",
   "execution_count": 8,
   "source": [
    "model = Model(with_optimizer(Ipopt.Optimizer))\n",
    "\n",
    "@variable(model, x1, start = -5.0)\n",
    "@variable(model, x2, start = 5.0)\n",
    "@variable(model, x3, start = 0.0)"
   ],
   "outputs": [
    {
     "output_type": "execute_result",
     "data": {
      "text/plain": [
       "x3"
      ],
      "text/latex": [
       "$$ x3 $$"
      ]
     },
     "metadata": {},
     "execution_count": 8
    }
   ],
   "metadata": {}
  },
  {
   "cell_type": "code",
   "execution_count": 9,
   "source": [
    "f(x1,x2,x3) = (x1 - x2)^2 + (x1+x2-10.0)^2 / 9.0 + (x3-5.0)^2\n",
    "JuMP.register(model, :f, 3, f, autodiff=true)"
   ],
   "outputs": [],
   "metadata": {}
  },
  {
   "cell_type": "code",
   "execution_count": 10,
   "source": [
    "@NLconstraint(model, c1, 48.0 - x1^2 - x2^2 - x3^2 >= 0)\n",
    "@constraint(model, x1 >= -4.5)\n",
    "@constraint(model, -x1 <= 4.5)\n",
    "@constraint(model, x2 >= -4.5)\n",
    "@constraint(model, x2 <= 4.5)\n",
    "@constraint(model, x3 >= -5.0)\n",
    "@constraint(model, x3 <= 5.0)"
   ],
   "outputs": [
    {
     "output_type": "execute_result",
     "data": {
      "text/plain": [
       "x3 ≤ 5.0"
      ],
      "text/latex": [
       "$$ x3 \\leq 5.0 $$"
      ]
     },
     "metadata": {},
     "execution_count": 10
    }
   ],
   "metadata": {}
  },
  {
   "cell_type": "code",
   "execution_count": 11,
   "source": [
    "@NLobjective(model, Min, f(x1,x2,x3))"
   ],
   "outputs": [],
   "metadata": {}
  },
  {
   "cell_type": "code",
   "execution_count": 12,
   "source": [
    "JuMP.optimize!(model)"
   ],
   "outputs": [
    {
     "output_type": "stream",
     "name": "stdout",
     "text": [
      "\n",
      "******************************************************************************\n",
      "This program contains Ipopt, a library for large-scale nonlinear optimization.\n",
      " Ipopt is released as open source code under the Eclipse Public License (EPL).\n",
      "         For more information visit https://github.com/coin-or/Ipopt\n",
      "******************************************************************************\n",
      "\n",
      "This is Ipopt version 3.13.4, running with linear solver mumps.\n",
      "NOTE: Other linear solvers might be more efficient (see Ipopt documentation).\n",
      "\n",
      "Number of nonzeros in equality constraint Jacobian...:        0\n",
      "Number of nonzeros in inequality constraint Jacobian.:        9\n",
      "Number of nonzeros in Lagrangian Hessian.............:        0\n",
      "\n",
      "Total number of variables............................:        3\n",
      "                     variables with only lower bounds:        0\n",
      "                variables with lower and upper bounds:        0\n",
      "                     variables with only upper bounds:        0\n",
      "Total number of equality constraints.................:        0\n",
      "Total number of inequality constraints...............:        7\n",
      "        inequality constraints with only lower bounds:        4\n",
      "   inequality constraints with lower and upper bounds:        0\n",
      "        inequality constraints with only upper bounds:        3\n",
      "\n",
      "iter    objective    inf_pr   inf_du lg(mu)  ||d||  lg(rg) alpha_du alpha_pr  ls\n",
      "   0  1.3611111e+02 2.00e+00 3.33e+00   0.0 0.00e+00    -  0.00e+00 0.00e+00   0\n",
      "   1  1.3111783e+02 2.10e+00 4.70e+00  -5.6 7.14e+00    -  2.34e-01 6.85e-02f  1\n",
      "   2  1.9503672e+02 1.98e+01 7.09e+01   2.3 1.21e+04    -  5.47e-05 1.01e-03f  1\n",
      "   3  8.6817662e+01 0.00e+00 3.80e+01   0.4 4.02e+01    -  2.63e-01 1.00e+00f  1\n",
      "   4  1.7072377e+01 0.00e+00 1.15e+01  -0.3 2.56e+01    -  3.68e-01 1.00e+00f  1\n",
      "   5  4.8737905e+00 0.00e+00 1.17e+00   0.0 4.66e+01    -  9.94e-01 1.00e+00f  1\n",
      "   6  1.1059971e+00 0.00e+00 1.98e-01  -1.9 2.62e+01    -  8.70e-01 1.00e+00f  1\n",
      "   7  9.7438984e-01 3.23e-02 4.05e-02  -0.7 5.16e+00    -  1.00e+00 9.89e-01h  1\n",
      "   8  9.6159221e-01 0.00e+00 1.16e-01  -2.6 5.54e-02    -  9.99e-01 1.00e+00h  1\n",
      "   9  9.5316864e-01 4.50e-03 2.06e-03  -3.8 5.69e-02    -  9.99e-01 1.00e+00h  1\n",
      "iter    objective    inf_pr   inf_du lg(mu)  ||d||  lg(rg) alpha_du alpha_pr  ls\n",
      "  10  9.5353095e-01 0.00e+00 1.46e-04  -5.5 2.55e-03    -  1.00e+00 1.00e+00h  1\n",
      "  11  9.5352886e-01 0.00e+00 1.03e-07 -11.0 3.95e-05    -  1.00e+00 1.00e+00h  1\n",
      "  12  9.5352886e-01 0.00e+00 1.30e-09 -11.0 9.18e-08    -  1.00e+00 1.00e+00h  1\n",
      "\n",
      "Number of Iterations....: 12\n",
      "\n",
      "                                   (scaled)                 (unscaled)\n",
      "Objective...............:   9.5352885599324944e-01    9.5352885599324944e-01\n",
      "Dual infeasibility......:   1.3043728118973420e-09    1.3043728118973420e-09\n",
      "Constraint violation....:   0.0000000000000000e+00    0.0000000000000000e+00\n",
      "Complementarity.........:   1.0000553687781520e-11    1.0000553687781520e-11\n",
      "Overall NLP error.......:   1.3043728118973420e-09    1.3043728118973420e-09\n",
      "\n",
      "\n",
      "Number of objective function evaluations             = 13\n",
      "Number of objective gradient evaluations             = 13\n",
      "Number of equality constraint evaluations            = 0\n",
      "Number of inequality constraint evaluations          = 13\n",
      "Number of equality constraint Jacobian evaluations   = 0\n",
      "Number of inequality constraint Jacobian evaluations = 13\n",
      "Number of Lagrangian Hessian evaluations             = 0\n",
      "Total CPU secs in IPOPT (w/o function evaluations)   =      2.189\n",
      "Total CPU secs in NLP function evaluations           =      0.183\n",
      "\n",
      "EXIT: Optimal Solution Found.\n"
     ]
    }
   ],
   "metadata": {
    "scrolled": false
   }
  },
  {
   "cell_type": "code",
   "execution_count": 13,
   "source": [
    "println(\"Solution trouvée avec ENLSIP :\")\n",
    "@printf \"x_enlsip = (%.9e, %.9e, %.9e)\\n\" x1_sol x2_sol x3_sol\n",
    "@printf \"f(x_enlsip) = %.9e\\n\\n\" enlsip_020.obj_value \n",
    "\n",
    "\n",
    "println(\"Solution trouvée avec Ipopt :\")\n",
    "@printf \"x_ipopt = (%.9e, %.9e, %.9e)\\n\" JuMP.value(x1) JuMP.value(x2) JuMP.value(x3)\n",
    "@printf \"f(x_ipopt) = %.9e\\n\" 0.95352885599324944"
   ],
   "outputs": [
    {
     "output_type": "stream",
     "name": "stdout",
     "text": [
      "Solution trouvée avec ENLSIP :\n",
      "x_enlsip = (3.650461729e+00, 3.650461728e+00, 4.620417551e+00)\n",
      "f(x_enlsip) = 9.535288568e-01\n",
      "\n",
      "Solution trouvée avec Ipopt :\n",
      "x_ipopt = (3.650461727e+00, 3.650461725e+00, 4.620417555e+00)\n",
      "f(x_ipopt) = 9.535288560e-01\n"
     ]
    }
   ],
   "metadata": {}
  }
 ],
 "metadata": {
  "kernelspec": {
   "display_name": "Julia 1.6.0",
   "language": "julia",
   "name": "julia-1.6"
  },
  "language_info": {
   "file_extension": ".jl",
   "mimetype": "application/julia",
   "name": "julia",
   "version": "1.6.1"
  }
 },
 "nbformat": 4,
 "nbformat_minor": 4
}