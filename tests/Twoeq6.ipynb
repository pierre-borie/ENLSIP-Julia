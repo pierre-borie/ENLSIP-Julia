{
 "cells": [
  {
   "cell_type": "markdown",
   "id": "ff71a3d0",
   "metadata": {},
   "source": [
    "# Problème TwoEq6"
   ]
  },
  {
   "cell_type": "code",
   "execution_count": 1,
   "id": "597ec727",
   "metadata": {},
   "outputs": [],
   "source": [
    "using ForwardDiff, JuMP, Ipopt"
   ]
  },
  {
   "cell_type": "code",
   "execution_count": 2,
   "id": "d8f4ec6a",
   "metadata": {},
   "outputs": [
    {
     "data": {
      "text/plain": [
       "enlsip"
      ]
     },
     "execution_count": 2,
     "metadata": {},
     "output_type": "execute_result"
    }
   ],
   "source": [
    "include(\"../src/enlsip_functions_castor2.jl\")"
   ]
  },
  {
   "cell_type": "code",
   "execution_count": 13,
   "id": "9cad199e",
   "metadata": {},
   "outputs": [
    {
     "data": {
      "text/plain": [
       "2"
      ]
     },
     "execution_count": 13,
     "metadata": {},
     "output_type": "execute_result"
    }
   ],
   "source": [
    "n = 2\n",
    "m = 2\n",
    "nb_eq = 0\n",
    "nb_constraints = 2"
   ]
  },
  {
   "cell_type": "code",
   "execution_count": 4,
   "id": "365dd9aa",
   "metadata": {},
   "outputs": [],
   "source": [
    "# Résidus\n",
    "\n",
    "function r(x::Vector)\n",
    "    return [x[1]/(1-x[1]) - 5*log(0.4*(1-x[1])/x[2]) + 4.45977;\n",
    "        x[2] - 0.4 + x[1]/2]\n",
    "end\n",
    "resTwoeq6 = ResidualsEval(0)\n",
    "\n",
    "function (resTwoeq6::ResidualsEval)(x::Vector, rx::Vector, J::Matrix)\n",
    "    \n",
    "    if resTwoeq6 == 1\n",
    "        rx[:] = [x[1]/(1-x[1]) - 5*log(0.4*(1-x[1])/x[2]) + 4.45977;\n",
    "        x[2] - 0.4 + x[1]/2]\n",
    "        \n",
    "    elseif resTwoeq6 == 2\n",
    "        J[:] = ForwardDiff.jacobian(r,x)\n",
    "    end\n",
    "    return\n",
    "end"
   ]
  },
  {
   "cell_type": "code",
   "execution_count": 11,
   "id": "6f987bc3",
   "metadata": {},
   "outputs": [],
   "source": [
    "# Contraintes \n",
    "\n",
    "function c(x::Vector)\n",
    "    return [x[1] - 0.0001; x[2] - 0.0001]\n",
    "end\n",
    "\n",
    "consTwoeq6 = ConstraintsEval(0)\n",
    "\n",
    "function(consTwoeq6::ConstraintsEval)(x::Vector, cx::Vector, A::Matrix)\n",
    "    \n",
    "    if consTwoeq6.ctrl == 1\n",
    "        cx[:] =  [x[1] - 0.0001; x[2] - 0.0001]\n",
    "    elseif consTwoeq6.ctrl == 2\n",
    "        A[:] = ForwardDiff.jacobian(c,x)\n",
    "    end\n",
    "    return\n",
    "end"
   ]
  },
  {
   "cell_type": "markdown",
   "id": "526d21fe",
   "metadata": {},
   "source": [
    "## Résolution avec ENLSIP-Julia"
   ]
  },
  {
   "cell_type": "code",
   "execution_count": 16,
   "id": "1c70197b",
   "metadata": {
    "scrolled": true
   },
   "outputs": [
    {
     "name": "stdout",
     "output_type": "stream",
     "text": [
      "\n",
      "****************************************\n",
      "*                                      *\n",
      "*          ENLSIP-JULIA-0.4.0          *\n",
      "*                                      *\n",
      "****************************************\n",
      "\n",
      "Starting point : [0.6, 0.1]\n",
      "\n",
      "Starting point :\n",
      "    6.000000e-01   1.000000e-01 \n",
      "\n",
      "Number of equality constraints   : 0\n",
      "Number of inequality constraints : 2\n",
      "Constraints internal scaling     : false\n",
      "\n",
      "\n",
      "Iteration steps information\n",
      "\n",
      "iter     objective    cx_sum   reduction     ||p||   dimA  dimJ2     α     conv. speed   max weight   working set\n",
      "   0  0.000000e+00  0.00e+00   0.00e+00   0.000e+00   0     0   1.00e+00    0.00e+00     1.00e-01     -\n"
     ]
    },
    {
     "ename": "LoadError",
     "evalue": "IOError: unlink(\"output.txt\"): resource busy or locked (EBUSY)",
     "output_type": "error",
     "traceback": [
      "IOError: unlink(\"output.txt\"): resource busy or locked (EBUSY)",
      "",
      "Stacktrace:",
      " [1] uv_error",
      "   @ .\\libuv.jl:97 [inlined]",
      " [2] unlink(p::String)",
      "   @ Base.Filesystem .\\file.jl:972",
      " [3] rm(path::String; force::Bool, recursive::Bool)",
      "   @ Base.Filesystem .\\file.jl:283",
      " [4] rm",
      "   @ .\\file.jl:273 [inlined]",
      " [5] enlsip(x0::Vector{Float64}, r::ResidualsEval, c::ConstraintsEval, n::Int64, m::Int64, q::Int64, l::Int64; scaling::Bool, weight_code::Int64, MAX_ITER::Int64, ε_abs::Float64, ε_rel::Float64, ε_x::Float64, ε_c::Float64, ε_rank::Float64)",
      "   @ Main C:\\Users\\pierre\\ProjetENLSIP\\ENLSIP-Julia\\src\\enlsip_functions_castor2.jl:3365",
      " [6] top-level scope",
      "   @ In[16]:5",
      " [7] eval",
      "   @ .\\boot.jl:368 [inlined]",
      " [8] include_string(mapexpr::typeof(REPL.softscope), mod::Module, code::String, filename::String)",
      "   @ Base .\\loading.jl:1428"
     ]
    }
   ],
   "source": [
    "x0 = [.6,.1]  # [.9, .5] # \n",
    "\n",
    "e = eps(Float64)\n",
    "se = sqrt(e)\n",
    "enlsipTwoeq6 = enlsip(x0,resTwoeq6,consTwoeq6,n,m,nb_eq,nb_constraints,ε_abs = e, ε_rel = se, ε_x = se, ε_c = se)"
   ]
  },
  {
   "cell_type": "markdown",
   "id": "ee2b59b3",
   "metadata": {},
   "source": [
    "## Résolution avec Ipopt "
   ]
  },
  {
   "cell_type": "code",
   "execution_count": 20,
   "id": "8d9ad524",
   "metadata": {
    "scrolled": true
   },
   "outputs": [
    {
     "name": "stdout",
     "output_type": "stream",
     "text": [
      "This is Ipopt version 3.14.4, running with linear solver MUMPS 5.4.1.\n",
      "\n",
      "Number of nonzeros in equality constraint Jacobian...:        0\n",
      "Number of nonzeros in inequality constraint Jacobian.:        0\n",
      "Number of nonzeros in Lagrangian Hessian.............:        3\n",
      "\n",
      "Total number of variables............................:        2\n",
      "                     variables with only lower bounds:        1\n",
      "                variables with lower and upper bounds:        1\n",
      "                     variables with only upper bounds:        0\n",
      "Total number of equality constraints.................:        0\n",
      "Total number of inequality constraints...............:        0\n",
      "        inequality constraints with only lower bounds:        0\n",
      "   inequality constraints with lower and upper bounds:        0\n",
      "        inequality constraints with only upper bounds:        0\n",
      "\n",
      "iter    objective    inf_pr   inf_du lg(mu)  ||d||  lg(rg) alpha_du alpha_pr  ls\n",
      "   0  6.8090780e+02 0.00e+00 1.00e+02  -1.0 0.00e+00    -  0.00e+00 0.00e+00   0\n",
      "   1  4.3335846e+02 0.00e+00 4.55e+01  -1.0 5.34e-02   2.0 1.00e+00 1.00e+00f  1\n",
      "   2  2.0998475e+02 0.00e+00 1.90e+01  -1.0 1.82e-01   1.5 1.00e+00 1.00e+00f  1\n",
      "   3  1.1008758e+02 0.00e+00 9.50e+00  -1.0 7.15e-02   1.9 1.00e+00 1.00e+00f  1\n",
      "   4  5.2069059e+01 0.00e+00 7.66e+00  -1.0 5.23e-01   1.5 1.00e+00 1.82e-01f  2\n",
      "   5  1.3567638e+01 0.00e+00 6.33e+00  -1.0 1.19e-01   1.9 1.00e+00 4.06e-01f  2\n",
      "   6  4.0568151e-01 0.00e+00 2.74e+00  -1.0 6.06e-02   1.4 1.00e+00 4.01e-01f  2\n",
      "   7  1.2118923e-01 0.00e+00 9.36e-01  -1.0 1.14e-01    -  8.90e-01 1.00e+00f  1\n",
      "   8  9.2452786e-02 0.00e+00 1.63e-01  -1.7 1.33e-01    -  8.75e-01 1.00e+00f  1\n",
      "   9  8.1640888e-03 0.00e+00 7.02e-03  -2.5 1.72e-02    -  1.00e+00 1.00e+00f  1\n",
      "iter    objective    inf_pr   inf_du lg(mu)  ||d||  lg(rg) alpha_du alpha_pr  ls\n",
      "  10  7.1225738e-03 0.00e+00 2.04e-03  -3.8 5.93e-03    -  1.00e+00 1.00e+00f  1\n",
      "  11  4.6814945e-03 0.00e+00 1.10e-02  -3.8 5.14e-02    -  1.00e+00 1.00e+00f  1\n",
      "  12  4.5548891e-03 0.00e+00 1.33e-04  -3.8 2.66e-03    -  1.00e+00 1.00e+00f  1\n",
      "  13  3.8514185e-03 0.00e+00 1.75e-01  -5.7 1.06e-01    -  8.47e-01 1.00e+00f  1\n",
      "  14  6.7483490e-04 0.00e+00 2.76e-02  -5.7 2.75e-02    -  1.00e+00 1.00e+00f  1\n",
      "  15  6.2011650e-04 0.00e+00 3.90e-04  -5.7 5.17e-05   0.9 1.00e+00 1.00e+00f  1\n",
      "  16  4.9125357e-04 0.00e+00 8.43e-02  -5.7 7.37e-02    -  1.00e+00 5.00e-01f  2\n",
      "  17  1.0126396e-04 0.00e+00 3.06e-03  -5.7 8.24e-03    -  1.00e+00 1.00e+00f  1\n",
      "  18  4.5699535e-05 0.00e+00 2.48e-02  -5.7 3.03e-02    -  1.00e+00 5.00e-01f  2\n",
      "  19  1.4437686e-05 0.00e+00 3.75e-04  -5.7 3.49e-03    -  1.00e+00 1.00e+00f  1\n",
      "iter    objective    inf_pr   inf_du lg(mu)  ||d||  lg(rg) alpha_du alpha_pr  ls\n",
      "  20  5.0121583e-06 0.00e+00 3.37e-03  -5.7 4.84e-03    -  1.00e+00 1.00e+00f  1\n",
      "  21  4.5336150e-06 0.00e+00 2.84e-06  -5.7 1.02e-04    -  1.00e+00 1.00e+00f  1\n",
      "  22  1.0612419e-06 0.00e+00 6.16e-03  -8.6 6.08e-03    -  9.93e-01 1.00e+00f  1\n",
      "  23  9.2217914e-11 0.00e+00 8.89e-06  -8.6 1.71e-04    -  1.00e+00 1.00e+00f  1\n",
      "  24  8.9073277e-12 0.00e+00 6.59e-08  -8.6 1.91e-05    -  1.00e+00 1.00e+00f  1\n",
      "  25  8.9374638e-12 0.00e+00 8.67e-14  -8.6 1.47e-08    -  1.00e+00 1.00e+00f  1\n",
      "\n",
      "Number of Iterations....: 25\n",
      "\n",
      "                                   (scaled)                 (unscaled)\n",
      "Objective...............:   1.1418652499467213e-13    8.9374637710660493e-12\n",
      "Dual infeasibility......:   8.6730280368586486e-14    6.7884431957694715e-12\n",
      "Constraint violation....:   0.0000000000000000e+00    0.0000000000000000e+00\n",
      "Variable bound violation:   0.0000000000000000e+00    0.0000000000000000e+00\n",
      "Complementarity.........:   2.5059035596800547e-09    1.9613892514437182e-07\n",
      "Overall NLP error.......:   2.5059035596800547e-09    1.9613892514437182e-07\n",
      "\n",
      "\n",
      "Number of objective function evaluations             = 51\n",
      "Number of objective gradient evaluations             = 26\n",
      "Number of equality constraint evaluations            = 0\n",
      "Number of inequality constraint evaluations          = 0\n",
      "Number of equality constraint Jacobian evaluations   = 0\n",
      "Number of inequality constraint Jacobian evaluations = 0\n",
      "Number of Lagrangian Hessian evaluations             = 25\n",
      "Total seconds in IPOPT                               = 0.016\n",
      "\n",
      "EXIT: Optimal Solution Found.\n"
     ]
    },
    {
     "data": {
      "text/plain": [
       "2-element Vector{Float64}:\n",
       " 0.7573874485755303\n",
       " 0.021303286329152085"
      ]
     },
     "execution_count": 20,
     "metadata": {},
     "output_type": "execute_result"
    }
   ],
   "source": [
    "x_low = [.0001, .0001]\n",
    "x_up = [0.9999, Inf]\n",
    "\n",
    "# x0 = [.6,.1]   \n",
    "x0 = [.9, .5] \n",
    "\n",
    "model = Model(Ipopt.Optimizer)\n",
    "\n",
    "@variable(model, x_low[i] <= x[i=1:n] <= x_up[i], start = x0[i])\n",
    "\n",
    "@NLobjective(model, Min, (x[1]/(1-x[1]) - 5*log(0.4*(1-x[1])/x[2]) + 4.45977)^2 + (x[2] - 0.4 + x[1]/2)^2)\n",
    "\n",
    "optimize!(model)\n",
    "\n",
    "value.(model[:x])"
   ]
  }
 ],
 "metadata": {
  "kernelspec": {
   "display_name": "Julia 1.8.2",
   "language": "julia",
   "name": "julia-1.8"
  },
  "language_info": {
   "file_extension": ".jl",
   "mimetype": "application/julia",
   "name": "julia",
   "version": "1.8.2"
  }
 },
 "nbformat": 4,
 "nbformat_minor": 5
}
