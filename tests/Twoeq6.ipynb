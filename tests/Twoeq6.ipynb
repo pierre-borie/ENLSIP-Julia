{
 "cells": [
  {
   "cell_type": "markdown",
   "id": "ff71a3d0",
   "metadata": {},
   "source": [
    "# Problème TwoEq6"
   ]
  },
  {
   "cell_type": "code",
   "execution_count": null,
   "id": "597ec727",
   "metadata": {},
   "outputs": [],
   "source": [
    "using ForwardDiff, JuMP, Ipopt"
   ]
  },
  {
   "cell_type": "code",
   "execution_count": null,
   "id": "d8f4ec6a",
   "metadata": {},
   "outputs": [],
   "source": [
    "include(\"../src/enlsip_functions_castor2.jl\")"
   ]
  },
  {
   "cell_type": "code",
   "execution_count": null,
   "id": "9cad199e",
   "metadata": {},
   "outputs": [],
   "source": [
    "n = 2\n",
    "m = 2\n",
    "nb_eq = 0\n",
    "nb_constraints = 2"
   ]
  },
  {
   "cell_type": "code",
   "execution_count": null,
   "id": "365dd9aa",
   "metadata": {},
   "outputs": [],
   "source": [
    "# Résidus\n",
    "\n",
    "function r(x::Vector)\n",
    "    return [x[1]/(1-x[1]) - 5*log(0.4*(1-x[1])/x[2]) + 4.45977;\n",
    "        x[2] - 0.4 + x[1]/2]\n",
    "end\n",
    "resTwoeq6 = ResidualsEval(0)\n",
    "\n",
    "function (resTwoeq6::ResidualsEval)(x::Vector, rx::Vector, J::Matrix)\n",
    "    \n",
    "    if resTwoeq6 == 1\n",
    "        rx[:] = [x[1]/(1-x[1]) - 5*log(0.4*(1-x[1])/x[2]) + 4.45977;\n",
    "        x[2] - 0.4 + x[1]/2]\n",
    "        \n",
    "    elseif resTwoeq6 == 2\n",
    "        J[:] = ForwardDiff.jacobian(r,x)\n",
    "    end\n",
    "    return\n",
    "end"
   ]
  },
  {
   "cell_type": "code",
   "execution_count": null,
   "id": "6f987bc3",
   "metadata": {},
   "outputs": [],
   "source": [
    "# Contraintes \n",
    "\n",
    "function c(x::Vector)\n",
    "    return [x[1] - 0.0001; x[2] - 0.0001]\n",
    "end\n",
    "\n",
    "consTwoeq6 = ConstraintsEval(0)\n",
    "\n",
    "function(consTwoeq6::ConstraintsEval)(x::Vector, cx::Vector, A::Matrix)\n",
    "    \n",
    "    if consTwoeq6.ctrl == 1\n",
    "        cx[:] =  [x[1] - 0.0001; x[2] - 0.0001]\n",
    "    elseif consTwoeq6.ctrl == 2\n",
    "        A[:] = ForwardDiff.jacobian(c,x)\n",
    "    end\n",
    "    return\n",
    "end"
   ]
  },
  {
   "cell_type": "markdown",
   "id": "526d21fe",
   "metadata": {},
   "source": [
    "## Résolution avec ENLSIP-Julia"
   ]
  },
  {
   "cell_type": "code",
   "execution_count": null,
   "id": "1c70197b",
   "metadata": {
    "scrolled": true
   },
   "outputs": [],
   "source": [
    "x0 = [.6,.1]  # [.9, .5] # \n",
    "\n",
    "e = eps(Float64)\n",
    "se = sqrt(e)\n",
    "enlsipTwoeq6 = enlsip(x0,resTwoeq6,consTwoeq6,n,m,nb_eq,nb_constraints,ε_abs = e, ε_rel = se, ε_x = se, ε_c = se)"
   ]
  },
  {
   "cell_type": "markdown",
   "id": "ee2b59b3",
   "metadata": {},
   "source": [
    "## Résolution avec Ipopt "
   ]
  },
  {
   "cell_type": "code",
   "execution_count": null,
   "id": "8d9ad524",
   "metadata": {
    "scrolled": true
   },
   "outputs": [],
   "source": [
    "x_low = [.0001, .0001]\n",
    "x_up = [0.9999, Inf]\n",
    "\n",
    "# x0 = [.6,.1]   \n",
    "x0 = [.9, .5] \n",
    "\n",
    "model = Model(Ipopt.Optimizer)\n",
    "\n",
    "@variable(model, x_low[i] <= x[i=1:n] <= x_up[i], start = x0[i])\n",
    "\n",
    "@NLobjective(model, Min, (x[1]/(1-x[1]) - 5*log(0.4*(1-x[1])/x[2]) + 4.45977)^2 + (x[2] - 0.4 + x[1]/2)^2)\n",
    "\n",
    "optimize!(model)\n",
    "\n",
    "value.(model[:x])"
   ]
  }
 ],
 "metadata": {
  "kernelspec": {
   "display_name": "Julia 1.8.2",
   "language": "julia",
   "name": "julia-1.8"
  },
  "language_info": {
   "file_extension": ".jl",
   "mimetype": "application/julia",
   "name": "julia",
   "version": "1.8.2"
  }
 },
 "nbformat": 4,
 "nbformat_minor": 5
}
