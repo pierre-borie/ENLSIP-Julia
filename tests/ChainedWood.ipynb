{
 "cells": [
  {
   "cell_type": "markdown",
   "metadata": {},
   "source": [
    "# Chained Wood function with Broyden banded constraints\n",
    "\n",
    "\n",
    "$$\\left\\{  \n",
    "\\begin{array}{lll} \n",
    "\\min_x F(x) \\\\ \n",
    "\\text{s.c.}\\\\\n",
    " c_k(x)=0 \\quad \\text{ pour } 1\\leq k \\leq n-7\n",
    "\\end{array} \\right.$$\n",
    "\n",
    "$$F(x)=\\sum_{i=1}^{n/2} \\left[ 100(x_{2i-1}^2-x_{2i})^2 + (x_{2i-1}-1)^2+  90(x_{2i+1}^2-x_{2i+2})^2 + (x_{2i+1}-1)^2 + 10(x_{2i}+x_{2i+2}-2)^2 + (x_{2i}-x_{2i+2})^2/10\\right]$$\n",
    "\n",
    "$$c_k(x) = (2+x_{k+5}^2)x_{k+5}+1 + \\sum_{i=k-5}^{k+1}x_i(1+x_i)$$"
   ]
  },
  {
   "cell_type": "code",
   "execution_count": null,
   "metadata": {},
   "outputs": [],
   "source": [
    "using BenchmarkTools, ForwardDiff, Distributions, JuMP, Ipopt"
   ]
  },
  {
   "cell_type": "code",
   "execution_count": null,
   "metadata": {},
   "outputs": [],
   "source": [
    "include(\"../src/enlsip_functions_castor2.jl\")"
   ]
  },
  {
   "cell_type": "code",
   "execution_count": null,
   "metadata": {},
   "outputs": [],
   "source": [
    "n = 20 # 1000 20, needs to be >= 8\n",
    "m = 6 * (div(n,2)-1)\n",
    "nb_eq = n-7\n",
    "nb_constraints = nb_eq"
   ]
  },
  {
   "cell_type": "code",
   "execution_count": null,
   "metadata": {},
   "outputs": [],
   "source": [
    "# Residuals\n",
    "\n",
    "function r(x::Vector)\n",
    "    n = length(x)\n",
    "    N = div(n,2) - 1\n",
    "    s = √(10)\n",
    "    \n",
    "    rx1 = [10(x[2i-1]^2 - x[2i]) for i=1:N]\n",
    "    rx2 = [x[2i-1] - 1 for i=1:N]\n",
    "    rx3 = [3s*(x[2i+1]^2 - x[2i+2]) for i=1:N]\n",
    "    rx4 = [x[2i+1]-1 for i=1:N]\n",
    "    rx5 = [s*(x[2i] + x[2i+2] - 2) for i=1:N]\n",
    "    rx6 = [(x[2i] - x[2i+2])*(1/s) for i=1:N]\n",
    "    \n",
    "    return [rx1;rx2;rx3;rx4;rx5;rx6]\n",
    "end\n",
    "\n",
    "resCW = ResidualsEval(0)\n",
    "\n",
    "function (resCW::ResidualsEval)(x::Vector, rx::Vector, J::Matrix)\n",
    "\n",
    "    # Evaluate the residuals\n",
    "    if abs(resCW.ctrl) == 1\n",
    "        rx[:] = r(x)\n",
    "\n",
    "    # The jacobian is computed analytically\n",
    "    elseif resCW.ctrl == 2\n",
    "        J[:] = ForwardDiff.jacobian(r,x)\n",
    "    end\n",
    "    return\n",
    "end"
   ]
  },
  {
   "cell_type": "code",
   "execution_count": null,
   "metadata": {},
   "outputs": [],
   "source": [
    "function c(x::Vector)\n",
    "    n = length(x)\n",
    "    cx = [(2+5x[k+5]^2)*x[k+5] + 1 + sum(x[i]*(1+x[i]) for i=max(k-5,1):k+1) for k=1:n-7]\n",
    "    return cx\n",
    "end\n",
    "    \n",
    "consCW = ConstraintsEval(0)\n",
    "\n",
    "function (consCW::ConstraintsEval)(x::Vector, cx::Vector, A::Matrix)\n",
    "\n",
    "    # Evaluate the constraints\n",
    "    if abs(consCW.ctrl) == 1\n",
    "        cx[:] = c(x)\n",
    "    # The jacobian is computed numerically if ctrl is set to 0 on return\n",
    "    elseif consCW.ctrl == 2\n",
    "        A[:] = ForwardDiff.jacobian(c,x)\n",
    "    end\n",
    "    return\n",
    "end"
   ]
  },
  {
   "cell_type": "code",
   "execution_count": null,
   "metadata": {
    "scrolled": true
   },
   "outputs": [],
   "source": [
    "include(\"../src/enlsip_functions_castor2.jl\")\n",
    "\n",
    "x0 = [(mod(i,2) == 1 ? -2. : 1.) for i=1:n]\n",
    "# x0 = -.5*ones(n)\n",
    "# x0 = rand(n)\n",
    "enlsipCW = enlsip(x0,resCW,consCW,n,m,nb_eq,nb_constraints)\n",
    "x_julia = enlsipCW.sol"
   ]
  },
  {
   "cell_type": "markdown",
   "metadata": {},
   "source": [
    "## Résolution avec Ipopt"
   ]
  },
  {
   "cell_type": "code",
   "execution_count": null,
   "metadata": {
    "scrolled": true
   },
   "outputs": [],
   "source": [
    "x0 = [(mod(i,2) == 1 ? -2.0 : 1.0) for i=1:n] #* 1.05\n",
    "N = div(n,2) - 1\n",
    "\n",
    "model = Model(Ipopt.Optimizer)\n",
    "@variable(model, x[i=1:n], start = x0[i])\n",
    "\n",
    "for k=1:n-7\n",
    "    @NLconstraint(model, (2+5x[k+5]^2)*x[k+5] + 1 + sum(x[i]*(1+x[i]) for i=max(k-5,1):k+1) == 0)\n",
    "end\n",
    "\n",
    "@NLobjective(model, Min, sum(100(x[2i-1]^2 - x[2i])^2 + (x[2i-1]-1)^2 + 90*(x[2i+1]^2-x[2i+2])^2 + \n",
    "        (x[2i+1]-1)^2 + 10*(x[2i]+x[2i+1]-2)^2 + (1/10)*(x[2i] - x[2i+2])^2 for i=1:N))\n",
    "\n",
    "JuMP.optimize!(model)\n",
    "x_ipopt = value.(model[:x])"
   ]
  },
  {
   "cell_type": "code",
   "execution_count": null,
   "metadata": {},
   "outputs": [],
   "source": [
    "# Solution Enlsip-Julia avec solution ipopt en point de départ\n",
    "\n",
    "enlsipCW = enlsip(x_ipopt,resCW,consCW,n,m,nb_eq,nb_constraints)\n",
    "x_julia_doped = enlsip.CW.sol "
   ]
  },
  {
   "cell_type": "markdown",
   "metadata": {},
   "source": [
    "## Solution ENLSIP-Fortran"
   ]
  },
  {
   "cell_type": "code",
   "execution_count": null,
   "metadata": {
    "scrolled": true
   },
   "outputs": [],
   "source": [
    "x_fortran = vec([ -0.32400972154965557 -0.11241914579121411 -0.36084158184805698 0.11241481217194124 -8.5535381647864075E-002 -0.28358212095924523 -0.20403792796606549 -0.24913846278393031 -0.22151483408926775 -0.14021517868460462 -6.5210223599222211E-002 -8.0575250433167739E-002 -4.5317994168056493E-002 -9.8225879658166773E-002 -7.5902345104595466E-003 -9.6575547086696287E-003 -8.7910872447834701E-002 -0.12198573228729126 -1.4162735124366688 2.0153088741929333 ]);"
   ]
  },
  {
   "cell_type": "markdown",
   "metadata": {},
   "source": [
    "## Visualisation"
   ]
  },
  {
   "cell_type": "code",
   "execution_count": null,
   "metadata": {},
   "outputs": [],
   "source": [
    "x0 = [(mod(i,2) == 1 ? -2. : 1.) for i=1:n]\n",
    "enlsipCW = enlsip(x0,resCW,consCW,n,m,nb_eq,nb_constraints)\n",
    "\n",
    "str_to_array = (str::String, T::DataType=Float64) -> parse.(T, split(chop(str; head=1, tail=1), ','))\n",
    "\n",
    "df = DataFrame(CSV.File(\"iterates.csv\", delim=\";\"));"
   ]
  },
  {
   "cell_type": "code",
   "execution_count": null,
   "metadata": {},
   "outputs": [],
   "source": [
    "# Calcul du point le plus éloigné de la droite entre le point de départ et la solution\n",
    "\n",
    "\n",
    "x_0 = str_to_array(first(df[!,:x]))\n",
    "x_N = str_to_array(last(df[!,:x]))\n",
    "xNmx0 = x_N - x_0\n",
    "nrm_xNmx0 = norm(xNmx0)\n",
    "\n",
    "dist = 0\n",
    "x_loin = x_0\n",
    "x_loin_proj = x_0\n",
    "\n",
    "# println(\"||xN-x0|| = $nrm_xNmx0\")\n",
    "\n",
    "for str_x ∈ df[!,:x]\n",
    "    x = str_to_array(str_x)\n",
    "#     println(\"\\n\\ncoeff :\",(dot(x-x_0,xNmx0) / nrm_xNmx0),\" pour x = $x\")\n",
    "    x_proj = (dot(x-x_0,xNmx0) / dot(xNmx0,xNmx0)) * xNmx0 + x_0\n",
    "#     println(x_proj)\n",
    "#     println(dot(x-x_proj,xNmx0))\n",
    "    dist_proj = norm(x-x_proj)\n",
    "    if dist_proj > dist\n",
    "        dist = dist_proj\n",
    "        x_loin = x\n",
    "        x_loin_proj = x_proj\n",
    "    end\n",
    "end"
   ]
  },
  {
   "cell_type": "code",
   "execution_count": null,
   "metadata": {},
   "outputs": [],
   "source": [
    "using Plots; plotlyjs()"
   ]
  },
  {
   "cell_type": "code",
   "execution_count": null,
   "metadata": {},
   "outputs": [],
   "source": [
    "\n",
    "# Square sum of residuals\n",
    "\n",
    "function ssr(x::Vector)\n",
    "    rx = r(x)\n",
    "    return dot(rx,rx)\n",
    "end\n",
    "\n",
    "function ssc(x::Vector)\n",
    "    cx = c(x) \n",
    "    return min(dot(cx,cx),2e4)\n",
    "end\n",
    "\n",
    "# Rays of the cone {λd + μd̄ | (λ,μ) ∈ [0,ρ]²}\n",
    "\n",
    "d = x_N - x_0 # x_loin - (3x_0-x_N)/2\n",
    "d̄ = x_loin - x_loin_proj\n",
    "ρ = 2*nrm_xNmx0 #  norm(xNmx0*3/2)\n",
    "\n",
    "λ_inf = -.5 #-.5 \n",
    "λ_sup = 1.5 #1.5\n",
    "μ_inf = -1. #-.5\n",
    "μ_sup = 1. #1.5\n",
    "\n",
    "scal_d = range(λ_inf,λ_sup,500)\n",
    "scal_d̄ = range(μ_inf,μ_sup,500)\n",
    "\n",
    "C =  [x_0 + λ*d + μ*d̄ for μ ∈ scal_d̄, λ ∈ scal_d]\n",
    "\n",
    "z = ((ssr).(C))\n",
    "cz = (ssc).(C)\n",
    "# @show extrema(z)\n",
    "\n",
    "\n",
    "# Projection des itérés\n",
    "iterates = str_to_array.(df[!,:x])\n",
    "λ_iterates = [dot(x-x_0,xNmx0) * (1/dot(xNmx0,xNmx0)) for x ∈ iterates]\n",
    "μ_iterates = [dot(x-x_0,d̄) * (1/dot(d̄,d̄)) for x ∈ iterates]\n",
    "residuals_iterates = ssr.(iterates) \n",
    "N = length(iterates)\n",
    "\n",
    "# Plot de la surface\n",
    "\n",
    "# scatter3d!([1],[0],[enlsipOsborne2.obj_value],markershape=:diamond)\n",
    "\n",
    "scatter3d(λ_iterates, μ_iterates, residuals_iterates, mz=range(1,N),mc=:blues,colorbar=:none)\n",
    "plot!(λ_iterates, μ_iterates, residuals_iterates, mz=range(1,N),lw=3,lc=:green,colorbar=:none)\n",
    "surface!(scal_d,scal_d̄, z, xlabel=\"λ\", ylabel=\"μ\", zlabel=\"Résidus\", fz = cz, fc = :acton,\n",
    "    xlims=(λ_inf,λ_sup), ylims=(μ_inf,μ_sup),zlims=(0,2e4), colorbar=:best)"
   ]
  },
  {
   "cell_type": "code",
   "execution_count": null,
   "metadata": {},
   "outputs": [],
   "source": [
    "# Square sum of residuals\n",
    "\n",
    "function ssr(x::Vector)\n",
    "    rx = r(x)\n",
    "#     return min(10,dot(rx,rx))\n",
    "    return dot(rx,rx)\n",
    "end\n",
    "\n",
    "res_line = t -> ssr(t*x_julia+(1-t)*x_ipopt)\n",
    "\n",
    "t = range(0,1,100)\n",
    "\n",
    "plot(t,res_line.(t))"
   ]
  },
  {
   "cell_type": "code",
   "execution_count": null,
   "metadata": {
    "scrolled": false
   },
   "outputs": [],
   "source": [
    "# Square sum of residuals\n",
    "\n",
    "function ssr(x::Vector)\n",
    "    rx = r(x)\n",
    "#     return min(10,dot(rx,rx))\n",
    "    return dot(rx,rx)\n",
    "end\n",
    "\n",
    "function ssc(x::Vector)\n",
    "    cx = c(x) \n",
    "    return dot(cx,cx)\n",
    "end\n",
    "\n",
    "# Rays of the cone {λd + μd̄ | (λ,μ) ∈ [0,ρ]²}\n",
    "\n",
    "d = x_julia_ipopt - x_ipopt \n",
    "d̄ = x_julia - x_ipopt\n",
    "ρ = 2*norm(x_julia - x_ipopt) #  norm(xNmx0*3/2)\n",
    "\n",
    "λ_inf = -1. #-.5 \n",
    "λ_sup = 2. #1.5\n",
    "μ_inf = -1. #-.5\n",
    "μ_sup = 2. #1.5\n",
    "\n",
    "scal_d = range(λ_inf,λ_sup,100)\n",
    "scal_d̄ = range(μ_inf,μ_sup,100)\n",
    "\n",
    "C =  [x_ipopt + λ*d + μ*d̄ for μ ∈ scal_d̄, λ ∈ scal_d]\n",
    "\n",
    "z = ((ssr).(C))\n",
    "cz = (ssc).(C)\n",
    "# cz = (ssc).(C)\n",
    "# @show extrema(z)\n",
    "\n",
    "\n",
    "# Projection des itérés\n",
    "# iterates = str_to_array.(df[!,:x])\n",
    "# λ_iterates = [dot(x-x_0,xNmx0) * (1/dot(xNmx0,xNmx0)) for x ∈ iterates]\n",
    "# μ_iterates = [dot(x-x_0,d̄) * (1/dot(d̄,d̄)) for x ∈ iterates]\n",
    "# residuals_iterates = ssr.(iterates) \n",
    "# N = length(iterates)\n",
    "\n",
    "# Plot de la surface\n",
    "\n",
    "# scatter3d!([1],[0],[enlsipOsborne2.obj_value],markershape=:diamond)\n",
    "\n",
    "surface(scal_d,scal_d̄, cz,zlims=(0,0.1))"
   ]
  },
  {
   "cell_type": "code",
   "execution_count": null,
   "metadata": {
    "scrolled": false
   },
   "outputs": [],
   "source": [
    "# Square sum of residuals\n",
    "\n",
    "function ssr(x::Vector)\n",
    "    rx = r(x)\n",
    "#     return min(10,dot(rx,rx))\n",
    "    return dot(rx,rx)\n",
    "end\n",
    "\n",
    "function ssc(x::Vector)\n",
    "    cx = c(x) \n",
    "    return dot(cx,cx)\n",
    "end\n",
    "\n",
    "# Rays of the cone {λd + μd̄ | (λ,μ) ∈ [0,ρ]²}\n",
    "\n",
    "d = x_julia_ipopt - x_ipopt \n",
    "d̄ = x_julia - x_ipopt\n",
    "ρ = 2*norm(x_julia - x_ipopt) #  norm(xNmx0*3/2)\n",
    "\n",
    "λ_inf = -1. #-.5 \n",
    "λ_sup = 2. #1.5\n",
    "μ_inf = -1. #-.5\n",
    "μ_sup = 2. #1.5\n",
    "\n",
    "scal_d = range(λ_inf,λ_sup,100)\n",
    "scal_d̄ = range(μ_inf,μ_sup,100)\n",
    "\n",
    "C =  [x_ipopt + λ*d + μ*d̄ for μ ∈ scal_d̄, λ ∈ scal_d]\n",
    "\n",
    "z = ((ssr).(C))\n",
    "cz = (ssc).(C)\n",
    "# cz = (ssc).(C)\n",
    "# @show extrema(z)\n",
    "\n",
    "\n",
    "# Projection des itérés\n",
    "# iterates = str_to_array.(df[!,:x])\n",
    "# λ_iterates = [dot(x-x_0,xNmx0) * (1/dot(xNmx0,xNmx0)) for x ∈ iterates]\n",
    "# μ_iterates = [dot(x-x_0,d̄) * (1/dot(d̄,d̄)) for x ∈ iterates]\n",
    "# residuals_iterates = ssr.(iterates) \n",
    "# N = length(iterates)\n",
    "\n",
    "# Plot de la surface\n",
    "\n",
    "# scatter3d!([1],[0],[enlsipOsborne2.obj_value],markershape=:diamond)\n",
    "\n",
    "surface(scal_d,scal_d̄, z,zlims = (400,1000))"
   ]
  }
 ],
 "metadata": {
  "kernelspec": {
   "display_name": "Julia 1.8.2",
   "language": "julia",
   "name": "julia-1.8"
  },
  "language_info": {
   "file_extension": ".jl",
   "mimetype": "application/julia",
   "name": "julia",
   "version": "1.8.2"
  }
 },
 "nbformat": 4,
 "nbformat_minor": 4
}
