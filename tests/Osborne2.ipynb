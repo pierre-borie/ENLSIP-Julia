{
   "cells": [
    {
     "cell_type": "markdown",
     "metadata": {},
     "source": [
      "# Résolution problème Osborne 2"
     ]
    },
    {
     "cell_type": "code",
     "execution_count": null,
     "metadata": {},
     "outputs": [],
     "source": [
      "using BenchmarkTools, ForwardDiff, Distributions"
     ]
    },
    {
     "cell_type": "code",
     "execution_count": null,
     "metadata": {},
     "outputs": [],
     "source": [
      "include(\"../src/enlsip_functions_castor2.jl\")"
     ]
    },
    {
     "cell_type": "code",
     "execution_count": null,
     "metadata": {},
     "outputs": [],
     "source": [
      "n = 11\n",
      "m = 65 \n",
      "nb_eq = 0\n",
      "nb_constraints = 22"
     ]
    },
    {
     "cell_type": "code",
     "execution_count": null,
     "metadata": {
      "scrolled": true
     },
     "outputs": [],
     "source": [
      "# DataPoints\n",
      "\n",
      "dataset = [1 0.0 1.366 ;\n",
      "2 0.1 1.191 ;\n",
      "3 0.2 1.112 ;\n",
      "4 0.3 1.013 ;\n",
      "5 0.4 0.991 ;\n",
      "6 0.5 0.885 ;\n",
      "7 0.6 0.831 ;\n",
      "8 0.7 0.847 ;\n",
      "9 0.8 0.786 ;\n",
      "10 0.9 0.725 ;\n",
      "11 1.0 0.746 ;\n",
      "12 1.1 0.679 ;\n",
      "13 1.2 0.608 ;\n",
      "14 1.3 0.655 ;\n",
      "15 1.4 0.616 ;\n",
      "16 1.5 0.606 ;\n",
      "17 1.6 0.602 ;\n",
      "18 1.7 0.626 ;\n",
      "19 1.8 0.651 ;\n",
      "20 1.9 0.724 ;\n",
      "21 2.0 0.649 ;\n",
      "22 2.1 0.649 ;\n",
      "23 2.2 0.694 ;\n",
      "24 2.3 0.644 ;\n",
      "25 2.4 0.624 ;\n",
      "26 2.5 0.661 ;\n",
      "27 2.6 0.612 ;\n",
      "28 2.7 0.558 ;\n",
      "29 2.8 0.533 ;\n",
      "30 2.9 0.495 ;\n",
      "31 3.0 0.500 ;\n",
      "32 3.1 0.423 ;\n",
      "33 3.2 0.395 ;\n",
      "34 3.3 0.375;\n",
      "35 3.4 0.538 ;\n",
      "36 3.5 0.522 ;\n",
      "37 3.6 0.506 ;\n",
      "38 3.7 0.490 ;\n",
      "39 3.8 0.478 ;\n",
      "40 3.9 0.467 ;\n",
      "41 4.0 0.457 ;\n",
      "42 4.1 0.457 ;\n",
      "43 4.2 0.457 ;\n",
      "44 4.3 0.457 ;\n",
      "45 4.4 0.457 ;\n",
      "46 4.5 0.457 ;\n",
      "47 4.6 0.457 ;\n",
      "48 4.7 0.457 ;\n",
      "49 4.8 0.457 ;\n",
      "50 4.9 0.457 ;\n",
      "51 5.0 0.457;\n",
      "52 5.1 0.431 ;\n",
      "53 5.2 0.431 ;\n",
      "54 5.3 0.424 ;\n",
      "55 5.4 0.420 ;\n",
      "56 5.5 0.414 ;\n",
      "57 5.6 0.411 ;\n",
      "58 5.7 0.406 ;\n",
      "59 5.8 0.406 ;\n",
      "60 5.9 0.406 ;\n",
      "61 6.0 0.406 ;\n",
      "62 6.1 0.406 ;\n",
      "63 6.2 0.406 ;\n",
      "64 6.3 0.406 ;\n",
      "65 6.4 0.406]\n",
      "\n",
      "t = dataset[1:m,2]\n",
      "y = dataset[1:m,3]"
     ]
    },
    {
     "cell_type": "code",
     "execution_count": null,
     "metadata": {},
     "outputs": [],
     "source": [
      "function r_k(x::Vector, t::Float64, y::Float64)\n",
      "    rx = x[1]*exp(-x[5]*t) + x[2]*exp(-x[6]*(t-x[9])^2) + x[3]*exp(-x[7]*(t-x[10])^2) + x[4]*exp(-x[8]*(t-x[11])^2)\n",
      "    return y - rx\n",
      "end\n",
      "\n",
      "function r(x::Vector)\n",
      "    return [r_k(x,t[k],y[k]) for k=1:m]\n",
      "end\n",
      "\n",
      "resOsborne2 = ResidualsEval(0)\n",
      "\n",
      "function (resOsborne2::ResidualsEval)(x::Vector, rx::Vector, J::Matrix)\n",
      "\n",
      "    # Evaluate the residuals\n",
      "    if abs(resOsborne2.ctrl) == 1\n",
      "        rx[:] = r(x)\n",
      "\n",
      "    # The jacobian is computed analytically\n",
      "    elseif resOsborne2.ctrl == 2\n",
      "        J[:] = ForwardDiff.jacobian(r,x)\n",
      "    end\n",
      "    return\n",
      "end"
     ]
    },
    {
     "cell_type": "code",
     "execution_count": null,
     "metadata": {},
     "outputs": [],
     "source": [
      "function c(x::Vector)\n",
      "    res = [x[1] - 1.31; 1.4 - x[1];\n",
      "            x[2] - 0.4314 ; 0.8 - x[2];\n",
      "            x[3] - 0.6336; 1.0 - x[3];\n",
      "            x[4] - 0.5; 1.0 - x[4];\n",
      "            x[5] - 0.5; 1.0 - x[5];\n",
      "            x[6] - 0.6; 3.0 - x[6];\n",
      "            x[7] - 1.0; 5.0 - x[7];\n",
      "            x[8] - 4.0; 7.0 - x[8];\n",
      "            x[9] - 2.0; 2.5 - x[9];\n",
      "            x[10] - 4.5689; 5.0 - x[10];\n",
      "            x[11] - 5.0; 6.0 - x[11]]\n",
      "    return res\n",
      "end\n",
      "    \n",
      "consOsborne2 = ConstraintsEval(0)\n",
      "\n",
      "function (consOsborne2::ConstraintsEval)(x::Vector, cx::Vector, A::Matrix)\n",
      "\n",
      "    # Evaluate the constraints\n",
      "    if abs(consOsborne2.ctrl) == 1\n",
      "        cx[:] = c(x)\n",
      "    # The jacobian is computed numerically if ctrl is set to 0 on return\n",
      "    elseif consOsborne2.ctrl == 2\n",
      "        A[:] = ForwardDiff.jacobian(c,x)\n",
      "    end\n",
      "    return\n",
      "end"
     ]
    },
    {
     "cell_type": "code",
     "execution_count": null,
     "metadata": {},
     "outputs": [],
     "source": [
      "function generate_starting_point()\n",
      "    x0 = [rand(Uniform(1.31,1.4));\n",
      "        rand(Uniform(0.4314 , 0.8));\n",
      "        rand(Uniform(0.6336, 1.0));\n",
      "        rand(Uniform(0.5, 1.0));\n",
      "        rand(Uniform(0.5, 1.0));\n",
      "        rand(Uniform(0.6, 3.0));\n",
      "        rand(Uniform(1.0, 5.0));\n",
      "        rand(Uniform(4.0, 7.0));\n",
      "        rand(Uniform(2.0, 2.5));\n",
      "        rand(Uniform(4.5689, 5.0));\n",
      "        rand(Uniform(5.0, 6.0))]\n",
      "    return x0\n",
      "end"
     ]
    },
    {
     "cell_type": "code",
     "execution_count": null,
     "metadata": {},
     "outputs": [],
     "source": [
      "x_saved =  [1.3344098963722457\n",
      " 0.5572842161127423\n",
      " 0.6757364753061974\n",
      " 0.8291980513226953\n",
      " 0.9233565833014519\n",
      " 0.9588470511477797\n",
      " 1.9610314699563896\n",
      " 4.055321823656234\n",
      " 2.048625993866472\n",
      " 4.60296578920499\n",
      " 5.95212572157736]"
     ]
    },
    {
     "cell_type": "code",
     "execution_count": null,
     "metadata": {
      "scrolled": false
     },
     "outputs": [],
     "source": [
      "# ε_abs=1e-10, ε_rel=1e-5, ε_x=1e-3, ε_c=1e-4\n",
      "# x0 = generate_starting_point()\n",
      "x0= x_saved\n",
      "e = eps(Float64)\n",
      "\n",
      "enlsipOsborne2 = enlsip(x0,resOsborne2,consOsborne2,n,m,nb_eq,nb_constraints,verbose=true)"
     ]
    },
    {
     "cell_type": "markdown",
     "metadata": {},
     "source": [
      "## Visualisation"
     ]
    },
    {
     "cell_type": "code",
     "execution_count": null,
     "metadata": {},
     "outputs": [],
     "source": [
      "using Plots"
     ]
    },
    {
     "cell_type": "code",
     "execution_count": null,
     "metadata": {
      "scrolled": true
     },
     "outputs": [],
     "source": [
      "str_to_array = (str::String, T::DataType=Float64) -> parse.(T, split(chop(str; head=1, tail=1), ','))\n",
      "\n",
      "df = DataFrame(CSV.File(\"iterates.csv\", delim=\";\"))"
     ]
    },
    {
     "cell_type": "code",
     "execution_count": null,
     "metadata": {},
     "outputs": [],
     "source": [
      "f = (x::Vector,t::Number) -> x[1]*exp(-x[5]*t) + x[2]*exp(-x[6]*(t-x[9])^2) + x[3]*exp(-x[7]*(t-x[10])^2) + x[4]*exp(-x[8]*(t-x[11])^2)\n",
      "\n",
      "entry = range(0,7.0,1000)\n",
      "anim = @animate for i ∈ df[!,:iter]\n",
      "    scatter(t,y,markershape=:cross, xlabel=\"t\", ylabel=\"y\", legend=:none,ylims=(0,1.5))\n",
      "    x = str_to_array(df[i,:x])\n",
      "    plot!(entry, (t -> f(x,t)).(entry),title=\"Itération $i\")\n",
      "end\n",
      "gif(anim, fps = 2)"
     ]
    },
    {
     "cell_type": "code",
     "execution_count": null,
     "metadata": {},
     "outputs": [],
     "source": [
      "# Calcul du point le plus éloigné de la droite entre le point de départ et la solution\n",
      "\n",
      "\n",
      "x_0 = str_to_array(first(df[!,:x]))\n",
      "x_N = str_to_array(last(df[!,:x]))\n",
      "xNmx0 = x_N - x_0\n",
      "nrm_xNmx0 = norm(xNmx0)\n",
      "\n",
      "dist = 0\n",
      "x_loin = x_0\n",
      "x_loin_proj = x_0\n",
      "\n",
      "# println(\"||xN-x0|| = $nrm_xNmx0\")\n",
      "\n",
      "for str_x ∈ df[!,:x]\n",
      "    x = str_to_array(str_x)\n",
      "#     println(\"\\n\\ncoeff :\",(dot(x-x_0,xNmx0) / nrm_xNmx0),\" pour x = $x\")\n",
      "    x_proj = (dot(x-x_0,xNmx0) / dot(xNmx0,xNmx0)) * xNmx0 + x_0\n",
      "#     println(x_proj)\n",
      "#     println(dot(x-x_proj,xNmx0))\n",
      "    dist_proj = norm(x-x_proj)\n",
      "    if dist_proj > dist\n",
      "        dist = dist_proj\n",
      "        x_loin = x\n",
      "        x_loin_proj = x_proj\n",
      "    end\n",
      "end"
     ]
    },
    {
     "cell_type": "code",
     "execution_count": null,
     "metadata": {
      "scrolled": true
     },
     "outputs": [],
     "source": [
      "using Plots; plotlyjs()"
     ]
    },
    {
     "cell_type": "code",
     "execution_count": null,
     "metadata": {
      "scrolled": false
     },
     "outputs": [],
     "source": [
      "\n",
      "\n",
      "# Square sum of residuals\n",
      "\n",
      "function ssr(x::Vector)\n",
      "    rx = r(x)\n",
      "#     return min(10,dot(rx,rx))\n",
      "    return dot(rx,rx)\n",
      "end\n",
      "\n",
      "function ssc(x::Vector)\n",
      "    cx = c(x) \n",
      "    return dot(cx, (t->min(0,t)).(cx))\n",
      "end\n",
      "\n",
      "# Rays of the cone {λd + μd̄ | (λ,μ) ∈ [0,ρ]²}\n",
      "\n",
      "d = x_N - x_0 # x_loin - (3x_0-x_N)/2\n",
      "d̄ = x_loin - x_loin_proj\n",
      "ρ = 2*nrm_xNmx0 #  norm(xNmx0*3/2)\n",
      "\n",
      "λ_inf = -1. # -1.\n",
      "λ_sup = 3. # 3.\n",
      "μ_inf = -1. # -1.\n",
      "μ_sup = 3. # 3.\n",
      "\n",
      "scal_d = range(λ_inf,λ_sup,1000)\n",
      "scal_d̄ = range(μ_inf,μ_sup,1000)\n",
      "\n",
      "C =  [x_0 + λ*d + μ*d̄ for μ ∈ scal_d̄, λ ∈ scal_d]\n",
      "\n",
      "z = (ssr).(C)\n",
      "cz = (ssc).(C)\n",
      "# @show extrema(z)\n",
      "\n",
      "\n",
      "# Projection des itérés\n",
      "iterates = str_to_array.(df[!,:x])\n",
      "λ_iterates = [dot(x-x_0,xNmx0) * (1/dot(xNmx0,xNmx0)) for x ∈ iterates]\n",
      "μ_iterates = [dot(x-x_0,d̄) * (1/dot(d̄,d̄)) for x ∈ iterates]\n",
      "residuals_iterates = ssr.(iterates) \n",
      "zmax = 2*ceil(maximum(residuals_iterates))\n",
      "N = length(iterates)\n",
      "\n",
      "# Plot de la surface\n",
      "\n",
      "# scatter3d!([1],[0],[enlsipOsborne2.obj_value],markershape=:diamond)\n",
      "\n",
      "scatter3d(λ_iterates, μ_iterates, residuals_iterates, mz=range(1,N),mc=:blues,colorbar=:none)\n",
      "plot!(λ_iterates, μ_iterates, residuals_iterates, mz=range(1,N),lw=3,lc=:green,colorbar=:none)\n",
      "surface!(scal_d,scal_d̄, z, xlabel=\"λ\", ylabel=\"μ\", zlabel=\"Résidus\", fz = cz, fc = :acton,\n",
      "    xlims=(λ_inf,λ_sup), ylims=(μ_inf,μ_sup), zlims=(0,zmax),colorbar=:best)\n",
      "\n",
      "# surface!(scal_d,scal_d̄, cz)\n",
      "\n"
     ]
    },
    {
     "cell_type": "markdown",
     "metadata": {},
     "source": [
      "# Résolution avec Ipopt"
     ]
    },
    {
     "cell_type": "code",
     "execution_count": null,
     "metadata": {},
     "outputs": [],
     "source": [
      "using JuMP, Ipopt"
     ]
    },
    {
     "cell_type": "code",
     "execution_count": null,
     "metadata": {},
     "outputs": [],
     "source": [
      "x_low = [1.31,0.4314,0.6336,0.5,0.5,0.6,1.0,4.0,2.0,4.5689,5.0]\n",
      "x_upp = [1.4,0.8,1.0,1.0,1.0,3.0,5.0,7.0,2.5,5.0,6.0]\n",
      "\n",
      "\n",
      "x_saved =  [1.3344098963722457\n",
      " 0.5572842161127423\n",
      " 0.6757364753061974\n",
      " 0.8291980513226953\n",
      " 0.9233565833014519\n",
      " 0.9588470511477797\n",
      " 1.9610314699563896\n",
      " 4.055321823656234\n",
      " 2.048625993866472\n",
      " 4.60296578920499\n",
      " 5.95212572157736]\n",
      "\n",
      "model = Model(Ipopt.Optimizer)\n",
      "@variable(model,x_low[i] <= x[i=1:n] <= x_upp[i], start = x_saved[i])\n",
      "\n",
      "\n",
      "\n",
      "@NLobjective(model, Min, sum((y[i] - (x[1]*exp(-x[5]*t[i]) + x[2]*exp(-x[6]*(t[i]-x[9])^2) + x[3]*exp(-x[7]*(t[i]-x[10])^2) + \n",
      "            x[4]*exp(-x[8]*(t[i]-x[11])^2)))^2 for i=1:m))\n",
      "\n",
      "JuMP.optimize!(model)"
     ]
    }
   ],
   "metadata": {
    "kernelspec": {
     "display_name": "Julia 1.8.2",
     "language": "julia",
     "name": "julia-1.8"
    },
    "language_info": {
     "file_extension": ".jl",
     "mimetype": "application/julia",
     "name": "julia",
     "version": "1.8.2"
    }
   },
   "nbformat": 4,
   "nbformat_minor": 4
  }
  