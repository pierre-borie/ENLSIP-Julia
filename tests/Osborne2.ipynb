{
 "cells": [
  {
   "cell_type": "markdown",
   "metadata": {},
   "source": [
    "# Résolution problème Osborne 2"
   ]
  },
  {
   "cell_type": "code",
   "execution_count": 19,
   "metadata": {},
   "outputs": [],
   "source": [
    "using BenchmarkTools, ForwardDiff, Distributions"
   ]
  },
  {
   "cell_type": "code",
   "execution_count": 31,
   "metadata": {},
   "outputs": [
    {
     "data": {
      "text/plain": [
       "enlsip"
      ]
     },
     "execution_count": 31,
     "metadata": {},
     "output_type": "execute_result"
    }
   ],
   "source": [
    "include(\"../src/enlsip_functions_castor2.jl\")"
   ]
  },
  {
   "cell_type": "code",
   "execution_count": 11,
   "metadata": {},
   "outputs": [
    {
     "data": {
      "text/plain": [
       "22"
      ]
     },
     "execution_count": 11,
     "metadata": {},
     "output_type": "execute_result"
    }
   ],
   "source": [
    "n = 11\n",
    "m = 65 \n",
    "nb_eq = 0\n",
    "nb_constraints = 22"
   ]
  },
  {
   "cell_type": "code",
   "execution_count": 9,
   "metadata": {},
   "outputs": [
    {
     "data": {
      "text/plain": [
       "2×3 Matrix{Float64}:\n",
       " 1.0  0.0  1.366\n",
       " 2.0  0.1  1.191"
      ]
     },
     "execution_count": 9,
     "metadata": {},
     "output_type": "execute_result"
    }
   ],
   "source": [
    "T = [1 0.0 1.366; \n",
    "2 0.1 1.191 ]\n",
    "\n"
   ]
  },
  {
   "cell_type": "code",
   "execution_count": 14,
   "metadata": {},
   "outputs": [
    {
     "data": {
      "text/plain": [
       "65-element Vector{Float64}:\n",
       " 1.366\n",
       " 1.191\n",
       " 1.112\n",
       " 1.013\n",
       " 0.991\n",
       " 0.885\n",
       " 0.831\n",
       " 0.847\n",
       " 0.786\n",
       " 0.725\n",
       " 0.746\n",
       " 0.679\n",
       " 0.608\n",
       " ⋮\n",
       " 0.424\n",
       " 0.42\n",
       " 0.414\n",
       " 0.411\n",
       " 0.406\n",
       " 0.406\n",
       " 0.406\n",
       " 0.406\n",
       " 0.406\n",
       " 0.406\n",
       " 0.406\n",
       " 0.406"
      ]
     },
     "execution_count": 14,
     "metadata": {},
     "output_type": "execute_result"
    }
   ],
   "source": [
    "# DataPoints\n",
    "\n",
    "dataset = [1 0.0 1.366 ;\n",
    "2 0.1 1.191 ;\n",
    "3 0.2 1.112 ;\n",
    "4 0.3 1.013 ;\n",
    "5 0.4 0.991 ;\n",
    "6 0.5 0.885 ;\n",
    "7 0.6 0.831 ;\n",
    "8 0.7 0.847 ;\n",
    "9 0.8 0.786 ;\n",
    "10 0.9 0.725 ;\n",
    "11 1.0 0.746 ;\n",
    "12 1.1 0.679 ;\n",
    "13 1.2 0.608 ;\n",
    "14 1.3 0.655 ;\n",
    "15 1.4 0.616 ;\n",
    "16 1.5 0.606 ;\n",
    "17 1.6 0.602 ;\n",
    "18 1.7 0.626 ;\n",
    "19 1.8 0.651 ;\n",
    "20 1.9 0.724 ;\n",
    "21 2.0 0.649 ;\n",
    "22 2.1 0.649 ;\n",
    "23 2.2 0.694 ;\n",
    "24 2.3 0.644 ;\n",
    "25 2.4 0.624 ;\n",
    "26 2.5 0.661 ;\n",
    "27 2.6 0.612 ;\n",
    "28 2.7 0.558 ;\n",
    "29 2.8 0.533 ;\n",
    "30 2.9 0.495 ;\n",
    "31 3.0 0.500 ;\n",
    "32 3.1 0.423 ;\n",
    "33 3.2 0.395 ;\n",
    "34 3.3 0.375;\n",
    "35 3.4 0.538 ;\n",
    "36 3.5 0.522 ;\n",
    "37 3.6 0.506 ;\n",
    "38 3.7 0.490 ;\n",
    "39 3.8 0.478 ;\n",
    "40 3.9 0.467 ;\n",
    "41 4.0 0.457 ;\n",
    "42 4.1 0.457 ;\n",
    "43 4.2 0.457 ;\n",
    "44 4.3 0.457 ;\n",
    "45 4.4 0.457 ;\n",
    "46 4.5 0.457 ;\n",
    "47 4.6 0.457 ;\n",
    "48 4.7 0.457 ;\n",
    "49 4.8 0.457 ;\n",
    "50 4.9 0.457 ;\n",
    "51 5.0 0.457;\n",
    "52 5.1 0.431 ;\n",
    "53 5.2 0.431 ;\n",
    "54 5.3 0.424 ;\n",
    "55 5.4 0.420 ;\n",
    "56 5.5 0.414 ;\n",
    "57 5.6 0.411 ;\n",
    "58 5.7 0.406 ;\n",
    "59 5.8 0.406 ;\n",
    "60 5.9 0.406 ;\n",
    "61 6.0 0.406 ;\n",
    "62 6.1 0.406 ;\n",
    "63 6.2 0.406 ;\n",
    "64 6.3 0.406 ;\n",
    "65 6.4 0.406]\n",
    "\n",
    "t = dataset[1:m,2]\n",
    "y = dataset[1:m,3]"
   ]
  },
  {
   "cell_type": "code",
   "execution_count": 15,
   "metadata": {},
   "outputs": [],
   "source": [
    "function r_k(x::Vector, t::Float64, y::Float64)\n",
    "    rx = x[1]*exp(-x[5]*t) + x[2]*exp(-x[6]*(t-x[9])^2) + x[3]*exp(-x[7]*(t-x[10])^2) + x[4]*exp(-x[8]*(t-x[11])^2)\n",
    "    return y - rx\n",
    "end\n",
    "\n",
    "function r(x::Vector)\n",
    "    return [r_k(x,t[k],y[k]) for k=1:m]\n",
    "end\n",
    "\n",
    "resOsborne2 = ResidualsEval(0)\n",
    "\n",
    "function (resOsborne2::ResidualsEval)(x::Vector, rx::Vector, J::Matrix)\n",
    "\n",
    "    # Evaluate the residuals\n",
    "    if abs(resOsborne2.ctrl) == 1\n",
    "        rx[:] = r(x)\n",
    "\n",
    "    # The jacobian is computed analytically\n",
    "    elseif resOsborne2.ctrl == 2\n",
    "        J[:] = ForwardDiff.jacobian(r,x)\n",
    "    end\n",
    "    return\n",
    "end"
   ]
  },
  {
   "cell_type": "code",
   "execution_count": 17,
   "metadata": {},
   "outputs": [],
   "source": [
    "function c(x::Vector)\n",
    "    res = [x[1] - 1.31; 1.4 - x[1];\n",
    "            x[2] - 0.4314 ; 0.8 - x[2];\n",
    "            x[3] - 0.6336; 1.0 - x[3];\n",
    "            x[4] - 0.5; 1.0 - x[4];\n",
    "            x[5] - 0.5; 1.0 - x[5];\n",
    "            x[6] - 0.6; 3.0 - x[6];\n",
    "            x[7] - 1.0; 5.0 - x[7];\n",
    "            x[8] - 4.0; 7.0 - x[8];\n",
    "            x[9] - 2.0; 2.5 - x[9];\n",
    "            x[10] - 4.5689; 5.0 - x[10];\n",
    "            x[11] - 5.0; 6.0 - x[11]]\n",
    "    return res\n",
    "end\n",
    "    \n",
    "consOsborne2 = ConstraintsEval(0)\n",
    "\n",
    "function (consOsborne2::ConstraintsEval)(x::Vector, cx::Vector, A::Matrix)\n",
    "\n",
    "    # Evaluate the constraints\n",
    "    if abs(consOsborne2.ctrl) == 1\n",
    "        cx[:] = c(x)\n",
    "    # The jacobian is computed numerically if ctrl is set to 0 on return\n",
    "    elseif consOsborne2.ctrl == 2\n",
    "        A[:] = ForwardDiff.jacobian(c,x)\n",
    "    end\n",
    "    return\n",
    "end"
   ]
  },
  {
   "cell_type": "code",
   "execution_count": 22,
   "metadata": {},
   "outputs": [
    {
     "data": {
      "text/plain": [
       "11-element Vector{Float64}:\n",
       " 1.3296405710963721\n",
       " 0.698754911109595\n",
       " 0.8567616520463406\n",
       " 0.6491386409575142\n",
       " 0.5076624932183107\n",
       " 2.5125959645034723\n",
       " 2.299562366470867\n",
       " 4.620813417173979\n",
       " 2.2531031574273648\n",
       " 4.758188997948935\n",
       " 5.561590192983159"
      ]
     },
     "execution_count": 22,
     "metadata": {},
     "output_type": "execute_result"
    }
   ],
   "source": [
    "function generate_starting_point()\n",
    "    x0 = [rand(Uniform(1.31,1.4));\n",
    "        rand(Uniform(0.4314 , 0.8));\n",
    "        rand(Uniform(0.6336, 1.0));\n",
    "        rand(Uniform(0.5, 1.0));\n",
    "        rand(Uniform(0.5, 1.0));\n",
    "        rand(Uniform(0.6, 3.0));\n",
    "        rand(Uniform(1.0, 5.0));\n",
    "        rand(Uniform(4.0, 7.0));\n",
    "        rand(Uniform(2.0, 2.5));\n",
    "        rand(Uniform(4.5689, 5.0));\n",
    "        rand(Uniform(5.0, 6.0))]\n",
    "    return x0\n",
    "end"
   ]
  },
  {
   "cell_type": "code",
   "execution_count": 29,
   "metadata": {},
   "outputs": [
    {
     "data": {
      "text/plain": [
       "11-element Vector{Float64}:\n",
       " 1.3344098963722457\n",
       " 0.5572842161127423\n",
       " 0.6757364753061974\n",
       " 0.8291980513226953\n",
       " 0.9233565833014519\n",
       " 0.9588470511477797\n",
       " 1.9610314699563896\n",
       " 4.055321823656234\n",
       " 2.048625993866472\n",
       " 4.60296578920499\n",
       " 5.95212572157736"
      ]
     },
     "execution_count": 29,
     "metadata": {},
     "output_type": "execute_result"
    }
   ],
   "source": [
    "x_saved =  [1.3344098963722457\n",
    " 0.5572842161127423\n",
    " 0.6757364753061974\n",
    " 0.8291980513226953\n",
    " 0.9233565833014519\n",
    " 0.9588470511477797\n",
    " 1.9610314699563896\n",
    " 4.055321823656234\n",
    " 2.048625993866472\n",
    " 4.60296578920499\n",
    " 5.95212572157736]"
   ]
  },
  {
   "cell_type": "code",
   "execution_count": 38,
   "metadata": {
    "scrolled": true
   },
   "outputs": [
    {
     "name": "stdout",
     "output_type": "stream",
     "text": [
      "\n",
      "****************************************\n",
      "*                                      *\n",
      "*          ENLSIP-JULIA-0.4.0          *\n",
      "*                                      *\n",
      "****************************************\n",
      "\n",
      "Starting point : [1.3983440111091554, 0.622286438850183, 0.6693475787853153, 0.6368052051096034, 0.9195276938253691, 1.9359895186036136, 3.517697712779317, 6.272550010302402, 2.45523552954047, 4.70966070746605, 5.975340425705434]\n",
      "\n",
      "Starting point :\n",
      "    1.398344e+00   6.222864e-01   6.693476e-01   6.368052e-01   9.195277e-01   1.935990e+00   3.517698e+00   6.272550e+00   2.455236e+00   4.709661e+00  \n",
      "    5.975340e+00 \n",
      "\n",
      "Number of equality constraints   : 0\n",
      "Number of inequality constraints : 22\n",
      "Constraints internal scaling     : false\n",
      "\n",
      "\n",
      "Iteration steps information\n",
      "\n",
      "iter     objective    cx_sum   reduction     ||p||   dimA  dimJ2     α     conv. speed   max weight   working set\n",
      "   0  1.945065e+00  0.00e+00   3.75e-01   5.988e+00   0    11   1.17e-01    0.00e+00     1.00e-01     -\n",
      "   1  1.570289e+00  0.00e+00   7.70e-01   5.253e+00   1    10   3.80e-01    8.00e-01     1.00e-01    (5)\n",
      "   2  8.002168e-01  0.00e+00   9.21e-02   1.496e+00   2     9   1.15e-01    6.11e-01     1.00e-01    (5,15)\n",
      "   3  7.081084e-01  0.00e+00   8.54e-02   1.093e+00   3     8   1.46e-01    8.60e-01     1.00e-01    (5,15,22)\n",
      "   4  6.226874e-01  0.00e+00   9.57e-02   7.769e-01   4     7   2.96e-01    7.79e-01     1.00e-01    (5,7,15,22)\n",
      "   5  5.269911e-01  0.00e+00   3.58e-02   3.602e-01   5     6   1.00e+00    4.17e-01     1.00e-01    (5,7,11,15,22)\n",
      "   6  4.911805e-01  0.00e+00   1.49e-02   2.338e-01   4     7   1.00e+00    5.52e-01     1.00e-01    (5,7,15,22)\n",
      "   7  4.762794e-01  0.00e+00   9.65e-03   1.893e-01   4     7   1.00e+00    8.70e-01     1.00e-01    (5,7,15,22)\n",
      "   8  4.666270e-01  0.00e+00   3.95e-03   2.743e-01   4     7   3.47e-01    1.26e+00     1.00e-01    (5,7,15,22)\n",
      "   9  4.626803e-01  0.00e+00   4.31e-03   2.313e-01   4     7   5.66e-01    7.82e-01     1.00e-01    (5,7,15,22)\n",
      "  10  4.583721e-01  0.00e+00   1.96e-03   2.367e-01   5     6   2.96e-01    9.80e-01     1.00e-01    (5,7,15,19,22)\n",
      "  11  4.564092e-01  0.00e+00   4.83e-04   2.798e-02   5     6   8.88e-01    2.93e-01     1.00e-01    (5,7,15,19,22)\n",
      "  12  4.559259e-01  0.00e+00   4.16e-05   3.202e-02   5     6   3.39e-01    4.70e-01     1.00e-01    (5,7,15,19,22)\n",
      "  13  4.558843e-01  0.00e+00   6.07e-06   3.372e-03   5     6   1.00e+00    2.44e-01     1.00e-01    (5,7,15,19,22)\n",
      "  14  4.558782e-01  0.00e+00   9.46e-07   4.996e-03   5     6   3.23e-01    6.34e-01     1.00e-01    (5,7,15,19,22)\n",
      "  15  4.558772e-01  0.00e+00   3.45e-08   4.811e-04   5     6   9.69e-01    1.31e-01     1.00e-01    (5,7,15,19,22)\n",
      "  16  4.558772e-01  0.00e+00   7.07e-09   3.594e-04   5     6   3.99e-01    5.93e-01     1.00e-01    (5,7,15,19,22)\n",
      "  17  4.558772e-01  0.00e+00   9.86e-10   9.808e-05   5     6   4.82e-01    3.39e-01     1.00e-01    (5,7,15,19,22)\n",
      "  18  4.558772e-01  0.00e+00   1.70e-10   4.544e-05   5     6   4.32e-01    4.39e-01     1.00e-01    (5,7,15,19,22)\n",
      "  19  4.558772e-01  0.00e+00   4.30e-11   2.164e-05   5     6   5.37e-01    4.50e-01     1.00e-01    (5,7,15,19,22)\n",
      "  20  4.558772e-01  0.00e+00   1.29e-11   1.105e-05   5     6   4.53e-01    5.97e-01     1.00e-01    (5,7,15,19,22)\n",
      "  21  4.558772e-01  0.00e+00   4.24e-12   7.296e-06   5     6   5.45e-01    5.22e-01     1.00e-01    (5,7,15,19,22)\n",
      "  22  4.558772e-01  0.00e+00   1.40e-12   3.607e-06   5     6   4.54e-01    6.29e-01     1.00e-01    (5,7,15,19,22)\n",
      "  23  4.558772e-01  0.00e+00   4.64e-13   2.441e-06   5     6   5.45e-01    5.25e-01     1.00e-01    (5,7,15,19,22)\n",
      "  24  4.558772e-01  0.00e+00   1.53e-13   1.194e-06   5     6   4.54e-01    6.30e-01     1.00e-01    (5,7,15,19,22)\n",
      "  25  4.558772e-01  0.00e+00   5.09e-14   8.104e-07   5     6   5.45e-01    5.26e-01     1.00e-01    (5,7,15,19,22)\n",
      "  26  4.558772e-01  0.00e+00   1.68e-14   3.955e-07   5     6   4.54e-01    6.30e-01     1.00e-01    (5,7,15,19,22)\n",
      "  27  4.558772e-01  0.00e+00   5.66e-15   2.685e-07   5     6   5.46e-01    5.26e-01     1.00e-01    (5,7,15,19,22)\n",
      "  28  4.558772e-01  0.00e+00   1.72e-15   1.320e-07   5     6   4.52e-01    6.32e-01     1.00e-01    (5,7,15,19,22)\n",
      "\n",
      "Exit code = 300\n",
      "Number of iterations = 29 \n",
      "\n",
      "Terminated at point : 1.358818e+00  5.246995e-01  6.336000e-01  5.000000e-01  9.812511e-01  6.731463e-01  1.426121e+00  4.000000e+00  2.340211e+00  4.568900e+00  6.000000e+00 \n",
      "\n",
      "Active constraints : 5  7  15  19  22 \n",
      "Constraint values : \n",
      " 4.88e-02  4.12e-02  9.33e-02  2.75e-01  0.00e+00  3.66e-01  0.00e+00  5.00e-01  4.81e-01  1.87e-02  7.31e-02  2.33e+00  4.26e-01  3.57e+00  0.00e+00  3.00e+00  3.40e-01  1.60e-01  0.00e+00  4.31e-01  1.00e+00  0.00e+00 \n",
      "Penalty constants :\n",
      " 9.83e-02  1.17e-02  1.00e-01  1.00e-01  4.57e-02  1.00e-01  1.00e-01  1.00e-01  1.00e-01  9.05e-02  1.00e-01  1.00e-01  1.00e-01  1.00e-01  1.00e-01  1.00e-01  1.00e-01  5.48e-02  1.00e-01  1.00e-01  1.00e-01  3.47e-02 \n",
      "Square sum of residuals = 4.558772e-01\n",
      "\n"
     ]
    },
    {
     "data": {
      "text/plain": [
       "ENLSIP(300, [1.358818410997637, 0.5246994810638775, 0.6336, 0.5, 0.9812510844055111, 0.6731462684400374, 1.4261205705715454, 4.0, 2.340211104434441, 4.5689, 6.0], 0.4558771931598628)"
      ]
     },
     "execution_count": 38,
     "metadata": {},
     "output_type": "execute_result"
    }
   ],
   "source": [
    "x0 = generate_starting_point()\n",
    "e = eps(Float64)\n",
    "se = sqrt(e)\n",
    "enlsipOsborne2 = enlsip(x0,resOsborne2,consOsborne2,n,m,nb_eq,nb_constraints,ε_abs = e, ε_rel = se, ε_x = se, ε_c = se)"
   ]
  },
  {
   "cell_type": "code",
   "execution_count": 40,
   "metadata": {},
   "outputs": [
    {
     "name": "stdout",
     "output_type": "stream",
     "text": [
      "\n",
      "****************************************\n",
      "*                                      *\n",
      "*          ENLSIP-JULIA-0.4.0          *\n",
      "*                                      *\n",
      "****************************************\n",
      "\n",
      "Starting point : [1.31, 0.43157, 0.63367, 0.59941, 0.75423, 0.90423, 1.36573, 4.82393, 2.39867, 4.5689, 5.67535]\n",
      "\n",
      "Starting point :\n",
      "    1.310000e+00   4.315700e-01   6.336700e-01   5.994100e-01   7.542300e-01   9.042300e-01   1.365730e+00   4.823930e+00   2.398670e+00   4.568900e+00  \n",
      "    5.675350e+00 \n",
      "\n",
      "Number of equality constraints   : 0\n",
      "Number of inequality constraints : 22\n",
      "Constraints internal scaling     : false\n",
      "\n",
      "\n",
      "Iteration steps information\n",
      "\n",
      "iter     objective    cx_sum   reduction     ||p||   dimA  dimJ2     α     conv. speed   max weight   working set\n",
      "   0  1.263083e+00  0.00e+00   6.00e-04   3.704e+00   2     9   2.70e-04    0.00e+00     1.00e-01    (1,19)\n",
      "   1  1.262483e+00  0.00e+00   2.93e-01   3.814e+00   2     9   2.28e-01    8.55e-01     1.00e-01    (5,19)\n",
      "   2  9.697907e-01  0.00e+00   6.77e-02   1.818e+00   2     9   6.80e-02    8.24e-01     1.00e-01    (5,15)\n",
      "   3  9.020525e-01  0.00e+00   1.87e-01   6.162e-01   3     8   3.50e-01    7.92e-01     1.00e-01    (5,7,15)\n",
      "   4  7.154777e-01  4.65e-05   2.22e-01   2.621e-01   4     7   1.00e+00    7.24e-01     1.00e-01    (5,7,15,19)\n",
      "   5  4.931193e-01  0.00e+00   3.70e-02   2.203e-01   4     7   9.44e-01    3.79e-01     1.00e-01    (5,7,15,19)\n",
      "   6  4.561407e-01  0.00e+00   2.06e-04   3.427e-02   5     6   1.00e+00    1.16e-01     1.00e-01    (5,7,15,19,22)\n",
      "   7  4.559348e-01  0.00e+00   5.04e-05   2.637e-02   5     6   4.78e-01    5.52e-01     1.00e-01    (5,7,15,19,22)\n",
      "   8  4.558843e-01  0.00e+00   6.22e-06   9.749e-03   5     6   3.85e-01    3.89e-01     1.00e-01    (5,7,15,19,22)\n",
      "   9  4.558781e-01  0.00e+00   7.83e-07   3.206e-03   5     6   4.85e-01    3.16e-01     1.00e-01    (5,7,15,19,22)\n",
      "  10  4.558773e-01  0.00e+00   1.06e-07   1.167e-03   5     6   3.99e-01    4.05e-01     1.00e-01    (5,7,15,19,22)\n",
      "  11  4.558772e-01  0.00e+00   1.84e-08   4.544e-04   5     6   5.23e-01    3.63e-01     1.00e-01    (5,7,15,19,22)\n",
      "  12  4.558772e-01  0.00e+00   3.90e-09   2.025e-04   5     6   4.27e-01    5.10e-01     1.00e-01    (5,7,15,19,22)\n",
      "  13  4.558772e-01  0.00e+00   1.03e-09   1.038e-04   5     6   5.47e-01    4.55e-01     1.00e-01    (5,7,15,19,22)\n",
      "  14  4.558772e-01  0.00e+00   2.86e-10   5.473e-05   5     6   4.33e-01    5.92e-01     1.00e-01    (5,7,15,19,22)\n",
      "  15  4.558772e-01  0.00e+00   8.22e-11   2.950e-05   5     6   5.51e-01    4.75e-01     1.00e-01    (5,7,15,19,22)\n",
      "  16  4.558772e-01  0.00e+00   2.39e-11   1.564e-05   5     6   4.35e-01    6.07e-01     1.00e-01    (5,7,15,19,22)\n",
      "  17  4.558772e-01  0.00e+00   7.08e-12   8.785e-06   5     6   5.54e-01    4.82e-01     1.00e-01    (5,7,15,19,22)\n",
      "  18  4.558772e-01  0.00e+00   2.12e-12   4.596e-06   5     6   4.37e-01    6.17e-01     1.00e-01    (5,7,15,19,22)\n",
      "  19  4.558772e-01  0.00e+00   6.46e-13   2.691e-06   5     6   5.57e-01    4.89e-01     1.00e-01    (5,7,15,19,22)\n",
      "  20  4.558772e-01  0.00e+00   1.99e-13   1.393e-06   5     6   4.38e-01    6.25e-01     1.00e-01    (5,7,15,19,22)\n",
      "  21  4.558772e-01  0.00e+00   6.18e-14   8.428e-07   5     6   5.59e-01    4.94e-01     1.00e-01    (5,7,15,19,22)\n",
      "  22  4.558772e-01  0.00e+00   1.95e-14   4.346e-07   5     6   4.40e-01    6.32e-01     1.00e-01    (5,7,15,19,22)\n",
      "  23  4.558772e-01  0.00e+00   6.27e-15   2.683e-07   5     6   5.61e-01    4.98e-01     1.00e-01    (5,7,15,19,22)\n",
      "  24  4.558772e-01  0.00e+00   1.94e-15   1.384e-07   5     6   4.39e-01    6.38e-01     1.00e-01    (5,7,15,19,22)\n",
      "\n",
      "Exit code = 300\n",
      "Number of iterations = 25 \n",
      "\n",
      "Terminated at point : 1.358818e+00  5.246995e-01  6.336000e-01  5.000000e-01  9.812511e-01  6.731463e-01  1.426121e+00  4.000000e+00  2.340211e+00  4.568900e+00  6.000000e+00 \n",
      "\n",
      "Active constraints : 5  7  15  19  22 \n",
      "Constraint values : \n",
      " 4.88e-02  4.12e-02  9.33e-02  2.75e-01  0.00e+00  3.66e-01  0.00e+00  5.00e-01  4.81e-01  1.87e-02  7.31e-02  2.33e+00  4.26e-01  3.57e+00  0.00e+00  3.00e+00  3.40e-01  1.60e-01  0.00e+00  4.31e-01  1.00e+00  0.00e+00 \n",
      "Penalty constants :\n",
      " 1.00e-02  1.00e-01  1.02e-02  1.00e-01  1.01e-02  1.00e-01  1.00e-01  1.00e-01  1.00e-01  1.00e-01  1.00e-01  1.00e-01  1.00e-01  1.00e-01  1.00e-01  1.00e-01  1.00e-01  1.00e-01  1.00e-02  1.00e-01  1.00e-01  1.00e-01 \n",
      "Square sum of residuals = 4.558772e-01\n",
      "\n",
      "\n",
      "****************************************\n",
      "*                                      *\n",
      "*          ENLSIP-JULIA-0.4.0          *\n",
      "*                                      *\n",
      "****************************************\n",
      "\n",
      "Starting point : [1.3344098963722457, 0.5572842161127423, 0.6757364753061974, 0.8291980513226953, 0.9233565833014519, 0.9588470511477797, 1.9610314699563896, 4.055321823656234, 2.048625993866472, 4.60296578920499, 5.95212572157736]\n",
      "\n",
      "Starting point :\n",
      "    1.334410e+00   5.572842e-01   6.757365e-01   8.291981e-01   9.233566e-01   9.588471e-01   1.961031e+00   4.055322e+00   2.048626e+00   4.602966e+00  \n",
      "    5.952126e+00 \n",
      "\n",
      "Number of equality constraints   : 0\n",
      "Number of inequality constraints : 22\n",
      "Constraints internal scaling     : false\n",
      "\n",
      "\n",
      "Iteration steps information\n",
      "\n",
      "iter     objective    cx_sum   reduction     ||p||   dimA  dimJ2     α     conv. speed   max weight   working set\n",
      "   0  1.952516e+00  0.00e+00   1.73e-01   2.249e+00   0    11   4.75e-02    0.00e+00     1.00e-01     -\n",
      "   1  1.779582e+00  0.00e+00   3.36e-01   2.082e+00   1    10   1.06e-01    9.51e-01     1.00e-01    (15)\n",
      "   2  1.443344e+00  0.00e+00   3.07e-01   1.567e+00   2     9   1.44e-01    8.11e-01     1.00e-01    (5,15)\n",
      "   3  1.136069e+00  0.00e+00   4.54e-01   5.940e-01   3     8   3.86e-01    8.18e-01     1.00e-01    (5,10,15)\n",
      "   4  6.823640e-01  0.00e+00   1.91e-01   2.474e-01   4     7   5.20e-01    5.83e-01     1.00e-01    (5,10,15,22)\n",
      "   5  4.912402e-01  0.00e+00   3.45e-02   1.340e-01   5     6   1.00e+00    3.50e-01     1.00e-01    (5,7,10,15,22)\n",
      "   6  4.567005e-01  4.06e-09   6.70e-04   1.291e-01   5     6   3.51e-01    2.51e-01     1.00e-01    (5,7,15,19,22)\n",
      "   7  4.560307e-01  1.71e-09   1.26e-04   2.435e-02   5     6   6.45e-01    3.15e-01     1.00e-01    (5,7,15,19,22)\n",
      "   8  4.559050e-01  2.15e-10   1.97e-05   2.153e-02   5     6   3.88e-01    5.09e-01     1.00e-01    (5,7,15,19,22)\n",
      "   9  4.558853e-01  8.07e-11   4.71e-06   3.455e-03   5     6   1.00e+00    3.82e-01     1.00e-01    (5,7,15,19,22)\n",
      "  10  4.558806e-01  0.00e+00   3.34e-06   1.035e-02   5     6   3.15e-01    1.21e+00     1.00e-01    (5,7,15,19,22)\n",
      "  11  4.558772e-01  0.00e+00   4.49e-08   2.392e-04   5     6   9.46e-01    6.18e-02     1.00e-01    (5,7,15,19,22)\n",
      "  12  4.558772e-01  0.00e+00   1.54e-09   1.370e-04   5     6   5.33e-01    2.67e-01     1.00e-01    (5,7,15,19,22)\n",
      "  13  4.558772e-01  0.00e+00   4.97e-10   6.669e-05   5     6   4.61e-01    6.10e-01     1.00e-01    (5,7,15,19,22)\n",
      "  14  4.558772e-01  0.00e+00   1.65e-10   4.662e-05   5     6   5.35e-01    5.35e-01     1.00e-01    (5,7,15,19,22)\n",
      "  15  4.558772e-01  0.00e+00   5.49e-11   2.209e-05   5     6   4.61e-01    6.21e-01     1.00e-01    (5,7,15,19,22)\n",
      "  16  4.558772e-01  0.00e+00   1.83e-11   1.562e-05   5     6   5.35e-01    5.36e-01     1.00e-01    (5,7,15,19,22)\n",
      "  17  4.558772e-01  0.00e+00   6.09e-12   7.358e-06   5     6   4.61e-01    6.22e-01     1.00e-01    (5,7,15,19,22)\n",
      "  18  4.558772e-01  0.00e+00   2.03e-12   5.208e-06   5     6   5.35e-01    5.36e-01     1.00e-01    (5,7,15,19,22)\n",
      "  19  4.558772e-01  0.00e+00   6.76e-13   2.452e-06   5     6   4.61e-01    6.22e-01     1.00e-01    (5,7,15,19,22)\n",
      "  20  4.558772e-01  0.00e+00   2.25e-13   1.735e-06   5     6   5.35e-01    5.36e-01     1.00e-01    (5,7,15,19,22)\n",
      "  21  4.558772e-01  0.00e+00   7.49e-14   8.169e-07   5     6   4.61e-01    6.22e-01     1.00e-01    (5,7,15,19,22)\n",
      "  22  4.558772e-01  0.00e+00   2.49e-14   5.778e-07   5     6   5.36e-01    5.36e-01     1.00e-01    (5,7,15,19,22)\n",
      "  23  4.558772e-01  0.00e+00   8.44e-15   2.724e-07   5     6   4.62e-01    6.22e-01     1.00e-01    (5,7,15,19,22)\n",
      "\n",
      "Exit code = 300\n",
      "Number of iterations = 24 \n",
      "\n",
      "Terminated at point : 1.358818e+00  5.246995e-01  6.336000e-01  5.000000e-01  9.812511e-01  6.731462e-01  1.426121e+00  4.000000e+00  2.340211e+00  4.568900e+00  6.000000e+00 \n",
      "\n",
      "Active constraints : 5  7  15  19  22 \n",
      "Constraint values : \n",
      " 4.88e-02  4.12e-02  9.33e-02  2.75e-01  0.00e+00  3.66e-01  0.00e+00  5.00e-01  4.81e-01  1.87e-02  7.31e-02  2.33e+00  4.26e-01  3.57e+00  0.00e+00  3.00e+00  3.40e-01  1.60e-01  0.00e+00  4.31e-01  1.00e+00  0.00e+00 \n",
      "Penalty constants :\n",
      " 3.44e-02  7.56e-02  1.00e-01  1.00e-01  5.21e-02  1.00e-01  1.00e-01  1.00e-01  1.00e-01  8.66e-02  1.00e-01  1.00e-01  1.00e-01  1.00e-01  6.53e-02  1.00e-01  5.86e-02  1.00e-01  4.41e-02  1.00e-01  1.00e-01  5.79e-02 \n",
      "Square sum of residuals = 4.558772e-01\n",
      "\n",
      "dot(r(x_opt), r(x_opt)) = 1.263082799062929\n",
      "enlsipOsborne2_x_saved.obj_value = 0.45587719315986386\n",
      "enlsipOsborne2_x_opt.sol - x_opt = [0.04881841120304364, 0.09312948152443534, -6.999999999990347e-5, -0.09941, 0.22702108440900748, -0.23108373158243722, 0.060390566717227756, -0.8239299999999998, -0.058458895832302016, 0.0, 0.3246500000000001]\n"
     ]
    },
    {
     "data": {
      "text/plain": [
       "11-element Vector{Float64}:\n",
       "  1.5059894664659623e-8\n",
       "  5.694332227967891e-9\n",
       "  0.0\n",
       "  0.0\n",
       "  1.6945176595228872e-8\n",
       " -2.301278057004197e-9\n",
       "  3.972478279656855e-8\n",
       "  0.0\n",
       "  3.0571506215437694e-8\n",
       "  0.0\n",
       "  0.0"
      ]
     },
     "execution_count": 40,
     "metadata": {},
     "output_type": "execute_result"
    }
   ],
   "source": [
    "# Comparaison x_saved avec solution du papier\n",
    "\n",
    "x_opt = [1.31000\n",
    "0.43157\n",
    "0.63367\n",
    "0.59941\n",
    "0.75423\n",
    "0.90423\n",
    "1.36573\n",
    "4.82393\n",
    "2.39867\n",
    "4.56890\n",
    "5.67535]\n",
    "\n",
    "\n",
    "enlsipOsborne2_x_opt = enlsip(x_opt,resOsborne2,consOsborne2,n,m,nb_eq,nb_constraints,ε_abs = e, ε_rel = se, ε_x = se, ε_c = se)\n",
    "\n",
    "\n",
    "enlsipOsborne2_x_saved = enlsip(x_saved,resOsborne2,consOsborne2,n,m,nb_eq,nb_constraints,ε_abs = e, ε_rel = se, ε_x = se, ε_c = se)\n",
    "objective_value_x_opt = enlsipOsborne2_x_opt.obj_value\n",
    "\n",
    "@show dot(r(x_opt),r(x_opt))\n",
    "\n",
    "@show enlsipOsborne2_x_saved.obj_value\n",
    "\n",
    "@show enlsipOsborne2_x_opt.sol - x_opt\n",
    "\n",
    "enlsipOsborne2.sol -  enlsipOsborne2_x_saved.sol"
   ]
  },
  {
   "cell_type": "code",
   "execution_count": 36,
   "metadata": {},
   "outputs": [
    {
     "name": "stdout",
     "output_type": "stream",
     "text": [
      "c(x_opt) = [0.0, 0.08999999999999986, 0.00017000000000000348, 0.36843000000000004, 6.999999999990347e-5, 0.36633000000000004, 0.09941, 0.40059, 0.25422999999999996, 0.24577000000000004, 0.30423, 2.09577, 0.3657300000000001, 3.63427, 0.8239299999999998, 2.17607, 0.3986700000000001, 0.10132999999999992, 0.0, 0.4310999999999998, 0.6753499999999999, 0.3246500000000001]\n"
     ]
    },
    {
     "data": {
      "text/plain": [
       "22-element Vector{Float64}:\n",
       " 0.048818395937742176\n",
       " 0.04118160406225768\n",
       " 0.0932994753695453\n",
       " 0.27530052463045473\n",
       " 0.0\n",
       " 0.36639999999999995\n",
       " 0.0\n",
       " 0.5\n",
       " 0.4812510674603345\n",
       " 0.018748932539665475\n",
       " 0.07314627074131552\n",
       " 2.3268537292586844\n",
       " 0.4261205308467626\n",
       " 3.5738794691532374\n",
       " 0.0\n",
       " 3.0\n",
       " 0.3402110738629349\n",
       " 0.15978892613706508\n",
       " 0.0\n",
       " 0.4310999999999998\n",
       " 1.0\n",
       " 0.0"
      ]
     },
     "execution_count": 36,
     "metadata": {},
     "output_type": "execute_result"
    }
   ],
   "source": [
    "@show c(x_opt)\n",
    "\n",
    "c(enlsipOsborne2_x_saved.sol)"
   ]
  },
  {
   "cell_type": "markdown",
   "metadata": {},
   "source": [
    "# Résolution avec Ipopt"
   ]
  },
  {
   "cell_type": "code",
   "execution_count": 8,
   "metadata": {},
   "outputs": [],
   "source": [
    "using JuMP, Ipopt"
   ]
  },
  {
   "cell_type": "code",
   "execution_count": 9,
   "metadata": {},
   "outputs": [
    {
     "data": {
      "text/latex": [
       "$$ x3 $$"
      ],
      "text/plain": [
       "x3"
      ]
     },
     "execution_count": 9,
     "metadata": {},
     "output_type": "execute_result"
    }
   ],
   "source": [
    "model = Model(with_optimizer(Ipopt.Optimizer))\n",
    "\n",
    "@variable(model, x1, start = -5.0)\n",
    "@variable(model, x2, start = 5.0)\n",
    "@variable(model, x3, start = 0.0)"
   ]
  },
  {
   "cell_type": "code",
   "execution_count": 10,
   "metadata": {},
   "outputs": [],
   "source": [
    "f(x1,x2,x3) = (x1 - x2)^2 + (x1+x2-10.0)^2 / 9.0 + (x3-5.0)^2\n",
    "JuMP.register(model, :f, 3, f, autodiff=true)"
   ]
  },
  {
   "cell_type": "code",
   "execution_count": 11,
   "metadata": {},
   "outputs": [
    {
     "data": {
      "text/latex": [
       "$$ x3 \\leq 5.0 $$"
      ],
      "text/plain": [
       "x3 ≤ 5.0"
      ]
     },
     "execution_count": 11,
     "metadata": {},
     "output_type": "execute_result"
    }
   ],
   "source": [
    "@NLconstraint(model, c1, 48.0 - x1^2 - x2^2 - x3^2 >= 0)\n",
    "@constraint(model, x1 >= -4.5)\n",
    "@constraint(model, -x1 <= 4.5)\n",
    "@constraint(model, x2 >= -4.5)\n",
    "@constraint(model, x2 <= 4.5)\n",
    "@constraint(model, x3 >= -5.0)\n",
    "@constraint(model, x3 <= 5.0)"
   ]
  },
  {
   "cell_type": "code",
   "execution_count": 12,
   "metadata": {},
   "outputs": [],
   "source": [
    "@NLobjective(model, Min, f(x1,x2,x3))"
   ]
  },
  {
   "cell_type": "code",
   "execution_count": 13,
   "metadata": {
    "scrolled": false
   },
   "outputs": [
    {
     "name": "stdout",
     "output_type": "stream",
     "text": [
      "\n",
      "******************************************************************************\n",
      "This program contains Ipopt, a library for large-scale nonlinear optimization.\n",
      " Ipopt is released as open source code under the Eclipse Public License (EPL).\n",
      "         For more information visit https://github.com/coin-or/Ipopt\n",
      "******************************************************************************\n",
      "\n",
      "This is Ipopt version 3.13.4, running with linear solver mumps.\n",
      "NOTE: Other linear solvers might be more efficient (see Ipopt documentation).\n",
      "\n",
      "Number of nonzeros in equality constraint Jacobian...:        0\n",
      "Number of nonzeros in inequality constraint Jacobian.:        9\n",
      "Number of nonzeros in Lagrangian Hessian.............:        0\n",
      "\n",
      "Total number of variables............................:        3\n",
      "                     variables with only lower bounds:        0\n",
      "                variables with lower and upper bounds:        0\n",
      "                     variables with only upper bounds:        0\n",
      "Total number of equality constraints.................:        0\n",
      "Total number of inequality constraints...............:        7\n",
      "        inequality constraints with only lower bounds:        4\n",
      "   inequality constraints with lower and upper bounds:        0\n",
      "        inequality constraints with only upper bounds:        3\n",
      "\n",
      "iter    objective    inf_pr   inf_du lg(mu)  ||d||  lg(rg) alpha_du alpha_pr  ls\n",
      "   0  1.3611111e+02 2.00e+00 3.33e+00   0.0 0.00e+00    -  0.00e+00 0.00e+00   0\n",
      "   1  1.3111783e+02 2.10e+00 4.70e+00  -5.6 7.14e+00    -  2.34e-01 6.85e-02f  1\n",
      "   2  1.9503672e+02 1.98e+01 7.09e+01   2.3 1.21e+04    -  5.47e-05 1.01e-03f  1\n",
      "   3  8.6817662e+01 0.00e+00 3.80e+01   0.4 4.02e+01    -  2.63e-01 1.00e+00f  1\n",
      "   4  1.7072377e+01 0.00e+00 1.15e+01  -0.3 2.56e+01    -  3.68e-01 1.00e+00f  1\n",
      "   5  4.8737905e+00 0.00e+00 1.17e+00   0.0 4.66e+01    -  9.94e-01 1.00e+00f  1\n",
      "   6  1.1059971e+00 0.00e+00 1.98e-01  -1.9 2.62e+01    -  8.70e-01 1.00e+00f  1\n",
      "   7  9.7438984e-01 3.23e-02 4.05e-02  -0.7 5.16e+00    -  1.00e+00 9.89e-01h  1\n",
      "   8  9.6159221e-01 0.00e+00 1.16e-01  -2.6 5.54e-02    -  9.99e-01 1.00e+00h  1\n",
      "   9  9.5316864e-01 4.50e-03 2.06e-03  -3.8 5.69e-02    -  9.99e-01 1.00e+00h  1\n",
      "iter    objective    inf_pr   inf_du lg(mu)  ||d||  lg(rg) alpha_du alpha_pr  ls\n",
      "  10  9.5353095e-01 0.00e+00 1.46e-04  -5.5 2.55e-03    -  1.00e+00 1.00e+00h  1\n",
      "  11  9.5352886e-01 0.00e+00 1.03e-07 -11.0 3.95e-05    -  1.00e+00 1.00e+00h  1\n",
      "  12  9.5352886e-01 0.00e+00 1.30e-09 -11.0 9.18e-08    -  1.00e+00 1.00e+00h  1\n",
      "\n",
      "Number of Iterations....: 12\n",
      "\n",
      "                                   (scaled)                 (unscaled)\n",
      "Objective...............:   9.5352885599324944e-01    9.5352885599324944e-01\n",
      "Dual infeasibility......:   1.3043728118973420e-09    1.3043728118973420e-09\n",
      "Constraint violation....:   0.0000000000000000e+00    0.0000000000000000e+00\n",
      "Complementarity.........:   1.0000553687781520e-11    1.0000553687781520e-11\n",
      "Overall NLP error.......:   1.3043728118973420e-09    1.3043728118973420e-09\n",
      "\n",
      "\n",
      "Number of objective function evaluations             = 13\n",
      "Number of objective gradient evaluations             = 13\n",
      "Number of equality constraint evaluations            = 0\n",
      "Number of inequality constraint evaluations          = 13\n",
      "Number of equality constraint Jacobian evaluations   = 0\n",
      "Number of inequality constraint Jacobian evaluations = 13\n",
      "Number of Lagrangian Hessian evaluations             = 0\n",
      "Total CPU secs in IPOPT (w/o function evaluations)   =      1.469\n",
      "Total CPU secs in NLP function evaluations           =      0.120\n",
      "\n",
      "EXIT: Optimal Solution Found.\n"
     ]
    }
   ],
   "source": [
    "JuMP.optimize!(model)"
   ]
  },
  {
   "cell_type": "code",
   "execution_count": 14,
   "metadata": {},
   "outputs": [
    {
     "name": "stdout",
     "output_type": "stream",
     "text": [
      "Solution trouvée avec ENLSIP :\n",
      "x_enlsip = (3.650461728e+00, 3.650461726e+00, 4.620417553e+00)\n",
      "f(x_enlsip) = 9.535288568e-01\n",
      "\n",
      "Solution trouvée avec Ipopt :\n",
      "x_ipopt = (3.650461727e+00, 3.650461725e+00, 4.620417555e+00)\n",
      "f(x_ipopt) = 9.535288560e-01\n"
     ]
    }
   ],
   "source": [
    "println(\"Solution trouvée avec ENLSIP :\")\n",
    "@printf \"x_enlsip = (%.9e, %.9e, %.9e)\\n\" x1_sol x2_sol x3_sol\n",
    "@printf \"f(x_enlsip) = %.9e\\n\\n\" enlsip65.obj_value \n",
    "\n",
    "\n",
    "println(\"Solution trouvée avec Ipopt :\")\n",
    "@printf \"x_ipopt = (%.9e, %.9e, %.9e)\\n\" JuMP.value(x1) JuMP.value(x2) JuMP.value(x3)\n",
    "@printf \"f(x_ipopt) = %.9e\\n\" 0.95352885599324944"
   ]
  }
 ],
 "metadata": {
  "kernelspec": {
   "display_name": "Julia 1.8.2",
   "language": "julia",
   "name": "julia-1.8"
  },
  "language_info": {
   "file_extension": ".jl",
   "mimetype": "application/julia",
   "name": "julia",
   "version": "1.8.2"
  }
 },
 "nbformat": 4,
 "nbformat_minor": 4
}
