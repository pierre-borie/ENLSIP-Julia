{
 "cells": [
  {
   "cell_type": "markdown",
   "id": "94c669ec",
   "metadata": {},
   "source": [
    "# Problème Kowalik *(Enzyme problem)*\n",
    "\n",
    "Source: [à déterminer]\n",
    "\n",
    "$ n = 4,\\ m = 11$\n",
    "\n",
    "$\\left\\{  \n",
    "\\begin{array}{l l l} \n",
    "\\underset{x}{\\min} \\|F(x)\\|^2 = \\sum_{k=1}^{m} F_k(x)^2\\\\ \n",
    "\\text{s.c.}\\\\\n",
    "x \\in [a,b] \\\\\n",
    "\\end{array} \\right.$\n",
    "\n",
    "où $ F_k(x) = V_k - \\dfrac{x_1\\left( y_k^2+x_2y_k \\right)}{y_k^2+x_3y_k+x_4} $"
   ]
  },
  {
   "cell_type": "markdown",
   "id": "7928b15a",
   "metadata": {},
   "source": [
    "# Résolution avec ENLSIP-Julia"
   ]
  },
  {
   "cell_type": "code",
   "execution_count": 1,
   "id": "57c84e1e",
   "metadata": {},
   "outputs": [],
   "source": [
    "using ForwardDiff, Distributions"
   ]
  },
  {
   "cell_type": "code",
   "execution_count": 21,
   "id": "ad2c1952",
   "metadata": {},
   "outputs": [
    {
     "data": {
      "text/plain": [
       "enlsip"
      ]
     },
     "execution_count": 21,
     "metadata": {},
     "output_type": "execute_result"
    }
   ],
   "source": [
    "include(\"../src/enlsip_functions_castor2.jl\")"
   ]
  },
  {
   "cell_type": "code",
   "execution_count": 3,
   "id": "234f5522",
   "metadata": {},
   "outputs": [
    {
     "data": {
      "text/plain": [
       "8"
      ]
     },
     "execution_count": 3,
     "metadata": {},
     "output_type": "execute_result"
    }
   ],
   "source": [
    "n = 4\n",
    "m = 11\n",
    "nb_eq = 0\n",
    "nb_constraints = n * 2"
   ]
  },
  {
   "cell_type": "code",
   "execution_count": 4,
   "id": "e0dd8d2a",
   "metadata": {},
   "outputs": [],
   "source": [
    "# Datapoints\n",
    "\n",
    "\n",
    "V = vec([.1957 .1947 .1735 .1600 .0844 .0627 .0456 .0342 .0323 .0235 .0246])\n",
    "y = vec([0 10 20 30 40 50 60 70 80 90 100]);"
   ]
  },
  {
   "cell_type": "code",
   "execution_count": 12,
   "id": "b7226a08",
   "metadata": {},
   "outputs": [],
   "source": [
    "# Résidus\n",
    "\n",
    "function r_k(x::Vector, y_k::Number, V_k::Number)\n",
    "    return V_k - (x[1]*(y_k^2 + x[2]*y_k)) / (y_k^2+x[3]*y_k+x[4])\n",
    "end\n",
    "\n",
    "function r(x::Vector) \n",
    "    return [r_k(x,y[k],V[k]) for k = 1:m]\n",
    "end\n",
    "\n",
    "resKowalik = ResidualsEval(0)\n",
    "\n",
    "function (resKowalik::ResidualsEval)(x::Vector, rx::Vector, J::Matrix)\n",
    "    \n",
    "    if resKowalik.ctrl == 1\n",
    "        rx[:] = r(x)\n",
    "    elseif resKowalik.ctrl == 2\n",
    "        J[:] = ForwardDiff.jacobian(r,x)\n",
    "    end\n",
    "    return\n",
    "end"
   ]
  },
  {
   "cell_type": "code",
   "execution_count": 19,
   "id": "fce85e63",
   "metadata": {},
   "outputs": [],
   "source": [
    "# Contraintes \n",
    "\n",
    "function c(x::Vector)\n",
    "    return [x[1] - 0.1928; 1 - x[1];\n",
    "            x[2] - 0.1916; 1 - x[2];\n",
    "            x[3] - 0.1234; 1 - x[3];\n",
    "            x[4] - 0.1362; 1 - x[4]]\n",
    "end\n",
    "\n",
    "consKowalik = ConstraintsEval(0)\n",
    "\n",
    "function (consKowalik::ConstraintsEval)(x::Vector, cx::Vector, A::Matrix)\n",
    "    if consKowalik.ctrl == 1\n",
    "        cx[:] = [x[1] - 0.1928; 1 - x[1];\n",
    "            x[2] - 0.1916; 1 - x[2];\n",
    "            x[3] - 0.1234; 1 - x[3];\n",
    "            x[4] - 0.1362; 1 - x[4]]\n",
    "    elseif consKowalik == 2\n",
    "        A[:] = ForwardDiff.jacobian(c,x)\n",
    "    end\n",
    "    return\n",
    "end"
   ]
  },
  {
   "cell_type": "code",
   "execution_count": 7,
   "id": "486040a6",
   "metadata": {},
   "outputs": [
    {
     "data": {
      "text/plain": [
       "#59 (generic function with 1 method)"
      ]
     },
     "execution_count": 7,
     "metadata": {},
     "output_type": "execute_result"
    }
   ],
   "source": [
    "generate_starting_point = (lb::Vector,ub::Vector) -> [rand(Uniform(a,b)) for (a,b) in zip(lb,ub)]"
   ]
  },
  {
   "cell_type": "code",
   "execution_count": 59,
   "id": "581491a7",
   "metadata": {},
   "outputs": [
    {
     "name": "stdout",
     "output_type": "stream",
     "text": [
      "\n",
      "****************************************\n",
      "*                                      *\n",
      "*          ENLSIP-JULIA-0.4.0          *\n",
      "*                                      *\n",
      "****************************************\n",
      "\n",
      "Starting point : [0.40300531699423275, 0.5005776076085529, 0.795691841092174, 0.31016039251919664]\n",
      "\n",
      "Starting point :\n",
      "    4.030053e-01   5.005776e-01   7.956918e-01   3.101604e-01 \n",
      "\n",
      "Number of equality constraints   : 0\n",
      "Number of inequality constraints : 8\n",
      "Constraints internal scaling     : false\n",
      "\n",
      "\n",
      "Iteration steps information\n",
      "\n",
      "iter     objective    cx_sum   reduction     ||p||   dimA  dimJ2     α     conv. speed   max weight   working set\n",
      "   0  1.080363e+00  0.00e+00   6.42e-03   2.085e+02   0     4   3.07e-03    0.00e+00     1.00e-01     -\n",
      "   1  1.073942e+00  8.13e-03   7.87e-03   1.169e+02   0     3   3.80e-03    9.97e-01     1.00e-01    (6)\n",
      "   2  1.066075e+00  4.76e-02   2.32e-02   6.052e+00   0     2   1.14e-02    9.96e-01     1.00e-01    (6,8)\n",
      "   3  1.042914e+00  4.76e-02   6.74e-02   6.116e+00   0     2   3.42e-02    9.89e-01     1.00e-01    (6,8)\n",
      "   4  9.755388e-01  8.62e-02   8.97e-01   2.991e-01   0     1   9.99e-01    9.66e-01     1.00e-01    (4,6,8)\n",
      "\n",
      "Exit code = -6\n",
      "Number of iterations = 5 \n",
      "\n",
      "Terminated at point : 8.385857e-02  1.196481e+00  1.090189e+00  1.198739e+00 \n",
      "\n",
      "Active constraints : 1  4  6  8 \n",
      "Constraint values : \n",
      " -1.09e-01  9.16e-01  1.00e+00  -1.96e-01  9.67e-01  -9.02e-02  1.06e+00  -1.99e-01 \n",
      "Penalty constants :\n",
      " 1.00e-01  1.00e-01  1.00e-01  1.00e-01  1.00e-01  1.00e-01  1.00e-01  1.00e-01 \n",
      "\n",
      "Square sum of residuals = 7.862502e-02\n",
      "\n"
     ]
    },
    {
     "data": {
      "text/plain": [
       "ENLSIP(-6, [0.0838585747561788, 1.1964809896760606, 1.0901888318577428, 1.198738562244937], 0.07862502288875073)"
      ]
     },
     "execution_count": 59,
     "metadata": {},
     "output_type": "execute_result"
    }
   ],
   "source": [
    "lb =  [0.1928, 0.1916, 0.1234, 0.1362]\n",
    "ub = [1.0, 1.0, 1.0, 1.0]\n",
    "\n",
    "x0 = generate_starting_point(lb,ub) # [0.19281; 0.19165; 0.12340; 13620]\n",
    "\n",
    "e = eps(Float64)\n",
    "se = sqrt(e)\n",
    "enlsipKowalik = enlsip(x0,resKowalik,consKowalik,n,m,nb_eq,nb_constraints,ε_abs = e, ε_rel = se, ε_x = se, ε_c = se)"
   ]
  },
  {
   "cell_type": "code",
   "execution_count": 57,
   "id": "3700d737",
   "metadata": {},
   "outputs": [],
   "source": [
    "using JuMP, Ipopt"
   ]
  },
  {
   "cell_type": "code",
   "execution_count": 62,
   "id": "480242bb",
   "metadata": {},
   "outputs": [
    {
     "name": "stdout",
     "output_type": "stream",
     "text": [
      "This is Ipopt version 3.14.4, running with linear solver MUMPS 5.4.1.\n",
      "\n",
      "Number of nonzeros in equality constraint Jacobian...:        0\n",
      "Number of nonzeros in inequality constraint Jacobian.:        0\n",
      "Number of nonzeros in Lagrangian Hessian.............:       10\n",
      "\n",
      "Total number of variables............................:        4\n",
      "                     variables with only lower bounds:        0\n",
      "                variables with lower and upper bounds:        4\n",
      "                     variables with only upper bounds:        0\n",
      "Total number of equality constraints.................:        0\n",
      "Total number of inequality constraints...............:        0\n",
      "        inequality constraints with only lower bounds:        0\n",
      "   inequality constraints with lower and upper bounds:        0\n",
      "        inequality constraints with only upper bounds:        0\n",
      "\n",
      "iter    objective    inf_pr   inf_du lg(mu)  ||d||  lg(rg) alpha_du alpha_pr  ls\n",
      "   0  6.4355180e+00 0.00e+00 1.60e+01  -1.0 0.00e+00    -  0.00e+00 0.00e+00   0\n",
      "   1  6.2073663e-01 0.00e+00 3.70e+00  -1.0 5.61e-01    -  2.10e-01 1.00e+00f  1\n",
      "   2  2.0193665e-01 0.00e+00 4.13e-01  -1.0 1.41e-01    -  1.00e+00 8.58e-01f  1\n",
      "   3  2.2169431e-01 0.00e+00 4.02e-04  -1.7 5.63e-02    -  1.00e+00 1.00e+00f  1\n",
      "   4  2.0062021e-01 0.00e+00 1.86e-02  -3.8 3.06e-02    -  8.99e-01 1.00e+00f  1\n",
      "   5  1.9445671e-01 0.00e+00 1.64e-02  -3.8 5.37e-01    -  8.40e-01 1.00e+00f  1\n",
      "   6  1.9336836e-01 0.00e+00 1.78e-04  -3.8 1.24e-01    -  1.00e+00 1.00e+00f  1\n",
      "   7  1.9291637e-01 0.00e+00 3.31e-04  -5.7 3.10e-02    -  9.56e-01 1.00e+00f  1\n",
      "   8  1.9288733e-01 0.00e+00 4.40e-06  -5.7 2.55e-01    -  1.00e+00 1.00e+00f  1\n",
      "   9  1.9288048e-01 0.00e+00 5.08e-06  -8.6 2.18e-02    -  9.76e-01 1.00e+00f  1\n",
      "iter    objective    inf_pr   inf_du lg(mu)  ||d||  lg(rg) alpha_du alpha_pr  ls\n",
      "  10  1.9288041e-01 0.00e+00 9.00e-11  -8.6 1.26e-03    -  1.00e+00 1.00e+00f  1\n",
      "\n",
      "Number of Iterations....: 10\n",
      "\n",
      "                                   (scaled)                 (unscaled)\n",
      "Objective...............:   1.9288040510564833e-01    1.9288040510564833e-01\n",
      "Dual infeasibility......:   9.0008488487406651e-11    9.0008488487406651e-11\n",
      "Constraint violation....:   0.0000000000000000e+00    0.0000000000000000e+00\n",
      "Variable bound violation:   8.7886068422804442e-09    8.7886068422804442e-09\n",
      "Complementarity.........:   2.5139631968790331e-09    2.5139631968790331e-09\n",
      "Overall NLP error.......:   2.5139631968790331e-09    2.5139631968790331e-09\n",
      "\n",
      "\n",
      "Number of objective function evaluations             = 11\n",
      "Number of objective gradient evaluations             = 11\n",
      "Number of equality constraint evaluations            = 0\n",
      "Number of inequality constraint evaluations          = 0\n",
      "Number of equality constraint Jacobian evaluations   = 0\n",
      "Number of inequality constraint Jacobian evaluations = 0\n",
      "Number of Lagrangian Hessian evaluations             = 10\n",
      "Total seconds in IPOPT                               = 0.003\n",
      "\n",
      "EXIT: Optimal Solution Found.\n"
     ]
    },
    {
     "data": {
      "text/plain": [
       "4-element Vector{Float64}:\n",
       " 0.19279999121139316\n",
       " 0.19160042633489713\n",
       " 0.9999995702595886\n",
       " 0.9999568035746623"
      ]
     },
     "execution_count": 62,
     "metadata": {},
     "output_type": "execute_result"
    }
   ],
   "source": [
    "lb =  [0.1928, 0.1916, 0.1234, 0.1362]\n",
    "ub = [1.0, 1.0, 1.0, 1.0]\n",
    "\n",
    "x0 = generate_starting_point(lb,ub)\n",
    "\n",
    "model = Model(Ipopt.Optimizer)\n",
    "\n",
    "@variable(model, lb[i] <= x[i=1:n] <= ub[i], start=x0[i])\n",
    "\n",
    "@NLobjective(model, Min, sum((V[k] - (x[1]*(y[k]^2 + x[2]*y[k])) / (y[k]^2+x[3]*y[k]+x[4]))^2 for k=1:m))\n",
    "\n",
    "optimize!(model)\n",
    "\n",
    "value.(model[:x])"
   ]
  }
 ],
 "metadata": {
  "kernelspec": {
   "display_name": "Julia 1.8.2",
   "language": "julia",
   "name": "julia-1.8"
  },
  "language_info": {
   "file_extension": ".jl",
   "mimetype": "application/julia",
   "name": "julia",
   "version": "1.8.2"
  }
 },
 "nbformat": 4,
 "nbformat_minor": 5
}
