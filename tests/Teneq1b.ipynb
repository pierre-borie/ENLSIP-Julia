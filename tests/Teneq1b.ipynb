{
   "cells": [
    {
     "cell_type": "markdown",
     "id": "260c28fa",
     "metadata": {},
     "source": [
      "# RÃ©solution problÃ¨me Teneq1b"
     ]
    },
    {
     "cell_type": "code",
     "execution_count": null,
     "id": "77cc5cb0",
     "metadata": {},
     "outputs": [],
     "source": [
      "using ForwardDiff, JuMP, Ipopt"
     ]
    },
    {
     "cell_type": "markdown",
     "id": "a9ea39d0",
     "metadata": {},
     "source": [
      "## RÃ©solution avec ENLSIP-Julia"
     ]
    },
    {
     "cell_type": "code",
     "execution_count": null,
     "id": "9a3e2d79",
     "metadata": {},
     "outputs": [],
     "source": [
      "include(\"../src/enlsip_functions_castor2.jl\")"
     ]
    },
    {
     "cell_type": "code",
     "execution_count": null,
     "id": "3863f190",
     "metadata": {},
     "outputs": [],
     "source": [
      "n = 10\n",
      "m = 10\n",
      "nb_eq = 0\n",
      "nb_constraints = 10"
     ]
    },
    {
     "cell_type": "code",
     "execution_count": null,
     "id": "3d2a8b04",
     "metadata": {},
     "outputs": [],
     "source": [
      "# Residuals \n",
      "\n",
      "function r(x::AbstractArray)\n",
      "    R = 40\n",
      "    sum_x = sum(x)\n",
      "    rx = [x[1]+x[4]-3;\n",
      "        2*x[1]+x[2]+x[4]+x[7]+x[8]+x[9]+2*x[10]-R;\n",
      "        2*x[2]+2*x[5]+x[6]+x[7]-8;\n",
      "        2*x[3]+x[5]-4*R;\n",
      "        x[1]*x[5]-0.193*x[2]*x[5];\n",
      "        x[6]*sqrt(x[2])- 0.002597*sqrt(x[2]*x[4]*sum_x);\n",
      "        x[7]*sqrt(x[4])- 0.003448*sqrt(x[1]*x[4]*sum_x);\n",
      "        x[8]*x[4]-0.00001799*x[2]*sum_x;\n",
      "        x[9]*x[4]-0.0002155*x[1]*sqrt(x[3]*sum_x);\n",
      "        x[10]*(x[4]^2) - 0.00003846*(x[4]^2) * sum_x]\n",
      "    return rx\n",
      "end\n",
      "\n",
      "\n",
      "\n",
      "resT1b = ResidualsEval(0)\n",
      "\n",
      "function (resT1b::ResidualsEval)(x::Vector, rx::Vector, J::Matrix)\n",
      "\n",
      "    # Evaluate the residuals\n",
      "    if abs(resT1b.ctrl) == 1\n",
      "        rx[:] = r(x)\n",
      "\n",
      "    # The jacobian is computed analytically\n",
      "    elseif resT1b.ctrl == 2\n",
      "        J[:] = ForwardDiff.jacobian(r,x)\n",
      "    end\n",
      "    return\n",
      "end"
     ]
    },
    {
     "cell_type": "code",
     "execution_count": null,
     "id": "f337bdbd",
     "metadata": {},
     "outputs": [],
     "source": [
      "# Constraints\n",
      "function c(x::AbstractArray)\n",
      "    res = [x[1]-0.0001;\n",
      "        x[2]-0.0001;\n",
      "        x[3]-0.0001;\n",
      "        x[4]-0.0001;\n",
      "        x[5];\n",
      "        x[6];\n",
      "        x[7];\n",
      "        x[8];\n",
      "        x[9];\n",
      "        x[10]]\n",
      "    return res\n",
      "end\n",
      "\n",
      "consT1b = ConstraintsEval(0)\n",
      "\n",
      "function (consT1b::ConstraintsEval)(x::Vector, cx::Vector, A::Matrix)\n",
      "\n",
      "    # Evaluate the constraints\n",
      "    if abs(consT1b.ctrl) == 1\n",
      "        cx[:] = c(x)\n",
      "    # The jacobian is computed numerically if ctrl is set to 0 on return\n",
      "    elseif consT1b.ctrl == 2\n",
      "        A[:] = ForwardDiff.jacobian(c,x)\n",
      "    end\n",
      "    return\n",
      "end"
     ]
    },
    {
     "cell_type": "code",
     "execution_count": null,
     "id": "b90e699a",
     "metadata": {
      "scrolled": false
     },
     "outputs": [],
     "source": [
      "x0 = [1.;1.;20.;1.;0.;0.;0.;0.;0.;1.] \n",
      "# x0 = [2.,5.,40.,1.,0.,0.,0.,0.,0.,5.]\n",
      "e = eps(Float64)\n",
      "se = sqrt(e)\n",
      "enlsipTeneq1b = enlsip(x0,resT1b,consT1b,n,m,nb_eq,nb_constraints)"
     ]
    },
    {
     "cell_type": "code",
     "execution_count": null,
     "id": "347fbf23",
     "metadata": {
      "scrolled": false
     },
     "outputs": [],
     "source": [
      "# x0 = [1.;1.;20.;1.;0.;0.;0.;0.;0.;1.] \n",
      "x0 = [2.,5.,40.,1.,0.,0.,0.,0.,0.,5.]\n",
      "e = eps(Float64)\n",
      "se = sqrt(e)\n",
      "enlsipTeneq1b = enlsip(x0,resT1b,consT1b,n,m,nb_eq,nb_constraints)"
     ]
    },
    {
     "cell_type": "code",
     "execution_count": null,
     "id": "e59d2a51",
     "metadata": {},
     "outputs": [],
     "source": [
      "enlsipTeneq1b.sol"
     ]
    },
    {
     "cell_type": "markdown",
     "id": "2b667abe",
     "metadata": {},
     "source": [
      "## RÃ©solution avec Ipopt"
     ]
    },
    {
     "cell_type": "code",
     "execution_count": null,
     "id": "62200a03",
     "metadata": {
      "scrolled": true
     },
     "outputs": [],
     "source": [
      "R = 40\n",
      "x0 = [1.;1.;20.;1.;0.;0.;0.;0.;0.;1.] \n",
      "# x0 = [2.,5.,40.,1.,0.,0.,0.,0.,0.,5.]\n",
      "x_low = [0.0001,0.0001,0.0001,0.0001,0.,0.,0.,0.,0.,0.]\n",
      "x_upp = Inf*ones(n)\n",
      "\n",
      "model = Model(Ipopt.Optimizer)\n",
      "\n",
      "@variable(model, x_low[i] <= x[i=1:n] <= x_upp[i], start = x0[i])\n",
      "\n",
      "@NLobjective(model, Min, (x[1]+x[4]-3)^2+\n",
      "        (2*x[1]+x[2]+x[4]+x[7]+x[8]+x[9]+2*x[10]-R)^2+\n",
      "        (2*x[2]+2*x[5]+x[6]+x[7]-8)^2+\n",
      "        (2*x[3]+x[5]-4*R)^2+\n",
      "        (x[1]*x[5]-0.193*x[2]*x[5])^2+\n",
      "        (x[6]*sqrt(x[2])- 0.002597*sqrt(x[2]*x[4]*sum(x[i] for i=1:n)))^2+\n",
      "        (x[7]*sqrt(x[4])- 0.003448*sqrt(x[1]*x[4]*sum(x[i] for i=1:n)))^2+\n",
      "        (x[8]*x[4]-0.00001799*x[2]*sum(x[i] for i=1:n))^2+\n",
      "        (x[9]*x[4]-0.0002155*x[1]*sqrt(x[3]*sum(x[i] for i=1:n)))^2+\n",
      "        (x[10]*(x[4]^2) - 0.00003846*(x[4]^2) * sum(x[i] for i=1:n))^2)\n",
      "\n",
      "optimize!(model)\n",
      "\n",
      "value.(model[:x])"
     ]
    }
   ],
   "metadata": {
    "kernelspec": {
     "display_name": "Julia 1.8.2",
     "language": "julia",
     "name": "julia-1.8"
    },
    "language_info": {
     "file_extension": ".jl",
     "mimetype": "application/julia",
     "name": "julia",
     "version": "1.8.2"
    }
   },
   "nbformat": 4,
   "nbformat_minor": 5
  }
  