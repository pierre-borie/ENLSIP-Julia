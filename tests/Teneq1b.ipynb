{
 "cells": [
  {
   "cell_type": "markdown",
   "id": "260c28fa",
   "metadata": {},
   "source": [
    "# Résolution problème Teneq1b"
   ]
  },
  {
   "cell_type": "code",
   "execution_count": 11,
   "id": "77cc5cb0",
   "metadata": {},
   "outputs": [],
   "source": [
    "using ForwardDiff, JuMP, Ipopt"
   ]
  },
  {
   "cell_type": "markdown",
   "id": "a9ea39d0",
   "metadata": {},
   "source": [
    "## Résolution avec ENLSIP-Julia"
   ]
  },
  {
   "cell_type": "code",
   "execution_count": 33,
   "id": "9a3e2d79",
   "metadata": {},
   "outputs": [
    {
     "data": {
      "text/plain": [
       "enlsip"
      ]
     },
     "execution_count": 33,
     "metadata": {},
     "output_type": "execute_result"
    }
   ],
   "source": [
    "include(\"../src/enlsip_functions_castor2.jl\")"
   ]
  },
  {
   "cell_type": "code",
   "execution_count": 4,
   "id": "3863f190",
   "metadata": {},
   "outputs": [
    {
     "data": {
      "text/plain": [
       "10"
      ]
     },
     "execution_count": 4,
     "metadata": {},
     "output_type": "execute_result"
    }
   ],
   "source": [
    "n = 10\n",
    "m = 10\n",
    "nb_eq = 0\n",
    "nb_constraints = 10"
   ]
  },
  {
   "cell_type": "code",
   "execution_count": 5,
   "id": "3d2a8b04",
   "metadata": {},
   "outputs": [],
   "source": [
    "# Residuals \n",
    "\n",
    "function r(x::AbstractArray)\n",
    "    R = 40\n",
    "    sum_x = sum(x)\n",
    "    rx = [x[1]+x[4]-3;\n",
    "        2*x[1]+x[2]+x[4]+x[7]+x[8]+x[9]+2*x[10]-R;\n",
    "        2*x[2]+2*x[5]+x[6]+x[7]-8;\n",
    "        2*x[3]+x[5]-4*R;\n",
    "        x[1]*x[5]-0.193*x[2]*x[5];\n",
    "        x[6]*sqrt(x[2])- 0.002597*sqrt(x[2]*x[4]*sum_x);\n",
    "        x[7]*sqrt(x[4])- 0.003448*sqrt(x[1]*x[4]*sum_x);\n",
    "        x[8]*x[4]-0.00001799*x[2]*sum_x;\n",
    "        x[9]*x[4]-0.0002155*x[1]*sqrt(x[3]*sum_x);\n",
    "        x[10]*(x[4]^2) - 0.00003846*(x[4]^2) * sum_x]\n",
    "    return rx\n",
    "end\n",
    "\n",
    "\n",
    "\n",
    "resT1b = ResidualsEval(0)\n",
    "\n",
    "function (resT1b::ResidualsEval)(x::Vector, rx::Vector, J::Matrix)\n",
    "\n",
    "    # Evaluate the residuals\n",
    "    if abs(resT1b.ctrl) == 1\n",
    "        rx[:] = r(x)\n",
    "\n",
    "    # The jacobian is computed analytically\n",
    "    elseif resT1b.ctrl == 2\n",
    "        J[:] = ForwardDiff.jacobian(r,x)\n",
    "    end\n",
    "    return\n",
    "end"
   ]
  },
  {
   "cell_type": "code",
   "execution_count": 6,
   "id": "f337bdbd",
   "metadata": {},
   "outputs": [],
   "source": [
    "# Constraints\n",
    "function c(x::AbstractArray)\n",
    "    res = [x[1]-0.0001;\n",
    "        x[2]-0.0001;\n",
    "        x[3]-0.0001;\n",
    "        x[4]-0.0001;\n",
    "        x[5];\n",
    "        x[6];\n",
    "        x[7];\n",
    "        x[8];\n",
    "        x[9];\n",
    "        x[10]]\n",
    "    return res\n",
    "end\n",
    "\n",
    "consT1b = ConstraintsEval(0)\n",
    "\n",
    "function (consT1b::ConstraintsEval)(x::Vector, cx::Vector, A::Matrix)\n",
    "\n",
    "    # Evaluate the constraints\n",
    "    if abs(consT1b.ctrl) == 1\n",
    "        cx[:] = c(x)\n",
    "    # The jacobian is computed numerically if ctrl is set to 0 on return\n",
    "    elseif consT1b.ctrl == 2\n",
    "        A[:] = ForwardDiff.jacobian(c,x)\n",
    "    end\n",
    "    return\n",
    "end"
   ]
  },
  {
   "cell_type": "code",
   "execution_count": 34,
   "id": "b90e699a",
   "metadata": {
    "scrolled": true
   },
   "outputs": [
    {
     "name": "stdout",
     "output_type": "stream",
     "text": [
      "\n",
      "****************************************\n",
      "*                                      *\n",
      "*          ENLSIP-JULIA-0.4.0          *\n",
      "*                                      *\n",
      "****************************************\n",
      "\n",
      "Starting point : [1.0, 1.0, 20.0, 1.0, 0.0, 0.0, 0.0, 0.0, 0.0, 1.0]\n",
      "\n",
      "Starting point :\n",
      "    1.000000e+00   1.000000e+00   2.000000e+01   1.000000e+00   0.000000e+00   0.000000e+00   0.000000e+00   0.000000e+00   0.000000e+00   1.000000e+00 \n",
      "\n",
      "Number of equality constraints   : 0\n",
      "Number of inequality constraints : 10\n",
      "Constraints internal scaling     : false\n",
      "\n",
      "\n",
      "Iteration steps information\n",
      "\n",
      "iter     objective    cx_sum   reduction     ||p||   dimA  dimJ2     α     conv. speed   max weight   working set\n",
      "   0  1.559400e+04  0.00e+00   4.63e+03   6.188e+01   4     6   1.61e-01    0.00e+00     1.00e-01    (5,6,7,8)\n",
      "   1  1.096404e+04  0.00e+00   1.22e-01   1.734e+03   4     6   5.55e-06    8.39e-01     1.00e-01    (5,6,7,8)\n",
      "   2  1.096392e+04  1.08e-16   1.10e+04   5.183e+01   5     5   1.00e+00    1.00e+00     1.00e-01    (4,5,7,8,9)\n",
      "   3  3.464041e-03  1.16e-30   7.46e-07   1.116e-03   4     6   1.00e+00    8.25e-06     1.00e-01    (4,7,8,9)\n",
      "   4  3.463295e-03  0.00e+00   7.10e-07   9.610e-02   3     7   1.00e+00    9.75e-01     1.00e-01    (4,8,9)\n",
      "   5  3.462585e-03  0.00e+00   4.07e-07   9.632e+00   2     8   4.82e-03    9.24e+00     1.00e-01    (8,9)\n",
      "   6  3.462178e-03  0.00e+00   2.49e-06   3.161e+01   2     8   1.15e-03    5.29e+00     1.00e-01    (8,9)\n",
      "   7  3.459684e-03  0.00e+00   2.32e-05   3.299e+01   1     9   3.46e-03    1.41e+00     1.00e-01    (8)\n",
      "   8  3.436469e-03  0.00e+00   7.11e-05   3.471e+01   0    10   1.04e-02    1.01e+00     1.00e-01     -\n",
      "   9  3.365401e-03  0.00e+00   3.35e-03   3.429e+01   0    10   8.78e-01    9.90e-01     1.00e-01     -\n",
      "  10  1.273739e-05  0.00e+00   1.27e-05   2.169e-02   0    10   1.00e+00    6.15e-02     1.00e-01     -\n",
      "  11  1.374197e-11  1.47e-21   1.37e-11   1.235e-03   1     9   1.00e+00    1.04e-03     1.00e-01    (5)\n",
      "\n",
      "Exit code = 40\n",
      "Number of iterations = 12 \n",
      "\n",
      "Terminated at point : 2.997635e+00  3.967031e+00  8.000000e+01  2.364593e-03  0.000000e+00  1.365971e-03  6.457258e-02  3.531209e+00  2.643055e+01  4.499807e-03 \n",
      "\n",
      "Active constraints : 5 \n",
      "Constraint values : \n",
      " 3.00e+00  3.97e+00  8.00e+01  2.26e-03  0.00e+00  1.37e-03  6.46e-02  3.53e+00  2.64e+01  4.50e-03 \n",
      "Penalty constants :\n",
      " 1.00e-01  1.00e-01  1.00e-01  1.00e-01  1.00e-02  1.00e-02  1.00e-02  1.00e-02  1.00e-02  1.00e-01 \n",
      "\n",
      "Square sum of residuals = 5.048729e-29\n",
      "\n"
     ]
    },
    {
     "data": {
      "text/plain": [
       "ENLSIP(40, [2.9976354073619396, 3.9670307223234453, 80.0, 0.002364592638060403, 0.0, 0.001365971440871114, 0.06457258391223862, 3.5312088194740587, 26.430552886097207, 0.0044997904155551095], 5.048729447680022e-29)"
      ]
     },
     "execution_count": 34,
     "metadata": {},
     "output_type": "execute_result"
    }
   ],
   "source": [
    "x0 = [1.;1.;20.;1.;0.;0.;0.;0.;0.;1.] \n",
    "# x0 = [2.,5.,40.,1.,0.,0.,0.,0.,0.,5.]\n",
    "e = eps(Float64)\n",
    "se = sqrt(e)\n",
    "enlsipTeneq1b = enlsip(x0,resT1b,consT1b,n,m,nb_eq,nb_constraints,ε_abs = e, ε_rel = se, ε_x = se, ε_c = se)"
   ]
  },
  {
   "cell_type": "code",
   "execution_count": 37,
   "id": "e59d2a51",
   "metadata": {},
   "outputs": [
    {
     "data": {
      "text/plain": [
       "10-element Vector{Float64}:\n",
       "  2.9976354073619396\n",
       "  3.9670307223234453\n",
       " 80.0\n",
       "  0.002364592638060403\n",
       "  0.0\n",
       "  0.001365971440871114\n",
       "  0.06457258391223862\n",
       "  3.5312088194740587\n",
       " 26.430552886097207\n",
       "  0.0044997904155551095"
      ]
     },
     "execution_count": 37,
     "metadata": {},
     "output_type": "execute_result"
    }
   ],
   "source": [
    "enlsipTeneq1b.sol"
   ]
  },
  {
   "cell_type": "markdown",
   "id": "2b667abe",
   "metadata": {},
   "source": [
    "## Résolution avec Ipopt"
   ]
  },
  {
   "cell_type": "code",
   "execution_count": 42,
   "id": "62200a03",
   "metadata": {
    "scrolled": true
   },
   "outputs": [
    {
     "name": "stdout",
     "output_type": "stream",
     "text": [
      "This is Ipopt version 3.14.4, running with linear solver MUMPS 5.4.1.\n",
      "\n",
      "Number of nonzeros in equality constraint Jacobian...:        0\n",
      "Number of nonzeros in inequality constraint Jacobian.:        0\n",
      "Number of nonzeros in Lagrangian Hessian.............:       55\n",
      "\n",
      "Total number of variables............................:       10\n",
      "                     variables with only lower bounds:       10\n",
      "                variables with lower and upper bounds:        0\n",
      "                     variables with only upper bounds:        0\n",
      "Total number of equality constraints.................:        0\n",
      "Total number of inequality constraints...............:        0\n",
      "        inequality constraints with only lower bounds:        0\n",
      "   inequality constraints with lower and upper bounds:        0\n",
      "        inequality constraints with only upper bounds:        0\n",
      "\n",
      "iter    objective    inf_pr   inf_du lg(mu)  ||d||  lg(rg) alpha_du alpha_pr  ls\n",
      "   0  1.5589081e+04 0.00e+00 1.01e+02  -1.0 0.00e+00    -  0.00e+00 0.00e+00   0\n",
      "   1  7.7787459e+03 0.00e+00 7.08e+01  -1.0 5.82e+01    -  1.14e-01 3.07e-01f  1\n",
      "   2  1.0402842e+00 0.00e+00 6.15e-01  -1.0 4.17e+01    -  4.72e-01 1.00e+00f  1\n",
      "   3  1.4808043e-01 0.00e+00 1.51e-02  -1.7 4.05e-01    -  9.61e-01 1.00e+00f  1\n",
      "   4  4.9485204e-02 0.00e+00 2.37e-02  -2.5 2.83e-01    -  9.96e-01 1.00e+00f  1\n",
      "   5  1.3108173e-02 0.00e+00 1.77e-02  -3.8 3.73e-01    -  1.00e+00 1.00e+00f  1\n",
      "   6  3.7661558e-03 0.00e+00 5.44e-03  -3.8 3.55e-01    -  1.00e+00 1.00e+00f  1\n",
      "   7  1.4971621e-03 0.00e+00 1.18e-03  -3.8 5.84e-01    -  1.00e+00 1.00e+00f  1\n",
      "   8  3.7550332e-04 0.00e+00 1.37e-03  -5.7 3.02e-01    -  8.71e-01 1.00e+00f  1\n",
      "   9  1.0844989e-04 0.00e+00 1.53e-03  -5.7 4.84e-01    -  1.00e+00 1.00e+00f  1\n",
      "iter    objective    inf_pr   inf_du lg(mu)  ||d||  lg(rg) alpha_du alpha_pr  ls\n",
      "  10  3.7704446e-05 0.00e+00 8.62e-04  -5.7 4.38e-01    -  1.00e+00 1.00e+00f  1\n",
      "  11  1.9333892e-05 0.00e+00 1.75e-03  -5.7 5.16e-01    -  1.00e+00 1.00e+00f  1\n",
      "  12  1.2778157e-05 0.00e+00 6.97e-04  -5.7 4.10e-01    -  1.00e+00 1.00e+00f  1\n",
      "  13  1.0301434e-05 0.00e+00 1.83e-03  -5.7 5.61e-01    -  1.00e+00 1.00e+00f  1\n",
      "  14  8.5111203e-06 0.00e+00 3.71e-04  -5.7 3.51e-01    -  1.00e+00 1.00e+00f  1\n",
      "  15  8.4120524e-06 0.00e+00 2.82e-03  -5.7 7.28e-01    -  1.00e+00 1.00e+00f  1\n",
      "  16  6.9976043e-06 0.00e+00 8.41e-06  -5.7 2.47e-01    -  1.00e+00 1.00e+00f  1\n",
      "  17  3.1374059e-06 0.00e+00 3.23e-03  -8.6 8.27e-01    -  8.79e-01 1.00e+00f  1\n",
      "  18  9.8725863e-07 0.00e+00 6.43e-05  -8.6 1.47e-01    -  1.00e+00 1.00e+00f  1\n",
      "  19  7.9966321e-07 0.00e+00 7.55e-04  -8.6 1.84e+00    -  1.00e+00 2.50e-01f  3\n",
      "iter    objective    inf_pr   inf_du lg(mu)  ||d||  lg(rg) alpha_du alpha_pr  ls\n",
      "  20  4.6237486e-07 0.00e+00 1.77e-04  -8.6 2.61e-01    -  1.00e+00 1.00e+00f  1\n",
      "  21  3.8718142e-07 0.00e+00 4.24e-04  -8.6 6.40e-01    -  1.00e+00 5.00e-01f  2\n",
      "  22  3.0172901e-07 0.00e+00 3.49e-04  -8.6 3.47e-01    -  1.00e+00 1.00e+00f  1\n",
      "  23  2.4765353e-07 0.00e+00 3.95e-04  -8.6 3.72e-01    -  1.00e+00 1.00e+00f  1\n",
      "  24  2.0381712e-07 0.00e+00 2.59e-04  -8.6 3.14e-01    -  1.00e+00 1.00e+00f  1\n",
      "  25  1.7378069e-07 0.00e+00 4.39e-04  -8.6 4.03e-01    -  1.00e+00 1.00e+00f  1\n",
      "  26  1.4363473e-07 0.00e+00 1.39e-04  -8.6 2.47e-01    -  1.00e+00 1.00e+00f  1\n",
      "  27  1.2834273e-07 0.00e+00 2.66e-04  -8.6 5.53e-01    -  1.00e+00 5.00e-01f  2\n",
      "  28  1.0970033e-07 0.00e+00 2.56e-04  -8.6 3.27e-01    -  1.00e+00 1.00e+00f  1\n",
      "  29  9.4298847e-08 0.00e+00 2.30e-04  -8.6 3.15e-01    -  1.00e+00 1.00e+00f  1\n",
      "iter    objective    inf_pr   inf_du lg(mu)  ||d||  lg(rg) alpha_du alpha_pr  ls\n",
      "  30  8.1774680e-08 0.00e+00 2.34e-04  -8.6 3.21e-01    -  1.00e+00 1.00e+00f  1\n",
      "  31  7.1088464e-08 0.00e+00 1.91e-04  -8.6 2.96e-01    -  1.00e+00 1.00e+00f  1\n",
      "  32  6.2614472e-08 0.00e+00 2.33e-04  -8.6 3.28e-01    -  1.00e+00 1.00e+00f  1\n",
      "  33  5.4845839e-08 0.00e+00 1.38e-04  -8.6 2.61e-01    -  1.00e+00 1.00e+00f  1\n",
      "  34  4.9839069e-08 0.00e+00 3.01e-04  -8.6 3.78e-01    -  1.00e+00 1.00e+00f  1\n",
      "  35  4.3277437e-08 0.00e+00 5.93e-05  -8.6 1.82e-01    -  1.00e+00 1.00e+00f  1\n",
      "  36  4.0141922e-08 0.00e+00 2.37e-04  -8.6 6.38e-01    -  1.00e+00 5.00e-01f  2\n",
      "  37  3.5578851e-08 0.00e+00 7.12e-05  -8.6 1.99e-01    -  1.00e+00 1.00e+00f  1\n",
      "  38  3.3106494e-08 0.00e+00 1.62e-04  -8.6 5.10e-01    -  1.00e+00 5.00e-01f  2\n",
      "  39  2.9907641e-08 0.00e+00 1.13e-04  -8.6 2.49e-01    -  1.00e+00 1.00e+00f  1\n",
      "iter    objective    inf_pr   inf_du lg(mu)  ||d||  lg(rg) alpha_du alpha_pr  ls\n",
      "  40  2.7489608e-08 0.00e+00 1.87e-04  -8.6 3.19e-01    -  1.00e+00 1.00e+00f  1\n",
      "  41  2.4896219e-08 0.00e+00 6.23e-05  -8.6 1.92e-01    -  1.00e+00 1.00e+00f  1\n",
      "  42  2.3442811e-08 0.00e+00 1.26e-04  -8.6 4.60e-01    -  1.00e+00 5.00e-01f  2\n",
      "  43  2.1568522e-08 0.00e+00 1.02e-04  -8.6 2.44e-01    -  1.00e+00 1.00e+00f  1\n",
      "  44  2.0009429e-08 0.00e+00 1.29e-04  -8.6 2.76e-01    -  1.00e+00 1.00e+00f  1\n",
      "  45  1.8528871e-08 0.00e+00 7.12e-05  -8.6 2.09e-01    -  1.00e+00 1.00e+00f  1\n",
      "  46  1.7571732e-08 0.00e+00 1.81e-04  -8.6 3.29e-01    -  1.00e+00 1.00e+00f  1\n",
      "  47  1.6181433e-08 0.00e+00 2.60e-05  -8.6 1.33e-01    -  1.00e+00 1.00e+00f  1\n",
      "  48  1.5585075e-08 0.00e+00 1.73e-04  -8.6 6.24e-01    -  1.00e+00 5.00e-01f  2\n",
      "  49  1.4452260e-08 0.00e+00 2.06e-05  -8.6 1.21e-01    -  1.00e+00 1.00e+00f  1\n",
      "iter    objective    inf_pr   inf_du lg(mu)  ||d||  lg(rg) alpha_du alpha_pr  ls\n",
      "  50  1.4039795e-08 0.00e+00 1.78e-04  -8.6 6.47e-01    -  1.00e+00 5.00e-01f  2\n",
      "  51  1.3040510e-08 0.00e+00 1.35e-05  -8.6 1.01e-01    -  1.00e+00 1.00e+00f  1\n",
      "  52  1.2583719e-08 0.00e+00 6.19e-05  -8.6 7.32e-01    -  1.00e+00 2.50e-01f  3\n",
      "  53  1.2019394e-08 0.00e+00 7.74e-05  -8.6 2.27e-01    -  1.00e+00 1.00e+00f  1\n",
      "  54  1.1515292e-08 0.00e+00 4.18e-05  -8.6 1.70e-01    -  1.00e+00 1.00e+00f  1\n",
      "  55  1.1094099e-08 0.00e+00 1.03e-04  -8.6 2.63e-01    -  1.00e+00 1.00e+00f  1\n",
      "  56  1.0674585e-08 0.00e+00 1.51e-05  -8.6 1.06e-01    -  1.00e+00 1.00e+00f  1\n",
      "  57  1.0357307e-08 0.00e+00 8.23e-05  -8.6 4.52e-01    -  1.00e+00 5.00e-01f  2\n",
      "  58  1.0047887e-08 0.00e+00 1.45e-05  -8.6 1.04e-01    -  1.00e+00 1.00e+00f  1\n",
      "  59  9.7837515e-09 0.00e+00 5.70e-05  -8.6 3.73e-01    -  1.00e+00 5.00e-01f  2\n",
      "iter    objective    inf_pr   inf_du lg(mu)  ||d||  lg(rg) alpha_du alpha_pr  ls\n",
      "  60  9.5514024e-09 0.00e+00 1.70e-05  -8.6 1.12e-01    -  1.00e+00 1.00e+00f  1\n",
      "  61  9.3675156e-09 0.00e+00 3.16e-05  -8.6 2.57e-01    -  1.00e+00 5.00e-01f  2\n",
      "  62  9.1600903e-09 0.00e+00 2.71e-05  -8.6 1.40e-01    -  1.00e+00 1.00e+00f  1\n",
      "  63  8.9789072e-09 0.00e+00 2.31e-05  -8.6 1.30e-01    -  1.00e+00 1.00e+00f  1\n",
      "  64  8.8241853e-09 0.00e+00 1.85e-05  -8.6 1.17e-01    -  1.00e+00 1.00e+00f  1\n",
      "  65  8.6918517e-09 0.00e+00 1.49e-05  -8.6 1.05e-01    -  1.00e+00 1.00e+00f  1\n",
      "  66  8.5855942e-09 0.00e+00 1.03e-05  -8.6 8.78e-02    -  1.00e+00 1.00e+00f  1\n",
      "  67  8.4994360e-09 0.00e+00 7.34e-06  -8.6 7.42e-02    -  1.00e+00 1.00e+00f  1\n",
      "  68  8.4406793e-09 0.00e+00 3.57e-06  -8.6 5.19e-02    -  1.00e+00 1.00e+00f  1\n",
      "  69  8.4026024e-09 0.00e+00 1.58e-06  -8.6 3.45e-02    -  1.00e+00 1.00e+00f  1\n",
      "iter    objective    inf_pr   inf_du lg(mu)  ||d||  lg(rg) alpha_du alpha_pr  ls\n",
      "  70  8.3877869e-09 0.00e+00 2.44e-07  -8.6 1.36e-02    -  1.00e+00 1.00e+00f  1\n",
      "  71  8.3848033e-09 0.00e+00 1.00e-08  -8.6 2.75e-03    -  1.00e+00 1.00e+00f  1\n",
      "  72  7.3263077e-09 0.00e+00 9.15e-05  -9.0 1.04e+00    -  1.00e+00 2.50e-01f  3\n",
      "  73  4.3267808e-09 0.00e+00 5.85e-06  -9.0 7.05e-02    -  1.00e+00 1.00e+00f  1\n",
      "  74  4.1842835e-09 0.00e+00 2.91e-05  -9.0 5.48e-01    -  1.00e+00 2.50e-01f  3\n",
      "  75  3.9608270e-09 0.00e+00 3.50e-05  -9.0 1.65e-01    -  1.00e+00 1.00e+00f  1\n",
      "  76  3.8481465e-09 0.00e+00 1.89e-05  -9.0 1.22e-01    -  1.00e+00 1.00e+00f  1\n",
      "  77  3.7305671e-09 0.00e+00 4.09e-05  -9.0 1.79e-01    -  1.00e+00 1.00e+00f  1\n",
      "  78  3.6517854e-09 0.00e+00 7.02e-06  -9.0 7.60e-02    -  1.00e+00 1.00e+00f  1\n",
      "  79  3.5714918e-09 0.00e+00 2.36e-05  -9.0 2.52e-01    -  1.00e+00 5.00e-01f  2\n",
      "iter    objective    inf_pr   inf_du lg(mu)  ||d||  lg(rg) alpha_du alpha_pr  ls\n",
      "  80  3.5071274e-09 0.00e+00 9.28e-06  -9.0 8.68e-02    -  1.00e+00 1.00e+00f  1\n",
      "  81  3.4247184e-09 0.00e+00 2.53e-05  -9.0 1.42e-01    -  1.00e+00 1.00e+00f  1\n",
      "  82  3.3886479e-09 0.00e+00 2.39e-06  -9.0 4.49e-02    -  1.00e+00 1.00e+00f  1\n",
      "  83  3.3453349e-09 0.00e+00 8.02e-06  -9.0 1.48e-01    -  1.00e+00 5.00e-01f  2\n",
      "  84  3.3118069e-09 0.00e+00 3.96e-06  -9.0 5.69e-02    -  1.00e+00 1.00e+00f  1\n",
      "  85  3.2832617e-09 0.00e+00 3.11e-06  -9.0 5.04e-02    -  1.00e+00 1.00e+00f  1\n",
      "  86  3.2696373e-09 0.00e+00 7.20e-07  -9.0 2.43e-02    -  1.00e+00 1.00e+00f  1\n",
      "  87  3.2625438e-09 0.00e+00 2.02e-07  -9.0 1.29e-02    -  1.00e+00 1.00e+00f  1\n",
      "  88  3.2615949e-09 0.00e+00 3.63e-09  -9.0 1.73e-03    -  1.00e+00 1.00e+00f  1\n",
      "\n",
      "Number of Iterations....: 88\n",
      "\n",
      "                                   (scaled)                 (unscaled)\n",
      "Objective...............:   6.7949885721072864e-10    3.2615948961975417e-09\n",
      "Dual infeasibility......:   3.6272251284541666e-09    1.7410682653520125e-08\n",
      "Constraint violation....:   0.0000000000000000e+00    0.0000000000000000e+00\n",
      "Variable bound violation:   0.0000000000000000e+00    0.0000000000000000e+00\n",
      "Complementarity.........:   9.0909090909090920e-10    4.3636368741543740e-09\n",
      "Overall NLP error.......:   3.6272251284541666e-09    1.7410682653520125e-08\n",
      "\n",
      "\n",
      "Number of objective function evaluations             = 173\n",
      "Number of objective gradient evaluations             = 89\n",
      "Number of equality constraint evaluations            = 0\n",
      "Number of inequality constraint evaluations          = 0\n",
      "Number of equality constraint Jacobian evaluations   = 0\n",
      "Number of inequality constraint Jacobian evaluations = 0\n",
      "Number of Lagrangian Hessian evaluations             = 88\n",
      "Total seconds in IPOPT                               = 0.029\n",
      "\n",
      "EXIT: Optimal Solution Found.\n"
     ]
    },
    {
     "data": {
      "text/plain": [
       "10-element Vector{Float64}:\n",
       "  2.9969557214716014\n",
       "  3.967420428501825\n",
       " 79.99998953532302\n",
       "  0.0030442781172954065\n",
       "  2.0929381776805467e-5\n",
       "  0.0015266065584082261\n",
       "  0.06359067820261005\n",
       "  2.660040028255055\n",
       " 20.211508103382158\n",
       "  3.5502425203844874"
      ]
     },
     "execution_count": 42,
     "metadata": {},
     "output_type": "execute_result"
    }
   ],
   "source": [
    "R = 40\n",
    "x0 = [1.;1.;20.;1.;0.;0.;0.;0.;0.;1.] \n",
    "# x0 = [2.,5.,40.,1.,0.,0.,0.,0.,0.,5.]\n",
    "x_low = [0.0001,0.0001,0.0001,0.0001,0.,0.,0.,0.,0.,0.]\n",
    "x_upp = Inf*ones(n)\n",
    "\n",
    "model = Model(Ipopt.Optimizer)\n",
    "\n",
    "@variable(model, x_low[i] <= x[i=1:n] <= x_upp[i], start = x0[i])\n",
    "\n",
    "@NLobjective(model, Min, (x[1]+x[4]-3)^2+\n",
    "        (2*x[1]+x[2]+x[4]+x[7]+x[8]+x[9]+2*x[10]-R)^2+\n",
    "        (2*x[2]+2*x[5]+x[6]+x[7]-8)^2+\n",
    "        (2*x[3]+x[5]-4*R)^2+\n",
    "        (x[1]*x[5]-0.193*x[2]*x[5])^2+\n",
    "        (x[6]*sqrt(x[2])- 0.002597*sqrt(x[2]*x[4]*sum(x[i] for i=1:n)))^2+\n",
    "        (x[7]*sqrt(x[4])- 0.003448*sqrt(x[1]*x[4]*sum(x[i] for i=1:n)))^2+\n",
    "        (x[8]*x[4]-0.00001799*x[2]*sum(x[i] for i=1:n))^2+\n",
    "        (x[9]*x[4]-0.0002155*x[1]*sqrt(x[3]*sum(x[i] for i=1:n)))^2+\n",
    "        (x[10]*(x[4]^2) - 0.00003846*(x[4]^2) * sum(x[i] for i=1:n))^2)\n",
    "\n",
    "optimize!(model)\n",
    "\n",
    "value.(model[:x])"
   ]
  }
 ],
 "metadata": {
  "kernelspec": {
   "display_name": "Julia 1.8.2",
   "language": "julia",
   "name": "julia-1.8"
  },
  "language_info": {
   "file_extension": ".jl",
   "mimetype": "application/julia",
   "name": "julia",
   "version": "1.8.2"
  }
 },
 "nbformat": 4,
 "nbformat_minor": 5
}
