{
 "cells": [
  {
   "cell_type": "markdown",
   "metadata": {},
   "source": [
    "# Résolution problème Chained Rosenbrock"
   ]
  },
  {
   "cell_type": "code",
   "execution_count": null,
   "metadata": {},
   "outputs": [],
   "source": [
    "using BenchmarkTools, ForwardDiff, Distributions"
   ]
  },
  {
   "cell_type": "code",
   "execution_count": null,
   "metadata": {},
   "outputs": [],
   "source": [
    "include(\"../src/enlsip_functions_castor2.jl\")"
   ]
  },
  {
   "cell_type": "code",
   "execution_count": null,
   "metadata": {},
   "outputs": [],
   "source": [
    "n = 1000\n",
    "m = 2(n-1)\n",
    "nb_eq = n-2\n",
    "nb_constraints = n-2"
   ]
  },
  {
   "cell_type": "code",
   "execution_count": null,
   "metadata": {},
   "outputs": [],
   "source": [
    "# Residuals\n",
    "\n",
    "function r(x::Vector)\n",
    "    n = length(x)\n",
    "    m = 2(n-1)\n",
    "    rx = Vector(undef,m)\n",
    "    rx[1:n-1] = [10(x[i]^2 - x[i]) for i=1:n-1]\n",
    "    rx[n:m] = [x[k-n+1] - 1 for k=n:m]\n",
    "    return rx\n",
    "end\n",
    "\n",
    "resCR = ResidualsEval(0)\n",
    "\n",
    "function (resCR::ResidualsEval)(x::Vector, rx::Vector, J::Matrix)\n",
    "\n",
    "    # Evaluate the residuals\n",
    "    if abs(resCR.ctrl) == 1\n",
    "        rx[:] = r(x)\n",
    "\n",
    "    # The jacobian is computed analytically\n",
    "    elseif resCR.ctrl == 2\n",
    "        J[:] = ForwardDiff.jacobian(r,x)\n",
    "    end\n",
    "    return\n",
    "end"
   ]
  },
  {
   "cell_type": "code",
   "execution_count": null,
   "metadata": {},
   "outputs": [],
   "source": [
    "function c(x::Vector)\n",
    "    n = length(x)\n",
    "    cx = [3x[k+1]^3 + 2x[k+2] - 5 + sin(x[k+1]-x[k+2])*sin(x[k+1]+x[k+2]) + 4x[k+2] - \n",
    "        x[k]*exp(x[k]-x[k+1]) - 3 for k=1:n-2]\n",
    "    return cx\n",
    "end\n",
    "    \n",
    "consCR = ConstraintsEval(0)\n",
    "\n",
    "function (consCR::ConstraintsEval)(x::Vector, cx::Vector, A::Matrix)\n",
    "\n",
    "    # Evaluate the constraints\n",
    "    if abs(consCR.ctrl) == 1\n",
    "        cx[:] = c(x)\n",
    "    # The jacobian is computed numerically if ctrl is set to 0 on return\n",
    "    elseif consCR.ctrl == 2\n",
    "        A[:] = ForwardDiff.jacobian(c,x)\n",
    "    end\n",
    "    return\n",
    "end"
   ]
  },
  {
   "cell_type": "code",
   "execution_count": null,
   "metadata": {
    "scrolled": false
   },
   "outputs": [],
   "source": [
    "x0 = [(mod(i,2) == 1 ? -1.2 : 1.0) for i=1:n]\n",
    "enlsipCR = enlsip(x0,resCR,consCR,n,m,nb_eq,nb_constraints)"
   ]
  },
  {
   "cell_type": "markdown",
   "metadata": {},
   "source": [
    "# Résolution avec Ipopt"
   ]
  },
  {
   "cell_type": "code",
   "execution_count": null,
   "metadata": {},
   "outputs": [],
   "source": [
    "using JuMP, Ipopt"
   ]
  },
  {
   "cell_type": "code",
   "execution_count": null,
   "metadata": {
    "scrolled": true
   },
   "outputs": [],
   "source": [
    "x0 = [(mod(i,2) == 1 ? -1.2 : 1.0) for i=1:n]\n",
    "\n",
    "model = Model(Ipopt.Optimizer)\n",
    "@variable(model, x[i=1:n], start = x0[i])\n",
    "\n",
    "for k=1:n-2\n",
    "    @NLconstraint(model, 3x[k+1]^3 + 2x[k+2] - 5 + sin(x[k+1]-x[k+2])*sin(x[k+1]+x[k+2]) + 4x[k+2] - \n",
    "        x[k]*exp(x[k]-x[k+1]) - 3 == 0)\n",
    "end\n",
    "\n",
    "@NLobjective(model, Min, sum(100(x[i]^2 - x[i])^2 + (x[i]-1)^2 for i=1:n-1))\n",
    "\n",
    "JuMP.optimize!(model)"
   ]
  },
  {
   "cell_type": "markdown",
   "metadata": {},
   "source": [
    "## Comparaison norme au carré des résidus\n",
    "\n"
   ]
  },
  {
   "cell_type": "code",
   "execution_count": null,
   "metadata": {},
   "outputs": [],
   "source": [
    "@printf \"Valeur ENLSIP-Julia %.10e\\n\\n\" enlsipCR.obj_value\n",
    "\n",
    "@printf \"Valeur Ipopt = %.10e\\n\\n\" objective_value(model)"
   ]
  }
 ],
 "metadata": {
  "kernelspec": {
   "display_name": "Julia 1.8.2",
   "language": "julia",
   "name": "julia-1.8"
  },
  "language_info": {
   "file_extension": ".jl",
   "mimetype": "application/julia",
   "name": "julia",
   "version": "1.8.2"
  }
 },
 "nbformat": 4,
 "nbformat_minor": 4
}
