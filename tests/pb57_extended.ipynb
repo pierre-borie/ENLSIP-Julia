{
 "cells": [
  {
   "cell_type": "markdown",
   "metadata": {},
   "source": [
    "# Extension Problem 57 from Hock-Schittkowski's collection\n",
    "\n",
    "Classification : SQR-P1-1\n",
    "\n",
    "Number of variables : n = 2\n",
    "\n",
    "Number of constraints : 3 (1 inequality + 2 bounds)\n",
    "\n",
    "# Modèle\n",
    "\n",
    "Let $m \\in \\mathbb{N}^*$ the number of residuals\n",
    "\n",
    "$\\left\\{  \n",
    "\\begin{array}{l l l l} \n",
    "\\min f(x) \\\\ \n",
    "\\text{s.c.}\\\\\n",
    "0.49x_2-x_1x_2-0.09 &\\geq 0\\\\\n",
    "x_1\\geq 0.4,\\  x_2 \\geq -4\n",
    "\\end{array} \\right.$\n",
    "\n",
    "with $f : x \\longmapsto \\sum\\limits_{i=1}^{m} f_i(x)^2$\n",
    "\n",
    "and $f_i(x) = b_i - x_1 - (0.49-x_1)\\exp(-x_2(a_i-8)) \\text{ for }i=1,\\ldots,m$ \n",
    "\n",
    "Departure point : $x_0 = (0.42,5)$\n",
    "\n",
    "Expected solution : $x^* = (0.419952675,1.284845629)$\n",
    "\n",
    "Objective function at the solution : $f(x^*) =0.02845966972$"
   ]
  },
  {
   "cell_type": "code",
   "execution_count": 1,
   "metadata": {},
   "outputs": [
    {
     "data": {
      "text/plain": [
       "enlsip"
      ]
     },
     "execution_count": 1,
     "metadata": {},
     "output_type": "execute_result"
    }
   ],
   "source": [
    "include(\"../src/enlsip_functions.jl\")"
   ]
  },
  {
   "cell_type": "code",
   "execution_count": 54,
   "metadata": {},
   "outputs": [
    {
     "data": {
      "text/plain": [
       "3"
      ]
     },
     "execution_count": 54,
     "metadata": {},
     "output_type": "execute_result"
    }
   ],
   "source": [
    "n = 2\n",
    "m = 5000\n",
    "nb_eq = 0 # nombre de contraintes d'égalité\n",
    "nb_constraints = 3 # nombre de contraintes d'égalité et d'inégalité"
   ]
  },
  {
   "cell_type": "code",
   "execution_count": 4,
   "metadata": {},
   "outputs": [
    {
     "data": {
      "text/plain": [
       "#36 (generic function with 1 method)"
      ]
     },
     "execution_count": 4,
     "metadata": {},
     "output_type": "execute_result"
    }
   ],
   "source": [
    "# Model with expected parameters\n",
    "\n",
    "h = x -> 0.419952675 + (0.49-0.419952675) * exp(-1.284845629*(x-8))"
   ]
  },
  {
   "cell_type": "markdown",
   "metadata": {},
   "source": [
    "### Données d'entrée"
   ]
  },
  {
   "cell_type": "code",
   "execution_count": 55,
   "metadata": {},
   "outputs": [
    {
     "data": {
      "text/plain": [
       "5000-element Vector{Float64}:\n",
       " 0.4017098731177634\n",
       " 0.5514144898935941\n",
       " 0.5212816829467923\n",
       " 0.5429195193867788\n",
       " 0.578477991784928\n",
       " 0.48786018536468584\n",
       " 0.5279240075671945\n",
       " 0.48853892154258527\n",
       " 0.44378062751668385\n",
       " 0.5276613306736758\n",
       " 0.4926105775700036\n",
       " 0.40533859568954367\n",
       " 0.48448894726895997\n",
       " ⋮\n",
       " 0.43203928940210923\n",
       " 0.37181107548832415\n",
       " 0.3405222577671956\n",
       " 0.3532825812529093\n",
       " 0.4692515187565545\n",
       " 0.45359860786516837\n",
       " 0.39228106808901186\n",
       " 0.4416794595432301\n",
       " 0.39513575199452505\n",
       " 0.4805305329827037\n",
       " 0.4584557518911522\n",
       " 0.45422477232959785"
      ]
     },
     "execution_count": 55,
     "metadata": {},
     "output_type": "execute_result"
    }
   ],
   "source": [
    "# Data set from the original problem\n",
    "\n",
    "#a = [8.,8.,10.,10.,10.,10.,12.,12.,12.,12.,14.,14.,14.,16.,16.,16.,18.,18.,20.,20.,20.,22.,22.,22., \n",
    "#         24.,24.,24.,26.,26.,26.,28.,28.,30.,30.,30.,32.,32.,34.,36.,36.,38.,38.,40.,42.]\n",
    "\n",
    "#b = [.49,.49,.48,.47,.48,.47,.46,.46,.45,.43,.45,.43,.43,.44,.43,.43,.46,.45,.42,.42,.43,.41,\n",
    "#         .41,.40,.42,.40,.40,.41,.40,.41,.41,.40,.40,.40,.38,.41,.40,.40,.41,.38,.40,.40,.39,.39]\n",
    "\n",
    "# Entry data randomly generated between 8 and 42\n",
    "# Output generated using model with expected parameters with gaussian noise\n",
    "\n",
    "noise = 5e-2\n",
    "\n",
    "a = range(8, 42, length = m)\n",
    "b = h.(a) + noise*randn(m)\n",
    " "
   ]
  },
  {
   "cell_type": "code",
   "execution_count": 56,
   "metadata": {},
   "outputs": [],
   "source": [
    "# Résidus et matrice jacobienne associée\n",
    "\n",
    "r_i(x::Vector,t::Float64) = x[1] + (0.49 - x[1]) * exp(-x[2]*(t - 8))\n",
    "res57 = ResidualsEval(0)\n",
    "\n",
    "function (res57::ResidualsEval)(x::Vector,rx::Vector,J::Matrix)\n",
    "    # Evaluate the residuals\n",
    "    if abs(res57.ctrl) == 1\n",
    "        rx[:] = b - (t::Float64 -> r_i(x,t)).(a)\n",
    "\n",
    "    # The jacobian is computed numericaly using forward differences\n",
    "    # ctrl is set to 0\n",
    "    elseif res57.ctrl == 2 res57.ctrl = 0 end\n",
    "    return\n",
    "end"
   ]
  },
  {
   "cell_type": "code",
   "execution_count": 57,
   "metadata": {},
   "outputs": [],
   "source": [
    "# Contraintes et matrice jacobienne associée\n",
    "\n",
    "cons57 = ConstraintsEval(0)\n",
    "\n",
    "function (cons57::ConstraintsEval)(x::Vector,cx::Vector,A::Matrix)\n",
    "    # Evaluate the constraints\n",
    "    if abs(cons57.ctrl) == 1\n",
    "        cx[:] = [0.49 * x[2] - x[1] * x[2] - 0.09, x[1] - 0.4, x[2] + 4]\n",
    "    \n",
    "    # The jacobian is computed anaticaly\n",
    "    elseif cons57.ctrl == 2\n",
    "        A[:] = [-x[2] 0.49-x[1];\n",
    "        1.0 0.0;\n",
    "        0.0 1.0]\n",
    "    end\n",
    "end"
   ]
  },
  {
   "cell_type": "code",
   "execution_count": 58,
   "metadata": {},
   "outputs": [
    {
     "data": {
      "text/plain": [
       "1.4901161193847656e-8"
      ]
     },
     "execution_count": 58,
     "metadata": {},
     "output_type": "execute_result"
    }
   ],
   "source": [
    "# Relative precision\n",
    "\n",
    "ε = eps(Float64)\n",
    "sqrt_ε = sqrt(eps(Float64))"
   ]
  },
  {
   "cell_type": "markdown",
   "metadata": {},
   "source": [
    "# Resolve zith ENLSIP-0.4.0"
   ]
  },
  {
   "cell_type": "code",
   "execution_count": 59,
   "metadata": {
    "scrolled": false
   },
   "outputs": [
    {
     "name": "stdout",
     "output_type": "stream",
     "text": [
      "\n",
      "****************************************\n",
      "*                                      *\n",
      "*          ENLSIP-JULIA-0.4.0          *\n",
      "*                                      *\n",
      "****************************************\n",
      "\n",
      "Starting point : [0.42, 5.0]\n",
      "\n",
      "Number of equality constraints   : 0\n",
      "Number of inequality constraints : 3\n",
      "Constraints internal scaling     : false\n",
      "\n",
      "iter    objective    cx_sum   reduction     ||p||   dimA  dimJ2     α     conv. speed   max weight   working set\n",
      "   0  1.262391e+01  0.00e+00   1.12e-01   6.073e+00   0     2   6.04e-01    0.00e+00     1.00e-01     -\n",
      "   1  1.262359e+01  0.00e+00   3.22e-04   4.795e-02   0     2   8.15e-01    7.20e-02     1.00e-01     -\n",
      "   2  1.262358e+01  5.28e-11   6.96e-06   6.197e-04   1     1   1.00e+00    1.25e-01     1.00e-01    (1)\n",
      "   3  1.262358e+01  5.76e-16   4.44e-10   2.034e-07   1     1   1.00e+00    3.27e-04     1.54e+06    (1)\n",
      "\n",
      "Exit code = 10040\n",
      "Number of iterations = 4 \n",
      "\n",
      "Terminated at point : 4.204464e-01  1.293966e+00 \n",
      "\n",
      "Active constraints : 1 \n",
      "Constraint values : \n",
      " 8.60e-16  2.04e-02  5.29e+00 \n",
      "Penalty constants :\n",
      " 1.54e+06  1.00e-01  1.00e-01 \n",
      "Square sum of residuals = 1.262358e+01\n",
      "\n"
     ]
    },
    {
     "data": {
      "text/plain": [
       "ENLSIP([0.420446412990481, 1.2939663340106904], 12.623579146004476)"
      ]
     },
     "execution_count": 59,
     "metadata": {},
     "output_type": "execute_result"
    }
   ],
   "source": [
    "x0 = [0.42,5.0]\n",
    "enlsip57 = enlsip(x0,res57,cons57,n,m,nb_eq,nb_constraints,ε_abs = ε, ε_rel = sqrt_ε, ε_x = sqrt_ε, ε_c = sqrt_ε)"
   ]
  },
  {
   "cell_type": "code",
   "execution_count": 60,
   "metadata": {
    "scrolled": true
   },
   "outputs": [
    {
     "name": "stdout",
     "output_type": "stream",
     "text": [
      "Solution found with ENLSIP :\n",
      "x_sol = (4.20446413e-01, 1.293966334e+00)\n",
      "f(x_sol) = 1.262357915e+01\n",
      "\n",
      "Original parameters :\n",
      "x_opt = (4.19952675e-01, 1.284845629e+00)\n",
      "f(x_opt) = 2.845966972e-02"
     ]
    }
   ],
   "source": [
    "x1_sol = enlsip57.sol[1]\n",
    "x2_sol = enlsip57.sol[2]\n",
    "\n",
    "println(\"Solution found with ENLSIP :\")\n",
    "@printf \"x_sol = (%.8e, %.9e)\\n\" x1_sol x2_sol\n",
    "@printf \"f(x_sol) = %.9e\\n\" enlsip57.obj_value  \n",
    "\n",
    "println(\"\\nOriginal parameters :\")\n",
    "@printf \"x_opt = (%.8e, %.9e)\\n\" 0.419952675 1.284845629\n",
    "@printf \"f(x_opt) = %.9e\" 0.02845966972"
   ]
  },
  {
   "cell_type": "markdown",
   "metadata": {},
   "source": [
    "# Resolve using Ipopt"
   ]
  },
  {
   "cell_type": "code",
   "execution_count": 23,
   "metadata": {},
   "outputs": [],
   "source": [
    "using JuMP, Ipopt"
   ]
  },
  {
   "cell_type": "code",
   "execution_count": 37,
   "metadata": {},
   "outputs": [
    {
     "name": "stdout",
     "output_type": "stream",
     "text": [
      "This is Ipopt version 3.14.4, running with linear solver MUMPS 5.4.1.\n",
      "\n",
      "Number of nonzeros in equality constraint Jacobian...:        0\n",
      "Number of nonzeros in inequality constraint Jacobian.:        4\n",
      "Number of nonzeros in Lagrangian Hessian.............:        0\n",
      "\n",
      "Total number of variables............................:        2\n",
      "                     variables with only lower bounds:        0\n",
      "                variables with lower and upper bounds:        0\n",
      "                     variables with only upper bounds:        0\n",
      "Total number of equality constraints.................:        0\n",
      "Total number of inequality constraints...............:        3\n",
      "        inequality constraints with only lower bounds:        3\n",
      "   inequality constraints with lower and upper bounds:        0\n",
      "        inequality constraints with only upper bounds:        0\n",
      "\n",
      "iter    objective    inf_pr   inf_du lg(mu)  ||d||  lg(rg) alpha_du alpha_pr  ls\n",
      "   0  1.2477566e+00 0.00e+00 2.88e+00   0.0 0.00e+00    -  0.00e+00 0.00e+00   0\n",
      "   1  1.2424055e+00 0.00e+00 3.19e+01  -0.8 8.38e-01    -  9.84e-01 9.60e-03f  6\n",
      "   2  1.2381769e+00 0.00e+00 1.77e-02  -1.7 3.01e-03    -  1.00e+00 1.00e+00f  1\n",
      "   3  1.2381589e+00 0.00e+00 2.03e-02  -3.8 2.02e-04    -  9.97e-01 1.00e+00h  1\n",
      "   4  1.2381580e+00 0.00e+00 2.02e-02  -5.5 2.40e-05    -  1.00e+00 1.00e+00h  1\n",
      "   5  1.2379929e+00 0.00e+00 1.68e-01  -7.4 4.49e-03    -  1.00e+00 1.00e+00f  1\n",
      "   6  1.2343152e+00 0.00e+00 4.49e+00  -9.5 9.93e-02    -  1.00e+00 1.00e+00f  1\n",
      "   7  1.0240740e+00 6.41e-03 2.73e+01 -10.0 4.09e+00    -  1.00e+00 9.12e-01f  1\n",
      "   8  1.0705107e+00 0.00e+00 1.21e+01  -9.3 1.07e+00    -  1.00e+00 1.00e+00h  1\n",
      "   9  1.0064009e+00 0.00e+00 1.05e+01 -10.6 9.15e-01    -  1.00e+00 1.00e+00f  1\n",
      "iter    objective    inf_pr   inf_du lg(mu)  ||d||  lg(rg) alpha_du alpha_pr  ls\n",
      "  10  1.0055700e+00 0.00e+00 9.46e+00  -8.4 9.56e-01    -  1.00e+00 2.12e-02h  1\n",
      "  11  1.0045547e+00 0.00e+00 6.38e+00  -7.8 1.75e-02    -  1.00e+00 1.00e+00h  1\n",
      "  12  1.0033301e+00 0.00e+00 3.15e+00  -7.5 7.33e-02    -  1.00e+00 5.11e-01h  1\n",
      "  13  1.0030933e+00 0.00e+00 1.27e-01  -5.7 2.81e-03    -  1.00e+00 1.00e+00h  1\n",
      "  14  1.0030889e+00 3.13e-08 2.65e-02  -7.5 4.98e-04    -  1.00e+00 8.06e-01h  1\n",
      "  15  1.0030887e+00 0.00e+00 9.96e-06  -9.3 7.21e-05    -  1.00e+00 1.00e+00h  1\n",
      "  16  1.0030887e+00 0.00e+00 1.47e-07 -11.0 6.93e-08    -  1.00e+00 1.00e+00h  1\n",
      "  17  1.0030887e+00 0.00e+00 6.36e-10 -11.0 1.78e-11    -  1.00e+00 1.00e+00h  1\n",
      "\n",
      "Number of Iterations....: 17\n",
      "\n",
      "                                   (scaled)                 (unscaled)\n",
      "Objective...............:   1.0030887246417766e+00    1.0030887246417766e+00\n",
      "Dual infeasibility......:   6.3628836921569842e-10    6.3628836921569842e-10\n",
      "Constraint violation....:   0.0000000000000000e+00    0.0000000000000000e+00\n",
      "Variable bound violation:   0.0000000000000000e+00    0.0000000000000000e+00\n",
      "Complementarity.........:   1.0000000000000001e-11    1.0000000000000001e-11\n",
      "Overall NLP error.......:   6.3628836921569842e-10    6.3628836921569842e-10\n",
      "\n",
      "\n",
      "Number of objective function evaluations             = 25\n",
      "Number of objective gradient evaluations             = 18\n",
      "Number of equality constraint evaluations            = 0\n",
      "Number of inequality constraint evaluations          = 25\n",
      "Number of equality constraint Jacobian evaluations   = 0\n",
      "Number of inequality constraint Jacobian evaluations = 18\n",
      "Number of Lagrangian Hessian evaluations             = 0\n",
      "Total seconds in IPOPT                               = 0.168\n",
      "\n",
      "EXIT: Optimal Solution Found.\n"
     ]
    }
   ],
   "source": [
    "model = Model(with_optimizer(Ipopt.Optimizer))\n",
    "@variable(model, x1, start = 0.42)\n",
    "@variable(model, x2, start = 5.)\n",
    "\n",
    "function f_i(x1, x2, t::Float64)\n",
    "    return x1 + (0.49 - x1) * exp(-x2*(t - 8))\n",
    "end\n",
    "\n",
    "function f(x1, x2)\n",
    "    y = b - (t::Float64 -> f_i(x1,x2,t)).(a)\n",
    "    return dot(y,y) \n",
    "end\n",
    "\n",
    "JuMP.register(model, :f, 2, f, autodiff=true)\n",
    "\n",
    "@NLconstraint(model, c1, 0.49*x2 - x1*x2 - 0.09 >= 0)\n",
    "@constraint(model, x1 >= 0.4)\n",
    "@constraint(model, x2 >= -4)\n",
    "\n",
    "@NLobjective(model, Min, f(x1,x2))\n",
    "\n",
    "JuMP.optimize!(model)"
   ]
  },
  {
   "cell_type": "code",
   "execution_count": 38,
   "metadata": {},
   "outputs": [
    {
     "name": "stdout",
     "output_type": "stream",
     "text": [
      "Solution ENLSIP-Julia :\n",
      "x_sol = (4.19899806e-01, 1.283876610e+00)\n",
      "f(x_sol) = 1.003088726e+00\n",
      "\n",
      "Solution Ipopt :\n",
      "x_opt = (4.19899805e-01, 1.283876467e+00)\n",
      "f(x_opt) = 1.003088725e+00 "
     ]
    }
   ],
   "source": [
    "println(\"Solution ENLSIP-Julia :\")\n",
    "@printf \"x_sol = (%.8e, %.9e)\\n\" x1_sol x2_sol\n",
    "@printf \"f(x_sol) = %.9e\\n\" enlsip57.obj_value \n",
    "println(\"\\nSolution Ipopt :\")\n",
    "@printf \"x_opt = (%.8e, %.9e)\\n\" JuMP.value(x1) JuMP.value(x2)\n",
    "@printf \"f(x_opt) = %.9e \" JuMP.objective_value(model)"
   ]
  }
 ],
 "metadata": {
  "kernelspec": {
   "display_name": "Julia 1.8.2",
   "language": "julia",
   "name": "julia-1.8"
  },
  "language_info": {
   "file_extension": ".jl",
   "mimetype": "application/julia",
   "name": "julia",
   "version": "1.6.5"
  }
 },
 "nbformat": 4,
 "nbformat_minor": 4
}
