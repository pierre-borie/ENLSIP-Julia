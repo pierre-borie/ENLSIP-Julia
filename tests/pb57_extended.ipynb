{
 "cells": [
  {
   "cell_type": "markdown",
   "metadata": {},
   "source": [
    "# Extension Problem 57 from Hock-Schittkowski's collection\n",
    "\n",
    "Classification : SQR-P1-1\n",
    "\n",
    "Number of variables : n = 2\n",
    "\n",
    "Number of constraints : 3 (1 inequality + 2 bounds)\n",
    "\n",
    "# Modèle\n",
    "\n",
    "Let $m \\in \\mathbb{N}^*$ the number of residuals\n",
    "\n",
    "$\\left\\{  \n",
    "\\begin{array}{l l l l} \n",
    "\\min f(x) \\\\ \n",
    "\\text{s.c.}\\\\\n",
    "0.49x_2-x_1x_2-0.09 &\\geq 0\\\\\n",
    "x_1\\geq 0.4,\\  x_2 \\geq -4\n",
    "\\end{array} \\right.$\n",
    "\n",
    "with $f : x \\longmapsto \\sum\\limits_{i=1}^{m} f_i(x)^2$\n",
    "\n",
    "and $f_i(x) = b_i - x_1 - (0.49-x_1)\\exp(-x_2(a_i-8)) \\text{ for }i=1,\\ldots,m$ \n",
    "\n",
    "Departure point : $x_0 = (0.42,5)$\n",
    "\n",
    "Expected solution : $x^* = (0.419952675,1.284845629)$\n",
    "\n",
    "Objective function at the solution : $f(x^*) =0.02845966972$"
   ]
  },
  {
   "cell_type": "code",
   "execution_count": null,
   "metadata": {},
   "outputs": [],
   "source": [
    "include(\"../src/enlsip_functions.jl\")"
   ]
  },
  {
   "cell_type": "code",
   "execution_count": null,
   "metadata": {},
   "outputs": [],
   "source": [
    "n = 2\n",
    "m = 5000\n",
    "nb_eq = 0 # nombre de contraintes d'égalité\n",
    "nb_constraints = 3 # nombre de contraintes d'égalité et d'inégalité"
   ]
  },
  {
   "cell_type": "code",
   "execution_count": null,
   "metadata": {},
   "outputs": [],
   "source": [
    "# Model with expected parameters\n",
    "\n",
    "h = x -> 0.419952675 + (0.49-0.419952675) * exp(-1.284845629*(x-8))"
   ]
  },
  {
   "cell_type": "markdown",
   "metadata": {},
   "source": [
    "### Données d'entrée"
   ]
  },
  {
   "cell_type": "code",
   "execution_count": null,
   "metadata": {},
   "outputs": [],
   "source": [
    "# Data set from the original problem\n",
    "\n",
    "#a = [8.,8.,10.,10.,10.,10.,12.,12.,12.,12.,14.,14.,14.,16.,16.,16.,18.,18.,20.,20.,20.,22.,22.,22., \n",
    "#         24.,24.,24.,26.,26.,26.,28.,28.,30.,30.,30.,32.,32.,34.,36.,36.,38.,38.,40.,42.]\n",
    "\n",
    "#b = [.49,.49,.48,.47,.48,.47,.46,.46,.45,.43,.45,.43,.43,.44,.43,.43,.46,.45,.42,.42,.43,.41,\n",
    "#         .41,.40,.42,.40,.40,.41,.40,.41,.41,.40,.40,.40,.38,.41,.40,.40,.41,.38,.40,.40,.39,.39]\n",
    "\n",
    "# Entry data randomly generated between 8 and 42\n",
    "# Output generated using model with expected parameters with gaussian noise\n",
    "\n",
    "noise = 5e-2\n",
    "\n",
    "a = range(8, 42, length = m)\n",
    "b = h.(a) + noise*randn(m)\n",
    " "
   ]
  },
  {
   "cell_type": "code",
   "execution_count": null,
   "metadata": {},
   "outputs": [],
   "source": [
    "# Résidus et matrice jacobienne associée\n",
    "\n",
    "r_i(x::Vector,t::Float64) = x[1] + (0.49 - x[1]) * exp(-x[2]*(t - 8))\n",
    "res57 = ResidualsEval(0)\n",
    "\n",
    "function (res57::ResidualsEval)(x::Vector,rx::Vector,J::Matrix)\n",
    "    # Evaluate the residuals\n",
    "    if abs(res57.ctrl) == 1\n",
    "        rx[:] = b - (t::Float64 -> r_i(x,t)).(a)\n",
    "\n",
    "    # The jacobian is computed numericaly using forward differences\n",
    "    # ctrl is set to 0\n",
    "    elseif res57.ctrl == 2 res57.ctrl = 0 end\n",
    "    return\n",
    "end"
   ]
  },
  {
   "cell_type": "code",
   "execution_count": null,
   "metadata": {},
   "outputs": [],
   "source": [
    "# Contraintes et matrice jacobienne associée\n",
    "\n",
    "cons57 = ConstraintsEval(0)\n",
    "\n",
    "function (cons57::ConstraintsEval)(x::Vector,cx::Vector,A::Matrix)\n",
    "    # Evaluate the constraints\n",
    "    if abs(cons57.ctrl) == 1\n",
    "        cx[:] = [0.49 * x[2] - x[1] * x[2] - 0.09, x[1] - 0.4, x[2] + 4]\n",
    "    \n",
    "    # The jacobian is computed anaticaly\n",
    "    elseif cons57.ctrl == 2\n",
    "        A[:] = [-x[2] 0.49-x[1];\n",
    "        1.0 0.0;\n",
    "        0.0 1.0]\n",
    "    end\n",
    "end"
   ]
  },
  {
   "cell_type": "code",
   "execution_count": null,
   "metadata": {},
   "outputs": [],
   "source": [
    "# Relative precision\n",
    "\n",
    "ε = eps(Float64)\n",
    "sqrt_ε = sqrt(eps(Float64))"
   ]
  },
  {
   "cell_type": "markdown",
   "metadata": {},
   "source": [
    "# Resolve zith ENLSIP-0.4.0"
   ]
  },
  {
   "cell_type": "code",
   "execution_count": null,
   "metadata": {
    "scrolled": false
   },
   "outputs": [],
   "source": [
    "x0 = [0.42,5.0]\n",
    "enlsip57 = enlsip(x0,res57,cons57,n,m,nb_eq,nb_constraints,ε_abs = ε, ε_rel = sqrt_ε, ε_x = sqrt_ε, ε_c = sqrt_ε)"
   ]
  },
  {
   "cell_type": "code",
   "execution_count": null,
   "metadata": {
    "scrolled": true
   },
   "outputs": [],
   "source": [
    "x1_sol = enlsip57.sol[1]\n",
    "x2_sol = enlsip57.sol[2]\n",
    "\n",
    "println(\"Solution found with ENLSIP :\")\n",
    "@printf \"x_sol = (%.8e, %.9e)\\n\" x1_sol x2_sol\n",
    "@printf \"f(x_sol) = %.9e\\n\" enlsip57.obj_value  \n",
    "\n",
    "println(\"\\nOriginal parameters :\")\n",
    "@printf \"x_opt = (%.8e, %.9e)\\n\" 0.419952675 1.284845629\n",
    "@printf \"f(x_opt) = %.9e\" 0.02845966972"
   ]
  },
  {
   "cell_type": "markdown",
   "metadata": {},
   "source": [
    "# Resolve using Ipopt"
   ]
  },
  {
   "cell_type": "code",
   "execution_count": null,
   "metadata": {},
   "outputs": [],
   "source": [
    "using JuMP, Ipopt"
   ]
  },
  {
   "cell_type": "code",
   "execution_count": null,
   "metadata": {},
   "outputs": [],
   "source": [
    "model = Model(with_optimizer(Ipopt.Optimizer))\n",
    "@variable(model, x1, start = 0.42)\n",
    "@variable(model, x2, start = 5.)\n",
    "\n",
    "function f_i(x1, x2, t::Float64)\n",
    "    return x1 + (0.49 - x1) * exp(-x2*(t - 8))\n",
    "end\n",
    "\n",
    "function f(x1, x2)\n",
    "    y = b - (t::Float64 -> f_i(x1,x2,t)).(a)\n",
    "    return dot(y,y) \n",
    "end\n",
    "\n",
    "JuMP.register(model, :f, 2, f, autodiff=true)\n",
    "\n",
    "@NLconstraint(model, c1, 0.49*x2 - x1*x2 - 0.09 >= 0)\n",
    "@constraint(model, x1 >= 0.4)\n",
    "@constraint(model, x2 >= -4)\n",
    "\n",
    "@NLobjective(model, Min, f(x1,x2))\n",
    "\n",
    "JuMP.optimize!(model)"
   ]
  },
  {
   "cell_type": "code",
   "execution_count": null,
   "metadata": {},
   "outputs": [],
   "source": [
    "println(\"Solution ENLSIP-Julia :\")\n",
    "@printf \"x_sol = (%.8e, %.9e)\\n\" x1_sol x2_sol\n",
    "@printf \"f(x_sol) = %.9e\\n\" enlsip57.obj_value \n",
    "println(\"\\nSolution Ipopt :\")\n",
    "@printf \"x_opt = (%.8e, %.9e)\\n\" JuMP.value(x1) JuMP.value(x2)\n",
    "@printf \"f(x_opt) = %.9e \" JuMP.objective_value(model)"
   ]
  }
 ],
 "metadata": {
  "kernelspec": {
   "display_name": "Julia 1.8.2",
   "language": "julia",
   "name": "julia-1.8"
  },
  "language_info": {
   "file_extension": ".jl",
   "mimetype": "application/julia",
   "name": "julia",
   "version": "1.8.2"
  }
 },
 "nbformat": 4,
 "nbformat_minor": 4
}
