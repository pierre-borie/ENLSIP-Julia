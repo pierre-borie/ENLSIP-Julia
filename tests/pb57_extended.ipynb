{
 "cells": [
  {
   "cell_type": "markdown",
   "metadata": {},
   "source": [
    "#  Présentation Problème 57 de la collection Hock-Schittkowski\n",
    "\n",
    "Classification dans l'ouvrage : SQR-P1-1\n",
    "\n",
    "Number of variables : n = 2\n",
    "\n",
    "Number of constraints : 3 (1 inequality + 2 bounds)\n",
    "\n",
    "# Modèle\n",
    "\n",
    "$\\left\\{  \n",
    "\\begin{array}{l l l l} \n",
    "\\min f(x) \\\\ \n",
    "\\text{s.c.}\\\\\n",
    "0.49x_2-x_1x_2-0.09 &\\geq 0\\\\\n",
    "x_1\\geq 0.4,\\  x_2 \\geq -4\n",
    "\\end{array} \\right.$\n",
    "\n",
    "où $f : x \\longmapsto \\sum\\limits_{i=1}^{44} f_i(x)^2$\n",
    "\n",
    "avec $f_i(x) = b_i - x_1 - (0.49-x_1)\\exp(-x_2(a_i-8)) \\text{ pour }i=1,\\ldots,44$ \n",
    "\n",
    "Point de départ : $x_0 = (0.42,5)$\n",
    "\n",
    "Solution attendue : $x^* = (0.419952675,1.284845629)$\n",
    "\n",
    "Fonction objectif à la solution : $f(x^*) =0.02845966972$"
   ]
  },
  {
   "cell_type": "markdown",
   "metadata": {},
   "source": [
    "# Extension du nombre de résidus"
   ]
  },
  {
   "cell_type": "code",
   "execution_count": 1,
   "metadata": {},
   "outputs": [
    {
     "data": {
      "text/plain": [
       "enlsip"
      ]
     },
     "execution_count": 1,
     "metadata": {},
     "output_type": "execute_result"
    }
   ],
   "source": [
    "include(\"../src/enlsip_functions.jl\")"
   ]
  },
  {
   "cell_type": "code",
   "execution_count": 2,
   "metadata": {},
   "outputs": [
    {
     "data": {
      "text/plain": [
       "3"
      ]
     },
     "execution_count": 2,
     "metadata": {},
     "output_type": "execute_result"
    }
   ],
   "source": [
    "n = 2\n",
    "m = 16000\n",
    "nb_eq = 0 # nombre de contraintes d'égalité\n",
    "nb_constraints = 3 # nombre de contraintes d'égalité et d'inégalité"
   ]
  },
  {
   "cell_type": "code",
   "execution_count": 3,
   "metadata": {},
   "outputs": [
    {
     "data": {
      "text/plain": [
       "#34 (generic function with 1 method)"
      ]
     },
     "execution_count": 3,
     "metadata": {},
     "output_type": "execute_result"
    }
   ],
   "source": [
    "h = x -> 0.419952675 + (0.49-0.419952675) * exp(-1.284845629*(x-8))"
   ]
  },
  {
   "cell_type": "markdown",
   "metadata": {},
   "source": [
    "### Données d'entrée"
   ]
  },
  {
   "cell_type": "code",
   "execution_count": 4,
   "metadata": {},
   "outputs": [
    {
     "data": {
      "text/plain": [
       "16000-element Vector{Float64}:\n",
       " 0.5967239195547385\n",
       " 0.5842141193768777\n",
       " 0.4575021642638575\n",
       " 0.49787848076079644\n",
       " 0.5460697323162458\n",
       " 0.34486039494608467\n",
       " 0.44835416481054824\n",
       " 0.5899152031421304\n",
       " 0.47342184382427643\n",
       " 0.5484874800333882\n",
       " 0.5077696333355003\n",
       " 0.39428629463862497\n",
       " 0.48851190043762127\n",
       " ⋮\n",
       " 0.48319563109974006\n",
       " 0.4479272561425457\n",
       " 0.3036645890007969\n",
       " 0.5186207464421336\n",
       " 0.47101138027202677\n",
       " 0.43401390045265476\n",
       " 0.5905362364159419\n",
       " 0.41582602393965207\n",
       " 0.35367881930337675\n",
       " 0.36000744843316584\n",
       " 0.5818180021033068\n",
       " 0.5379514568521437"
      ]
     },
     "execution_count": 4,
     "metadata": {},
     "output_type": "execute_result"
    }
   ],
   "source": [
    "#a = [8.,8.,10.,10.,10.,10.,12.,12.,12.,12.,14.,14.,14.,16.,16.,16.,18.,18.,20.,20.,20.,22.,22.,22., \n",
    "#         24.,24.,24.,26.,26.,26.,28.,28.,30.,30.,30.,32.,32.,34.,36.,36.,38.,38.,40.,42.]\n",
    "\n",
    "#b = [.49,.49,.48,.47,.48,.47,.46,.46,.45,.43,.45,.43,.43,.44,.43,.43,.46,.45,.42,.42,.43,.41,\n",
    "#         .41,.40,.42,.40,.40,.41,.40,.41,.41,.40,.40,.40,.38,.41,.40,.40,.41,.38,.40,.40,.39,.39]\n",
    "\n",
    "a = range(8, 42, length = m)\n",
    "b = h.(a) + 0.1*randn(m)"
   ]
  },
  {
   "cell_type": "code",
   "execution_count": 5,
   "metadata": {},
   "outputs": [],
   "source": [
    "# Résidus et matrice jacobienne associée\n",
    "\n",
    "r_i(x::Vector,t::Float64) = x[1] + (0.49 - x[1]) * exp(-x[2]*(t - 8))\n",
    "res57 = ResidualsEval(0)\n",
    "\n",
    "function (res57::ResidualsEval)(x::Vector,rx::Vector,J::Matrix)\n",
    "    # Evaluate the residuals\n",
    "    if abs(res57.ctrl) == 1\n",
    "        rx[:] = b - (t::Float64 -> r_i(x,t)).(a)\n",
    "\n",
    "    # The jacobian is computed numericaly using forward differences\n",
    "    # ctrl is set to 0\n",
    "    elseif res57.ctrl == 2 res57.ctrl = 0 end\n",
    "    return\n",
    "end"
   ]
  },
  {
   "cell_type": "code",
   "execution_count": 6,
   "metadata": {},
   "outputs": [],
   "source": [
    "# Contraintes et matrice jacobienne associée\n",
    "\n",
    "cons57 = ConstraintsEval(0)\n",
    "\n",
    "function (cons57::ConstraintsEval)(x::Vector,cx::Vector,A::Matrix)\n",
    "    # Evaluate the constraints\n",
    "    if abs(cons57.ctrl) == 1\n",
    "        cx[:] = [0.49 * x[2] - x[1] * x[2] - 0.09, x[1] - 0.4, x[2] + 4]\n",
    "    \n",
    "    # The jacobian is computed anaticaly\n",
    "    elseif cons57.ctrl == 2\n",
    "        A[:] = [-x[2] 0.49-x[1];\n",
    "        1.0 0.0;\n",
    "        0.0 1.0]\n",
    "    end\n",
    "end"
   ]
  },
  {
   "cell_type": "markdown",
   "metadata": {},
   "source": [
    "# Résolution avec ENLSIP-0.3.0"
   ]
  },
  {
   "cell_type": "code",
   "execution_count": 7,
   "metadata": {
    "scrolled": false
   },
   "outputs": [
    {
     "name": "stdout",
     "output_type": "stream",
     "text": [
      "Itération 0\n",
      "\n",
      "Itération 1\n",
      "\n",
      "Itération 2\n",
      "\n",
      "Itération 3\n",
      "\n",
      "Itération 4\n",
      "\n",
      "Itération 5\n",
      "\n",
      "Itération 6\n",
      "\n",
      "Itération 7\n",
      "\n",
      "Itération 8\n",
      "\n",
      "Itération 9\n",
      "\n",
      "****************************************\n",
      "*                                      *\n",
      "*          ENLSIP-JULIA-0.3.0          *\n",
      "*                                      *\n",
      "****************************************\n",
      "\n",
      "Starting point : [0.42, 5.0]\n",
      "\n",
      "Number of equality constraints   : 0\n",
      "Number of inequality constraints : 3\n",
      "Constraints internal scaling     : false\n",
      "\n",
      "iter    objective    cx_sum   reduction     ||p||   dimA  dimJ2     α     conv. speed   max weight   working set\n",
      "   0  1.588519e+02  0.00e+00   2.99e-01   8.030e+00   0     2   4.59e-01    0.00e+00     1.00e-01     -\n",
      "   1  1.588281e+02  0.00e+00   2.37e-02   3.453e-01   0     2   1.00e+00    2.93e-01     1.00e-01     -\n",
      "   2  1.588280e+02  0.00e+00   9.60e-05   3.702e-03   0     2   1.00e+00    5.86e-02     1.00e-01     -\n",
      "   3  1.588280e+02  0.00e+00   8.17e-08   9.635e-04   0     2   1.00e+00    3.38e-02     1.00e-01     -\n",
      "   4  1.588280e+02  0.00e+00   5.40e-09   2.480e-04   0     2   1.00e+00    2.57e-01     1.00e-01     -\n",
      "   5  1.588280e+02  0.00e+00   3.59e-10   6.396e-05   0     2   1.00e+00    2.58e-01     1.00e-01     -\n",
      "   6  1.588280e+02  0.00e+00   2.38e-11   1.646e-05   0     2   1.00e+00    2.57e-01     1.00e-01     -\n",
      "   7  1.588280e+02  0.00e+00   1.56e-12   4.305e-06   0     2   1.00e+00    2.61e-01     1.00e-01     -\n",
      "   8  1.588280e+02  0.00e+00   1.42e-13   1.067e-06   0     2   1.00e+00    2.48e-01     1.00e-01     -\n",
      "\n",
      "Exit code = 10000\n",
      "Number of iterations = 9 \n",
      "\n",
      "Terminated at point : 4.207278e-01  1.660278e+00 \n",
      "\n",
      "Active constraints :\n",
      "Constraint values : \n",
      " 2.50e-02  2.07e-02  5.66e+00 \n",
      "Penalty constants :\n",
      " 1.00e-01  3.00e-02  1.00e-01 \n",
      "Square sum of residuals = 1.588280e+02\n",
      "\n"
     ]
    },
    {
     "data": {
      "text/plain": [
       "ENLSIP([0.42072779988626813, 1.6602767188308756], 158.82804219664285)"
      ]
     },
     "execution_count": 7,
     "metadata": {},
     "output_type": "execute_result"
    }
   ],
   "source": [
    "x0 = [0.42,5.0]\n",
    "enlsip57 = enlsip(x0,res57,cons57,n,m,nb_eq,nb_constraints)"
   ]
  },
  {
   "cell_type": "code",
   "execution_count": 8,
   "metadata": {
    "scrolled": true
   },
   "outputs": [
    {
     "name": "stdout",
     "output_type": "stream",
     "text": [
      "Solution trouvée avec ENLSIP :\n",
      "x_sol = (4.20727800e-01, 1.660276719e+00)\n",
      "f(x_sol) = 1.588280422e+02\n"
     ]
    }
   ],
   "source": [
    "x1_sol = enlsip57.sol[1]\n",
    "x2_sol = enlsip57.sol[2]\n",
    "\n",
    "println(\"Solution trouvée avec ENLSIP :\")\n",
    "@printf \"x_sol = (%.8e, %.9e)\\n\" x1_sol x2_sol\n",
    "@printf \"f(x_sol) = %.9e\\n\" enlsip57.obj_value  "
   ]
  }
 ],
 "metadata": {
  "kernelspec": {
   "display_name": "Julia 1.6.0",
   "language": "julia",
   "name": "julia-1.6"
  },
  "language_info": {
   "file_extension": ".jl",
   "mimetype": "application/julia",
   "name": "julia",
   "version": "1.6.3"
  }
 },
 "nbformat": 4,
 "nbformat_minor": 4
}
