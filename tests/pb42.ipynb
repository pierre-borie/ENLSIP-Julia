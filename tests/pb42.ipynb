{
 "cells": [
  {
   "cell_type": "markdown",
   "metadata": {},
   "source": [
    "# Résolution Pb42 de la collection Hock-Schittkowski\n",
    "\n",
    "Classification : QQR-T1-10\n",
    "\n",
    "Number of variables : n = 4\n",
    "\n",
    "Number of constraints : 2 (2 equalities)\n",
    "\n",
    "# Modèle\n",
    "\n",
    "$\\left\\{  \n",
    "\\begin{array}{l l l l} \n",
    "\\min\\ f(x) \\\\ \n",
    "\\text{s.c.}\\\\\n",
    "x_1-2 = 0\\\\\n",
    "x_3^2+x_4^2-2= 0\n",
    "\\end{array} \\right.$\n",
    "\n",
    "where $f : x \\longmapsto (x_1-1)^2+(x_2-2)^2+(x_3-3)^2+(x_4-4)^2$\n",
    "\n",
    "\n",
    "\n",
    "Point de départ : $x_0 = (1,1,1,1)$\n",
    "\n",
    "Solution attendue : $x^* = (2,2,0.6\\sqrt 2, 0.8\\sqrt 2)$\n",
    "\n",
    "Valeur de la fonction objectif à la solution : $f(x^*) =28-10\\sqrt 2$"
   ]
  },
  {
   "cell_type": "code",
   "execution_count": 6,
   "metadata": {},
   "outputs": [
    {
     "data": {
      "text/plain": [
       "enlsip"
      ]
     },
     "execution_count": 6,
     "metadata": {},
     "output_type": "execute_result"
    }
   ],
   "source": [
    "include(\"../src/enlsip_functions.jl\")"
   ]
  },
  {
   "cell_type": "code",
   "execution_count": 2,
   "metadata": {},
   "outputs": [
    {
     "data": {
      "text/plain": [
       "2"
      ]
     },
     "execution_count": 2,
     "metadata": {},
     "output_type": "execute_result"
    }
   ],
   "source": [
    "n = 4\n",
    "m = 4\n",
    "nb_eq = 2\n",
    "nb_constraints = 2"
   ]
  },
  {
   "cell_type": "code",
   "execution_count": 3,
   "metadata": {},
   "outputs": [],
   "source": [
    "res42 = ResidualsEval(0)\n",
    "\n",
    "function (res42::ResidualsEval)(x::Vector{Float64}, rx::Vector{Float64}, J::Matrix{Float64})\n",
    "\n",
    "    # Evaluate the residuals\n",
    "    if abs(res42.ctrl) == 1\n",
    "        rx[:] = [x[1] - 1.0;\n",
    "        x[2] - 2.0;\n",
    "        x[3] - 3.0;\n",
    "        x[4] - 4.0]\n",
    "\n",
    "    # The jacobian is computed analytically\n",
    "    elseif res42.ctrl == 2\n",
    "        res42.ctrl = 0\n",
    "    end\n",
    "    return\n",
    "end\n",
    "\n",
    "cons42 = ConstraintsEval(0)\n",
    "\n",
    "function (cons42::ConstraintsEval)(x::Vector{Float64}, cx::Vector{Float64}, A::Matrix{Float64})\n",
    "\n",
    "    # Evaluate the constraints\n",
    "    if abs(cons42.ctrl) == 1\n",
    "        cx[:] = [x[1] - 2.0;\n",
    "                 x[3]*x[3] + x[4]*x[4] - 2.0]\n",
    "\n",
    "    # The jacobian is computed numerically if ctrl is set to 0 on return\n",
    "    elseif cons42.ctrl == 2\n",
    "        cons42.ctrl = 0\n",
    "    end\n",
    "    return\n",
    "end"
   ]
  },
  {
   "cell_type": "code",
   "execution_count": 8,
   "metadata": {
    "scrolled": false
   },
   "outputs": [
    {
     "name": "stdout",
     "output_type": "stream",
     "text": [
      "Itération 0\n",
      "\n",
      "Itération 1\n",
      "\n",
      "Itération 2\n",
      "\n",
      "Itération 3\n",
      "\n",
      "Itération 4\n",
      "[newton_search_direction] b = [0.0, -0.037711125603396164]\n",
      "[newton_search_direction] p1 = [0.0, 0.03771112560339617]\n",
      "\n",
      "Itération 5\n",
      "[newton_search_direction] b = [0.0, -0.0007326570340443724]\n",
      "[newton_search_direction] p1 = [0.0, 0.0007326570340443725]\n",
      "\n",
      "Itération 6\n",
      "[newton_search_direction] b = [0.0, -7.414775682720425e-5]\n",
      "[newton_search_direction] p1 = [0.0, 7.414775682720425e-5]\n",
      "\n",
      "Itération 7\n",
      "[newton_search_direction] b = [0.0, -2.3791991705512516e-5]\n",
      "[newton_search_direction] p1 = [0.0, 2.379199170551252e-5]\n",
      "\n",
      "Itération 8\n",
      "[newton_search_direction] b = [0.0, -2.3791991705512516e-5]\n",
      "[newton_search_direction] p1 = [0.0, 2.379199170551252e-5]\n",
      "\n",
      "****************************************\n",
      "*                                      *\n",
      "*          ENLSIP-JULIA-0.3.0          *\n",
      "*                                      *\n",
      "****************************************\n",
      "\n",
      "Starting point : [1.0, 1.0, 1.0, 1.0]\n",
      "\n",
      "Number of equality constraints   : 2\n",
      "Number of inequality constraints : 0\n",
      "Constraints internal scaling     : true\n",
      "\n",
      "iter    objective    cx_sum   reduction     ||p||   dimA  dimJ2     α     conv. speed   max weight   working set\n",
      "   0  1.350000e+01  1.00e+00   1.97e+00   1.581e+00   2     2   1.00e+00    0.00e+00     1.50e+00    (1,2)\n",
      "   1  1.196443e+01  2.50e-01   1.40e+00   1.589e+00   2     2   6.53e-01    1.00e+00     1.50e+00    (1,2)\n",
      "   2  1.154836e+01  1.57e+00   1.08e+00   1.463e+00   2     2   3.30e-01    9.21e-01     1.59e+00    (1,2)\n",
      "   3  1.359788e+01  1.15e+00   2.15e+00   3.177e-01   2     2   9.90e-01    2.17e-01     3.70e+00    (1,2)\n",
      "   4  1.385656e+01  1.20e-02   2.15e+00   4.553e-02  -2    -2   1.00e+00    6.66e-01     3.70e+00    (1,2)\n",
      "   5  1.385860e+01  4.30e-06   2.15e+00   1.448e-02  -2    -2   1.00e+00    5.58e-01     3.70e+00    (1,2)\n",
      "   6  1.385810e+01  4.40e-08   2.15e+00   8.203e-03  -2    -2   1.00e+00    5.67e-01     3.70e+00    (1,2)\n",
      "   7  1.385810e+01  4.53e-09   2.15e+00   0.000e+00  -2    -2   1.00e+00    5.67e-01     3.70e+00    (1,2)\n",
      "\n",
      "Exit code = -2\n",
      "Number of iterations = 8 \n",
      "\n",
      "Terminated at point : 2.000000e+00  2.000000e+00  8.399139e-01  1.137810e+00 \n",
      "\n",
      "Active constraints : 1  2 \n",
      "Constraint values : \n",
      " 0.00e+00  6.73e-05 \n",
      "Penalty constants :\n",
      " 1.50e+00  3.70e+00 \n",
      "Square sum of residuals = 1.385810e+01\n",
      "\n"
     ]
    },
    {
     "data": {
      "text/plain": [
       "ENLSIP([2.0, 2.0, 0.8399138715307083, 1.1378101702207915], 13.85810270409699)"
      ]
     },
     "execution_count": 8,
     "metadata": {},
     "output_type": "execute_result"
    }
   ],
   "source": [
    "include(\"../src/enlsip_functions.jl\")\n",
    "x0 = [1.0;1.0;1.0;1.0]\n",
    "enlsip42 = enlsip(x0,res42,cons42,n,m,nb_eq,nb_constraints,MAX_ITER=8,scaling=true)"
   ]
  },
  {
   "cell_type": "code",
   "execution_count": 5,
   "metadata": {},
   "outputs": [
    {
     "name": "stdout",
     "output_type": "stream",
     "text": [
      "Solution trouvée avec ENLSIP-Julia :\n",
      "x_jul = (2.000000000e+00, 2.000000000e+00, 8.485281362e-01, 1.131370851e+00)\n",
      "f(x_jul) = 1.385786438e+01\n",
      "\n",
      "\n",
      "Valeurs théoriques visées :\n",
      "x_opt = (2.000000000e+00, 2.000000000e+00, 8.485281374e-01, 1.131370850e+00)\n",
      "f(x_opt) = 1.385786438e+01"
     ]
    }
   ],
   "source": [
    "x1 = enlsip42.sol[1]\n",
    "x2 = enlsip42.sol[2]\n",
    "x3 = enlsip42.sol[3]\n",
    "x4 = enlsip42.sol[4]\n",
    "\n",
    "println(\"Solution trouvée avec ENLSIP-Julia :\")\n",
    "@printf \"x_jul = (%.9e, %.9e, %.9e, %.9e)\\n\" x1 x2 x3 x4\n",
    "@printf \"f(x_jul) = %.9e\\n\\n\" enlsip42.obj_value \n",
    "\n",
    "println(\"\\nValeurs théoriques visées :\")\n",
    "@printf \"x_opt = (%.9e, %.9e, %.9e, %.9e)\\n\" 2.0 2.0 0.6*sqrt(2) 0.8*sqrt(2)\n",
    "@printf \"f(x_opt) = %.9e\" 28 - 10*sqrt(2)"
   ]
  },
  {
   "cell_type": "code",
   "execution_count": 6,
   "metadata": {},
   "outputs": [],
   "source": [
    "using JuMP, Ipopt"
   ]
  },
  {
   "cell_type": "code",
   "execution_count": 7,
   "metadata": {},
   "outputs": [
    {
     "data": {
      "text/latex": [
       "$$ x4 $$"
      ],
      "text/plain": [
       "x4"
      ]
     },
     "execution_count": 7,
     "metadata": {},
     "output_type": "execute_result"
    }
   ],
   "source": [
    "model = Model(with_optimizer(Ipopt.Optimizer))\n",
    "\n",
    "@variable(model, x1, start = 1.0)\n",
    "@variable(model, x2, start = 1.0)\n",
    "@variable(model, x3, start = 1.0)\n",
    "@variable(model, x4, start = 1.0)"
   ]
  },
  {
   "cell_type": "code",
   "execution_count": 8,
   "metadata": {},
   "outputs": [],
   "source": [
    "f(x1,x2,x3,x4) = (x1 - 1)^2 + (x2 - 2)^2 + (x3 - 3)^2 + (x4 - 4)^2\n",
    "JuMP.register(model, :f, 4, f, autodiff=true)"
   ]
  },
  {
   "cell_type": "code",
   "execution_count": 9,
   "metadata": {},
   "outputs": [
    {
     "data": {
      "text/latex": [
       "$$ x1 = 2.0 $$"
      ],
      "text/plain": [
       "x1 = 2.0"
      ]
     },
     "execution_count": 9,
     "metadata": {},
     "output_type": "execute_result"
    }
   ],
   "source": [
    "@NLconstraint(model, c1, x3^2 + x4^2 - 2.0 == 0)\n",
    "@constraint(model, x1 - 2.0 == 0)"
   ]
  },
  {
   "cell_type": "code",
   "execution_count": 10,
   "metadata": {},
   "outputs": [
    {
     "name": "stdout",
     "output_type": "stream",
     "text": [
      "\n",
      "******************************************************************************\n",
      "This program contains Ipopt, a library for large-scale nonlinear optimization.\n",
      " Ipopt is released as open source code under the Eclipse Public License (EPL).\n",
      "         For more information visit https://github.com/coin-or/Ipopt\n",
      "******************************************************************************\n",
      "\n",
      "This is Ipopt version 3.13.4, running with linear solver mumps.\n",
      "NOTE: Other linear solvers might be more efficient (see Ipopt documentation).\n",
      "\n",
      "Number of nonzeros in equality constraint Jacobian...:        3\n",
      "Number of nonzeros in inequality constraint Jacobian.:        0\n",
      "Number of nonzeros in Lagrangian Hessian.............:        0\n",
      "\n",
      "Total number of variables............................:        4\n",
      "                     variables with only lower bounds:        0\n",
      "                variables with lower and upper bounds:        0\n",
      "                     variables with only upper bounds:        0\n",
      "Total number of equality constraints.................:        2\n",
      "Total number of inequality constraints...............:        0\n",
      "        inequality constraints with only lower bounds:        0\n",
      "   inequality constraints with lower and upper bounds:        0\n",
      "        inequality constraints with only upper bounds:        0\n",
      "\n",
      "iter    objective    inf_pr   inf_du lg(mu)  ||d||  lg(rg) alpha_du alpha_pr  ls\n",
      "   0  1.4000000e+01 1.00e+00 2.00e+00   0.0 0.00e+00    -  0.00e+00 0.00e+00   0\n",
      "   1  2.0500000e+01 5.00e-01 9.75e+00 -11.0 2.00e+00    -  1.00e+00 1.00e+00H  1\n",
      "   2  1.1012413e+01 1.69e+00 1.74e+00 -11.0 1.27e+00    -  1.00e+00 1.00e+00f  1\n",
      "   3  1.2980891e+01 3.80e-01 7.06e-01 -11.0 5.76e-01    -  1.00e+00 1.00e+00h  1\n",
      "   4  1.3798313e+01 2.40e-02 1.87e-01 -11.0 1.51e-01    -  1.00e+00 1.00e+00h  1\n",
      "   5  1.3856853e+01 4.05e-04 1.73e-02 -11.0 1.76e-02    -  1.00e+00 1.00e+00h  1\n",
      "   6  1.3857855e+01 3.87e-06 1.66e-03 -11.0 1.65e-03    -  1.00e+00 1.00e+00h  1\n",
      "   7  1.3857864e+01 1.51e-08 7.95e-04 -11.0 4.33e-04    -  1.00e+00 1.00e+00h  1\n",
      "   8  1.3857864e+01 4.83e-12 8.91e-06 -11.0 3.99e-04    -  1.00e+00 1.00e+00h  1\n",
      "   9  1.3857864e+01 2.64e-12 2.81e-07 -11.0 1.58e-06    -  1.00e+00 1.00e+00h  1\n",
      "iter    objective    inf_pr   inf_du lg(mu)  ||d||  lg(rg) alpha_du alpha_pr  ls\n",
      "  10  1.3857864e+01 2.22e-15 1.04e-09 -11.0 3.96e-08    -  1.00e+00 1.00e+00h  1\n",
      "\n",
      "Number of Iterations....: 10\n",
      "\n",
      "                                   (scaled)                 (unscaled)\n",
      "Objective...............:   1.3857864376269044e+01    1.3857864376269044e+01\n",
      "Dual infeasibility......:   1.0440563968927563e-09    1.0440563968927563e-09\n",
      "Constraint violation....:   2.2204460492503131e-15    2.2204460492503131e-15\n",
      "Complementarity.........:   0.0000000000000000e+00    0.0000000000000000e+00\n",
      "Overall NLP error.......:   1.0440563968927563e-09    1.0440563968927563e-09\n",
      "\n",
      "\n",
      "Number of objective function evaluations             = 12\n",
      "Number of objective gradient evaluations             = 11\n",
      "Number of equality constraint evaluations            = 12\n",
      "Number of inequality constraint evaluations          = 0\n",
      "Number of equality constraint Jacobian evaluations   = 11\n",
      "Number of inequality constraint Jacobian evaluations = 0\n",
      "Number of Lagrangian Hessian evaluations             = 0\n",
      "Total CPU secs in IPOPT (w/o function evaluations)   =      2.120\n",
      "Total CPU secs in NLP function evaluations           =      0.178\n",
      "\n",
      "EXIT: Optimal Solution Found.\n"
     ]
    }
   ],
   "source": [
    "@NLobjective(model, Min, f(x1,x2,x3,x4))\n",
    "JuMP.optimize!(model)"
   ]
  },
  {
   "cell_type": "code",
   "execution_count": 11,
   "metadata": {},
   "outputs": [
    {
     "name": "stdout",
     "output_type": "stream",
     "text": [
      "x_ipopt = (2.000000000e+00, 1.999999999e+00, 8.485281373e-01, 1.131370850e+00)\n"
     ]
    }
   ],
   "source": [
    "@printf \"x_ipopt = (%.9e, %.9e, %.9e, %.9e)\\n\" JuMP.value(x1) JuMP.value(x2) JuMP.value(x3) JuMP.value(x4)"
   ]
  }
 ],
 "metadata": {
  "kernelspec": {
   "display_name": "Julia 1.6.0",
   "language": "julia",
   "name": "julia-1.6"
  },
  "language_info": {
   "file_extension": ".jl",
   "mimetype": "application/julia",
   "name": "julia",
   "version": "1.6.3"
  }
 },
 "nbformat": 4,
 "nbformat_minor": 2
}
