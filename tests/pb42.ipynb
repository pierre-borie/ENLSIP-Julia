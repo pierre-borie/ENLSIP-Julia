{
 "cells": [
  {
   "cell_type": "markdown",
   "metadata": {},
   "source": [
    "# Résolution Pb42 de la collection Hock-Schittkowski\n",
    "\n",
    "Classification : QQR-T1-10\n",
    "\n",
    "Number of variables : n = 4\n",
    "\n",
    "Number of constraints : 2 (2 equalities)\n",
    "\n",
    "# Modèle\n",
    "\n",
    "$\\left\\{  \n",
    "\\begin{array}{l l l l} \n",
    "\\min\\ f(x) \\\\ \n",
    "\\text{s.c.}\\\\\n",
    "x_1-2 = 0\\\\\n",
    "x_3^2+x_4^2-2= 0\n",
    "\\end{array} \\right.$\n",
    "\n",
    "where $f : x \\longmapsto (x_1-1)^2+(x_2-2)^2+(x_3-3)^2+(x_4-4)^2$\n",
    "\n",
    "\n",
    "\n",
    "Point de départ : $x_0 = (1,1,1,1)$\n",
    "\n",
    "Solution attendue : $x^* = (2,2,0.6\\sqrt 2, 0.8\\sqrt 2)$\n",
    "\n",
    "Valeur de la fonction objectif à la solution : $f(x^*) =28-10\\sqrt 2$"
   ]
  },
  {
   "cell_type": "code",
   "execution_count": null,
   "metadata": {},
   "outputs": [],
   "source": [
    "include(\"../src/enlsip_functions.jl\")"
   ]
  },
  {
   "cell_type": "code",
   "execution_count": null,
   "metadata": {},
   "outputs": [],
   "source": [
    "n = 4\n",
    "m = 4\n",
    "nb_eq = 2\n",
    "nb_constraints = 2"
   ]
  },
  {
   "cell_type": "code",
   "execution_count": null,
   "metadata": {},
   "outputs": [],
   "source": [
    "res42 = ResidualsEval(0)\n",
    "\n",
    "function (res42::ResidualsEval)(x::Vector{Float64}, rx::Vector{Float64}, J::Matrix{Float64})\n",
    "\n",
    "    # Evaluate the residuals\n",
    "    if abs(res42.ctrl) == 1\n",
    "        rx[:] = [x[1] - 1.0;\n",
    "        x[2] - 2.0;\n",
    "        x[3] - 3.0;\n",
    "        x[4] - 4.0]\n",
    "\n",
    "    # The jacobian is computed analytically\n",
    "    elseif res42.ctrl == 2\n",
    "        res42.ctrl = 0\n",
    "    end\n",
    "    return\n",
    "end\n",
    "\n",
    "cons42 = ConstraintsEval(0)\n",
    "\n",
    "function (cons42::ConstraintsEval)(x::Vector{Float64}, cx::Vector{Float64}, A::Matrix{Float64})\n",
    "\n",
    "    # Evaluate the constraints\n",
    "    if abs(cons42.ctrl) == 1\n",
    "        cx[:] = [x[1] - 2.0;\n",
    "                 x[3]*x[3] + x[4]*x[4] - 2.0]\n",
    "\n",
    "    # The jacobian is computed numerically if ctrl is set to 0 on return\n",
    "    elseif cons42.ctrl == 2\n",
    "        cons42.ctrl = 0\n",
    "    end\n",
    "    return\n",
    "end"
   ]
  },
  {
   "cell_type": "code",
   "execution_count": null,
   "metadata": {
    "scrolled": false
   },
   "outputs": [],
   "source": [
    "include(\"../src/enlsip_functions.jl\")\n",
    "x0 = [1.0;1.0;1.0;1.0]\n",
    "enlsip42 = enlsip(x0,res42,cons42,n,m,nb_eq,nb_constraints,MAX_ITER=8,scaling=true)"
   ]
  },
  {
   "cell_type": "code",
   "execution_count": null,
   "metadata": {},
   "outputs": [],
   "source": [
    "x1 = enlsip42.sol[1]\n",
    "x2 = enlsip42.sol[2]\n",
    "x3 = enlsip42.sol[3]\n",
    "x4 = enlsip42.sol[4]\n",
    "\n",
    "println(\"Solution trouvée avec ENLSIP-Julia :\")\n",
    "@printf \"x_jul = (%.9e, %.9e, %.9e, %.9e)\\n\" x1 x2 x3 x4\n",
    "@printf \"f(x_jul) = %.9e\\n\\n\" enlsip42.obj_value \n",
    "\n",
    "println(\"\\nValeurs théoriques visées :\")\n",
    "@printf \"x_opt = (%.9e, %.9e, %.9e, %.9e)\\n\" 2.0 2.0 0.6*sqrt(2) 0.8*sqrt(2)\n",
    "@printf \"f(x_opt) = %.9e\" 28 - 10*sqrt(2)"
   ]
  },
  {
   "cell_type": "code",
   "execution_count": null,
   "metadata": {},
   "outputs": [],
   "source": [
    "using JuMP, Ipopt"
   ]
  },
  {
   "cell_type": "code",
   "execution_count": null,
   "metadata": {},
   "outputs": [],
   "source": [
    "model = Model(with_optimizer(Ipopt.Optimizer))\n",
    "\n",
    "@variable(model, x1, start = 1.0)\n",
    "@variable(model, x2, start = 1.0)\n",
    "@variable(model, x3, start = 1.0)\n",
    "@variable(model, x4, start = 1.0)"
   ]
  },
  {
   "cell_type": "code",
   "execution_count": null,
   "metadata": {},
   "outputs": [],
   "source": [
    "f(x1,x2,x3,x4) = (x1 - 1)^2 + (x2 - 2)^2 + (x3 - 3)^2 + (x4 - 4)^2\n",
    "JuMP.register(model, :f, 4, f, autodiff=true)"
   ]
  },
  {
   "cell_type": "code",
   "execution_count": null,
   "metadata": {},
   "outputs": [],
   "source": [
    "@NLconstraint(model, c1, x3^2 + x4^2 - 2.0 == 0)\n",
    "@constraint(model, x1 - 2.0 == 0)"
   ]
  },
  {
   "cell_type": "code",
   "execution_count": null,
   "metadata": {},
   "outputs": [],
   "source": [
    "@NLobjective(model, Min, f(x1,x2,x3,x4))\n",
    "JuMP.optimize!(model)"
   ]
  },
  {
   "cell_type": "code",
   "execution_count": null,
   "metadata": {},
   "outputs": [],
   "source": [
    "@printf \"x_ipopt = (%.9e, %.9e, %.9e, %.9e)\\n\" JuMP.value(x1) JuMP.value(x2) JuMP.value(x3) JuMP.value(x4)"
   ]
  }
 ],
 "metadata": {
  "kernelspec": {
   "display_name": "Julia 1.6.0",
   "language": "julia",
   "name": "julia-1.6"
  },
  "language_info": {
   "file_extension": ".jl",
   "mimetype": "application/julia",
   "name": "julia",
   "version": "1.6.3"
  }
 },
 "nbformat": 4,
 "nbformat_minor": 2
}
