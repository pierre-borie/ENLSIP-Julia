{
 "cells": [
  {
   "cell_type": "markdown",
   "metadata": {},
   "source": [
    "# Résolution Pb57 de la collection Hock-Schittkowski\n",
    "\n",
    "Classification dans l'ouvrage : SQR-P1-1\n",
    "\n",
    "Number of variables : n = 2\n",
    "\n",
    "Number of constraints : 3 (1 inequality + 2 bounds)\n",
    "\n",
    "# Modèle\n",
    "\n",
    "$\\left\\{  \n",
    "\\begin{array}{l l l l} \n",
    "\\min f(x) \\\\ \n",
    "\\text{s.c.}\\\\\n",
    "0.49x_2-x_1x_2-0.09 &\\geq 0\\\\\n",
    "x_1\\geq 0.4,\\  x_2 \\geq -4\n",
    "\\end{array} \\right.$\n",
    "\n",
    "où $f : x \\longmapsto \\sum\\limits_{i=1}^{44} f_i(x)^2$\n",
    "\n",
    "avec $f_i(x) = b_i - x_1 - (0.49-x_1)\\exp(-x_2(a_i-8)) \\text{ pour }i=1,\\ldots,44$ \n",
    "\n",
    "Point de départ : $x_0 = (0.42,5)$\n",
    "\n",
    "Solution attendue : $x^* = (0.419952675,1.284845629)$\n",
    "\n",
    "Fonction objectif à la solution : $f(x^*) =0.02845966972$"
   ]
  },
  {
   "cell_type": "markdown",
   "metadata": {},
   "source": [
    "# Résolution avec ENLSIP-0.2.0"
   ]
  },
  {
   "cell_type": "code",
   "execution_count": null,
   "metadata": {},
   "outputs": [],
   "source": [
    "include(\"../src/enlsip_functions.jl\")"
   ]
  },
  {
   "cell_type": "code",
   "execution_count": null,
   "metadata": {},
   "outputs": [],
   "source": [
    "n = 2\n",
    "m = 44\n",
    "nb_eq = 0 # nombre de contraintes d'égalité\n",
    "nb_constraints = 3 # nombre de contraintes d'égalité et d'inégalité"
   ]
  },
  {
   "cell_type": "markdown",
   "metadata": {},
   "source": [
    "### Données d'entrée"
   ]
  },
  {
   "cell_type": "code",
   "execution_count": null,
   "metadata": {},
   "outputs": [],
   "source": [
    "a = [8.,8.,10.,10.,10.,10.,12.,12.,12.,12.,14.,14.,14.,16.,16.,16.,18.,18.,20.,20.,20.,22.,22.,22., \n",
    "         24.,24.,24.,26.,26.,26.,28.,28.,30.,30.,30.,32.,32.,34.,36.,36.,38.,38.,40.,42.]\n",
    "\n",
    "b = [.49,.49,.48,.47,.48,.47,.46,.46,.45,.43,.45,.43,.43,.44,.43,.43,.46,.45,.42,.42,.43,.41,\n",
    "         .41,.40,.42,.40,.40,.41,.40,.41,.41,.40,.40,.40,.38,.41,.40,.40,.41,.38,.40,.40,.39,.39]"
   ]
  },
  {
   "cell_type": "code",
   "execution_count": null,
   "metadata": {},
   "outputs": [],
   "source": [
    "# Résidus et matrice jacobienne associée\n",
    "\n",
    "r_i(x::Vector,t::Float64) = x[1] + (0.49 - x[1]) * exp(-x[2]*(t - 8))\n",
    "res57 = ResidualsEval(0)\n",
    "\n",
    "function (res57::ResidualsEval)(x::Vector,rx::Vector,J::Matrix)\n",
    "    # Evaluate the residuals\n",
    "    if abs(res57.ctrl) == 1\n",
    "        rx[:] = b - (t::Float64 -> r_i(x,t)).(a)\n",
    "\n",
    "    # The jacobian is computed numericaly using forward differences\n",
    "    # ctrl is set to 0\n",
    "    elseif res57.ctrl == 2 res57.ctrl = 0 end\n",
    "    return\n",
    "end"
   ]
  },
  {
   "cell_type": "code",
   "execution_count": null,
   "metadata": {},
   "outputs": [],
   "source": [
    "# Contraintes et matrice jacobienne associée\n",
    "\n",
    "cons57 = ConstraintsEval(0)\n",
    "\n",
    "function (cons57::ConstraintsEval)(x::Vector,cx::Vector,A::Matrix)\n",
    "    # Evaluate the constraints\n",
    "    if abs(cons57.ctrl) == 1\n",
    "        cx[:] = [0.49 * x[2] - x[1] * x[2] - 0.09, x[1] - 0.4, x[2] + 4]\n",
    "    \n",
    "    # The jacobian is computed anaticaly\n",
    "    elseif cons57.ctrl == 2\n",
    "        A[:] = [-x[2] 0.49-x[1];\n",
    "        1.0 0.0;\n",
    "        0.0 1.0]\n",
    "    end\n",
    "end"
   ]
  },
  {
   "cell_type": "markdown",
   "metadata": {},
   "source": [
    "# Résolution avec ENLSIP-0.4.0"
   ]
  },
  {
   "cell_type": "code",
   "execution_count": null,
   "metadata": {
    "scrolled": false
   },
   "outputs": [],
   "source": [
    "include(\"../src/enlsip_functions.jl\")\n",
    "x0 = [0.42,5.0]\n",
    "e = eps(Float64)\n",
    "se = sqrt(e)\n",
    "enlsip57 = enlsip(x0,res57,cons57,n,m,nb_eq,nb_constraints,ε_abs = e, ε_rel = se, ε_x = se, ε_c = se)"
   ]
  },
  {
   "cell_type": "code",
   "execution_count": null,
   "metadata": {
    "scrolled": true
   },
   "outputs": [],
   "source": [
    "x1_sol = enlsip57.sol[1]\n",
    "x2_sol = enlsip57.sol[2]\n",
    "\n",
    "println(\"Solution trouvée avec ENLSIP :\")\n",
    "@printf \"x_sol = (%.8e, %.9e)\\n\" x1_sol x2_sol\n",
    "@printf \"f(x_sol) = %.9e\\n\" enlsip57.obj_value  \n",
    "println(\"\\nValeurs théoriques visées :\")\n",
    "@printf \"x_opt = (%.8e, %.9e)\\n\" 0.419952675 1.284845629\n",
    "@printf \"f(x_opt) = %.9e\" 0.02845966972"
   ]
  },
  {
   "cell_type": "markdown",
   "metadata": {},
   "source": [
    "# Résolution avec Ipopt"
   ]
  },
  {
   "cell_type": "code",
   "execution_count": null,
   "metadata": {},
   "outputs": [],
   "source": [
    "using JuMP, Ipopt"
   ]
  },
  {
   "cell_type": "code",
   "execution_count": null,
   "metadata": {},
   "outputs": [],
   "source": [
    "model = Model(with_optimizer(Ipopt.Optimizer))\n",
    "@variable(model, x1, start = 0.42)\n",
    "@variable(model, x2, start = 5.)\n",
    "\n",
    "function f_i(x1, x2, t::Float64)\n",
    "    return x1 + (0.49 - x1) * exp(-x2*(t - 8))\n",
    "end\n",
    "\n",
    "function f(x1, x2)\n",
    "    y = b - (t::Float64 -> f_i(x1,x2,t)).(a)\n",
    "    return dot(y,y) \n",
    "end\n",
    "\n",
    "JuMP.register(model, :f, 2, f, autodiff=true)\n",
    "\n",
    "@NLconstraint(model, c1, 0.49*x2 - x1*x2 - 0.09 >= 0)\n",
    "@constraint(model, x1 >= 0.4)\n",
    "@constraint(model, x2 >= -4)\n",
    "\n",
    "@NLobjective(model, Min, f(x1,x2))\n",
    "\n",
    "JuMP.optimize!(model)"
   ]
  },
  {
   "cell_type": "code",
   "execution_count": null,
   "metadata": {},
   "outputs": [],
   "source": [
    "1.875+0.128"
   ]
  },
  {
   "cell_type": "code",
   "execution_count": null,
   "metadata": {},
   "outputs": [],
   "source": [
    "println(\"Solution ENLSIP-Julia :\")\n",
    "@printf \"x_sol = (%.8e, %.9e)\\n\" x1_sol x2_sol\n",
    "@printf \"f(x_sol) = %.9e\\n\" enlsip57.obj_value \n",
    "println(\"\\nSolution Ipopt :\")\n",
    "@printf \"x_opt = (%.8e, %.9e)\\n\" JuMP.value(x1) JuMP.value(x2)\n",
    "@printf \"f(x_opt) = %.9e \" JuMP.objective_value(model)"
   ]
  }
 ],
 "metadata": {
  "kernelspec": {
   "display_name": "Julia 1.6.5",
   "language": "julia",
   "name": "julia-1.6"
  },
  "language_info": {
   "file_extension": ".jl",
   "mimetype": "application/julia",
   "name": "julia",
   "version": "1.6.5"
  }
 },
 "nbformat": 4,
 "nbformat_minor": 4
}
