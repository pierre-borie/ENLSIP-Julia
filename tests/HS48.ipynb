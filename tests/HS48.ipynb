{
 "cells": [
  {
   "cell_type": "markdown",
   "metadata": {},
   "source": [
    "# Résolution problème Hock-Schittkowski 47"
   ]
  },
  {
   "cell_type": "code",
   "execution_count": null,
   "metadata": {},
   "outputs": [],
   "source": [
    "using BenchmarkTools, ForwardDiff, Distributions"
   ]
  },
  {
   "cell_type": "code",
   "execution_count": null,
   "metadata": {},
   "outputs": [],
   "source": [
    "include(\"../src/enlsip_functions_castor2.jl\")"
   ]
  },
  {
   "cell_type": "code",
   "execution_count": null,
   "metadata": {},
   "outputs": [],
   "source": [
    "n = 5\n",
    "m = 4\n",
    "nb_eq = 3\n",
    "nb_constraints = 3"
   ]
  },
  {
   "cell_type": "code",
   "execution_count": null,
   "metadata": {},
   "outputs": [],
   "source": [
    "# Residuals\n",
    "\n",
    "function r(x::Vector)\n",
    "    return [x[1]-x[2], x[2]-x[3], (x[3]-x[4])^2 ,(x[4]-x[5])^2]\n",
    "end\n",
    "\n",
    "resHS47 = ResidualsEval(0)\n",
    "\n",
    "function (resHS47::ResidualsEval)(x::Vector, rx::Vector, J::Matrix)\n",
    "\n",
    "    # Evaluate the residuals\n",
    "    if abs(resHS47.ctrl) == 1\n",
    "        rx[:] = r(x)\n",
    "\n",
    "    # The jacobian is computed analytically\n",
    "    elseif resHS47.ctrl == 2\n",
    "        J[:] = ForwardDiff.jacobian(r,x)\n",
    "    end\n",
    "    return\n",
    "end"
   ]
  },
  {
   "cell_type": "code",
   "execution_count": null,
   "metadata": {},
   "outputs": [],
   "source": [
    "function c(x::Vector)\n",
    "    return [x[1]+x[2]^2+x[3]^2-3, x[2]-x[3]^2+x[4]-1, x[1]*x[5]-1]\n",
    "end\n",
    "    \n",
    "consHS47 = ConstraintsEval(0)\n",
    "\n",
    "function (consHS47::ConstraintsEval)(x::Vector, cx::Vector, A::Matrix)\n",
    "\n",
    "    # Evaluate the constraints\n",
    "    if abs(consHS47.ctrl) == 1\n",
    "        cx[:] = c(x)\n",
    "    # The jacobian is computed numerically if ctrl is set to 0 on return\n",
    "    elseif consHS47.ctrl == 2\n",
    "        A[:] = ForwardDiff.jacobian(c,x)\n",
    "    end\n",
    "    return\n",
    "end"
   ]
  },
  {
   "cell_type": "code",
   "execution_count": null,
   "metadata": {
    "scrolled": true
   },
   "outputs": [],
   "source": [
    "x0 = [2, √2, -1, 2-√2, 0.5]\n",
    "enlsipHS47 = enlsip(x0,resHS47,consHS47,n,m,nb_eq,nb_constraints)"
   ]
  },
  {
   "cell_type": "markdown",
   "metadata": {},
   "source": [
    "# Résolution avec Ipopt\n",
    "    # TODO"
   ]
  },
  {
   "cell_type": "code",
   "execution_count": null,
   "metadata": {},
   "outputs": [],
   "source": [
    "using JuMP, Ipopt"
   ]
  },
  {
   "cell_type": "markdown",
   "metadata": {},
   "source": [
    "# Version étendue\n",
    "    # TODO"
   ]
  }
 ],
 "metadata": {
  "kernelspec": {
   "display_name": "Julia 1.8.2",
   "language": "julia",
   "name": "julia-1.8"
  },
  "language_info": {
   "file_extension": ".jl",
   "mimetype": "application/julia",
   "name": "julia",
   "version": "1.8.2"
  }
 },
 "nbformat": 4,
 "nbformat_minor": 4
}
