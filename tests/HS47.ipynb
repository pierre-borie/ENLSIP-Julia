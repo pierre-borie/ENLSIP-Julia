{
 "cells": [
  {
   "cell_type": "markdown",
   "metadata": {},
   "source": [
    "# Résolution problème Hock-Schittkowski 47"
   ]
  },
  {
   "cell_type": "code",
   "execution_count": null,
   "metadata": {},
   "outputs": [],
   "source": [
    "using BenchmarkTools, ForwardDiff, Distributions"
   ]
  },
  {
   "cell_type": "code",
   "execution_count": null,
   "metadata": {},
   "outputs": [],
   "source": [
    "include(\"../src/enlsip_functions_castor2.jl\")"
   ]
  },
  {
   "cell_type": "code",
   "execution_count": null,
   "metadata": {},
   "outputs": [],
   "source": [
    "n = 5\n",
    "m = 4\n",
    "nb_eq = 3\n",
    "nb_constraints = 3"
   ]
  },
  {
   "cell_type": "code",
   "execution_count": null,
   "metadata": {},
   "outputs": [],
   "source": [
    "# Residuals\n",
    "\n",
    "function r(x::Vector)\n",
    "    return [x[1]-x[2], x[2]-x[3], (x[3]-x[4])^2 ,(x[4]-x[5])^2]\n",
    "end\n",
    "\n",
    "resHS47 = ResidualsEval(0)\n",
    "\n",
    "function (resHS47::ResidualsEval)(x::Vector, rx::Vector, J::Matrix)\n",
    "\n",
    "    # Evaluate the residuals\n",
    "    if abs(resHS47.ctrl) == 1\n",
    "        rx[:] = r(x)\n",
    "\n",
    "    # The jacobian is computed analytically\n",
    "    elseif resHS47.ctrl == 2\n",
    "        J[:] = ForwardDiff.jacobian(r,x)\n",
    "    end\n",
    "    return\n",
    "end"
   ]
  },
  {
   "cell_type": "code",
   "execution_count": null,
   "metadata": {},
   "outputs": [],
   "source": [
    "function c(x::Vector)\n",
    "    return [x[1]+x[2]^2+x[3]^2-3, x[2]-x[3]^2+x[4]-1, x[1]*x[5]-1]\n",
    "end\n",
    "    \n",
    "consHS47 = ConstraintsEval(0)\n",
    "\n",
    "function (consHS47::ConstraintsEval)(x::Vector, cx::Vector, A::Matrix)\n",
    "\n",
    "    # Evaluate the constraints\n",
    "    if abs(consHS47.ctrl) == 1\n",
    "        cx[:] = c(x)\n",
    "    # The jacobian is computed numerically if ctrl is set to 0 on return\n",
    "    elseif consHS47.ctrl == 2\n",
    "        A[:] = ForwardDiff.jacobian(c,x)\n",
    "    end\n",
    "    return\n",
    "end"
   ]
  },
  {
   "cell_type": "code",
   "execution_count": null,
   "metadata": {
    "scrolled": true
   },
   "outputs": [],
   "source": [
    "x0 = [2, √2, -1, 2-√2, 0.5]\n",
    "enlsipHS47 = enlsip(x0,resHS47,consHS47,n,m,nb_eq,nb_constraints)"
   ]
  },
  {
   "cell_type": "markdown",
   "metadata": {},
   "source": [
    "# Version étendue\n",
    "    \n",
    "$$\\left\\{  \n",
    "\\begin{array}{lll} \n",
    "\\min_x F(x) \\\\ \n",
    "\\text{s.c.}\\\\\n",
    " c_k(x)=0 \\quad \\text{ pour } 1\\leq k \\leq 3(n-1)/4\n",
    "\\end{array} \\right.$$\n",
    "\n",
    "$$F(x)=\\sum_{i=1}^{(n-1)/4} \\left[ (x_{j+1}-x_{j+2})^2 +(x_{j+2}-x_{j+3})^2 + (x_{j+3}-x_{j+4})^4+ (x_{j+4}-x_{j+5})^4 \\right]$$\n",
    "\n",
    "avec $j=4(i-1)$.\n",
    "\n",
    "$$\\begin{array}{lll}\n",
    "& c_k(x) = x_{l+1} + x_{l+2}^2+x_{l+3}^2 -3, &\\mod(k,3)=1 \\\\\n",
    "& c_k(x) = x_{l+2} + x_{l+3}^2+x_{l+4} -1, &\\mod(k,3)=2  \\\\\n",
    "& c_k(x) = x_{l+1} x_{l+5}-1, &\\mod(k,3)=0 \n",
    "\\end{array}\n",
    "$$\n",
    "\n",
    "avec $l=4\\left\\lfloor\\dfrac{k-1}{3}\\right\\rfloor$"
   ]
  },
  {
   "cell_type": "code",
   "execution_count": null,
   "metadata": {},
   "outputs": [],
   "source": [
    "n  = 9 #997 # must be > 5 and mod(n,4) = 1\n",
    "N = div(n-1,4)\n",
    "m = 4N\n",
    "nb_eq = 3*N\n",
    "nb_constraints = nb_eq"
   ]
  },
  {
   "cell_type": "code",
   "execution_count": null,
   "metadata": {},
   "outputs": [],
   "source": [
    "# Residuals\n",
    "\n",
    "function r(x::Vector)\n",
    "    n = length(x)\n",
    "    N = div(n-1,4)\n",
    "    \n",
    "    rx1 = [x[4i-3] - x[4i-2] for i=1:N]\n",
    "    rx2 = [x[4i-2] - x[4i-1] for i=1:N]\n",
    "    rx3 = [(x[4i-1] - x[4i])^2 for i=1:N]\n",
    "    rx4 = [(x[4i] - x[4i+1])^2 for i=1:N]\n",
    "    return [rx1;rx2;rx3;rx4]\n",
    "end\n",
    "\n",
    "resHS47ext = ResidualsEval(0)\n",
    "\n",
    "function (resHS47ext::ResidualsEval)(x::Vector, rx::Vector, J::Matrix)\n",
    "\n",
    "    # Evaluate the residuals\n",
    "    if abs(resHS47ext.ctrl) == 1\n",
    "        rx[:] = r(x)\n",
    "\n",
    "    # The jacobian is computed analytically\n",
    "    elseif resHS47ext.ctrl == 2\n",
    "        J[:] = ForwardDiff.jacobian(r,x)\n",
    "    end\n",
    "    return\n",
    "end"
   ]
  },
  {
   "cell_type": "code",
   "execution_count": null,
   "metadata": {},
   "outputs": [],
   "source": [
    "function c(x::Vector)\n",
    "    N = div(n-1,4)\n",
    "    cx = Vector(undef,3N)\n",
    "    \n",
    "    for k = 1:3N\n",
    "        l = 4*div(k-1,3)\n",
    "        if mod(k,3) == 1\n",
    "            cx[k] = x[l+1] + x[l+2]^2 + x[l+3]^2 - 3\n",
    "        elseif k % 3 == 2\n",
    "            cx[k] = x[l+2] + x[l+3] + x[l+4] - 1\n",
    "        else\n",
    "            cx[k] = x[l+1] * x[l+5] - 1\n",
    "        end\n",
    "    end\n",
    "    return cx\n",
    "end\n",
    "    \n",
    "consHS47ext = ConstraintsEval(0)\n",
    "\n",
    "function (consHS47ext::ConstraintsEval)(x::Vector, cx::Vector, A::Matrix)\n",
    "\n",
    "    # Evaluate the constraints\n",
    "    if abs(consHS47ext.ctrl) == 1\n",
    "        cx[:] = c(x)\n",
    "    # The jacobian is computed numerically if ctrl is set to 0 on return\n",
    "    elseif consHS47ext.ctrl == 2\n",
    "        A[:] = ForwardDiff.jacobian(c,x)\n",
    "    end\n",
    "    return\n",
    "end"
   ]
  },
  {
   "cell_type": "code",
   "execution_count": null,
   "metadata": {
    "scrolled": true
   },
   "outputs": [],
   "source": [
    "x0_small = [2.0, 1.5, -1.0, 0.5]\n",
    "x0 = [x0_small[mod(i-1,4)+1] for i=1:n]\n",
    "\n",
    "enlsipHS47ext = enlsip(x0,resHS47ext,consHS47ext,n,m,nb_eq,nb_constraints,ε_c=1e-8)"
   ]
  },
  {
   "cell_type": "code",
   "execution_count": null,
   "metadata": {},
   "outputs": [],
   "source": [
    "@printf \"Valeur ENLSIP-Julia : %.10e\\n\\n\" enlsipHS47ext.obj_value"
   ]
  },
  {
   "cell_type": "markdown",
   "metadata": {},
   "source": [
    "# Résolution avec Ipopt"
   ]
  },
  {
   "cell_type": "code",
   "execution_count": null,
   "metadata": {},
   "outputs": [],
   "source": [
    "using JuMP, Ipopt"
   ]
  },
  {
   "cell_type": "code",
   "execution_count": null,
   "metadata": {},
   "outputs": [],
   "source": [
    "n  = 997 # must be > 5 and mod(n,4) = 1\n",
    "N = div(n-1,4)\n",
    "m = 4N\n",
    "nb_eq = 3*N\n",
    "nb_constraints = nb_eq\n",
    "\n",
    "x0_small = [2.0, 1.5, -1.0, 0.5]\n",
    "x0 = [x0_small[mod(i-1,4)+1] for i=1:n]\n",
    "\n",
    "# Starting point\n",
    "\n",
    "model = Model(Ipopt.Optimizer)\n",
    "@variable(model,x[i=1:n],start=x0_small[mod(i-1,4)+1])\n",
    "\n",
    "for k=1:3N\n",
    "    l = 4*div(k-1,3)\n",
    "    if mod(k,3) == 1\n",
    "        @NLconstraint(model, x[l+1] + x[l+2]^2 + x[l+3]^2 == 3)\n",
    "    elseif k % 3 == 2\n",
    "        @NLconstraint(model, x[l+2] + x[l+3] + x[l+4] == 1)\n",
    "    else\n",
    "        @NLconstraint(model, x[l+1] * x[l+5] == 1)\n",
    "    end\n",
    "end\n",
    "\n",
    "@NLobjective(model, Min, sum((x[4i-3] - x[4i-2])^2 + (x[4i-2] - x[4i-1])^2 + \n",
    "        (x[4i-1] - x[4i])^4 + (x[4i] - x[4i+1])^4 for i=1:N))\n",
    "\n",
    "JuMP.optimize!(model)"
   ]
  },
  {
   "cell_type": "code",
   "execution_count": null,
   "metadata": {},
   "outputs": [],
   "source": [
    "@printf \"Valeur ENLSIP-Julia : %.10e\\n\\n\" enlsipHS47ext.obj_value\n",
    "@printf \"Valeur Ipopt : %.10e\\n\\n\" objective_value(model)"
   ]
  }
 ],
 "metadata": {
  "kernelspec": {
   "display_name": "Julia 1.8.2",
   "language": "julia",
   "name": "julia-1.8"
  },
  "language_info": {
   "file_extension": ".jl",
   "mimetype": "application/julia",
   "name": "julia",
   "version": "1.8.2"
  }
 },
 "nbformat": 4,
 "nbformat_minor": 4
}
