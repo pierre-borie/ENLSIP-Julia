{
   "cells": [
    {
     "cell_type": "markdown",
     "metadata": {},
     "source": [
      "# Résolution problème Thurber\n",
      "\n",
      "Source: [Thurber.dat](https://www.itl.nist.gov/div898/strd/nls/data/LINKS/DATA/Thurber.dat)\n",
      "\n",
      "$n=7,\\ m=37$"
     ]
    },
    {
     "cell_type": "code",
     "execution_count": null,
     "metadata": {},
     "outputs": [],
     "source": [
      "# Modules and ENLSIP imports\n",
      "\n",
      "using ForwardDiff, JuMP, Ipopt, BenchmarkTools\n",
      "\n",
      "include(\"../src/enlsip_functions_castor2.jl\")"
     ]
    },
    {
     "cell_type": "code",
     "execution_count": null,
     "metadata": {},
     "outputs": [],
     "source": [
      "n = 7\n",
      "m = 37\n",
      "nb_eq = 0\n",
      "nb_constraints = 2*n;"
     ]
    },
    {
     "cell_type": "code",
     "execution_count": null,
     "metadata": {},
     "outputs": [],
     "source": [
      "data = [80.574      -3.067\n",
      "      84.248      -2.981\n",
      "      87.264      -2.921\n",
      "      87.195      -2.912\n",
      "      89.076      -2.840\n",
      "      89.608      -2.797\n",
      "      89.868      -2.702\n",
      "      90.101      -2.699\n",
      "      92.405      -2.633\n",
      "      95.854      -2.481\n",
      "     100.696      -2.363\n",
      "     101.060      -2.322\n",
      "     401.672      -1.501\n",
      "     390.724      -1.460\n",
      "     567.534      -1.274\n",
      "     635.316      -1.212\n",
      "     733.054      -1.100\n",
      "     759.087      -1.046\n",
      "     894.206      -0.915\n",
      "     990.785      -0.714\n",
      "    1090.109      -0.566\n",
      "    1080.914      -0.545\n",
      "    1122.643      -0.400\n",
      "    1178.351      -0.309\n",
      "    1260.531      -0.109\n",
      "    1273.514      -0.103\n",
      "    1288.339       0.010\n",
      "    1327.543       0.119\n",
      "    1353.863       0.377\n",
      "    1414.509       0.790\n",
      "    1425.208       0.963\n",
      "    1421.384       1.006\n",
      "    1442.962       1.115\n",
      "    1464.350       1.572\n",
      "    1468.705       1.841\n",
      "    1447.894       2.047\n",
      "    1457.628       2.200]\n",
      "\n",
      "y = data[:,1]\n",
      "t = data[:,2];"
     ]
    },
    {
     "cell_type": "code",
     "execution_count": null,
     "metadata": {},
     "outputs": [],
     "source": [
      "# Résidus\n",
      "\n",
      "function r_i(x::Vector,t::Float64,y::Float64)\n",
      "    return y - (x[1] + x[2]*t + x[3]*t^2 + x[4]*t^3) / (1 + x[5]*t + x[6]*t^2 + x[7]*t^3)\n",
      "end\n",
      "\n",
      "function r(x::Vector)\n",
      "    return [r_i(x,t[i],y[i]) for i=1:m]\n",
      "end\n",
      "\n",
      "resThurber = ResidualsEval(0)\n",
      "\n",
      "function (resThurber::ResidualsEval)(x::Vector{Float64}, rx::Vector{Float64}, J::Matrix{Float64})\n",
      "    \n",
      "    if resThurber.ctrl == 1\n",
      "        rx[:] = r(x)\n",
      "    elseif resThurber.ctrl == 2\n",
      "        J[:] = ForwardDiff.jacobian(r,x)\n",
      "    end\n",
      "    return\n",
      "end"
     ]
    },
    {
     "cell_type": "code",
     "execution_count": null,
     "metadata": {},
     "outputs": [],
     "source": [
      "# Contraintes\n",
      "\n",
      "function c(x::Vector)\n",
      "    return [x[1]-1000; 1300 - x[1];\n",
      "        x[2]-1000; 1500 - x[2];\n",
      "        x[3]-300; 600 - x[3];\n",
      "        x[4]; 100- x[4];\n",
      "        x[5]; 1 - x[5];\n",
      "        x[6]; 1 - x[6];\n",
      "        x[7]; 1 - x[7]]\n",
      "end\n",
      "\n",
      "consThurber = ConstraintsEval(0)\n",
      "\n",
      "function (consThurber::ConstraintsEval)(x::Vector{Float64}, cx::Vector{Float64}, A::Matrix{Float64})\n",
      "    \n",
      "    if consThurber.ctrl == 1\n",
      "        cx[:] = c(x)\n",
      "    elseif consThurber.ctrl == 2\n",
      "        A[:] = ForwardDiff.jacobian(c,x)\n",
      "    end\n",
      "    return\n",
      "end   "
     ]
    },
    {
     "cell_type": "code",
     "execution_count": null,
     "metadata": {},
     "outputs": [],
     "source": [
      "# x0 = [1300.0, 1500.0, 500.0, 75.0, 1.0, 0.4, 0.05]# \n",
      "x0 = [1000.0, 1000.0, 400.0, 40., 0.7, 0.3, 0.03] # \n",
      "\n",
      "e = eps(Float64)\n",
      "se = sqrt(e)\n",
      "enlsipThurber = enlsip(x0,resThurber,consThurber,n,m,nb_eq,nb_constraints)\n",
      "@printf \"f(x_jul) = %.10e\\n\\n\" enlsipThurber.obj_value"
     ]
    },
    {
     "cell_type": "code",
     "execution_count": null,
     "metadata": {},
     "outputs": [],
     "source": [
      "x0 = [1300.0, 1500.0, 500.0, 75.0, 1.0, 0.4, 0.05]# \n",
      "# x0 = [1000.0, 1000.0, 400.0, 40., 0.7, 0.3, 0.03] # \n",
      "\n",
      "e = eps(Float64)\n",
      "se = sqrt(e)\n",
      "enlsipThurber = enlsip(x0,resThurber,consThurber,n,m,nb_eq,nb_constraints)\n",
      "# @printf \"f(x_jul) = %.10e\\n\\n\" enlsipThurber.obj_value"
     ]
    },
    {
     "cell_type": "markdown",
     "metadata": {},
     "source": [
      "Model:         Rational Class (cubic/cubic)\n",
      "               7 Parameters (b1 to b7)\n",
      "\n",
      "               y = (b1 + b2*x + b3*x**2 + b4*x**3) / \n",
      "                   (1 + b5*x + b6*x**2 + b7*x**3)  +  e\n",
      "\n",
      "\n",
      "          Starting Values                  Certified Values\n",
      "\n",
      "        Start 1     Start 2           Parameter     Standard Deviation\n",
      "        \n",
      "  b1 =   1000        1300          1.2881396800E+03  4.6647963344E+00\n",
      "  \n",
      "  b2 =   1000        1500          1.4910792535E+03  3.9571156086E+01\n",
      "  \n",
      "  b3 =    400         500          5.8323836877E+02  2.8698696102E+01\n",
      "  \n",
      "  b4 =     40          75          7.5416644291E+01  5.5675370270E+00\n",
      "  \n",
      "  b5 =      0.7         1          9.6629502864E-01  3.1333340687E-02\n",
      "  \n",
      "  b6 =      0.3         0.4        3.9797285797E-01  1.4984928198E-02\n",
      "  \n",
      "  b7 =      0.03        0.05       4.9727297349E-02  6.5842344623E-03\n",
      "\n",
      "Residual Sum of Squares:                    5.6427082397E+03\n",
      "Residual Standard Deviation:                1.3714600784E+01\n",
      "Degrees of Freedom:                                30\n",
      "Number of Observations:                            37\n",
      "\n"
     ]
    },
    {
     "cell_type": "markdown",
     "metadata": {},
     "source": [
      "## Visualisation"
     ]
    },
    {
     "cell_type": "code",
     "execution_count": null,
     "metadata": {
      "scrolled": true
     },
     "outputs": [],
     "source": [
      "str_to_array = (str::String, T::DataType=Float64) -> parse.(T, split(chop(str; head=1, tail=1), ','))\n",
      "\n",
      "df = DataFrame(CSV.File(\"iterates.csv\", delim=\";\"))"
     ]
    },
    {
     "cell_type": "code",
     "execution_count": null,
     "metadata": {},
     "outputs": [],
     "source": [
      "f = (x::Vector, t::Number) -> (x[1] + x[2]*t + x[3]*t^2 + x[4]*t^3) / (1 + x[5]*t + x[6]*t^2 + x[7]*t^3)\n",
      "\n",
      "entry = range(-4,4,1000)\n",
      "anim = @animate for i ∈ df[!,:iter]\n",
      "    scatter(t,y,markershape=:cross, xlabel=\"t\", ylabel=\"y\", legend=:none , ylim = (0,1500))\n",
      "    x = str_to_array(df[i,:x])\n",
      "    plot!(entry, (t -> f(x,t)).(entry),title=\"Itération $i\")\n",
      "end\n",
      "gif(anim, fps = 2)"
     ]
    }
   ],
   "metadata": {
    "kernelspec": {
     "display_name": "Julia 1.8.2",
     "language": "julia",
     "name": "julia-1.8"
    },
    "language_info": {
     "file_extension": ".jl",
     "mimetype": "application/julia",
     "name": "julia",
     "version": "1.8.2"
    }
   },
   "nbformat": 4,
   "nbformat_minor": 4
  }
  