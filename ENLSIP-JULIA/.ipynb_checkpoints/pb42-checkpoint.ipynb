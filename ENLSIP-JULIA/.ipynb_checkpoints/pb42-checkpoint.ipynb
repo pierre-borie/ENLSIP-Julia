{
 "cells": [
  {
   "cell_type": "markdown",
   "metadata": {},
   "source": [
    "# Résolution Pb42 de la collection Hock-Schittkowski\n",
    "\n",
    "Classification : QQR-T1-10\n",
    "\n",
    "Number of variables : n = 4\n",
    "\n",
    "Number of constraints : 2 (2 equalities)\n",
    "\n",
    "# Modèle\n",
    "\n",
    "$\\left\\{  \n",
    "\\begin{array}{l l l l} \n",
    "\\min\\ f(x) \\\\ \n",
    "\\text{s.c.}\\\\\n",
    "x_1-2 = 0\\\\\n",
    "x_3^2+x_4^2-2= 0\n",
    "\\end{array} \\right.$\n",
    "\n",
    "where $f : x \\longmapsto (x_1-1)^2+(x_2-2)^2+(x_3-3)^2+(x_4-4)^2$\n",
    "\n",
    "\n",
    "\n",
    "Departure point : $x_0 = (1,1,1,1)$\n",
    "\n",
    "Expected solution : $x^* = (2,2,0.6\\sqrt 2, 0.8\\sqrt 2)$\n",
    "\n",
    "Value of objective at solution : $f(x^*) =28-10\\sqrt 2$"
   ]
  },
  {
   "cell_type": "code",
   "execution_count": 1,
   "metadata": {},
   "outputs": [],
   "source": [
    "include(\"./enlsip_functions.jl\")"
   ]
  },
  {
   "cell_type": "code",
   "execution_count": 2,
   "metadata": {},
   "outputs": [
    {
     "data": {
      "text/plain": [
       "2"
      ]
     },
     "execution_count": 2,
     "metadata": {},
     "output_type": "execute_result"
    }
   ],
   "source": [
    "n = 4\n",
    "m = 4\n",
    "nb_eq = 2\n",
    "nb_constraints = 2"
   ]
  },
  {
   "cell_type": "code",
   "execution_count": 3,
   "metadata": {},
   "outputs": [],
   "source": [
    "res42 = ResidualsEval(0)\n",
    "\n",
    "function (res42::ResidualsEval)(x::Vector{Float64}, rx::Vector{Float64}, J::Matrix{Float64})\n",
    "\n",
    "    # Evaluate the residuals\n",
    "    if abs(res42.ctrl) == 1\n",
    "        rx[:] = [x[1] - 1.0;\n",
    "        x[2] - 2.0;\n",
    "        x[3] - 3.0;\n",
    "        x[4] - 4.0]\n",
    "\n",
    "    # The jacobian is computed analytically\n",
    "    elseif res42.ctrl == 2\n",
    "        res42.ctrl = 0\n",
    "    end\n",
    "    return\n",
    "end\n",
    "\n",
    "cons42 = ConstraintsEval(0)\n",
    "\n",
    "function (cons42::ConstraintsEval)(x::Vector{Float64}, cx::Vector{Float64}, A::Matrix{Float64})\n",
    "\n",
    "    # Evaluate the constraints\n",
    "    if abs(cons42.ctrl) == 1\n",
    "        cx[:] = [x[1] - 2.0;\n",
    "                 x[3]*x[3] + x[4]*x[4] - 2.0]\n",
    "\n",
    "    # The jacobian is computed numerically if ctrl is set to 0 on return\n",
    "    elseif cons42.ctrl == 2\n",
    "        cons42.ctrl = 0\n",
    "    end\n",
    "    return\n",
    "end"
   ]
  },
  {
   "cell_type": "code",
   "execution_count": 6,
   "metadata": {},
   "outputs": [
    {
     "name": "stdout",
     "output_type": "stream",
     "text": [
      "****************************************\n",
      "*                                      *\n",
      "*          ENLSIP-JULIA-0.2.0          *\n",
      "*                                      *\n",
      "****************************************\n",
      "\n",
      "Starting point : [1.0, 1.0, 1.0, 1.0]\n",
      "\n",
      "Number of equality constraints   : 2\n",
      "Number of inequality constraints : 0\n",
      "\n",
      "iter    objective    cx_sum   reduction     ||p||   dimA  dimJ2     α     conv. speed   max weight   working set\n",
      "   0  1.350000e+01  1.00e+00   1.98e+00   1.581e+00   2     2   1.00e+00    0.00e+00     1.50e+00    (1,2)\n",
      "   1  1.196443e+01  2.50e-01   1.40e+00   1.589e+00   2     2   6.53e-01    1.05e+00     1.50e+00    (1,2)\n",
      "   2  1.154836e+01  1.57e+00   1.08e+00   1.463e+00   2     2   3.30e-01    1.14e+00     1.59e+00    (1,2)\n",
      "   3  1.359788e+01  1.15e+00   2.15e+00   3.177e-01   2     2   9.90e-01    5.68e-01     3.70e+00    (1,2)\n",
      "   4  1.373538e+01  1.20e-02   2.24e-01   2.117e-01   2     2   6.55e-01    2.19e-01     4.13e+01    (1,2)\n",
      "   5  1.374298e+01  3.25e-03   6.66e-02   2.688e-01   2     2   3.40e-01    1.16e+00     6.53e+01    (1,2)\n",
      "   6  1.385534e+01  2.11e-03   1.14e-01   5.347e-02   2     2   1.00e+00    2.51e-01     1.08e+02    (1,2)\n",
      "   7  1.384717e+01  8.17e-06   6.64e-03   1.292e-01   2     2   4.31e-01    1.88e+00     1.08e+02    (1,2)\n",
      "   8  1.384906e+01  2.24e-05   6.48e-03   6.757e-02   2     2   4.02e-01    5.24e-01     8.67e+02    (1,2)\n",
      "   9  1.385728e+01  1.27e-05   8.14e-03   2.851e-02   2     2   1.00e+00    4.24e-01     1.36e+03    (1,2)\n",
      "  10  1.385537e+01  6.61e-07   1.49e-03   7.220e-02   2     2   2.75e-01    2.52e+00     1.36e+03    (1,2)\n",
      "  11  1.385743e+01  9.69e-07   2.77e-03   1.975e-03   2     2   8.26e-01    3.02e-02     5.15e+03    (1,2)\n",
      "  12  1.385786e+01  3.03e-08   2.77e-03   1.057e-03  -2    -2   1.00e+00    1.71e+00     5.15e+03    (1,2)\n",
      "  13  1.385786e+01  1.25e-12   2.84e-06   4.102e-07   2     2   1.00e+00    3.01e-04     4.53e+06    (1,2)\n",
      "  14  1.385786e+01  3.09e-26   3.37e-13   2.505e-07   2     2   1.00e+00    2.23e-01     2.68e+13    (1,2)\n",
      "\n",
      "Exit code = 10000\n",
      "Number of iterations = 15 \n",
      "\n",
      "Terminated at point : 2.000000e+00  2.000000e+00  8.485282e-01  1.131371e+00 \n",
      "\n",
      "Active constraints : 1  2 \n",
      "Constraint values : \n",
      " 0.00e+00  3.24e-14 \n",
      "Penalty constants :\n",
      " 1.50e+00  2.68e+13 \n",
      "Square sum of residuals = 1.385786e+01\n"
     ]
    }
   ],
   "source": [
    "x0 = [1.0;1.0;1.0;1.0]\n",
    "enlsip_020(x0,res42,cons42,n,m,nb_eq,nb_constraints)"
   ]
  }
 ],
 "metadata": {
  "kernelspec": {
   "display_name": "Julia 1.6.0",
   "language": "julia",
   "name": "julia-1.6"
  },
  "language_info": {
   "file_extension": ".jl",
   "mimetype": "application/julia",
   "name": "julia",
   "version": "1.6.1"
  }
 },
 "nbformat": 4,
 "nbformat_minor": 2
}
