{
 "cells": [
  {
   "cell_type": "markdown",
   "metadata": {},
   "source": [
    "# Résolution Pb57 de la collection Hock-Schittkowski\n",
    "\n",
    "Classification dans l'ouvrage : SQR-P1-1\n",
    "\n",
    "Number of variables : n = 2\n",
    "\n",
    "Number of constraints : 3 (1 inequality + 2 bounds)\n",
    "\n",
    "# Modèle\n",
    "\n",
    "$\\left\\{  \n",
    "\\begin{array}{llll} \n",
    "\\min f(x) \\\\ \n",
    "\\text{s.c.}\\\\\n",
    "0.49x_2-x_1x_2-0.09 &\\geq 0\\\\\n",
    "x_1\\geq 0.4,\\  x_2 \\geq -4\n",
    "\\end{array} \\right.$\n",
    "\n",
    "où $f : x \\longmapsto \\sum\\limits_{i=1}^{44} f_i(x)^2$\n",
    "\n",
    "avec $f_i(x) = b_i - x_1 - (0.49-x_1)\\exp(-x_2(a_i-8)) \\text{ pour }i=1,\\ldots,44$ \n",
    "\n",
    "Point de départ : $x_0 = (0.42,5)$\n",
    "\n",
    "Solution attendue : $x^* = (0.419952675,1.284845629)$\n",
    "\n",
    "Fonction objectif à la solution : $f(x^*) =0.02845966972$"
   ]
  },
  {
   "cell_type": "markdown",
   "metadata": {},
   "source": [
    "# Résolution avec ENLSIP-0.2.0"
   ]
  },
  {
   "cell_type": "code",
   "execution_count": 5,
   "metadata": {},
   "outputs": [],
   "source": [
    "using JuMP, Ipopt, LinearAlgebra, Polynomials, Printf, Plots, BenchmarkTools"
   ]
  },
  {
   "cell_type": "code",
   "execution_count": 15,
   "metadata": {},
   "outputs": [],
   "source": [
    "path_enlsip_file = string(pwd(),\"/enlsip-julia-0.2.0.jl\")\n",
    "include(path_enlsip_file)"
   ]
  },
  {
   "cell_type": "code",
   "execution_count": 7,
   "metadata": {},
   "outputs": [
    {
     "data": {
      "text/plain": [
       "3"
      ]
     },
     "execution_count": 7,
     "metadata": {},
     "output_type": "execute_result"
    }
   ],
   "source": [
    "n = 2\n",
    "m = 44\n",
    "nb_eq = 0 # nombre de contraintes d'égalité\n",
    "nb_constraints = 3 # nombre de contraintes d'égalité et d'inégalité"
   ]
  },
  {
   "cell_type": "markdown",
   "metadata": {},
   "source": [
    "### Données d'entrée"
   ]
  },
  {
   "cell_type": "code",
   "execution_count": 8,
   "metadata": {},
   "outputs": [
    {
     "data": {
      "text/plain": [
       "44-element Vector{Float64}:\n",
       " 0.49\n",
       " 0.49\n",
       " 0.48\n",
       " 0.47\n",
       " 0.48\n",
       " 0.47\n",
       " 0.46\n",
       " 0.46\n",
       " 0.45\n",
       " 0.43\n",
       " 0.45\n",
       " 0.43\n",
       " 0.43\n",
       " ⋮\n",
       " 0.4\n",
       " 0.4\n",
       " 0.38\n",
       " 0.41\n",
       " 0.4\n",
       " 0.4\n",
       " 0.41\n",
       " 0.38\n",
       " 0.4\n",
       " 0.4\n",
       " 0.39\n",
       " 0.39"
      ]
     },
     "execution_count": 8,
     "metadata": {},
     "output_type": "execute_result"
    }
   ],
   "source": [
    "a = [8.,8.,10.,10.,10.,10.,12.,12.,12.,12.,14.,14.,14.,16.,16.,16.,18.,18.,20.,20.,20.,22.,22.,22., \n",
    "         24.,24.,24.,26.,26.,26.,28.,28.,30.,30.,30.,32.,32.,34.,36.,36.,38.,38.,40.,42.]\n",
    "\n",
    "b = [.49,.49,.48,.47,.48,.47,.46,.46,.45,.43,.45,.43,.43,.44,.43,.43,.46,.45,.42,.42,.43,.41,\n",
    "         .41,.40,.42,.40,.40,.41,.40,.41,.41,.40,.40,.40,.38,.41,.40,.40,.41,.38,.40,.40,.39,.39]"
   ]
  },
  {
   "cell_type": "code",
   "execution_count": 9,
   "metadata": {},
   "outputs": [],
   "source": [
    "# Résidus et matrice jacobienne associée\n",
    "\n",
    "r_i(x::Vector,t::Float64) = x[1] + (0.49 - x[1]) * exp(-x[2]*(t - 8))\n",
    "res57 = ResidualsEval(0)\n",
    "\n",
    "function (res57::ResidualsEval)(x::Vector,rx::Vector,J::Matrix)\n",
    "    # Evaluate the residuals\n",
    "    if abs(res57.ctrl) == 1\n",
    "        rx[:] = b - (t::Float64 -> r_i(x,t)).(a)\n",
    "\n",
    "    # The jacobian is computed numericaly using forward differences\n",
    "    # ctrl is set to 0\n",
    "    elseif res57.ctrl == 2 res57.ctrl = 0 end\n",
    "    return\n",
    "end"
   ]
  },
  {
   "cell_type": "code",
   "execution_count": 10,
   "metadata": {},
   "outputs": [],
   "source": [
    "# Contraintes et matrice jacobienne associée\n",
    "\n",
    "cons57 = ConstraintsEval(0)\n",
    "\n",
    "function (cons57::ConstraintsEval)(x::Vector,cx::Vector,A::Matrix)\n",
    "    # Evaluate the constraints\n",
    "    if abs(cons57.ctrl) == 1\n",
    "        cx[:] = [0.49 * x[2] - x[1] * x[2] - 0.09, x[1] - 0.4, x[2] + 4]\n",
    "    \n",
    "    # The jacobian is computed anaticaly\n",
    "    elseif cons57.ctrl == 2\n",
    "        A[:] = [-x[2] 0.49-x[1];\n",
    "        1.0 0.0;\n",
    "        0.0 1.0]\n",
    "    end\n",
    "end"
   ]
  },
  {
   "cell_type": "markdown",
   "metadata": {},
   "source": [
    "# Résolution avec ENLSIP-0.2.0"
   ]
  },
  {
   "cell_type": "code",
   "execution_count": 16,
   "metadata": {
    "scrolled": true
   },
   "outputs": [
    {
     "name": "stdout",
     "output_type": "stream",
     "text": [
      "****************************************\n",
      "*                                      *\n",
      "*          ENLSIP-JULIA-0.2.0          *\n",
      "*                                      *\n",
      "****************************************\n",
      "\n",
      "Starting point : [0.42, 5.0]\n",
      "\n",
      "Number of equality constraints   : 0\n",
      "Number of inequality constraints : 3\n",
      "\n",
      "iter    objective    cx_sum   method   ||p||   dimA  dimJ2     α     conv. speed   max weight   working set\n",
      "   0  2.845938e-02  0.00e+00     1   9.233e+03   0     2   4.02e-04    0.00e+00     1.00e-01     -\n",
      "   1  2.845958e-02  3.03e-11     1   7.321e-04   1     1   7.56e-01    2.24e-03     2.16e+04    (1)\n",
      "   2  2.845967e-02  1.86e-12     1   2.021e-04   1     1   1.00e+00    2.76e-01     9.48e+04    (1)\n",
      "   3  2.845967e-02  5.91e-18     1   8.677e-06   1     1   1.00e+00    4.29e-02     5.34e+07    (1)\n",
      "   4  2.845967e-02  1.69e-23     1   3.804e-07   1     1   1.00e+00    4.38e-02     3.15e+10    (1)\n",
      "\n",
      "Exit code = 40\n",
      "Number of iterations = 5 \n",
      "\n",
      "Terminated at point : 4.199527e-01  1.284846e+00 \n",
      "\n",
      "Active constraints : 1 \n",
      "Constraint values : \n",
      " 8.33e-17  2.00e-02  5.28e+00 \n",
      "\n",
      "Penalty constants :\n",
      " 3.15e+10  1.00e-01  1.00e-01 \n",
      "\n",
      "Square sum of residuals = 2.845967e-02\n"
     ]
    }
   ],
   "source": [
    "x0 = [0.42, 5.0]\n",
    "enlsip_020(x0,res57,cons57,n,m,nb_eq,nb_constraints)"
   ]
  },
  {
   "cell_type": "code",
   "execution_count": 9,
   "metadata": {
    "scrolled": false
   },
   "outputs": [
    {
     "name": "stdout",
     "output_type": "stream",
     "text": [
      "Solution obtenue avec ENLSIP :\n",
      "x_sol = [0.4199526506972085, 1.2848451925134212]\n",
      "Valeur de l'objecif : 0.028459669722986667\n",
      "\n",
      "Evaluation des contraintes : [8.326672684688674e-17, 0.019952650697208474, 5.284845192513421]\n"
     ]
    }
   ],
   "source": [
    "x1_sol = enlsip_020.sol[1]\n",
    "x2_sol = enlsip_020.sol[2]\n",
    "\n",
    "println(\"Solution obtenue avec ENLSIP :\")\n",
    "println(\"x_sol = $(enlsip_020.sol)\")\n",
    "println(\"Valeur de l'objecif : $(enlsip_020.obj_value)\",\"\\n\")\n",
    "println(\"Evaluation des contraintes : $([0.49 * x2_sol - x1_sol * x2_sol - 0.09, x1_sol - 0.4, x2_sol + 4])\")"
   ]
  },
  {
   "cell_type": "code",
   "execution_count": 10,
   "metadata": {
    "scrolled": true
   },
   "outputs": [
    {
     "name": "stdout",
     "output_type": "stream",
     "text": [
      "Solution trouvée avec ENLSIP :\n",
      "x_sol = (4.19952651e-01, 1.284845193e+00)\n",
      "f(x_sol) = 2.845966972e-02\n",
      "\n",
      "Valeurs théoriques visées :\n",
      "x_opt = (4.19952675e-01, 1.284845629e+00)\n",
      "f(x_opt) = 2.845966972e-02"
     ]
    }
   ],
   "source": [
    "println(\"Solution trouvée avec ENLSIP :\")\n",
    "@printf \"x_sol = (%.8e, %.9e)\\n\" x1_sol x2_sol\n",
    "@printf \"f(x_sol) = %.9e\\n\" enlsip_020.obj_value  \n",
    "println(\"\\nValeurs théoriques visées :\")\n",
    "@printf \"x_opt = (%.8e, %.9e)\\n\" 0.419952675 1.284845629\n",
    "@printf \"f(x_opt) = %.9e\" 0.02845966972"
   ]
  },
  {
   "cell_type": "markdown",
   "metadata": {},
   "source": [
    "# Résolution avec Ipopt"
   ]
  },
  {
   "cell_type": "code",
   "execution_count": 11,
   "metadata": {},
   "outputs": [
    {
     "name": "stdout",
     "output_type": "stream",
     "text": [
      "\n",
      "******************************************************************************\n",
      "This program contains Ipopt, a library for large-scale nonlinear optimization.\n",
      " Ipopt is released as open source code under the Eclipse Public License (EPL).\n",
      "         For more information visit https://github.com/coin-or/Ipopt\n",
      "******************************************************************************\n",
      "\n",
      "This is Ipopt version 3.13.4, running with linear solver mumps.\n",
      "NOTE: Other linear solvers might be more efficient (see Ipopt documentation).\n",
      "\n",
      "Number of nonzeros in equality constraint Jacobian...:        0\n",
      "Number of nonzeros in inequality constraint Jacobian.:        4\n",
      "Number of nonzeros in Lagrangian Hessian.............:        0\n",
      "\n",
      "Total number of variables............................:        2\n",
      "                     variables with only lower bounds:        0\n",
      "                variables with lower and upper bounds:        0\n",
      "                     variables with only upper bounds:        0\n",
      "Total number of equality constraints.................:        0\n",
      "Total number of inequality constraints...............:        3\n",
      "        inequality constraints with only lower bounds:        3\n",
      "   inequality constraints with lower and upper bounds:        0\n",
      "        inequality constraints with only upper bounds:        0\n",
      "\n",
      "iter    objective    inf_pr   inf_du lg(mu)  ||d||  lg(rg) alpha_du alpha_pr  ls\n",
      "   0  3.0798602e-02 0.00e+00 7.14e-01   0.0 0.00e+00    -  0.00e+00 0.00e+00   0\n",
      "   1  3.1510710e-02 0.00e+00 5.38e-01  -1.6 3.11e-02    -  9.91e-01 1.00e+00f  1\n",
      "   2  3.2754028e-02 0.00e+00 4.29e-02  -1.4 1.69e-02    -  1.00e+00 1.00e+00h  1\n",
      "   3  3.1373761e-02 0.00e+00 2.26e-02  -2.1 1.43e-02    -  1.00e+00 1.00e+00h  1\n",
      "   4  3.0685211e-02 0.00e+00 8.02e-04  -3.1 1.56e-02    -  1.00e+00 1.00e+00h  1\n",
      "   5  3.0646444e-02 0.00e+00 4.13e-06  -5.1 4.44e-03    -  1.00e+00 1.00e+00h  1\n",
      "   6  3.0646352e-02 0.00e+00 1.68e-06 -10.5 2.25e-04    -  9.99e-01 1.00e+00h  1\n",
      "   7  3.0646352e-02 0.00e+00 1.23e-06 -11.0 2.52e-06    -  1.00e+00 1.00e+00h  1\n",
      "   8  3.0646350e-02 0.00e+00 1.17e-05 -11.0 8.62e-04    -  1.00e+00 1.00e+00h  1\n",
      "   9  3.0644575e-02 0.00e+00 6.15e-03 -11.0 4.73e-01    -  1.00e+00 1.00e+00h  1\n",
      "iter    objective    inf_pr   inf_du lg(mu)  ||d||  lg(rg) alpha_du alpha_pr  ls\n",
      "  10  3.0622276e-02 0.00e+00 1.42e-02 -11.0 1.05e+00    -  1.00e+00 1.00e+00h  1\n",
      "  11  2.8585892e-02 0.00e+00 2.97e-02  -9.0 9.57e+00    -  1.00e+00 2.27e-01h  1\n",
      "  12  4.6549946e-02 0.00e+00 1.73e+00  -9.6 3.82e-02    -  1.00e+00 7.14e-01h  1\n",
      "  13  2.8580146e-02 0.00e+00 4.17e-03 -10.1 2.75e-02    -  1.08e-02 1.00e+00f  1\n",
      "  14  2.8579928e-02 0.00e+00 2.08e-03 -11.0 6.30e-05    -  1.00e+00 1.00e+00h  1\n",
      "  15  2.8579709e-02 0.00e+00 2.08e-03 -11.0 5.24e-05    -  1.00e+00 1.00e+00h  1\n",
      "  16  2.8579491e-02 0.00e+00 2.08e-03 -11.0 5.24e-05    -  1.00e+00 1.00e+00h  1\n",
      "  17  2.8575479e-02 0.00e+00 4.73e-02 -11.0 4.17e-03    -  1.00e+00 1.00e+00f  1\n",
      "  18  2.8565367e-02 0.00e+00 4.71e-02  -9.1 1.44e-01    -  1.00e+00 1.66e-02h  1\n",
      "  19  2.8565234e-02 0.00e+00 4.71e-02  -7.8 7.89e-02    -  1.00e+00 3.62e-04h  1\n",
      "iter    objective    inf_pr   inf_du lg(mu)  ||d||  lg(rg) alpha_du alpha_pr  ls\n",
      "  20  2.8463598e-02 3.07e-05 8.07e-03  -8.0 2.44e-02    -  1.00e+00 1.00e+00h  1\n",
      "  21  2.8462718e-02 1.36e-07 3.16e-03 -10.0 1.62e-03    -  1.00e+00 1.00e+00h  1\n",
      "  22  2.8459569e-02 1.50e-06 2.89e-04  -8.9 5.27e-03    -  1.00e+00 1.00e+00h  1\n",
      "  23  2.8459669e-02 0.00e+00 1.51e-06 -11.0 5.75e-05    -  1.00e+00 1.00e+00h  1\n",
      "  24  2.8459669e-02 0.00e+00 2.95e-09 -11.0 4.62e-08    -  1.00e+00 1.00e+00h  1\n",
      "\n",
      "Number of Iterations....: 24\n",
      "\n",
      "                                   (scaled)                 (unscaled)\n",
      "Objective...............:   2.8459669065836156e-02    2.8459669065836156e-02\n",
      "Dual infeasibility......:   2.9526275868718699e-09    2.9526275868718699e-09\n",
      "Constraint violation....:   0.0000000000000000e+00    0.0000000000000000e+00\n",
      "Complementarity.........:   1.0000000015008103e-11    1.0000000015008103e-11\n",
      "Overall NLP error.......:   2.9526275868718699e-09    2.9526275868718699e-09\n",
      "\n",
      "\n",
      "Number of objective function evaluations             = 25\n",
      "Number of objective gradient evaluations             = 25\n",
      "Number of equality constraint evaluations            = 0\n",
      "Number of inequality constraint evaluations          = 25\n",
      "Number of equality constraint Jacobian evaluations   = 0\n",
      "Number of inequality constraint Jacobian evaluations = 25\n",
      "Number of Lagrangian Hessian evaluations             = 0\n",
      "Total CPU secs in IPOPT (w/o function evaluations)   =      1.860\n",
      "Total CPU secs in NLP function evaluations           =      0.125\n",
      "\n",
      "EXIT: Optimal Solution Found.\n"
     ]
    }
   ],
   "source": [
    "model = Model(with_optimizer(Ipopt.Optimizer))\n",
    "@variable(model, x1, start = 0.42)\n",
    "@variable(model, x2, start = 5.)\n",
    "\n",
    "function f_i(x1, x2, t::Float64)\n",
    "    return x1 + (0.49 - x1) * exp(-x2*(t - 8))\n",
    "end\n",
    "\n",
    "function f(x1, x2)\n",
    "    y = b - (t::Float64 -> f_i(x1,x2,t)).(a)\n",
    "    return dot(y,y) \n",
    "end\n",
    "\n",
    "JuMP.register(model, :f, 2, f, autodiff=true)\n",
    "\n",
    "@NLconstraint(model, c1, 0.49*x2 - x1*x2 - 0.09 >= 0)\n",
    "@constraint(model, x1 >= 0.4)\n",
    "@constraint(model, x2 >= -4)\n",
    "\n",
    "@NLobjective(model, Min, f(x1,x2))\n",
    "\n",
    "JuMP.optimize!(model)"
   ]
  },
  {
   "cell_type": "code",
   "execution_count": 12,
   "metadata": {},
   "outputs": [
    {
     "name": "stdout",
     "output_type": "stream",
     "text": [
      "Solution ENLSIP-Julia :\n",
      "x_sol = (4.19952651e-01, 1.284845193e+00)\n",
      "f(x_sol) = 2.845966972e-02\n",
      "\n",
      "Solution Ipopt :\n",
      "x_opt = (4.19952650e-01, 1.284845043e+00)\n",
      "f(x_opt) = 2.845966907e-02 "
     ]
    }
   ],
   "source": [
    "println(\"Solution ENLSIP-Julia :\")\n",
    "@printf \"x_sol = (%.8e, %.9e)\\n\" x1_sol x2_sol\n",
    "@printf \"f(x_sol) = %.9e\\n\" enlsip_020.obj_value \n",
    "println(\"\\nSolution Ipopt :\")\n",
    "@printf \"x_opt = (%.8e, %.9e)\\n\" JuMP.value(x1) JuMP.value(x2)\n",
    "@printf \"f(x_opt) = %.9e \" 0.028459669065836156"
   ]
  }
 ],
 "metadata": {
  "kernelspec": {
   "display_name": "Julia 1.6.0",
   "language": "julia",
   "name": "julia-1.6"
  },
  "language_info": {
   "file_extension": ".jl",
   "mimetype": "application/julia",
   "name": "julia",
   "version": "1.6.1"
  }
 },
 "nbformat": 4,
 "nbformat_minor": 4
}
