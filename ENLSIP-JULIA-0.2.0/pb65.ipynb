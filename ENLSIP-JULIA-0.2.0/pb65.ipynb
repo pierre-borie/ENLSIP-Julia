{
 "cells": [
  {
   "cell_type": "markdown",
   "metadata": {},
   "source": [
    "# Résolution Pb65 de la collection Hock-Schittkowski\n",
    "\n",
    "Classification dans l'ouvrage : QQR-P1-3\n",
    "\n",
    "Number of variables : n = 3\n",
    "\n",
    "Number of constraints : 7 (1 inequality + 6 bounds)\n",
    "\n",
    "# Modèle\n",
    "\n",
    "$\\left\\{  \n",
    "\\begin{array}{lllll} \n",
    "\\min f(x) \\\\ \n",
    "\\text{s.c.}\\\\\n",
    " 48-x_1^2-x_2^2-x_3^2\\geq 0\\\\\n",
    "-4.5\\leq x_i\\leq 4.5,\\text{ pour } i=1,2\\\\\n",
    "-5 \\leq x_3 \\leq 5\n",
    "\\end{array} \\right.$\n",
    "\n",
    "où $f : x \\longmapsto (x_1-x_2)^2 + \\dfrac{(x_1+x_2-10)^2}{9}+(x_3-5)^2=||r(x)||^2$\n",
    "\n",
    "avec $r : x\\longmapsto  (x_1-x_2,\\dfrac{x_1-x_2-10}{3},x_3-5)$\n",
    "\n",
    "Point de départ : $x_0 = (-5,5,0)$ (non réalisable)\n",
    "\n",
    "Fonction objectif en $x_0$ : $\\dfrac{1225}{9}$\n",
    "\n",
    "Solution attendue : $x^* = (3.650461821,3.65046168,4.6204170507)$\n",
    "\n",
    "Fonction objectif à la solution : $f(x^*) = 0.935288567$"
   ]
  },
  {
   "cell_type": "code",
   "execution_count": 1,
   "metadata": {},
   "outputs": [],
   "source": [
    "using LinearAlgebra, Polynomials, Printf, JuMP, Ipopt, BenchmarkTools"
   ]
  },
  {
   "cell_type": "code",
   "execution_count": 2,
   "metadata": {},
   "outputs": [],
   "source": [
    "path_enlsip_file = string(pwd(),\"/enlsip-julia-0.2.0.jl\")\n",
    "include(path_enlsip_file)"
   ]
  },
  {
   "cell_type": "code",
   "execution_count": 3,
   "metadata": {},
   "outputs": [
    {
     "data": {
      "text/plain": [
       "7"
      ]
     },
     "execution_count": 3,
     "metadata": {},
     "output_type": "execute_result"
    }
   ],
   "source": [
    "n = 3\n",
    "m = 3\n",
    "nb_eq = 0\n",
    "nb_constraints = 7"
   ]
  },
  {
   "cell_type": "code",
   "execution_count": 4,
   "metadata": {},
   "outputs": [],
   "source": [
    "res65 = ResidualsEval(0)\n",
    "\n",
    "function (res65::ResidualsEval)(x::Vector, rx::Vector, J::Matrix)\n",
    "\n",
    "    # Evaluate the residuals\n",
    "    if abs(res65.ctrl) == 1\n",
    "        rx[:] = [x[1] - x[2]; (x[1]+x[2]-10.0) / 3.0; x[3]-5.0]\n",
    "\n",
    "    # The jacobian is computed analytically\n",
    "    elseif res65.ctrl == 2\n",
    "        J[:] = [1. -1. 0;\n",
    "                1/3 1/3 0.;\n",
    "                0. 0. 1.]\n",
    "    end\n",
    "    return\n",
    "end"
   ]
  },
  {
   "cell_type": "code",
   "execution_count": 5,
   "metadata": {},
   "outputs": [],
   "source": [
    "cons65 = ConstraintsEval(0)\n",
    "\n",
    "function (cons65::ConstraintsEval)(x::Vector, cx::Vector, A::Matrix)\n",
    "\n",
    "    # Evaluate the constraints\n",
    "    if abs(cons65.ctrl) == 1\n",
    "        cx[:] = [48.0 - x[1]^2-x[2]^2-x[3]^2;\n",
    "                 x[1]+4.5;\n",
    "                 x[2]+4.5;\n",
    "                 x[3]+5.0;\n",
    "                 -x[1]+4.5;\n",
    "                 -x[2]+4.5;\n",
    "                 -x[3]+5.0]\n",
    "    # The jacobian is computed numerically if ctrl is set to 0 on return\n",
    "    elseif cons65.ctrl == 2\n",
    "        cons65.ctrl = 0\n",
    "    end\n",
    "    return\n",
    "end"
   ]
  },
  {
   "cell_type": "code",
   "execution_count": 6,
   "metadata": {
    "scrolled": false
   },
   "outputs": [
    {
     "name": "stdout",
     "output_type": "stream",
     "text": [
      "****************************************\n",
      "*                                      *\n",
      "*          ENLSIP-JULIA-0.2.0          *\n",
      "*                                      *\n",
      "****************************************\n",
      "\n",
      "Starting point : [-5.0, 5.0, 0.0]\n",
      "\n",
      "Number of equality constraints   : 0\n",
      "Number of inequality constraints : 7\n",
      "\n",
      "iter    objective    cx_sum   method   ||p||   dimA  dimJ2     α     conv. speed   max weight   working set\n",
      "   0  1.158907e+02  4.50e+00     1   5.002e+00   2     1   4.81e-01    0.00e+00     1.00e-01    (1,2,6)\n",
      "   1  7.831910e+01  4.66e+01     1   6.835e+00   2     1   4.30e-01    1.80e+00     1.00e-01    (1,6)\n",
      "   2  4.665009e+00  6.61e-02     1   8.193e+00   2     1   7.58e-01    8.91e-01     1.00e-01    (6,7)\n",
      "   3  9.547961e-01  2.18e+01     1   1.439e+00   2     1   1.00e+00    5.82e-01     1.00e-01    (1,7)\n",
      "   4  9.376705e-01  4.29e+00     1   4.655e-01   1     2   1.00e+00    4.18e-01     1.00e-01    (1)\n",
      "   5  9.532018e-01  4.70e-02     1   6.668e-02   1     2   1.00e+00    1.06e-01     7.07e-01    (1)\n",
      "   6  9.535243e-01  1.98e-05     1   7.921e-03   1     2   1.00e+00    3.49e-02     3.48e+01    (1)\n",
      "   7  9.535288e-01  3.94e-09     1   9.971e-04   1     2   1.00e+00    1.04e-01     2.45e+03    (1)\n",
      "   8  9.535289e-01  9.88e-13     1   1.252e-04   1     2   1.00e+00    1.25e-01     1.55e+05    (1)\n",
      "   9  9.535289e-01  2.46e-16     1   1.573e-05   1     2   1.00e+00    1.26e-01     9.83e+06    (1)\n",
      "  10  9.535289e-01  6.14e-20     1   1.977e-06   1     2   1.00e+00    1.26e-01     6.22e+08    (1)\n",
      "  11  9.535289e-01  1.52e-23     1   2.446e-07   1     2   1.00e+00    1.24e-01     3.95e+10    (1)\n",
      "\n",
      "Exit code = 40\n",
      "Number of iterations = 12 \n",
      "\n",
      "Terminated at point : 3.650462e+00  3.650462e+00  4.620417e+00 \n",
      "\n",
      "Active constraints : 1 \n",
      "Constraint values : \n",
      " -3.55e-15  8.15e+00  8.15e+00  9.62e+00  8.50e-01  8.50e-01  3.80e-01 \n",
      "\n",
      "Penalty constants :\n",
      " 3.95e+10  1.00e-01  1.00e-01  1.00e-01  1.00e-01  1.00e-01  1.00e-01 \n",
      "\n",
      "Square sum of residuals = 9.535289e-01\n"
     ]
    }
   ],
   "source": [
    "x0 = [-5.0;5.0;0.0]\n",
    "enlsip_020(x0,res65,cons65,n,m,nb_eq,nb_constraints)"
   ]
  },
  {
   "cell_type": "code",
   "execution_count": 7,
   "metadata": {
    "scrolled": true
   },
   "outputs": [
    {
     "name": "stdout",
     "output_type": "stream",
     "text": [
      "Solution trouvée avec ENLSIP-Julia :\n",
      "x_jul = (3.650461729e+00, 3.650461728e+00, 4.620417551e+00)\n",
      "f(x_jul) = 9.535288568e-01\n",
      "\n",
      "Solution trouvée avec ENLSIP-Fortran :\n",
      "x_for = (3.6504617e+00, 3.6504617e+00, 4.6204176e+00)\n",
      "f(x_for) = 9.53529e-01\n",
      "\n",
      "Valeurs théoriques visées :\n",
      "x_opt = (3.650461821e+00, 3.650461680e+00, 4.620417051e+00)\n",
      "f(x_opt) = 9.535288567e-01"
     ]
    }
   ],
   "source": [
    "x1_sol = enlsip_020.sol[1]\n",
    "x2_sol = enlsip_020.sol[2]\n",
    "x3_sol = enlsip_020.sol[3]\n",
    "\n",
    "println(\"Solution trouvée avec ENLSIP-Julia :\")\n",
    "@printf \"x_jul = (%.9e, %.9e, %.9e)\\n\" x1_sol x2_sol x3_sol\n",
    "@printf \"f(x_jul) = %.9e\\n\\n\" enlsip_020.obj_value  \n",
    "\n",
    "println(\"Solution trouvée avec ENLSIP-Fortran :\")\n",
    "@printf \"x_for = (%.7e, %.7e, %.7e)\\n\"  3.6504617  3.6504617  4.6204176\n",
    "@printf \"f(x_for) = %.5e\\n\"  0.953529\n",
    "\n",
    "println(\"\\nValeurs théoriques visées :\")\n",
    "@printf \"x_opt = (%.9e, %.9e, %.9e)\\n\" 3.650461821 3.65046168 4.6204170507\n",
    "@printf \"f(x_opt) = %.9e\" 0.9535288567"
   ]
  },
  {
   "cell_type": "markdown",
   "metadata": {},
   "source": [
    "# Résolution avec Ipopt"
   ]
  },
  {
   "cell_type": "code",
   "execution_count": 8,
   "metadata": {},
   "outputs": [
    {
     "data": {
      "text/latex": [
       "$$ x3 $$"
      ],
      "text/plain": [
       "x3"
      ]
     },
     "execution_count": 8,
     "metadata": {},
     "output_type": "execute_result"
    }
   ],
   "source": [
    "model = Model(with_optimizer(Ipopt.Optimizer))\n",
    "\n",
    "@variable(model, x1, start = -5.0)\n",
    "@variable(model, x2, start = 5.0)\n",
    "@variable(model, x3, start = 0.0)"
   ]
  },
  {
   "cell_type": "code",
   "execution_count": 9,
   "metadata": {},
   "outputs": [],
   "source": [
    "f(x1,x2,x3) = (x1 - x2)^2 + (x1+x2-10.0)^2 / 9.0 + (x3-5.0)^2\n",
    "JuMP.register(model, :f, 3, f, autodiff=true)"
   ]
  },
  {
   "cell_type": "code",
   "execution_count": 10,
   "metadata": {},
   "outputs": [
    {
     "data": {
      "text/latex": [
       "$$ x3 \\leq 5.0 $$"
      ],
      "text/plain": [
       "x3 ≤ 5.0"
      ]
     },
     "execution_count": 10,
     "metadata": {},
     "output_type": "execute_result"
    }
   ],
   "source": [
    "@NLconstraint(model, c1, 48.0 - x1^2 - x2^2 - x3^2 >= 0)\n",
    "@constraint(model, x1 >= -4.5)\n",
    "@constraint(model, -x1 <= 4.5)\n",
    "@constraint(model, x2 >= -4.5)\n",
    "@constraint(model, x2 <= 4.5)\n",
    "@constraint(model, x3 >= -5.0)\n",
    "@constraint(model, x3 <= 5.0)"
   ]
  },
  {
   "cell_type": "code",
   "execution_count": 11,
   "metadata": {},
   "outputs": [],
   "source": [
    "@NLobjective(model, Min, f(x1,x2,x3))"
   ]
  },
  {
   "cell_type": "code",
   "execution_count": 12,
   "metadata": {
    "scrolled": false
   },
   "outputs": [
    {
     "name": "stdout",
     "output_type": "stream",
     "text": [
      "\n",
      "******************************************************************************\n",
      "This program contains Ipopt, a library for large-scale nonlinear optimization.\n",
      " Ipopt is released as open source code under the Eclipse Public License (EPL).\n",
      "         For more information visit https://github.com/coin-or/Ipopt\n",
      "******************************************************************************\n",
      "\n",
      "This is Ipopt version 3.13.4, running with linear solver mumps.\n",
      "NOTE: Other linear solvers might be more efficient (see Ipopt documentation).\n",
      "\n",
      "Number of nonzeros in equality constraint Jacobian...:        0\n",
      "Number of nonzeros in inequality constraint Jacobian.:        9\n",
      "Number of nonzeros in Lagrangian Hessian.............:        0\n",
      "\n",
      "Total number of variables............................:        3\n",
      "                     variables with only lower bounds:        0\n",
      "                variables with lower and upper bounds:        0\n",
      "                     variables with only upper bounds:        0\n",
      "Total number of equality constraints.................:        0\n",
      "Total number of inequality constraints...............:        7\n",
      "        inequality constraints with only lower bounds:        4\n",
      "   inequality constraints with lower and upper bounds:        0\n",
      "        inequality constraints with only upper bounds:        3\n",
      "\n",
      "iter    objective    inf_pr   inf_du lg(mu)  ||d||  lg(rg) alpha_du alpha_pr  ls\n",
      "   0  1.3611111e+02 2.00e+00 3.33e+00   0.0 0.00e+00    -  0.00e+00 0.00e+00   0\n",
      "   1  1.3111783e+02 2.10e+00 4.70e+00  -5.6 7.14e+00    -  2.34e-01 6.85e-02f  1\n",
      "   2  1.9503672e+02 1.98e+01 7.09e+01   2.3 1.21e+04    -  5.47e-05 1.01e-03f  1\n",
      "   3  8.6817662e+01 0.00e+00 3.80e+01   0.4 4.02e+01    -  2.63e-01 1.00e+00f  1\n",
      "   4  1.7072377e+01 0.00e+00 1.15e+01  -0.3 2.56e+01    -  3.68e-01 1.00e+00f  1\n",
      "   5  4.8737905e+00 0.00e+00 1.17e+00   0.0 4.66e+01    -  9.94e-01 1.00e+00f  1\n",
      "   6  1.1059971e+00 0.00e+00 1.98e-01  -1.9 2.62e+01    -  8.70e-01 1.00e+00f  1\n",
      "   7  9.7438984e-01 3.23e-02 4.05e-02  -0.7 5.16e+00    -  1.00e+00 9.89e-01h  1\n",
      "   8  9.6159221e-01 0.00e+00 1.16e-01  -2.6 5.54e-02    -  9.99e-01 1.00e+00h  1\n",
      "   9  9.5316864e-01 4.50e-03 2.06e-03  -3.8 5.69e-02    -  9.99e-01 1.00e+00h  1\n",
      "iter    objective    inf_pr   inf_du lg(mu)  ||d||  lg(rg) alpha_du alpha_pr  ls\n",
      "  10  9.5353095e-01 0.00e+00 1.46e-04  -5.5 2.55e-03    -  1.00e+00 1.00e+00h  1\n",
      "  11  9.5352886e-01 0.00e+00 1.03e-07 -11.0 3.95e-05    -  1.00e+00 1.00e+00h  1\n",
      "  12  9.5352886e-01 0.00e+00 1.30e-09 -11.0 9.18e-08    -  1.00e+00 1.00e+00h  1\n",
      "\n",
      "Number of Iterations....: 12\n",
      "\n",
      "                                   (scaled)                 (unscaled)\n",
      "Objective...............:   9.5352885599324944e-01    9.5352885599324944e-01\n",
      "Dual infeasibility......:   1.3043728118973420e-09    1.3043728118973420e-09\n",
      "Constraint violation....:   0.0000000000000000e+00    0.0000000000000000e+00\n",
      "Complementarity.........:   1.0000553687781520e-11    1.0000553687781520e-11\n",
      "Overall NLP error.......:   1.3043728118973420e-09    1.3043728118973420e-09\n",
      "\n",
      "\n",
      "Number of objective function evaluations             = 13\n",
      "Number of objective gradient evaluations             = 13\n",
      "Number of equality constraint evaluations            = 0\n",
      "Number of inequality constraint evaluations          = 13\n",
      "Number of equality constraint Jacobian evaluations   = 0\n",
      "Number of inequality constraint Jacobian evaluations = 13\n",
      "Number of Lagrangian Hessian evaluations             = 0\n",
      "Total CPU secs in IPOPT (w/o function evaluations)   =      2.189\n",
      "Total CPU secs in NLP function evaluations           =      0.183\n",
      "\n",
      "EXIT: Optimal Solution Found.\n"
     ]
    }
   ],
   "source": [
    "JuMP.optimize!(model)"
   ]
  },
  {
   "cell_type": "code",
   "execution_count": 13,
   "metadata": {},
   "outputs": [
    {
     "name": "stdout",
     "output_type": "stream",
     "text": [
      "Solution trouvée avec ENLSIP :\n",
      "x_enlsip = (3.650461729e+00, 3.650461728e+00, 4.620417551e+00)\n",
      "f(x_enlsip) = 9.535288568e-01\n",
      "\n",
      "Solution trouvée avec Ipopt :\n",
      "x_ipopt = (3.650461727e+00, 3.650461725e+00, 4.620417555e+00)\n",
      "f(x_ipopt) = 9.535288560e-01\n"
     ]
    }
   ],
   "source": [
    "println(\"Solution trouvée avec ENLSIP :\")\n",
    "@printf \"x_enlsip = (%.9e, %.9e, %.9e)\\n\" x1_sol x2_sol x3_sol\n",
    "@printf \"f(x_enlsip) = %.9e\\n\\n\" enlsip_020.obj_value \n",
    "\n",
    "\n",
    "println(\"Solution trouvée avec Ipopt :\")\n",
    "@printf \"x_ipopt = (%.9e, %.9e, %.9e)\\n\" JuMP.value(x1) JuMP.value(x2) JuMP.value(x3)\n",
    "@printf \"f(x_ipopt) = %.9e\\n\" 0.95352885599324944"
   ]
  }
 ],
 "metadata": {
  "kernelspec": {
   "display_name": "Julia 1.6.0",
   "language": "julia",
   "name": "julia-1.6"
  },
  "language_info": {
   "file_extension": ".jl",
   "mimetype": "application/julia",
   "name": "julia",
   "version": "1.6.1"
  }
 },
 "nbformat": 4,
 "nbformat_minor": 4
}
