{
 "cells": [
  {
   "cell_type": "markdown",
   "metadata": {},
   "source": [
    "# Transciption de l'algorithme NLSNIP en Julia\n",
    "\n",
    "On considère le problème d'optimisation $\\left\\{ \\begin{array}{l l l l} \\underset{x \\in \\mathbb{R}^n}{\\min} \\dfrac{1}{2}\\|r(x)\\|^2 \\\\ \\text{sous contraintes} \\\\ c_i(x) = 0 \\text{ pour } i=1,\\ldots q \\\\ \n",
    "c_j(x) \\geq 0 \\text{ pour } j=q+1,\\ldots l\n",
    "\\end{array} \\right.$\n",
    "\n",
    "Avec $r : \\mathbb{R}^n \\mapsto \\mathbb{R}^m$ la fonction objectif et $c_i:\\mathbb{R}^n \\mapsto \\mathbb{R}$ fonctions des contraintes. Les $q$ premières sont des contraintes d'égalité, les suivantes sont des contraintes d'inégalité.\n",
    "\n",
    "On note $f :\\left\\{ \\begin{array}{l l} \\mathbb{R}^n \\mapsto \\mathbb{R}\\\\ x \\mapsto \\dfrac{1}{2}\\|r(x)\\|^2 \\end{array} \\right.$ pour la suite.\n"
   ]
  },
  {
   "cell_type": "code",
   "execution_count": 2,
   "metadata": {},
   "outputs": [],
   "source": [
    "using LinearAlgebra\n",
    "using Plots\n",
    "using Polynomials\n",
    "using Random\n",
    "using ForwardDiff"
   ]
  },
  {
   "cell_type": "markdown",
   "metadata": {},
   "source": [
    "Strucure qui récapitule les informations importantes d'une itération de l'algorithme.\n",
    "- $x$ : point courant\n",
    "- $p$ : directon de descente\n",
    "- $\\alpha$ : valeur du pas\n",
    "- $\\lambda$ : multiplicateurs de Lagrange\n",
    "- $w$ : Vecteur des poids\n",
    "- $t$ : pseudo-rang de la matrice $R_{11}$ utilisé\n",
    "- $s$ : pseudo-rang de la matrice $R_{22}$ utilisé\n",
    "- $b = -Q_2^TP_1^Tc(x)$ : Vecteur utilisé pour résoudre le système pour $p_1$ en dimension $t$\n",
    "- $d = -Q_3^T(r(x)+R_1p_1)$ : Vecteur utilisé pour résoudre le système pour $p_2$ en dimension $s$\n",
    "- $\\beta$ : Facteur de convergence\n",
    "- $restart$ : Indique si l'étape en cours est un redémarrage de l'algorithme (explications à venir)\n",
    "- $first$ : indique si l'on est dans la première itération de l'algorithme ou non\n",
    "- $add$ : indique si l'on a ajouté une contrainte à l'ensemble actif\n",
    "- $del$ : indique si l'on a supprimé une contrainte de l'ensemble actif\n",
    "- $code$ : entier définissant la méthode utilisée pour calculer la direction de descente ($1$ pour Gauss-Newton, $-1$ pour QR-approchée et $2$ pour Newton)"
   ]
  },
  {
   "cell_type": "code",
   "execution_count": 3,
   "metadata": {},
   "outputs": [
    {
     "data": {
      "text/plain": [
       "show (generic function with 1 method)"
      ]
     },
     "execution_count": 3,
     "metadata": {},
     "output_type": "execute_result"
    }
   ],
   "source": [
    "mutable struct Iteration\n",
    "    x::Vector\n",
    "    p::Vector\n",
    "    α::Float64\n",
    "    λ::Vector\n",
    "    w::Vector\n",
    "    ω1::Int64\n",
    "    ω2::Int64\n",
    "    b::Vector\n",
    "    d::Vector\n",
    "    β::Float64\n",
    "    restart::Bool\n",
    "    first::Bool\n",
    "    add::Bool\n",
    "    del::Bool\n",
    "    code::Int64\n",
    "end\n",
    "\n",
    "function show(step::Iteration)\n",
    "    if step.code == 2\n",
    "        phase = \"Newton\"\n",
    "    elseif step.code == -1\n",
    "        phase = \"Subspace\"\n",
    "    else\n",
    "        phase = \"Gauss-Newton\"\n",
    "    end\n",
    "    \n",
    "    println(\"méthode : $phase\")\n",
    "    println(\"x = $(step.x)\")\n",
    "    println(\"p = $(step.p)\")\n",
    "    println(\"α = $(step.α)\")\n",
    "end"
   ]
  },
  {
   "cell_type": "markdown",
   "metadata": {},
   "source": [
    "# Calcul des multiplicateurs de Lagrange\n",
    "\n",
    "A réindexation près des contraintes, on considère les contraintes actives $c_i$ pour $i=1,\\ldots,t$ $(q \\leq t)$. \n",
    "Le lagrangien du problème d'optimisation à résoudre est donné par :\n",
    "$$\\mathcal{L}:\\ (x, \\lambda) \\mapsto f(x) - \\sum\\limits_{i=1}^{t} \\lambda_i c_i(x)$$ avec $\\lambda = (\\lambda_1,\\ldots,\\lambda_t) \\in \\mathbb{R}^t$ le vecteur des multiplicateurs de Lagrange.\n",
    "\n",
    "\n",
    "$A = \\left[ \\dfrac{\\partial c_i(x)}{\\partial x_j} \\right]_{\\substack{1\\leq i \\leq t \\\\ 1\\leq j \\leq n}}$ est la jacobienne de ces contraintes actives.\n",
    "\n",
    "Les élements de $\\lambda$ sont calculés pour déterminer l'ensemble actif de l'itération en cours. Ils sont également utilisés dans le calcul de la direction de descente avec la méthode de Newton. \n",
    "Une première estimation des mulitplicateurs de Lagrange est donné par la résolution pour $\\lambda$ du système :\n",
    "$$ A^T\\lambda = \\nabla f(x)$$\n",
    "Pour faire cela, on utilise la décomposition $LQ$ de $A$, ou de manière équivalente la décomposition $QR$ de $A^T$ : \n",
    "$$A = P_1\\begin{pmatrix} L_{11} : 0 \\end{pmatrix}Q_1^T$$\n",
    "avec $Q_1^T$ matrice orthogonale $n \\times n$, $L_{11}$ matrice triangulaire inférieure $q \\times q$ et $P_1$ matrice de permutation $q \\times q$ telle que $|l_{11}| \\geq |l_{22}| \\geq \\cdots \\geq |l_{qq}|$ (les $l_{ii}$ sont les éléments diagonaux de $L_{11}$).\n",
    "\n",
    "Posant $v = P_1^T\\lambda$, le système à résoudre devient : $L_{11}^Tv = Q_1^T\\nabla f(x)$.\n",
    "\n",
    "La fonction $\\mathtt{first\\_lagrange\\_mult\\_estimate}$ calcule cette première estimation des multiplicateurs de Lagrange à partir de la décomposition $LQ$ de $A$.\n",
    "\n",
    "Dans le cas de contraintes d'égalité, si les mulitiplicateurs de Lagrange n'impliquent pas de supression des contraintes, on calcule une deuxième estimation de ces derniers en résolvant de même pour $\\lambda$ :\n",
    "$$ A^T\\lambda = J^T\\left[Jp_{GN} + r(x)\\right] $$ où $p_{GN}$ est la direction de descente calculée avec la méthode de Gauss-Newton.\n",
    "La résolution de ce système se fait via la fonction $\\mathtt{second\\_lagrange\\_mult\\_estimate}$."
   ]
  },
  {
   "cell_type": "code",
   "execution_count": 4,
   "metadata": {},
   "outputs": [
    {
     "data": {
      "text/plain": [
       "first_lagrange_mult_estimate (generic function with 1 method)"
      ]
     },
     "execution_count": 4,
     "metadata": {},
     "output_type": "execute_result"
    }
   ],
   "source": [
    "# Equivalent Fortran : MULEST in dblmod2nls.f\n",
    "\n",
    "function first_lagrange_mult_estimate(qr_AT::QRPivoted{Float64,Array{Float64,2}}, ∇fx::Vector)\n",
    "    R = UpperTriangular(qr_AT.R)\n",
    "    n, t = size(qr_AT.Q)[1], size(R)[1]\n",
    "    v = [R; zeros(n-t,t)] \\ (transpose(qr_AT.Q) * ∇fx)\n",
    "    return qr_AT.P * v\n",
    "end"
   ]
  },
  {
   "cell_type": "code",
   "execution_count": 5,
   "metadata": {},
   "outputs": [
    {
     "data": {
      "text/plain": [
       "second_lagrange_mult_estimate (generic function with 1 method)"
      ]
     },
     "execution_count": 5,
     "metadata": {},
     "output_type": "execute_result"
    }
   ],
   "source": [
    "# Equivalent Fortran : LEAEST in dblreduns.f\n",
    "\n",
    "function second_lagrange_mult_estimate(qr_AT::QRPivoted{Float64,Array{Float64,2}}, p_gn::Vector, \n",
    "        rx::Vector, J::Matrix)\n",
    "    R = UpperTriangular(qr_AT.R)\n",
    "    n, t = length(p_gn), size(R)[1]\n",
    "    b = transpose(J) * (J * p_gn + rx)\n",
    "    v = [R; zeros(n-t,t)] \\ transpose(qr_AT.Q) * b\n",
    "    return qr_AT.P * v\n",
    "end"
   ]
  },
  {
   "cell_type": "markdown",
   "metadata": {},
   "source": [
    "# Gestion des contraintes\n",
    "\n",
    "La fonction $\\mathtt{check\\_constraint\\_deletion}$ renvoie l'indice de la contrainte d'inégalité à supprimer de l'ensemble actif, 0 s'il n y en a aucune. \n",
    "\n",
    "Cet indice est déterminié par $s={\\text{argmin}}\\ \\left\\{ \\lambda_i \\|\\nabla c_i(x)\\| \\text{ tel que } \\lambda_i < 0, \\ q + 1 \\leq i \\leq t \\right\\}$"
   ]
  },
  {
   "cell_type": "code",
   "execution_count": 6,
   "metadata": {},
   "outputs": [
    {
     "data": {
      "text/plain": [
       "check_constraint_deletion (generic function with 1 method)"
      ]
     },
     "execution_count": 6,
     "metadata": {},
     "output_type": "execute_result"
    }
   ],
   "source": [
    "# Equivalent Fortran : SIGNCH in dblreduns.f\n",
    "\n",
    "function check_constraint_deletion(q::Int64, A::Matrix, ∇fx::Vector, β::Float64, d_gn::Vector)\n",
    "    t = size(A)[1]\n",
    "    δ = 10; τ = 0.5\n",
    "    \n",
    "    try\n",
    "        e, s = findmin([norm(A[i,:]) * λ[i] for i=q+1:t if λ[i] < 0])\n",
    "        if norm(transpose(A) * λ - ∇fx) > - e * δ || β >= τ * norm(d_gn)\n",
    "            s = 0\n",
    "        end\n",
    "        return s\n",
    "    catch\n",
    "        s = 0 \n",
    "        return s\n",
    "    end\n",
    "end "
   ]
  },
  {
   "cell_type": "markdown",
   "metadata": {},
   "source": [
    "La fonction $\\mathtt{delete\\_constraint}$ enlève la $s^{ème}$ contrainte active de l'ensemble actif et la place dans l'ensemble inactif. \n",
    "\n",
    "Le tableau $inactive$ est trié en place afin d'avoir les indices des contraintes dans l'ordre croissant (avec les $0$ à la fin)."
   ]
  },
  {
   "cell_type": "code",
   "execution_count": 7,
   "metadata": {},
   "outputs": [
    {
     "data": {
      "text/plain": [
       "delete_constraint! (generic function with 1 method)"
      ]
     },
     "execution_count": 7,
     "metadata": {},
     "output_type": "execute_result"
    }
   ],
   "source": [
    "# Equivalent Fortran : DELETE in dblreduns.f\n",
    "\n",
    "function delete_constraint!(active::Vector, inactive::Vector, s::Int64, t::Int64, l::Int64)\n",
    "    \n",
    "    # Ajout de la contrainte à l'ensemble inactif\n",
    "    inactive[l - t + 1] = active[s]\n",
    "    sort!(@view inactive[1 : l - t + 1])\n",
    "    \n",
    "    # Réorganisation de l'ensemble actif\n",
    "    for i = s:t-1\n",
    "        active[i] = active[i+1]\n",
    "    end\n",
    "    active[t] = 0\n",
    "end "
   ]
  },
  {
   "cell_type": "markdown",
   "metadata": {},
   "source": [
    "La fonction $\\mathtt{add\\_constraint}$ enlève la $s^{ème}$ contrainte inactive de l'ensemble inactif et la place dans l'ensemble actif.\n",
    "\n",
    "Le tableau $active$ est ensuite trié en place afin d'avoir les indices des contraintes dans l'ordre croissant (avec les $0$ à la fin)."
   ]
  },
  {
   "cell_type": "code",
   "execution_count": 8,
   "metadata": {},
   "outputs": [
    {
     "data": {
      "text/plain": [
       "add_constraint! (generic function with 1 method)"
      ]
     },
     "execution_count": 8,
     "metadata": {},
     "output_type": "execute_result"
    }
   ],
   "source": [
    "# Equivalent Fortran : ADDIT in dblreduns.f\n",
    "\n",
    "function add_constraint!(active::Vector, inactive::Vector, s::Int64, t::Int64, l::Int64)\n",
    "    \n",
    "    # Ajout de la contrainte à l'ensemble actif\n",
    "    active[t+1] = inactive[s]\n",
    "    sort!(@view active[1:t+1])\n",
    "    \n",
    "    # Réorganisation de l'ensemble inactif\n",
    "    \n",
    "    for i = s:l-t-1\n",
    "        inactive[i] = inactive[i+1]\n",
    "    end\n",
    "    inactive[l-t] = 0\n",
    "end"
   ]
  },
  {
   "cell_type": "markdown",
   "metadata": {},
   "source": [
    "Exemple de manipulation des tableaux $active$ et $inactive$ avec 3 contraintes actives (indices 1, 2 et 3) et 3 contraintes inactives (indices 4, 5 et 6)."
   ]
  },
  {
   "cell_type": "code",
   "execution_count": 9,
   "metadata": {},
   "outputs": [
    {
     "name": "stdout",
     "output_type": "stream",
     "text": [
      "Seule la 4e contrainte est inactive\n",
      "active = [1, 2, 3, 5, 6, 0] ; inactive = [4, 0, 0]\n",
      "\n"
     ]
    },
    {
     "ename": "LoadError",
     "evalue": "UndefVarError: delete_constraint not defined",
     "output_type": "error",
     "traceback": [
      "UndefVarError: delete_constraint not defined",
      "",
      "Stacktrace:",
      " [1] top-level scope at In[9]:6",
      " [2] include_string(::Function, ::Module, ::String, ::String) at ./loading.jl:1091"
     ]
    }
   ],
   "source": [
    "oa = [1, 2, 3, 5, 6, 0]\n",
    "oi = [4, 0, 0]\n",
    "println(\"Seule la 4e contrainte est inactive\")\n",
    "println(\"active = $oa ; inactive = $oi\\n\")\n",
    "l = 6; s = 4; t = 5\n",
    "delete_constraint(oa, oi, s, t, l)\n",
    "println(\"La 5e contrainte devient inactive\")\n",
    "println(\"active = $oa ; inactive = $oi\\n\")\n",
    "s = 1; t = 4\n",
    "add_constraint(oa, oi, s, t, l)\n",
    "println(\"La 4e contrainte devient active\")\n",
    "println(\"active = $oa ; inactive = $oi\\n\")"
   ]
  },
  {
   "cell_type": "markdown",
   "metadata": {},
   "source": [
    "# Calcul de direction de descente\n",
    "\n",
    "Cette partie propose une explication et une implémentation des différentes fonctions utilisées pour calculer la direction de descente. La structure est plus proche de celle du code Fortran."
   ]
  },
  {
   "cell_type": "code",
   "execution_count": 10,
   "metadata": {},
   "outputs": [
    {
     "data": {
      "text/plain": [
       "sub_search_direction (generic function with 2 methods)"
      ]
     },
     "execution_count": 10,
     "metadata": {},
     "output_type": "execute_result"
    }
   ],
   "source": [
    "# Equivalent Fortran : SUBDIR in dblreduns.f\n",
    "\n",
    "function sub_search_direction(rx::Vector, cx::Vector, JQ1::Matrix, qr_AT::QRPivoted{Float64,Array{Float64,2}}, \n",
    "        qr_L11::QRPivoted{Float64,Array{Float64,2}}, qr_J2::QRPivoted{Float64,Array{Float64,2}}, \n",
    "        rankA::Int64, ω2::Int64, ω1::Int64 = rankA)\n",
    "    ε_rank = sqrt(eps(Float64))\n",
    "    t = length(cx)\n",
    "    \n",
    "    # Décomposition LQ de A\n",
    "    P1, Q1, L11 = qr_AT.P, qr_AT.Q, transpose(qr_AT.R)\n",
    "    n = size(Q1)[1]\n",
    "    \n",
    "    # Décomposition QR de J2\n",
    "    J1, J2 = JQ1[:,1:t], JQ1[:,t+1:n]\n",
    "\n",
    "    P3, Q3, R22 = qr_J2.P, qr_J2.Q, qr_J2.R\n",
    "    \n",
    "    \n",
    "    # Pas de stabilisation requise\n",
    "    if rankA == t\n",
    "        \n",
    "        # Résout L11*p1 = -P1^T*c(x)\n",
    "        b = - transpose(P1) * cx\n",
    "        δp1 = LowerTriangular(L11[1:ω1, 1:ω1]) \\ b[1:ω1] \n",
    "        p1 = [δp1; zeros(t - ω1)]\n",
    "\n",
    "        \n",
    "        \n",
    "        # Résout min [0.5*||J2 * p2 + r(x) + J1*p1||^2]\n",
    "        d = - transpose(Q3) * (J1 * p1 + rx)\n",
    "        δp2 = UpperTriangular(R22[1:ω2, 1:ω2]) \\ d[1:ω2]\n",
    "        p2 = transpose(P3) * [δp2; zeros(n - t - ω2)]\n",
    "\n",
    "        \n",
    "    else\n",
    "        # Stabilisation nécessaire\n",
    "        \n",
    "        # Décomposition QR de L11\n",
    "        P2, Q2, R11 = qr_L11.P, qr_L11.Q, qr_L11.R\n",
    "\n",
    "        # Résout R11 * P2^T * p1 = -Q2^T * P1^T * c(x)\n",
    "        b = -transpose(P1 * Q2) * cx\n",
    "        δp1 = UpperTriangular(R11[1:ω1, 1:ω1]) \\ b[1:ω1]\n",
    "        p1 = P2 * [δp1; zeros(t - ω1)]\n",
    "\n",
    "\n",
    "        \n",
    "        # Résout min [0.5*||J2 * p2 + f(x) + R1*p1||^2]\n",
    "        R1 = J1 * P2\n",
    "        d = -transpose(Q3) * (rx + R1*p1)\n",
    "        δp2 = UpperTriangular(R22[1:ω2, 1:ω2]) \\ d[1:ω2]\n",
    "        p2 = transpose(P3)*[δp2; zeros(n - t - ω2)]\n",
    "    end\n",
    "    p = Q1 * [p1; p2]\n",
    "    \n",
    "    return p, b, d\n",
    "end  "
   ]
  },
  {
   "cell_type": "markdown",
   "metadata": {},
   "source": [
    "### Directon de Gauss-Newton : rang plein\n",
    "Dans le cas de la direction de Gauss-Newton rang plein, les dimensions $t$ et $s$ sont fixées respectivement par $rang(A)$ et $rang(J_2)$.\n"
   ]
  },
  {
   "cell_type": "code",
   "execution_count": 11,
   "metadata": {},
   "outputs": [
    {
     "data": {
      "text/plain": [
       "gn_search (generic function with 1 method)"
      ]
     },
     "execution_count": 11,
     "metadata": {},
     "output_type": "execute_result"
    }
   ],
   "source": [
    "# Equivalent Fortran : GNSRCH in dblreduns.f\n",
    "\n",
    "function gn_search(rx::Vector, cx::Vector, A::Matrix, J::Matrix, \n",
    "        qr_AT::QRPivoted{Float64,Array{Float64,2}}, qr_L11::QRPivoted{Float64,Array{Float64,2}}, \n",
    "        qr_J2::QRPivoted{Float64,Array{Float64,2}}, rankA::Int64, rankJ2::Int64)\n",
    "    \n",
    "\n",
    "    JQ1 = J * qr_AT.Q\n",
    "    p, b, d = sub_search_direction(rx, cx, JQ1, qr_AT, qr_L11, qr_J2, rankA, rankJ2)\n",
    "    \n",
    "    return p, b, d\n",
    "end   "
   ]
  },
  {
   "cell_type": "markdown",
   "metadata": {},
   "source": [
    "### Vérification de la direction de la direction de Gauss-Newton\n",
    "\n",
    "Une fois la direction de Gauss-Newton calculée avec rang plein, on appelle la fonction $\\mathtt{check\\_gn\\_direction}$ afin de savoir si on accepte cette direction pour l'itération ou bien s'il faut la recalculer en utilisant une des deux méthodes décrites dans la suite : Gauss-Newton $QR$ approchée ou Newton."
   ]
  },
  {
   "cell_type": "code",
   "execution_count": 12,
   "metadata": {},
   "outputs": [
    {
     "data": {
      "text/plain": [
       "check_gn_direction (generic function with 1 method)"
      ]
     },
     "execution_count": 12,
     "metadata": {},
     "output_type": "execute_result"
    }
   ],
   "source": [
    "# Equivalent Fortran : GNDCHK in dblmod2nls.f\n",
    "\n",
    "function check_gn_direction(x::Vector, r::Function, c::Function, J::Matrix, A::Matrix, d::Vector, b::Vector, \n",
    "        rankA::Int64, rankJ2::Int64, active::Vector, inactive::Vector, previous_step::Iteration)\n",
    "\n",
    "    # Renvoie un entier method_code qui peut valoir :\n",
    "    # 1 si la direction est Gauss-Newton est acceptée\n",
    "    # -1 si la minimisation de sous-espace est suggérée\n",
    "    # 2 si la méthode de Newton est suggérée\n",
    "\n",
    "    # Constantes\n",
    "    c1, c2, c3, c4, c5 = 0.5, 0.1, 4.0, 10.0, 0.05\n",
    "    δ = 0.1\n",
    "    ε_rel = eps(Float64)\n",
    "    ε_rank = sqrt(eps(Float64))\n",
    "\n",
    "    # Informations relatives à l'étape précédente\n",
    "\n",
    "    ω_t, ω_s = previous_step.ω1, previous_step.ω2\n",
    "    b1, d1 = b[1:rankA], d[1:rankJ2]\n",
    "    norm_d, norm_d1, norm_d1_previous  = norm(d), norm(d1), norm(d[1:ω_s - 1])\n",
    "    norm_b, norm_b1 = norm(b), norm(b1)\n",
    "    normd1_2, normb1_2 = dot(d1, d1), dot(b1, b1)\n",
    "    prelin = dot(d[1:ω_s], d[1:ω_s])\n",
    "    β = sqrt(normd1_2 + normb1_2)\n",
    "    \n",
    "\n",
    "    rx_previous, rx, cx = r(previous_step.x), r(x), c(x)\n",
    "    progress = dot(rx_previous, rx_previous) - dot(rx, rx)\n",
    "    csum = sum([cx[i]^2 for i in active if i != 0])\n",
    "\n",
    "\n",
    "    # Pour accepter le direction de Gauss-Newton, il ne faut pas être dans une étape de redémarrage \n",
    "    # et ne pas avoir utilisé la méthode de Newton à l'étape précédente\n",
    "    if !previous_step.restart && previous_step.code != 2\n",
    "        \n",
    "        \n",
    "        # On accepte Gauss-Newton si l'une des conditions suivantes est vérifiée\n",
    "        if previous_step.first || β < c1 * previous_step.β || (progress > c2 * prelin && norm_d <= c3 * β)\n",
    "            ind = 1\n",
    "        end\n",
    "    \n",
    "    elseif previous_step.code != 2 || previous_step.del \n",
    "        ind = -1\n",
    "        non_linearity = sqrt(normd1_2 + csum)\n",
    "        previous_non_linearity = sqrt(dot(d[1:ω_s - 1], d[1:ω_s - 1]) + csum)\n",
    "        ϵ = max(1e-2, 10. * ε_rel)\n",
    "        to_reduce = any(<(0), previous_step.λ) || any(<(δ), [cx[i] for i in inactive if i != 0])\n",
    "        \n",
    "        if csum > c2 || (previous_step.del || previous_step.add || to_reduce) || !(β < ϵ * norm_d || norm_b1 < ϵ)\n",
    "            ind = -1\n",
    "        elseif previous_step.restart && previous_non_linearity > c2 * non_linearity\n",
    "            ind = 2\n",
    "        elseif (previous_step.α > c5 || previous_non_linearity > c2 * non_linearity) && norm_d <= c4 * β\n",
    "            ind = -1\n",
    "        end\n",
    "    else\n",
    "        ind = 2\n",
    "    end\n",
    "    previous_step.β = β\n",
    "    return ind\n",
    "end"
   ]
  },
  {
   "cell_type": "markdown",
   "metadata": {},
   "source": [
    "### Direction de Gauss-Newton : QR approchée\n",
    "Cette méthode est utilisée si la direction de Gauss-Newton calculée avec rang plein n'est pas bonne. La fonction $\\mathtt{subspace\\_dimension}$ retourne les dimensions $t$ et $s$ à utiliser dans le calcul de la direction de descente."
   ]
  },
  {
   "cell_type": "code",
   "execution_count": 13,
   "metadata": {},
   "outputs": [
    {
     "data": {
      "text/plain": [
       "subspace_dimension (generic function with 1 method)"
      ]
     },
     "execution_count": 13,
     "metadata": {},
     "output_type": "execute_result"
    }
   ],
   "source": [
    "# Equivalent Fortran : SUBSPC in dblmod2nls.f\n",
    "\n",
    "function subspace_dimension(x::Vector, r::Function, c::Function, J::Matrix, A::Matrix, active::Vector, \n",
    "        inactive::Vector, qr_AT::QRPivoted{Float64,Array{Float64,2}}, previous_step::Iteration,\n",
    "        qr_L11::QRPivoted{Float64,Array{Float64,2}}, qr_J2::QRPivoted{Float64,Array{Float64,2}})\n",
    "    \n",
    "    # Informations utiles de l'itération précédente\n",
    "    x_previous, b_previous, d_previous = previous_step.x, previous_step.b, previous_step.d\n",
    "    α_previous = previous_step.α\n",
    "    ω_t, ω_s = previous_step.ω1, previous_step.ω2\n",
    "    \n",
    "    # Matrices et constantes utiles pour la suite\n",
    "    t, n = size(A)\n",
    "    J1 = (J * qr_AT.Q1)[:, 1:t]\n",
    "    L11 = LowerTriangular(transpose(qr_AT.R))\n",
    "    rankA = rank(L11, ε_rank)\n",
    "    rankJ2 = rank(UpperTriangular(qr_J2.R), ε_rank)\n",
    "    \n",
    "    # Progressions linéaire des résidus et des contraintes suite à l'itération précédente\n",
    "    rx, rx_previous, cx, cx_previous = r(x), r(x_previous), c(x), c(x_previous)\n",
    "    c_progress = dot(cx_previous, cx_previous) - dot(cx, cx)\n",
    "    r_progress = dot(rx_previous, rx_previous) - dot(rx, rx)\n",
    "    \n",
    "    # Calcul de la dimension t\n",
    "    cx_active = [cx[i] for i in active if i != 0]\n",
    "    b = - transpose(qr_AT.P * qr_L11.Q) * cx_active\n",
    "    βb_previous = dot(b_previous[1:ω_t], b_previous[1:ω_t])\n",
    "    βb_current = dot(b[1:ω_t], b[1:ω_t])\n",
    "    ω1 = compute_solving_dim(UpperTriangular(qr_L11.R), b, ω_t, rankA, c_progress, βb_previous, βb_current, \n",
    "        α_previous, previous_step.restart)\n",
    "    \n",
    "    # Calcul de la dimension s\n",
    "    p1 = UpperTriangular(qr_L11.R) \\ b[1:t]\n",
    "    d = - transpose(qr_J2) * (rx + J1 * qr_L11.P * p1)\n",
    "    βd_previous = dot(d_previous[1:ω_s], d_previous[1:ω_s])\n",
    "    βd_current = dot(d[1:ω_s], d[1:ω_s])\n",
    "    \n",
    "    ω2 = compute_solving_dim(UpperTriangular(qr_J2.R), d, ω_s, rankJ2, c_progress, βd_previous, βd_current, \n",
    "        α_previous, previous_step.restart)\n",
    "    \n",
    "    return ω1, ω2, b, d\n",
    "end   "
   ]
  },
  {
   "cell_type": "markdown",
   "metadata": {},
   "source": [
    "\n",
    "La fonction $\\mathtt{compute\\_solving\\_dim}$ détermine la dimension à utiliser dans la résolution pour un vecteur $x$ de $Rx = b$ avec $R$ matrice triangulaire supérieure et $b$ un vecteur. Cette dimension correspond au nombre de colonnes de $R$ que l'on souhaite annuler. \n"
   ]
  },
  {
   "cell_type": "code",
   "execution_count": 14,
   "metadata": {},
   "outputs": [
    {
     "data": {
      "text/plain": [
       "compute_solving_dim (generic function with 1 method)"
      ]
     },
     "execution_count": 14,
     "metadata": {},
     "output_type": "execute_result"
    }
   ],
   "source": [
    "# Equivalent Fortran : DIMUPP in dblmod2nls.f\n",
    "\n",
    "function compute_solving_dim(R::UpperTriangular{Float64,Array{Float64,2}}, b::Vector, ω::Int64, \n",
    "        rankR::Int64, progress::Float64, previous_β::Float64, current_β::Float64, \n",
    "        previous_α::Float64, restart::Bool)\n",
    "    \n",
    "    new_dim = rankR\n",
    "    working_set, h = zeros(rankR), zeros(rankR)\n",
    "    working_set[1], h[1] = abs(b[1]), abs(b[1] / R[1, 1])\n",
    "\n",
    "    # Compute working_set and vector h : lengths of estimated search direction\n",
    "    # and righthand sides\n",
    "    if rankR > 1\n",
    "        for i = 2 : rankR\n",
    "            working_set[i] = b[i]\n",
    "            h[i] = b[i] / R[i, i]\n",
    "            h[i] = norm(h[i-1:i])\n",
    "            working_set[i] = norm(working_set[i-1:i])\n",
    "        end\n",
    "    end\n",
    "\n",
    "    # Determine lowest possible dimension\n",
    "    Σh, ϱmax, mindim = 0., 0., 1\n",
    "    ϱ = sqrt(Σh) * abs(R[1,1])\n",
    "    for i = 1 : rankR\n",
    "        Σh += h[i]^2\n",
    "        ϱ = sqrt(Σh) * abs(R[i,i])\n",
    "        if ϱ > ϱmax\n",
    "            ϱmax = ϱ\n",
    "            mindim = i\n",
    "        end\n",
    "    end\n",
    "\n",
    "    if !restart\n",
    "        # When restart is false η is set to 1\n",
    "        η = 1.\n",
    "        if ω == rankR || ω <= 0\n",
    "            dim = gn_previous_step(h, working_set, rankR, mindim)\n",
    "\n",
    "        elseif ω != rankR && ω > 0\n",
    "            dim = subspace_minimization(h, working_set, ω, progress, previous_β, current_β, previous_α)\n",
    "        end\n",
    "        new_dim = max(mindim, dim)\n",
    "    else\n",
    "        dim = min(rankR, ω)\n",
    "        new_dim = max(dim, 0)\n",
    "\n",
    "        if new_dim == 0\n",
    "            η = 1.\n",
    "        else\n",
    "            k = (ω == 1 ? 1 : ω - 1)\n",
    "            η = (h[new_dim] != 0 ? h[k] / h[new_dim] : 1.)\n",
    "        end\n",
    "    end\n",
    "\n",
    "    return new_dim, η\n",
    "end"
   ]
  },
  {
   "cell_type": "markdown",
   "metadata": {},
   "source": [
    "La fonction $\\mathtt{gn\\_previous\\_step}$ fait le calcul de dimension dans le cas où la précédente direction de descente calculée était une Gauss-Newton rang plein.\n",
    "\n",
    "La fonction $\\mathtt{subspace\\_minimization}$ fait de même mais dans le cas où la méthode TQR approchée avait été utilisée à l'étape précédente."
   ]
  },
  {
   "cell_type": "code",
   "execution_count": 15,
   "metadata": {},
   "outputs": [
    {
     "data": {
      "text/plain": [
       "subspace_minimization (generic function with 1 method)"
      ]
     },
     "execution_count": 15,
     "metadata": {},
     "output_type": "execute_result"
    }
   ],
   "source": [
    "# Equivalent Fortran : PREGN in dblreduns.f\n",
    "\n",
    "function gn_previous_step(h::Vector, working_set::Vector, t_acc::Int64, mindim::Int64)\n",
    "    h_last, wrkset_last = h[t_acc], working_set[t_acc]\n",
    "    h_max, wrkset_min = 0.2, 0.5\n",
    "    m1, = t_acc - 1\n",
    "    if mindim > m1\n",
    "        dim = mindim\n",
    "    else\n",
    "        try\n",
    "            dim = maximum([k for k = mindim:m1 if h[i] < h_max * h_last && \n",
    "                                working_set[i] > wrkset_last * wrkset_min])\n",
    "        catch\n",
    "            # No such index exists, then t_acc - 1 in return\n",
    "            dim = m1\n",
    "        end\n",
    "    end\n",
    "    return dim\n",
    "end\n",
    "\n",
    "# Equivalent Fortran : PRESUB in dblreduns.f\n",
    "function subspace_minimization(h::Vector, working_set::Vector, ω::Int64, progress::Float64, \n",
    "            previous_β::Float64, current_β::Float64, previous_α::Float64)\n",
    "        \n",
    "    # Constantes\n",
    "    stepb, pgb1, pgb2, predb, rlenb, c1, c2 = 0.2, 0.3, 0.1, 0.7, 2., 0.1, 100.\n",
    "    h_last, wrkset_last = h[t_acc], working_set[t_acc]\n",
    "\n",
    "    # Tests si l'étape précédente était mauvaise\n",
    "    if previous_α < stepb || progress <= pgb1 * previous_β^2 || progress <= pgb2 * current_β^2\n",
    "        dim = max(1, ω - 1)\n",
    "        if ω > 1 && working_set[dim] > c1 * h_last\n",
    "            return dim\n",
    "        end\n",
    "        \n",
    "    # L'étape pérédente était bonne : pas besoin de modifier la dimension\n",
    "    elseif working_set[dim] > predb * wrkset_last && rlenb * h[dim] < h[dim + 1]\n",
    "        return ω\n",
    "    end\n",
    "    # Teste la possible déficience de rang\n",
    "    if c2 * h[dim] <= h[dim + 1] return dim end\n",
    "\n",
    "    try\n",
    "        dim = minimum([i for i= ω+1:t_acc if working_set[i] > predb * wrkset_last])\n",
    "    catch\n",
    "        dim = t_acc\n",
    "\n",
    "    end\n",
    "    return dim\n",
    "end"
   ]
  },
  {
   "cell_type": "markdown",
   "metadata": {},
   "source": [
    "## Direction de descente : Méthode de Newton\n",
    "\n"
   ]
  },
  {
   "cell_type": "code",
   "execution_count": 16,
   "metadata": {},
   "outputs": [
    {
     "data": {
      "text/plain": [
       "newton_search_direction (generic function with 1 method)"
      ]
     },
     "execution_count": 16,
     "metadata": {},
     "output_type": "execute_result"
    }
   ],
   "source": [
    "# Equivalent Fortran : NEWTON in dblreduns.f\n",
    "\n",
    "function newton_search_direction(x::Vector, A::Matrix, J::Matrix, r::Function, c::Function,\n",
    "        qr_transpA::QRPivoted{Float64,Array{Float64,2}}, qr_L::QRPivoted{Float64,Array{Float64,2}}, \n",
    "        λ::Vector, active::Vector, rankA::Int64, q::Int64, previous_step::Iteration)\n",
    "    \n",
    "    ε_rank = sqrt(eps(Float64))\n",
    "    rx, cx = r(x), c(x)\n",
    "    active_cx = [cx[i] for i in active if i != 0]\n",
    "    m, n = size(J)\n",
    "    t = length(active_cx)\n",
    "    Q1 = qr_transpA.Q\n",
    "    JQ1 = J * Q1\n",
    "    J1, J2 = JQ1[:,1:t], JQ1[:,t+1:n]\n",
    "    \n",
    "    # Calcul de p1\n",
    "    b1 = -transpose(qr_transpA.P) * active_cx\n",
    "    if rankA == t \n",
    "        p1 = LowerTriangular(transpose(qr_transpA.R)) \\ b1\n",
    "    else\n",
    "        b2 = transpose(qr_L.Q) * b1\n",
    "        p1 = qr_L.P * (UpperTriangular(qr_L.R) \\ b2)\n",
    "    end\n",
    "    \n",
    "        \n",
    "    # Préparation au calcul de p2\n",
    "    \n",
    "    # Calcul de Γ\n",
    "    \n",
    "    rmat, cmat = zeros(n, n), zeros(n, n)\n",
    "    \n",
    "    # Hessienne des résidus\n",
    "    for i=1:m\n",
    "        hess_i(x) = ForwardDiff.hessian(x -> r(x)[i], x)\n",
    "        rmat += rx[i] * hess_i(x)\n",
    "    end\n",
    "    \n",
    "    # Hessienne des contraintes actives\n",
    "    for i=1:t\n",
    "        j = active[i]\n",
    "        hess_j(x) = ForwardDiff.hessian(x -> c(x)[j], x)\n",
    "        cmat += λ[j] * hess_j(x)\n",
    "    end\n",
    "    Γ = rmat - cmat\n",
    "    \n",
    "    # Blocs intéressants pour le calcul de p2\n",
    "    \n",
    "    E = transpose(Q1) * Γ * Q1\n",
    "    E21, E22 = E[t+1:n, 1:t], E[t+1:n, t+1:n]\n",
    "    \n",
    "    W21, W22 = E21 + transpose(J2) * J1, E22 + transpose(J2) * J2\n",
    "    try\n",
    "        chol_W = cholesky(Symmetric(W22), Val(true), tol = ε_rank, check = true)\n",
    "        d = -W21 * p1 - J2 * rx\n",
    "        δp2 = chol_W.L \\ d\n",
    "        p2 = chol_W.U \\ δp2\n",
    "        p = Q1 * [p1; p2]\n",
    "        previous_step.restart = false\n",
    "        return p\n",
    "    catch\n",
    "        previous_step.restart = true\n",
    "        return zeros(n)\n",
    "    end \n",
    "end"
   ]
  },
  {
   "cell_type": "markdown",
   "metadata": {},
   "source": [
    "# Calcul du pas\n",
    "\n",
    "\n",
    "\n",
    "On considère la fonction de mérite \n",
    "$$\\psi(x,w) = \\dfrac{1}{2}\\|r(x)\\|^2 +  \\dfrac{1}{2}\\sum_{i \\in \\mathcal{A}} w_ic_i(x)^2 + \\dfrac{1}{2} \\sum_{j \\in \\mathcal{I}} w_j\\min(0,c_j(x))^2$$\n",
    "\n",
    "$x$ et $p$ dans $\\mathbb{R}^n$ sont respectivement le point courant et la direction de descente de l'itération en courant. $\\mathcal{A} \\text{ et }\\mathcal{I}$ désignent respectivement les indices des contraintes actives et inactives.\n",
    "\n",
    "Le pas de l'itération est calculé en minimisant la fonction de mérite à direction et point fixés : \n",
    "$$\\phi : \\alpha \\mapsto \\dfrac{1}{2}\\|r(x+\\alpha p)\\|^2 +  \\dfrac{1}{2}\\sum_{i \\in \\mathcal{A}} w_ic_i(x+\\alpha p)^2 + \\dfrac{1}{2} \\sum_{j \\in \\mathcal{I}} w_j\\min(0,c_j(x+\\alpha p))^2$$\n",
    "où $w \\in \\mathbb{R}^l$ est le vecteur des poids actualisé à chaque nouvelle direction de descente calculée.\n",
    "\n"
   ]
  },
  {
   "cell_type": "code",
   "execution_count": 17,
   "metadata": {},
   "outputs": [
    {
     "data": {
      "text/plain": [
       "psi (generic function with 1 method)"
      ]
     },
     "execution_count": 17,
     "metadata": {},
     "output_type": "execute_result"
    }
   ],
   "source": [
    "# Equivalent Fortran : PSI in dblreduns.f\n",
    "\n",
    "function psi(x::Vector, r::Function, c::Function, w::Vector, active::Vector, inactive::Vector, t::Int64)\n",
    "    penalty_constraint_sum = 0.\n",
    "    rx, cx = r(x), c(x)\n",
    "    \n",
    "    # Première partie de la somme avec les contraintes actives\n",
    "    for i = 1:t\n",
    "        j = active[i]\n",
    "        penalty_constraint_sum += w[j] * cx[j]^2\n",
    "    end\n",
    "    \n",
    "    # Deuxième partie de la somme avec les contraintes inactives\n",
    "    for i = 1:length(w)-t\n",
    "        j = inactive[i]\n",
    "        if cx[j] <= 0\n",
    "            penalty_constraint_sum  += w[j] * cx[j]^2\n",
    "        end\n",
    "    end\n",
    "    return 0.5 * (dot(rx,rx) + penalty_constraint_sum)\n",
    "end"
   ]
  },
  {
   "cell_type": "markdown",
   "metadata": {},
   "source": [
    "### Mise à jour du vecteur de poids\n",
    "\n",
    "Avant de minimiser $\\phi$, il faut mettre à jour le vecteur de poids.\n",
    "On note $c$ le vecteur des contraintes actives.\n",
    "En utilisant les approximations linéaires suivantes de $r$ et $c$ à l'aide de leurs jacobiennes au voisinage du point courant $x$ selon une direction $p$ et un pas $\\alpha$ : \n",
    "$$\\begin{array}{l l} f(x+\\alpha p) \\approx \\alpha Jp + r(x) \\\\c(x+\\alpha p) \\approx \\alpha Ap + c(x)\\end{array}$$\n",
    "\n",
    "En introduisant $W = diag(w_1, \\ldots, w_t)$, on remarque que $\\sum\\limits_{i=1}^{t} w_ic_i(x)^2 = c(x)^TWc(x)$\n",
    "\n",
    "On a alors\n",
    "$$\\begin{array}{l l} \\phi(\\alpha) \\approx \\phi_2(\\alpha) &= \\dfrac{1}{2} \\left[ \\|\\alpha Jp+r(x)\\|^2 + (\\alpha Ap + c(x))^TW(\\alpha Ap + c(x)) \\right]  \\\\\n",
    "&= \\dfrac{\\alpha^2}{2} \\left[ \\|Jp\\|^2 + (Ap)^TWAp \\right] + \\alpha \\left[ (Jp)^Tr(x) + (Ap)^TWc(x) \\right] + K \\end{array}$$ avec $K$ indépendant de $\\alpha$.\n",
    "\n",
    "On remarque que $\\phi(0) = \\phi_2(0)$ et $\\phi^{\\prime}(0) = \\phi_2^{\\prime}(0)$ (? à vérifier)\n",
    "\n",
    "Les poids $w_i$ doivent être choisis suffisamment grands pour que $p$ soit une direction descente de $\\psi$ ou, de façon équivalente que $\\phi_2^{\\prime}(0) < 0$ implique que le minimum de $\\phi$ soit atteint pour $\\alpha > 0$. On choisit des poids tels que ce minimum soit atteint pour $\\alpha$ proche de $1$ par soucis de consistence avec le problème de moindres carrés initial, i.e $1-\\delta_1 \\lt \\alpha \\lt 1+\\delta_2$ ,avec $0 \\lt \\delta_i \\lt 1$. On prendra $\\delta_1 = \\delta_2$ afin d'avoir  $|\\alpha -1| \\lt \\delta$ comme critère.\n",
    "($\\delta = 0.25$ dans le code Fortran).\n",
    "Puisque $\\phi_2$ est une fonction quadratique, ce minimum est atteint en $\\alpha = -\\dfrac{\\phi_2^{\\prime}(0)}{\\phi_2^{\\prime\\prime}(0)}$\n",
    "\n",
    "Cela donne $$\\alpha(W) =  \\dfrac{-(Ap)^TWc(x)-(Jp)^Tr(x)}{(Ap)^TWAp+\\| Jp\\|^2}$$\n",
    "\n",
    "On se sert également du scalaire $$\\mu = \\dfrac{\\left| (Jp)^Tr(x) + \\|Jp\\|^2\\ \\right|}{\\delta} - \\|Jp\\|^2$$ que  ce soit avec la méthode norme max ou norme euclidienne.\n",
    "\n",
    "Le choix entre ces deux méthodes est décidé par la valeure d'une constante du code $\\texttt{weight-norm}$ qui vaut $0$ pour utiliser la norme max, $2$ pour la norme euclidienne. Par défaut, $\\texttt{weight-norm} = 2$ dans l'algorithme en Fortran.\n",
    "\n",
    "La fonction $\\texttt{assort}$ met à jour le vecteur $K$ avec le nouveau vecteur de poids de sorte que chaque ligne du tableau soit rangée dans l'ordre décorissant."
   ]
  },
  {
   "cell_type": "code",
   "execution_count": 18,
   "metadata": {},
   "outputs": [
    {
     "data": {
      "text/plain": [
       "assort! (generic function with 1 method)"
      ]
     },
     "execution_count": 18,
     "metadata": {},
     "output_type": "execute_result"
    }
   ],
   "source": [
    "# Equivalent Fortran : ASSORT in dblmod2nls.f\n",
    "\n",
    "function assort!(K::Array{Array{Float64,1},1}, w::Vector, t::Int64, active::Vector)\n",
    "    ξ = length(K)\n",
    "    for i = 1:t\n",
    "        k = active[i]\n",
    "        for ii = 1:ξ\n",
    "            if w[k] > K[ii][k]\n",
    "                for j=ξ:-1:ii+1\n",
    "                    K[j][k] = K[j-1][k]\n",
    "                end\n",
    "                K[ii][k] = w[k]\n",
    "            end\n",
    "        end\n",
    "    end\n",
    "end"
   ]
  },
  {
   "cell_type": "markdown",
   "metadata": {},
   "source": [
    "#### 1. Utilisation de la norme $\\max$\n",
    "\n",
    "Dans ce cas ce figure, à l'itération $k$,  on a $w^{(k)} = \\nu^{(k)}\\mathbb{1}_q$ avec $\\nu^{(k)}$ un scalaire que l'on cherche à calculer (tous les poids ont la même valeur).\n",
    "\n",
    "$\\kappa$ est le vecteur des $\\xi$ dernières valeurs de poids avec $\\kappa_1 \\geq \\kappa_2 \\geq \\ldots \\geq \\kappa_{\\xi}$ (valeur de 4 conseillée dans l'article principal p.17)  \n",
    "\n",
    "La mise à jour des poids se fait selon l'algorithme décrit ci-dessous"
   ]
  },
  {
   "cell_type": "code",
   "execution_count": 19,
   "metadata": {},
   "outputs": [
    {
     "data": {
      "text/plain": [
       "max_norm_weight_update (generic function with 1 method)"
      ]
     },
     "execution_count": 19,
     "metadata": {},
     "output_type": "execute_result"
    }
   ],
   "source": [
    "# Equivalent Fortran : MAXNRM in dblmod2nls.f\n",
    "\n",
    "function max_norm_weight_update(A::Matrix, p::Vector, δ::Float64, μ::Float64, α_w::Float64, \n",
    "        K::Array{Array{Float64,1},1}, w_old::Vector)\n",
    "    ξ = length(K)\n",
    "    μ_new = (abs(α_w - 1) <= δ ? 0 : μ / norm(A * p)^2)\n",
    "    ν = max(μ_new, K[ξ][1])\n",
    "    w = ν * ones(length(w_old))\n",
    "    \n",
    "    # Assort first line of K if new value is superior to the old one\n",
    "    assort!(K, w)\n",
    "    return w  \n",
    "end  "
   ]
  },
  {
   "cell_type": "markdown",
   "metadata": {},
   "source": [
    "#### 2. Utilisation de la norme euclidienne\n",
    "\n",
    "Ici, on calcule le vecteur des poids par la résolution du problème d'optimisation : \n",
    "$$\\left\\{ \\begin{array}{l l} \\underset{w \\in \\mathbb{R}^l}{\\min} \\|w\\| \\\\ sc\\  \\begin{array}{l l}  y^T\\hat{w} &\\geq& \\tau \\\\ w_i &\\geq& w_i^{(old)}, \\, 1 \\leq i \\leq l \\end{array} \\end{array} \\right.$$\n",
    "\n",
    "$\\hat{w}$ est le vecteur des pénalités correspondant aux contraintes actives.\n",
    "\n",
    "<b> N.B </b> : La première contrainte peut être une contrainte d'égalité selon les configurations.\n",
    "\n",
    "Le vecteur $y$ et le scalaire $\\tau$ sont préalablement calculés en fonction des valeurs de $\\mu =  \\left[\\dfrac{|(Jp)^Tr(x_k) + \\|Jp\\|^2|}{\\delta} - \\|Jp\\|^2 \\right]$ et $z = \\left[ (\\nabla c_i(x)^Tp)^2 \\right]_{1 \\leq i \\leq t}$\n",
    "\n",
    "L'algorithme $\\texttt{euclidean_norm-weight-update}$ calcule paramètre le probèlme d'optimisation sur $w$ qui est ensuite résolu par l'appel de la fonction $\\texttt{minimize-euclidean-norm}$.\n",
    "\n",
    "C'est cette méthode qui est utilisée par défaut dans l'algorithme écrit en Fortran"
   ]
  },
  {
   "cell_type": "code",
   "execution_count": 20,
   "metadata": {},
   "outputs": [
    {
     "data": {
      "text/plain": [
       "minimize_euclidean_norm (generic function with 1 method)"
      ]
     },
     "execution_count": 20,
     "metadata": {},
     "output_type": "execute_result"
    }
   ],
   "source": [
    "# Equivalent Fortran : EUCMOD in dblreduns.f\n",
    "\n",
    "function minimize_euclidean_norm(w_old::Vector, y::Vector, τ::Float64, ctrl::Int64, pset::Vector, nrp::Int64)\n",
    "    ε_rel = sqrt(eps(Float64))\n",
    "    w = w_old[:]\n",
    "    yty = dot(y,y)\n",
    "    τ_new = τ; σ = 0.; nrunch = nrp\n",
    "    \n",
    "    @label preparation_of_loop\n",
    "    τ_new -= σ\n",
    "    c = (yty <= ε_rel ? 1 : τ_new / yty)\n",
    "    yty = 0; σ = 0.; i_stop = nrunch; k = 1\n",
    "    \n",
    "    while k <= nrunch\n",
    "        i = pset[k]\n",
    "        prod = c * y[k]\n",
    "        if prod >= w_old[i]\n",
    "            w[i] = prod\n",
    "            yty += y[k]^2\n",
    "            k += 1\n",
    "        else\n",
    "            σ += w[i] * y[k]\n",
    "            for j = k:nrunch\n",
    "                pset[j] = pset[j+1]\n",
    "                y[j] = y[j+1]\n",
    "            end\n",
    "            nrunch -= 1\n",
    "        end\n",
    "    end\n",
    "    if nrunch <= 0 || ctrl == 2\n",
    "        return w\n",
    "    elseif i_stop != nrunch\n",
    "        @goto preparation_of_loop\n",
    "    end\n",
    "    return w\n",
    "end"
   ]
  },
  {
   "cell_type": "code",
   "execution_count": 52,
   "metadata": {},
   "outputs": [
    {
     "data": {
      "text/plain": [
       "euclidean_norm_weight_update (generic function with 1 method)"
      ]
     },
     "execution_count": 52,
     "metadata": {},
     "output_type": "execute_result"
    }
   ],
   "source": [
    "# Equivalent Fortran : EUCNRM in dblmod2nls.f\n",
    "\n",
    "function euclidean_norm_weight_update(vA::Vector, cx::Vector, active::Vector, p::Vector,ω::Int64, μ::Float64, \n",
    "        K::Array{Array{Float64,1},1})\n",
    "    # Initialization of variables\n",
    "    ε_rel = eps(Float64)\n",
    "    ξ = length(K); t = length(vA)\n",
    "    w_old = K[ξ][:]\n",
    "    w = w_old[:]\n",
    "    y = zeros(t); positive_y_set = zeros(Int64, t)\n",
    "    ztw = 0.\n",
    "    for i=1:t\n",
    "        ztw += vA[i]^2 * w_old[active[i]]\n",
    "    end\n",
    "    \n",
    "    \n",
    "    # Pas de changements dans les pénalités si z^Tw >= μ et ω != t \n",
    "    \n",
    "    if ztw >= μ\n",
    "        \n",
    "        if ω != t\n",
    "            ctrl = 2; number_positive_y = 0; γ = 0.\n",
    "            for i=1:t\n",
    "                j = active[i]\n",
    "                y_element = vA[i] * (vA[i] + cx[j])\n",
    "                if y_element > ε_rel\n",
    "                    number_positive_y += 1\n",
    "                    positive_y_set[number_positive_y] = j\n",
    "                    y[number_positive_y] = y_element\n",
    "                else\n",
    "                    γ -= y_element * w_old[j]\n",
    "                end\n",
    "            end\n",
    "            w = minimize_euclidean_norm(w_old, y, γ, ctrl, positive_y_set, number_positive_y)\n",
    "        end\n",
    "        \n",
    "    \n",
    "    elseif ztw < μ\n",
    "        \n",
    "        if ω != t\n",
    "            ctrl = 2; number_positive_y = 0; τ = μ \n",
    "            for i=1:t\n",
    "                j = active[i]\n",
    "                y_element = -vA[i] * cx[j]\n",
    "                if y_element > ε_rel\n",
    "                    number_positive_y += 1\n",
    "                    positive_y_set[number_positive_y] = j\n",
    "                    y[number_positive_y] = y_element\n",
    "                else\n",
    "                    τ -= y_element * w_old[j]\n",
    "                end\n",
    "            end\n",
    "            w = minimize_euclidean_norm(w_old, y, τ, ctrl, positive_y_set, number_positive_y)\n",
    "        else\n",
    "            y[:] = vA[:].^2\n",
    "            positive_y_set[:] = active[1:t]\n",
    "            ctrl = 1; τ = μ\n",
    "            w = minimize_euclidean_norm(w_old, y, τ, ctrl, positive_y_set, t)\n",
    "        end\n",
    "    end\n",
    "    \n",
    "    # Met à jour le vecteur K \n",
    "    assort!(K, w, t, active)\n",
    "    return w\n",
    "end"
   ]
  },
  {
   "cell_type": "markdown",
   "metadata": {},
   "source": [
    "Fonction de mise à jour des poids : $\\mathtt{compute\\_penalty\\_weights}$"
   ]
  },
  {
   "cell_type": "code",
   "execution_count": 1,
   "metadata": {},
   "outputs": [
    {
     "ename": "LoadError",
     "evalue": "UndefVarError: Iteration not defined",
     "output_type": "error",
     "traceback": [
      "UndefVarError: Iteration not defined",
      "",
      "Stacktrace:",
      " [1] top-level scope at In[1]:3",
      " [2] include_string(::Function, ::Module, ::String, ::String) at ./loading.jl:1091",
      " [3] execute_code(::String, ::String) at /Users/pierre/.julia/packages/IJulia/rWZ9e/src/execute_request.jl:27",
      " [4] execute_request(::ZMQ.Socket, ::IJulia.Msg) at /Users/pierre/.julia/packages/IJulia/rWZ9e/src/execute_request.jl:86",
      " [5] #invokelatest#1 at ./essentials.jl:710 [inlined]",
      " [6] invokelatest at ./essentials.jl:709 [inlined]",
      " [7] eventloop(::ZMQ.Socket) at /Users/pierre/.julia/packages/IJulia/rWZ9e/src/eventloop.jl:8",
      " [8] (::IJulia.var\"#15#18\")() at ./task.jl:356"
     ]
    }
   ],
   "source": [
    "# Equivalent Fortran : WEIGHT in dblmod2nls.f\n",
    "\n",
    "function compute_penalty_weights(rx::Vector, J::Matrix, cx::Vector, A::Matrix, x::Vector, p::Vector,\n",
    "        active::Vector, inactive::Vector, K::Array{Array{Float64,1},1}, weight_norm::Int64, \n",
    "        previous_step::Iteration)\n",
    "    \n",
    "    δ = 0.25 ; l = length(cx)\n",
    "    w_old = previous_step.w\n",
    "    dimA = previous_step.ω1\n",
    "    \n",
    "    # Vecteur, jacobienne et pénalités des contraintes actives \n",
    "    active_index = [active[i] for i=1:l if active[i] != 0]\n",
    "    active_cx = @view cx[active_index]\n",
    "    active_A = @view A[active_index,:]\n",
    "    active_w_old = @view w_old[active_index]\n",
    "    \n",
    "    Jp = J * p\n",
    "    Âp = active_A * p ; vA = @view Âp[1:dimA]\n",
    "    ata = dot(vA,vA)\n",
    "    atwa = dot(active_w_old[1:dimA], vA.^2)\n",
    "    btwa = dot(vA,(active_w_old .* active_cx)[1:dimA])\n",
    "    nrmjp2 = dot(Jp, Jp)\n",
    "    jprx = dot(Jp,rx)\n",
    "    \n",
    "    α_w = (-btwa - jprx) / (atwa + nrmjp2)\n",
    "    μ = abs(-jprx - nrmjp2) / δ - nrmjp2\n",
    "    \n",
    "    \n",
    "    if weight_norm == 0\n",
    "        w = max_norm_weight_update(active_A, p, δ, μ, α_w, K, last_w)\n",
    "    else\n",
    "        w = euclidean_norm_weight_update(Âp, cx, active, p, dimA, μ, K)\n",
    "    end\n",
    "    return w\n",
    "end"
   ]
  },
  {
   "cell_type": "markdown",
   "metadata": {},
   "source": [
    "### Minimisation de $\\psi$ par approximation polynomiale\n",
    "\n",
    "La fonction $\\texttt{minrn}$ renvoie le minimum de la fonction quadratique passant par trois points $y_1, y_2, y_3$ respectivement en $x_1, x_2$ et $x_3$ \n",
    "\n",
    "Cette fonction est utilisée pour calculer une estimation du minimum de la fonction de mérite en calculant celui de la quadratique inteprolant $\\psi$ en trois points $\\alpha_{-1}$, souvent $\\alpha_0$ et $\\alpha_1$."
   ]
  },
  {
   "cell_type": "code",
   "execution_count": 24,
   "metadata": {},
   "outputs": [
    {
     "data": {
      "text/plain": [
       "minrn (generic function with 1 method)"
      ]
     },
     "execution_count": 24,
     "metadata": {},
     "output_type": "execute_result"
    }
   ],
   "source": [
    "# Equivalent Fortran : QUAMIN in dblreduns.f\n",
    "\n",
    "function minimize_quadratic(x1::Float64, y1::Float64, x2::Float64, y2::Float64,\n",
    "    x3::Float64, y3::Float64)\n",
    "\n",
    "    d1, d2 = y2 - y1, y3 - y1\n",
    "    s = (x3 - x1)^2 * d1 - (x2 - x1)^2 * d2\n",
    "    q = 2 * ((x2 - x1) * d2 - (x3 - x1) * d1)\n",
    "    return x1 - s / q\n",
    "end\n",
    "\n",
    "\n",
    "# Equivalent Fortran : MINRN in dblreduns.f\n",
    "\n",
    "\n",
    "function minrn(x1::Float64, y1::Float64, x2::Float64, y2::Float64,\n",
    "    x3::Float64, y3::Float64, α_min::Float64, α_max::Float64)\n",
    "\n",
    "    εrank = sqrt(eps(Float64))\n",
    "\n",
    "    # α not computable\n",
    "    # Add an error in this case\n",
    "    if abs(x1 - x2) < εrank || abs(x3 - x1) < εrank || abs(x3 - x2) < εrank\n",
    "        α, pα = 0., 0.\n",
    "\n",
    "    else\n",
    "    # Compute minimum of quadradic passing through fx, fv and fw\n",
    "    # at points x, v and w\n",
    "        u = minimize_quadratic(x1, y1, x2, y2, x3, y3)\n",
    "        α = clamp(u, α_min, α_max)\n",
    "        t1 = (α - x1) * (α - x2) * y3 / ((x3 - x1) * (x3 - x2))\n",
    "        t2 = (α - x3) * (α - x2) * y1 / ((x1 - x3) * (x1 - x2))\n",
    "        t3 = (α - x3) * (α - x2) * y2 / ((x2 - x1) * (x2 - x3))\n",
    "        \n",
    "        # Value of the estimation of ψ(α)\n",
    "        pα = t1 + t2 + t3\n",
    "    end\n",
    "    \n",
    "    return α, pα\n",
    "end"
   ]
  },
  {
   "cell_type": "markdown",
   "metadata": {},
   "source": [
    "$\\texttt{minrm}$ renvoie le point minimisant la fonction polynomiale\n",
    "$$P(\\alpha) = \\dfrac{1}{2}\\|v_2\\alpha^2 + v_1\\alpha + v_0\\|^2$$\n",
    "\n",
    "Avec $v_0$, $v_1$ et $v_2$ dans $\\mathbb{R}^{m+t}$ qui s'expriment par, \n",
    "\n",
    "Notant $F(\\alpha) = \\left[r_1(x+\\alpha p), \\ldots, r_m(x+\\alpha p), \\sqrt{w_1}c_1(x+\\alpha p), \\ldots, \\sqrt{w_t}c_t(x+\\alpha p)\\right]^{T}$ et $\\alpha_k$ la valeur courante du pas dans l'algorithme de recherche linéaire : \n",
    "\n",
    "$\\begin{array}{l l l}\n",
    "v_0 = F(0) \\\\\n",
    "v_1 = \\left[\\nabla r_1(x)^Tp,\\ldots, \\nabla r_m(x)^Tp, \\sqrt{w_1}\\nabla c_1(x)^Tp, \\ldots, \\sqrt{w_t}\\nabla c_t(x)^Tp \\right]^T \\\\\n",
    "    v_2 = \\left[ \\dfrac{1}{\\alpha_k}\\left( \\dfrac{F_i(\\alpha_k) - v_0^{(i)}}{\\alpha_k} - v_1^{(i)}\\right)\\right]_{1 \\leq i \\leq m+t}^T\n",
    "\\end{array}$\n",
    "\n",
    "Le polynôme $P$ ainsi formé avec les cofficients ci-dessus interpole $\\phi$ en $0$ et $\\alpha_k$."
   ]
  },
  {
   "cell_type": "code",
   "execution_count": 25,
   "metadata": {},
   "outputs": [
    {
     "data": {
      "text/plain": [
       "minrm (generic function with 1 method)"
      ]
     },
     "execution_count": 25,
     "metadata": {},
     "output_type": "execute_result"
    }
   ],
   "source": [
    "\n",
    "\n",
    "function parameters_rm(v0::Vector, v1::Vector, v2::Vector, α_best::Float64,\n",
    "        ds::Polynomial{Float64}, dds::Polynomial{Float64})\n",
    "    dds_best = dds(α_best)\n",
    "    η, d = 0.1, 1.\n",
    "    normv2 = dot(v2, v2)\n",
    "    h0 = abs(ds(α_best) / dds_best)\n",
    "    Dm = abs(6 * dot(v1,v2) + 12 * α_best*normv2) + 24 * h0 * normv2\n",
    "    hm = max(h0, 1)\n",
    "\n",
    "    # s'(α) = 0 is solved analytically\n",
    "    if dds_best * η < 2 * Dm * hm\n",
    "        \n",
    "        # If t = α+a1 solves t^3 + b*t + c = O then α solves s'(α) = 0\n",
    "        (a3, a2, a1) = coeffs(ds) / (2 * normv2)\n",
    "        \n",
    "        b = a2 - (a1^2) / 3\n",
    "        c = a3 - a1 * a2/3 + 2*(a1/3)^3\n",
    "        d = (c/2)^2 + (b/3)^3\n",
    "        # Two interisting roots\n",
    "        if d < 0\n",
    "            α_hat, β_hat = two_roots(b, c, d, a1, α_best)\n",
    "        \n",
    "        # Only one root is computed     \n",
    "        else\n",
    "            α_hat = one_root(c, d, a1)\n",
    "        end\n",
    "    \n",
    "    # s'(α) = 0 is solved using Newton-Raphson's method\n",
    "    else\n",
    "        α_hat = newton_raphson(α_best, Dm, ds, dds)\n",
    "    end\n",
    "    \n",
    "    # If only one root computed\n",
    "    if d >= 0 \n",
    "        β_hat = α_hat \n",
    "    end\n",
    "    return α_hat, β_hat\n",
    "    \n",
    "end\n",
    "\n",
    "function bounds(α_l::Float64, α_u::Float64, α::Float64, s::Polynomial{Float64})\n",
    "    α = min(α, α_u)\n",
    "    α = max(α, α_l)\n",
    "    return α, s(α)\n",
    "end\n",
    "\n",
    "function newton_raphson(α_best::Float64, Dm::Float64, ds::Polynomial{Float64}, dds::Polynomial{Float64})\n",
    "    α, newtonstep = α_best, 0\n",
    "    ε, error = 1e-4, 1.\n",
    "    while error > ε || newtonstep < 3\n",
    "        c = dds(α)\n",
    "        h = -ds(α) / c\n",
    "        α += h\n",
    "        error = (2 * Dm * h^2) / abs(c)\n",
    "        newtonstep += 1\n",
    "    end\n",
    "    return α\n",
    "end\n",
    "\n",
    "\n",
    "# Equivalent Fortran : ONER in dblreduns.f\n",
    "function one_root(c::Float64, d::Float64, a::Float64)\n",
    "    arg1, arg2 = -c/2 + sqrt(d), -c/2 - sqrt(d)\n",
    "    return cbrt(arg1) + cbrt(arg2) - a/3\n",
    "end\n",
    "\n",
    "# Equivalent Fortran : TWOR in dblreduns.f\n",
    "function two_roots(b::Float64, c::Float64, d::Float64, a::Float64, α_best::Float64)\n",
    "    φ = acos(abs(c/2) / (-b/3)^(3/2))\n",
    "    t = (c <= 0 ? 2*sqrt(-b/3) : -2*sqrt(-b/3))\n",
    "    \n",
    "    # β1 is the global minimizerof s(α). \n",
    "    # If d is close to zero the root β1 is stable while β2 and β3 become unstable\n",
    "    β1 = t * cos(φ/3) - a/3\n",
    "    β2 = t * cos((φ + 2 * π) / 3) - a/3\n",
    "    β3 = t * cos((φ + 4 * π) / 3) - a/3\n",
    "    \n",
    "    # Sort β1, β2 and β3 so that β1 <= β2 <= β3\n",
    "    β1, β2, β3 = sort([β1, β2, β3])\n",
    "    \n",
    "    #β1 or β3 are now the roots of interest\n",
    "    α, β = (α_best <= β2 ? (β1, β3) : (β3, β1))\n",
    "    return α, β\n",
    "end  \n",
    "\n",
    "\n",
    "# Equivalent Fortran : MINRM in dblreduns.f\n",
    "function minrm(v0::Vector, v1::Vector, v2::Vector, α_best::Float64, α_l::Float64, α_u::Float64)\n",
    "    \n",
    "    s = Polynomial([0.5 * norm(v0)^2, dot(v0,v1), dot(v0,v2) + 0.5 * dot(v1,v1), dot(v1,v2), 0.5 * dot(v2,v2)^2])\n",
    "    ds = derivative(s)\n",
    "    dds = derivative(ds)\n",
    "    α_hat, β_hat = parameters_rm(v0, v1, v2, α_best, ds, dds)\n",
    "    sα, sβ = s(α_hat), s(β_hat)\n",
    "    α_old = α_hat\n",
    "    α_hat, sα = bounds(α_l, α_u, α_hat, s)\n",
    "    if α_old == β_hat\n",
    "        β_hat, sβ = α_hat, s(α_hat)\n",
    "    else\n",
    "        β_hat, sβ = bounds(α_l, α_u, β_hat, s)\n",
    "    end\n",
    "    return α_hat, sα, β_hat, sβ\n",
    "end"
   ]
  },
  {
   "cell_type": "markdown",
   "metadata": {},
   "source": [
    "### Calcul du pas avec la méthode d'Armijo-Goldstein du code Fortran\n",
    "\n"
   ]
  },
  {
   "cell_type": "code",
   "execution_count": 26,
   "metadata": {},
   "outputs": [
    {
     "data": {
      "text/plain": [
       "goldstein_armijo_condition (generic function with 2 methods)"
      ]
     },
     "execution_count": 26,
     "metadata": {},
     "output_type": "execute_result"
    }
   ],
   "source": [
    "# Equivalent Fortran : GAC in dblreduns.f\n",
    "\n",
    "function goldstein_armijo_condition(p::Vector, ϕ::Function, ϕ0::Float64, \n",
    "        dϕ0::Float64, α0::Float64, α_min::Float64, τ = 0.25)\n",
    "    \n",
    "    ε_rel = sqrt(eps(Float64))\n",
    "    α, ϕα = α0, ϕ(α0)\n",
    "    p_max = norm(p)\n",
    "    exit = p_max * α >= ε_rel || α >= α_min\n",
    "    while ϕα >= ϕ0 + τ * α * dϕ0 && exit\n",
    "        α *= 0.5\n",
    "        ϕα = ϕ(α)\n",
    "        exit = p_max * α >= ε_rel || α >= α_min\n",
    "    end\n",
    "    return α\n",
    "end"
   ]
  },
  {
   "cell_type": "markdown",
   "metadata": {},
   "source": [
    "### Calcul du pas par recherche linéaire"
   ]
  },
  {
   "cell_type": "code",
   "execution_count": 27,
   "metadata": {},
   "outputs": [
    {
     "data": {
      "text/plain": [
       "linesearch_constrained (generic function with 1 method)"
      ]
     },
     "execution_count": 27,
     "metadata": {},
     "output_type": "execute_result"
    }
   ],
   "source": [
    "# Fonction intermédiaires utiles dans la recherche linéaire\n",
    "\n",
    "function best_alpha(list_alpha::Vector, s::Function)\n",
    "        minimum(Dict(s(t) => t for t in list_alpha)).second\n",
    "    end\n",
    "    \n",
    "function progress_check(s_star::Float64, ϕ::Function, αk::Float64, αk_1::Float64,\n",
    "        η::Float64 = 0.2, δ::Float64 = 0.2)\n",
    "    satisfied = true\n",
    "    ϕk = ϕ(αk)\n",
    "    if s_star <= η * ϕk\n",
    "        if ϕk <= δ * ϕ(αk_1)\n",
    "            satisfied = false\n",
    "        end\n",
    "    end\n",
    "    return satisfied\n",
    "end\n",
    "\n",
    "# Equivalent Fortran : LINEC in dblreduns.f\n",
    "function linesearch_constrained(r::Function, J::Function, c::Function, A::Function, x::Vector, p::Vector, \n",
    "        w::Vector, active::Vector, inactive::Vector, α0::Float64, αl::Float64, αu::Float64)\n",
    "    \n",
    "    # Constantes\n",
    "    τ, γ = 0.25, 0.4\n",
    "    # Paramètres et grandeurs utiles\n",
    "    \n",
    "    J, A, rx, cx = J(x), A(x), r(x), c(x)\n",
    "    m, n = size(J)\n",
    "    \n",
    "    \n",
    "    active_index = [active[i] for i=1:l if active[i] != 0]\n",
    "    t = length(active_index)\n",
    "    active_cx = @view cx[active_index]\n",
    "    active_A = @view A[active_index,:]\n",
    "    w_active = @view w[active_index]\n",
    "    \n",
    "\n",
    "    ϕ = α::Float64 -> psi(x + α * p, r, c, w, active, inactive, t)\n",
    "    ϕ0 = ϕ(0.)\n",
    "    dϕ0 = dot(active_A * p, w_active .* active_cx) + dot(J * p, rx)\n",
    "\n",
    "    is_acceptable = α::Float64 -> (ϕ(α) <= ϕ0 + τ * dϕ0 * α) || (ϕ(α) <= γ * ϕ0)\n",
    "\n",
    "    # Computation of v0 and v1\n",
    "        \n",
    "    F = α::Float64 -> vcat(r(x + α * p), (w_active.^0.5) .* c(x + α * p)[active_index])\n",
    "    v0 = F(0.)\n",
    "    v1 = vcat(J * p, (w_active.^0.5) .* (active_A * p))\n",
    "    \n",
    "    k, α_1 = 0, 0.\n",
    "    \n",
    "    # Find minimum of parabola interpolating f at 0 and α0\n",
    "    v2 = [(((F(α0)[i] - v0[i]) / α0) - v1[i]) / α0 for i = 1:m+t]\n",
    "    αbest = best_alpha([0, α0], t::Float64 -> 0.5*norm(v0 + v1 * t + v2 * t^2)^2)\n",
    "    α_star, s_star = minrm(v0, v1, v2, αbest, αl, αu)\n",
    "    \n",
    "    if is_acceptable(α0)\n",
    "        satisfied = progress_check(s_star, ϕ, α0, α_1)\n",
    "        \n",
    "        if !satisfied α1 = α_star end\n",
    "        while !satisfied\n",
    "            if k > 0 α_1, α0, α1 = α0, α1, α_star end\n",
    "                \n",
    "            α_best = best_alpha([α_1, α0, α1], t::Float64 -> 0.5*norm(v0 + v1 * t + v2 * t^2)^2)\n",
    "             \n",
    "            satisfied = progress_check(s_star, ϕ, α1, α0)\n",
    "            if k == 0 k += 1 end\n",
    "        end\n",
    "        if k == 0 return α0 end\n",
    "        \n",
    "    else\n",
    "        α1 = α_star\n",
    "        if is_acceptable(α1)\n",
    "            if ϕ0 <= ϕ(α0)\n",
    "                v2 = [(((F(α0)[i] - v0[i]) / α1) - v1[i]) / α1 for i = 1:m+t]\n",
    "                α_best = best_alpha([0, α1], t::Float64 -> 0.5*norm(v0 + v1 * t + v2 * t^2)^2)\n",
    "                α_star, s_star = minrm(v0, v1, v2, α_best, αl, αu)\n",
    "                α0 = 0.\n",
    "            else\n",
    "\n",
    "                α_best = best_alpha([α_1, α0, α1], t::Float64 -> 0.5*norm(v0 + v1 * t + v2 * t^2)^2)\n",
    "                α_star, s_star = minrn(0., ϕ0, α0, ϕ(α0), α1, ϕ(α1), αl, αu)\n",
    "                satisfied = progress_check(s_star, ϕ, α1, α0)\n",
    "                if !satisfied α1 = α_star end\n",
    "                \n",
    "                while !satisfied\n",
    "                    if k > 0 α_1, α0, α1 = α0, α1, α_star end\n",
    "                \n",
    "                    α_best = best_alpha([α_1, α0, α1], t::Float64 -> 0.5*norm(v0 + v1 * t + v2 * t^2)^2)\n",
    "                    α_star, s_star = minrn(α_1, ϕ(α_1), α0, ϕ(α0), α1, ϕ(α1), αl, αu)\n",
    "                    satisfied = progress_check(s_star, ϕ, α1, α0)\n",
    "                    if k == 0 k += 1 end\n",
    "                end\n",
    "            end\n",
    "        else\n",
    "            \n",
    "            α1 = goldstein_armijo_condition(p, ϕ, ϕ0, dϕ0, α1, αl)\n",
    "            \n",
    "            # Rajouter \"α1 est trop petit\" et \"α1 acceptable\" comme condition d'arrêt\n",
    "            \n",
    "        end\n",
    "            \n",
    "        \n",
    "    end\n",
    "    return best_alpha([α0, α1], ϕ)\n",
    "end"
   ]
  },
  {
   "cell_type": "markdown",
   "metadata": {},
   "source": [
    "La fonction $\\mathtt{upper\\_bound\\_steplength}$ détermine la borne supérieure du pas définie par :\n",
    "$$ \\underset{i \\in \\mathcal{I}}{\\min}\\left\\{-\\dfrac{c_i(x)}{\\nabla c_i(x)^Tp} \\text{ pour }i \\text{ tel que } \\nabla c_i(x)^Tp < 0 \\right\\}$$. Si un tel minimum n'existe pas, on renvoie une valeur de $\\alpha$ grande."
   ]
  },
  {
   "cell_type": "code",
   "execution_count": 28,
   "metadata": {},
   "outputs": [
    {
     "data": {
      "text/plain": [
       "upper_bound_steplength (generic function with 1 method)"
      ]
     },
     "execution_count": 28,
     "metadata": {},
     "output_type": "execute_result"
    }
   ],
   "source": [
    "# Equivalent Fortran : UPBND in dblreduns.f\n",
    "\n",
    "function upper_bound_steplength(cx::Vector, A::Matrix, p::Vector, inactive::Vector)\n",
    "    α_upper = Inf\n",
    "    \n",
    "    # S'il y a au moins une contrainte inactive\n",
    "    if norm(inactive, Inf) > 0\n",
    "        for i in inactive\n",
    "            if i != 0 && A[i,:] < 0 && -dot(A[i,:],p) < α_upper\n",
    "                α_upper = -dot(A[i,:],p)\n",
    "            end\n",
    "        end\n",
    "    end\n",
    "    return min(3., α_upper)\n",
    "end"
   ]
  },
  {
   "cell_type": "markdown",
   "metadata": {},
   "source": [
    "# Terminaison de l'algorithme (cas contraintes d'égalité)\n",
    "\n",
    "## Critères de convergence\n",
    "\n",
    "Fonction TERCRI de dblmod2nls.f\n",
    "\n",
    "Pour pouvoir appliquer les critères de convergence, il ne faut pas être dans une étape de redémarrage et la direction de descente de l'étape en cours ne doit pas avoir été calculée avec la méthode QR-approchée. On considère qu'il y a $t$ contraintes actives. Parmi les différents critères, on a des conditions nécessaires : \n",
    "1. $\\|\\hat{c}(x)\\| < \\varepsilon_h$ pour les contraintes actives et les contraintes inactives doivent être strictement positives.\n",
    "2. $\\|\\hat{A}^T\\lambda - \\nabla f(x)\\| < \\sqrt{\\varepsilon_{rel}}\\left(1+\\|\\nabla f(x)\\|\\right)$\n",
    "3. $\\underset{i \\in \\mathcal{I}}{\\min}\\left\\{ \\lambda_i\\ |\\ \\lambda_i > 0 \\right\\} \\geq \\varepsilon_{rel} \\underset{1\\leq j\\leq t}{\\max} |\\lambda_j| \\\\\n",
    "\\text{ou } \\underset{i \\in \\mathcal{I}}{\\min}\\left\\{ \\lambda_i\\ |\\ \\lambda_i > 0 \\right\\} \\geq \\epsilon_{rel} \\left(1+\\|r(x)\\|^2\\right) \\text{ s'il n y a qu'une seule inégalité}$ \n",
    "\n",
    "\n",
    "Viennent ensuite des conditions suffisantes : \n",
    "\n",
    "4. $\\|d\\|^2 \\leq \\varepsilon_{rel}^2 \\|r(x)\\|^2$\n",
    "5. $\\|r(x)\\|^2 \\leq \\varepsilon_{abs}^2$\n",
    "6. $\\|x_{k-1} - x_k\\| < \\varepsilon_x\\|x_k\\|$\n",
    "7. $\\dfrac{\\sqrt{\\varepsilon_{rel}}}{\\|p_{GN}\\|} > 0.25$\n",
    "\n",
    "Avec $\\varepsilon_{rel} = \\varepsilon_{h} = \\varepsilon_{x} = \\varepsilon_{abs} = (\\mathtt{relative\\_precision})^{0.5}$\n",
    "\n",
    "Ces conditions sont testées dans la fonction $\\mathtt{check\\_termination\\_criterias}$ qui renvoie un bouléen pour indiquer si l'algorithme peut s'arrêtet ou non.\n",
    "\n",
    "Ne sont pas implémentés les critères de terminaison anormaux (correspondent généralement à de la gestion d'erreur)."
   ]
  },
  {
   "cell_type": "code",
   "execution_count": 58,
   "metadata": {},
   "outputs": [
    {
     "data": {
      "text/plain": [
       "check_termination_criterias (generic function with 1 method)"
      ]
     },
     "execution_count": 58,
     "metadata": {},
     "output_type": "execute_result"
    }
   ],
   "source": [
    "# Equivalent Fortran : TERCRI in dblmod2nls.f\n",
    "\n",
    "function check_termination_criterias(x::Vector, p_gn::Vector, rx::Vector, cx::Vector, A::Matrix, ∇fx::Vector, \n",
    "        active::Vector, inactive::Vector, q::Int64, step::Iteration)\n",
    "    \n",
    "    λ = step.λ\n",
    "    ε_rel = sqrt(eps(Float64))\n",
    "    t = length(λ)\n",
    "    \n",
    "    # L'étape en cours ne doit pas être un redémarrage et la direction de descente ne doit pas être QR-approchée\n",
    "    if !step.restart && step.code != -1\n",
    "        \n",
    "        active_index = [active[i] for i=1:length(active) if active[i] != 0]\n",
    "        active_cx = @view cx[active_index]; inactive_cx = @view cx[setdiff(1:end, active_index)]\n",
    "        \n",
    "        # Conditions nécessaires \n",
    "        \n",
    "        constraint_cond = norm(active_cx) < ε_rel && all(>(ε_rel), inactive_cx)\n",
    "        if constraint_cond\n",
    "            try\n",
    "                sigmin = minimum([λ[i] for i=q+1:t if λ[i] > 0])\n",
    "            catch\n",
    "                sigmin = 0\n",
    "            end\n",
    "            u = (q+1 == t ? 1 + dot(rx,rx) : maximum(map(abs,λ)))\n",
    "            \n",
    "            if sigmin >= ε_rel * u && norm(transpose(A) * λ - ∇fx) < sqrt(ε_rel) * (1 + norm(∇fx))\n",
    "                \n",
    "                # Conditions suffisantes\n",
    "                norm_rx2 = dot(rx,rx)\n",
    "                return dot(step.d[1:step.ω2],step.d[1:step.ω2]) <= ε_rel^2 * norm_rx2 || norm_rx2 <= ε_rel^2 || norm(step.x - x) < ε_rel * norm(x) || sqrt(ε_rel) / norm(p_gn) > 0.25\n",
    "            end\n",
    "        end\n",
    "    end\n",
    "    return false\n",
    "end"
   ]
  },
  {
   "attachments": {
    "main_pseudo_code.png": {
     "image/png": "[encoded data removed]"
    }
   },
   "cell_type": "markdown",
   "metadata": {},
   "source": [
    "# Grandes étapes de l'algorithme\n",
    "\n",
    "![main_pseudo_code.png](attachment:main_pseudo_code.png)\n",
    "\n"
   ]
  },
  {
   "cell_type": "markdown",
   "metadata": {},
   "source": [
    "La fonction $\\mathtt{init\\_working\\_set}$ initialise le tableau $K$ des pénalités et le premier vecteur de poids et détermine les contraintes actives au point initial. Les tableaux entiers $active \\in \\mathbb{N}^l$  et $inactive\\in \\mathbb{N}^{l-q}$ sont également initialisés.\n",
    "\n",
    "S'il y a $t$ contraintes actives, donc $l-t$ contraintes inactives, pour $i \\leq t, \\ active(i)$ est l'indice de la $i^{ème}$ contrainte active et vaut $0$ pour $i > t$. De même, $inactive(j)$ est l'indice de la $j^{ème}$ contrainte inactive si $j \\leq l-t$ et $0$ sinon. "
   ]
  },
  {
   "cell_type": "code",
   "execution_count": 30,
   "metadata": {},
   "outputs": [
    {
     "data": {
      "text/plain": [
       "init_working_set (generic function with 1 method)"
      ]
     },
     "execution_count": 30,
     "metadata": {},
     "output_type": "execute_result"
    }
   ],
   "source": [
    "# Equivalent Fortran : INIALC in dblmod2nls.f\n",
    "\n",
    "function init_working_set(cx::Vector, K::Array{Array{Float64,1},1}, step::Iteration, q::Int64)\n",
    "    δ, ϵ, ε_rel = 0.1, 0.01, sqrt(eps(Float64))\n",
    "    l = length(cx)\n",
    "    \n",
    "    # Initialisation des pénalités\n",
    "    K[:] = [δ * ones(l) for i=1:length(K)]\n",
    "    for i=1:l\n",
    "        pos = min(abs(cx[i]) + ϵ, δ)\n",
    "        step.w[i] = pos\n",
    "    end\n",
    "    \n",
    "    # Determination du premier ensemble actif\n",
    "    active = zeros(Int64, l); inactive = zeros(Int64, l - q)\n",
    "    t = q; lmt = l - t\n",
    "    \n",
    "    # Les contraintes d'égalité sont toujours actives\n",
    "    active[1:q] = [i for i=1:q]\n",
    "    \n",
    "    for i = q+1:l\n",
    "        if cx[i] <= ε_rel\n",
    "            t += 1; active[t] = i\n",
    "        else\n",
    "            lmt += 1; inactive[lmt] = i\n",
    "        end\n",
    "    end\n",
    "    \n",
    "    return active, inactive\n",
    "end "
   ]
  },
  {
   "cell_type": "markdown",
   "metadata": {},
   "source": [
    "La fonction $\\mathtt{working\\_set}$ met à jour les nouveaux multiplicateurs de Lagrange et calcule la direction de Gauss-Newton."
   ]
  },
  {
   "cell_type": "code",
   "execution_count": 31,
   "metadata": {},
   "outputs": [
    {
     "data": {
      "text/plain": [
       "working_set (generic function with 1 method)"
      ]
     },
     "execution_count": 31,
     "metadata": {},
     "output_type": "execute_result"
    }
   ],
   "source": [
    "# Equivalent Fortran : WRKSET in dblwrkset.f\n",
    "\n",
    "function working_set(rx::Vector, cx::Vector, A::Matrix, J::Matrix, ∇fx::Vector, active::Vector, inactive::Vector,\n",
    "        qr_AT::QRPivoted{Float64,Array{Float64,2}}, qr_L11::QRPivoted{Float64,Array{Float64,2}}, \n",
    "        qr_J2::QRPivoted{Float64,Array{Float64,2}}, q::Int64, rankA::Int64, rankJ2::Int64, \n",
    "        previous_step::Iteration)\n",
    "    \n",
    "    l = length(active)\n",
    "    # Calcul de la direction Gauss-Newton avant suppression des contraintes\n",
    "    p_gn, b_gn, d_gn = gn_search(rx, cx, A, J, qr_AT, qr_L11, qr_J2, rankA, rankJ2)\n",
    "    \n",
    "    λ = first_lagrange_mult_estimate(qr_AT, ∇fx)\n",
    "    s = check_constraint_deletion(q, A, ∇fx, previous_step.β, d_gn)\n",
    "    \n",
    "    if s != 0\n",
    "        \n",
    "        # Suppression de la contrainte active n°s\n",
    "        A = A[setdiff(1:end,s),:]\n",
    "        t = length(λ)\n",
    "        delete_constraint(active, inactive, s, t, l)\n",
    "        deleteat!(λ, s); deleteat!(cx, s)\n",
    "        t -= 1\n",
    "        previous_step.del = true\n",
    "        \n",
    "        # Mise à jour des factorisations QR\n",
    "        qr_AT = qr(transpose(A), Val(true))\n",
    "        qr_L11 = qr(transpose(qr_AT.R), Val(true))\n",
    "        qr_J2 = qr((J * qr_AT.Q)[:, t+1:n], Val(true))\n",
    "        rankA = rank(LowerTriangular(transpose(qr_AT.R)), atol = ε_rank, rtol = ε_rank)\n",
    "        rankJ2 = rank(UpperTriangular(qr_J2.R), atol = ε_rank, rtol = ε_rank)\n",
    "        \n",
    "        p_gn, b_gn, d_gn = gn_search(rx, cx, A, J, qr_AT, qr_L11, qr_J2, rankA, rankJ2)\n",
    "    else\n",
    "        # La première estimation des multiplicateurs n'implique pas de suppression de contrainte\n",
    "        λ = second_lagrange_mult_estimate(qr_AT, p_gn, rx, J)\n",
    "        s = check_constraint_deletion(q, A, ∇fx, previous_step.β, d_gn)\n",
    "        \n",
    "        if s !=0\n",
    "            \n",
    "            # Suppression de la contrainte active n°s\n",
    "            A = A[setdiff(1:end,s),:]\n",
    "            t = length(λ)\n",
    "            delete_constraint(active, inactive, s, t, l)\n",
    "            deleteat!(λ, s); deleteat!(cx, s)\n",
    "            t-=1\n",
    "            previous_step.del = true\n",
    "\n",
    "            # Mise à jour des factorisations QR\n",
    "            qr_AT = qr(transpose(A), Val(true))\n",
    "            qr_L11 = qr(transpose(qr_AT.R), Val(true))\n",
    "            qr_J2 = qr((J * qr_AT.Q)[:, t+1:n], Val(true))\n",
    "            rankA = rank(LowerTriangular(transpose(qr_AT.R)), atol = ε_rank, rtol = ε_rank)\n",
    "            rankJ2 = rank(UpperTriangular(qr_J2.R), atol = ε_rank, rtol = ε_rank)\n",
    "\n",
    "            p_gn, b_gn, d_gn = gn_search(rx, cx, A, J, qr_AT, qr_L11, qr_J2, rankA, rankJ2)\n",
    "        else\n",
    "            previous_step.del = false\n",
    "        end\n",
    "        \n",
    "    end\n",
    "    previous_step.λ = λ[:]\n",
    "    return p_gn, b_gn, d_gn, A, qr_AT, qr_L11, qr_J2\n",
    "end    "
   ]
  },
  {
   "cell_type": "markdown",
   "metadata": {},
   "source": [
    "La fonction $\\mathtt{gn\\_direction\\_analysis}$ analyse la qualité de la direction de descente calculée avec Gauss-Newton. Si elle n'est pas acceptée, une autre analyse détermine quelle méthode est à utiliser pour la recalculer. Les paramètres de l'itération en cours sont modifiés en conséquence.  "
   ]
  },
  {
   "cell_type": "code",
   "execution_count": 32,
   "metadata": {},
   "outputs": [
    {
     "data": {
      "text/plain": [
       "gn_direction_analysis (generic function with 1 method)"
      ]
     },
     "execution_count": 32,
     "metadata": {},
     "output_type": "execute_result"
    }
   ],
   "source": [
    "# Equivalent Fortran : ANALYS in dblreduns.f\n",
    "\n",
    "function gn_direction_analysis(x::Vector, p_gn::Vector, r::Function, c::Function, A::Matrix, J::Matrix, \n",
    "        b_gn::Vector, d_gn::Vector, active::Vector, inactive::Vector, rankA::Int64, rankJ2::Int64, \n",
    "        previous_step::Iteration, λ::Vector, q::Int64,\n",
    "    qr_AT::QRPivoted{Float64,Array{Float64,2}}, qr_L11::QRPivoted{Float64,Array{Float64,2}},\n",
    "    qr_J2::QRPivoted{Float64,Array{Float64,2}})\n",
    "    \n",
    "    method_code = check_gn_direction(x, r, c, J, A, d_gn, b_gn, rankA, rankJ2, active, inactive, previous_step) \n",
    "    previous_step.code = method_code\n",
    "    \n",
    "    # Gauss-Newton direction accepted\n",
    "    if method_code == 1\n",
    "        previous_step.b, previous_step.d = d_gn[:], b_gn[:]\n",
    "        previous_step.ω1, previous_step.ω2 = rankA, rankJ2\n",
    "        previous_step.restart = false\n",
    "        previous_step.p = p_gn[:]\n",
    "        return p_gn\n",
    "    \n",
    "    # Subspace minimization is suggested\n",
    "    elseif method_code == -1\n",
    "        ω1, ω2, b_sub, d_sub = subspace_dimension(x, r, c, J, A, qr_AT, qr_L11, qr_J2, previous_step)\n",
    "        JQ1 = J * qr_AT.Q\n",
    "        p_sub = sub_search_direction(r(x), c(x), J * qr_AT.Q, qr_AT, qr_L11, qr_J2, rankA, ω2, ω1)\n",
    "        previous_step.b, previous_step.d = d_sub[:], b_sub[:]\n",
    "        previous_step.ω1, previous_step.ω2 = ω1, ω2\n",
    "        previous_step.restart = false\n",
    "        previous_step.p = p_sub[:]\n",
    "        return p_sub\n",
    "        \n",
    "    # Newton method is suggested\n",
    "    else\n",
    "        p_n = newton_search_direction(x, A, J, r, c, qr_AT, qr_L11, λ, active, rankA, q, previous_step)\n",
    "        n,t = size(A)\n",
    "        previous_step.ω1, previous_step.ω2 = -t , t - n\n",
    "        previous_step.p = p_n[:]\n",
    "        return p_n\n",
    "    end\n",
    "end"
   ]
  },
  {
   "cell_type": "markdown",
   "metadata": {},
   "source": [
    "La fonction $\\mathtt{compute\\_steplength\\_constrained}$ calcule le nouveau vecteur de poids et le pas pour l'itération en cours."
   ]
  },
  {
   "cell_type": "code",
   "execution_count": 54,
   "metadata": {
    "scrolled": true
   },
   "outputs": [
    {
     "data": {
      "text/plain": [
       "compute_steplength (generic function with 1 method)"
      ]
     },
     "execution_count": 54,
     "metadata": {},
     "output_type": "execute_result"
    }
   ],
   "source": [
    "# Equivalent Fortran : STPLNG in dblmod2nls.f\n",
    "\n",
    "function compute_steplength(r::Function, J::Matrix, c::Function, A::Matrix, x::Vector, \n",
    "        active::Vector, inactive::Vector, p::Vector, K::Array{Array{Float64,1},1}, \n",
    "        previous_step::Iteration, weight_norm::Int64)\n",
    "    \n",
    "    \n",
    "    # Calcul du vecteur de pénalité de l'itération en cours\n",
    "    \n",
    "    w = compute_penalty_weights(r(x), J, c(x), A, x, p, active, inactive, K, weight_norm, previous_step)\n",
    "\n",
    "\n",
    "    \n",
    "    # Borne supérieure du pas\n",
    "    α_upper = upper_bound_steplength(c(x), A, p, inactive)\n",
    "    α_low = α_upper / 3000\n",
    "    \n",
    "    # Première estimation du pas (utilisée comme valeur initiale)\n",
    "    α0 = min(1, 3 * previous_step.α, α_upper)\n",
    "    \n",
    "    # Si la direction est une direction de Newton, le pas vaut nécessairement 1\n",
    "    if previous_step.code == 2\n",
    "        α = 1.\n",
    "    else\n",
    "        α = linesearch_constrained(r, J, c, A, x, p, w, active, inactive, α0, α_low, α_upper) \n",
    "    end\n",
    "    return α, w\n",
    "end"
   ]
  },
  {
   "cell_type": "markdown",
   "metadata": {},
   "source": [
    "La fonction $\\mathtt{check\\_violated\\_constraints!}$ vérifie si certaines contraintes d'inégalité deviennent actives au nouveau point $x+\\alpha p$. Les tableaux $inactive$ et $active$ sont alors modifiés en place pour prendre en compte ces nouvelles contraintes actives à la prochaine itération."
   ]
  },
  {
   "cell_type": "code",
   "execution_count": 60,
   "metadata": {},
   "outputs": [
    {
     "data": {
      "text/plain": [
       "check_violated_constraints! (generic function with 1 method)"
      ]
     },
     "execution_count": 60,
     "metadata": {},
     "output_type": "execute_result"
    }
   ],
   "source": [
    "# Equivalent Fortran : EVADD in dblreduns.f\n",
    "# A retravailler pour vérifier si cela correspond bien à ce qui est fait dans le code Fortran\n",
    "\n",
    "function check_violated_constraints!(cx::Vector, active::Vector, inactive::Vector, step::Iteration)\n",
    "    ε_rel = sqrt(eps(Float64))\n",
    "    t = count(i -> (i != 0), active); l = length(active)\n",
    "    s = 1; constraint_added = false\n",
    "    while inactive[s] != 0\n",
    "        \n",
    "        # La contrainte s devient active\n",
    "        if cx[inactive[s]] <= ε_rel\n",
    "            add_constraint!(active, inactive, s, t, l)\n",
    "            step.add = true\n",
    "            t -= 1\n",
    "        else\n",
    "            s += 1\n",
    "        end\n",
    "    end\n",
    "end"
   ]
  },
  {
   "cell_type": "code",
   "execution_count": 56,
   "metadata": {},
   "outputs": [
    {
     "data": {
      "text/plain": [
       "evaluation_restart! (generic function with 1 method)"
      ]
     },
     "execution_count": 56,
     "metadata": {},
     "output_type": "execute_result"
    }
   ],
   "source": [
    "# Equivalent Fortran : EVREST in dblreduns.f\n",
    "# evalutaton_restart temporaire\n",
    "# A retravailler\n",
    "\n",
    "function evaluation_restart!(previous_step::Iteration)\n",
    "    if previous_step.restart\n",
    "        println(\"\\n ==== Restart ==== \\n\")\n",
    "        previous_step.restart = false\n",
    "    end\n",
    "end     "
   ]
  },
  {
   "cell_type": "markdown",
   "metadata": {},
   "source": [
    "# Algorithme de résolution d'un problème de moindres carrés non linéaire avec contraintes d'égalité\n",
    "\n",
    "$\\mathtt{nlecls}$ : Non Linear Equality Constrained Least Squares"
   ]
  },
  {
   "cell_type": "code",
   "execution_count": 75,
   "metadata": {},
   "outputs": [],
   "source": [
    "# Fonction main pour faire tourner l'algorithme\n",
    "\n",
    "nlecls = Iteration([0.], [0.], 3., [0.], [0.], 0, 0, [0.], [0.], 0., false, true, false, false, 2)\n",
    "\n",
    "function (nlecls::Iteration)(x0::Vector, r::Function, c::Function, jac_r::Function, jac_c::Function, q::Int64)\n",
    "    \n",
    "    x = x0[:]\n",
    "    rx, cx, J, A = r(x), c(x), jac_r(x), jac_c(x)\n",
    "    l, n = size(A)\n",
    "    p = zeros(n)\n",
    "    ε_rank = sqrt(eps(Float64))\n",
    "    iter = 0\n",
    "    nlecls.λ, nlecls.w = zeros(l), zeros(l)\n",
    "    \n",
    "    # Fonction objectif\n",
    "    f(x::Vector) = 0.5 * dot(r(x),r(x))\n",
    "    ∇f = x::Vector -> ForwardDiff.gradient(f, x)\n",
    "    \n",
    "    # Vecteur de poids et fonction de mérite\n",
    "    ξ = 4\n",
    "    K = [zeros(l) for i=1:ξ]\n",
    "    \n",
    "    # Premier ensemble actif\n",
    "    active, inactive = init_working_set(cx, K, nlecls, q)\n",
    "    t = count(i -> (i > 0), active)\n",
    "    \n",
    "    nlecls.x, nlecls.p,  = x[:], p[:]\n",
    "    nlecls.β = norm(r(x))\n",
    "    nlecls.ω1, nlecls.ω2 = t, n-t\n",
    "    nlecls.b, nlecls.d = zeros(n), zeros(n)\n",
    "    \n",
    "\n",
    "    terminated = false\n",
    "    println(\"Point de départ :\")\n",
    "    show(nlecls)\n",
    "    while !terminated && iter < 100\n",
    "        \n",
    "        Â = A[[active[i] for i=1:l if active[i] != 0],:]\n",
    "        t = count(i -> (i > 0), active)\n",
    "        # Factorisations QR et calculs de rang\n",
    "        qr_AT = qr(transpose(Â), Val(true))\n",
    "        L11 = transpose(qr_AT.R)\n",
    "        Q1 = qr_AT.Q\n",
    "        P1 = qr_AT.P\n",
    "\n",
    "        qr_L11 = qr(transpose(qr_AT.R), Val(true))\n",
    "        qr_J2 = qr((J * qr_AT.Q)[:, t+1:n], Val(true))\n",
    "        \n",
    "        rankA = rank(LowerTriangular(transpose(qr_AT.R)), atol = ε_rank, rtol = ε_rank)\n",
    "        rankJ2 = rank(UpperTriangular(qr_J2.R), atol = ε_rank, rtol = ε_rank)\n",
    "        \n",
    "        p_gn, b_gn, d_gn, Â, qr_AT, qr_L11, qr_J2 = working_set(rx, cx, Â, J, ∇f(x), active, inactive, qr_AT, qr_L11, qr_J2, q, rankA, rankJ2, nlecls)\n",
    "        println(\"p_gn = $p_gn\")\n",
    "        p = gn_direction_analysis(x, p_gn, r, c, Â, J, b_gn, d_gn, active, inactive, rankA, rankJ2, nlecls, nlecls.λ, q, qr_AT, qr_L11, qr_J2)\n",
    "        println(\"p = $p\")\n",
    "        α, w = compute_steplength(r, J, c, A, x, active, inactive, p, K, nlecls, 2)\n",
    "        \n",
    "        # Mise à jour du point selon la méthode utilisée\n",
    "        \n",
    "        if nlecls.code == 2\n",
    "            nlecls.α = 1.\n",
    "            x += p[:]\n",
    "        else\n",
    "            nlecls.α = α\n",
    "            x += α * p[:]\n",
    "        end\n",
    "        \n",
    "        if nlecls.restart evaluation_restart!(nlecls) end\n",
    "        \n",
    "        nlecls.p = p[:]\n",
    "        nlecls.w = w[:]\n",
    "        rx, cx, J, A = r(x), c(x), jac_r(x), jac_c(x)\n",
    "        \n",
    "        terminated = check_termination_criterias(x, p, rx, cx, Â, ∇f(x), active , inactive, q, nlecls)\n",
    "        check_violated_constraints!(cx, active, inactive, nlecls)\n",
    "        nlecls.x = x[:]\n",
    "        if iter == 0 nlecls.first = false end\n",
    "        \n",
    "        iter += 1\n",
    "        println(\"\\n Itération n°$iter\")\n",
    "        show(nlecls)\n",
    "    end\n",
    "    return x\n",
    "end"
   ]
  },
  {
   "cell_type": "markdown",
   "metadata": {},
   "source": [
    "<b> Commentaires </b>\n",
    "\n",
    "Le main ci-dessus est, selon moi, à retravailler. Il n'est pas assuré que les ensembles active et inactive soient correctement mis à jour. De même pour les factorisations QR.\n"
   ]
  }
 ],
 "metadata": {
  "kernelspec": {
   "display_name": "Julia 1.5.2",
   "language": "julia",
   "name": "julia-1.5"
  },
  "language_info": {
   "file_extension": ".jl",
   "mimetype": "application/julia",
   "name": "julia",
   "version": "1.5.2"
  }
 },
 "nbformat": 4,
 "nbformat_minor": 4
}
